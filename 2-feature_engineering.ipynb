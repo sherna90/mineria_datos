{
  "nbformat": 4,
  "nbformat_minor": 0,
  "metadata": {
    "colab": {
      "name": "Backtracking feature_engineering.ipynb",
      "provenance": [],
      "include_colab_link": true
    },
    "kernelspec": {
      "display_name": "Python 3",
      "language": "python",
      "name": "python3"
    },
    "language_info": {
      "codemirror_mode": {
        "name": "ipython",
        "version": 3
      },
      "file_extension": ".py",
      "mimetype": "text/x-python",
      "name": "python",
      "nbconvert_exporter": "python",
      "pygments_lexer": "ipython3",
      "version": "3.6.9"
    }
  },
  "cells": [
    {
      "cell_type": "markdown",
      "metadata": {
        "id": "view-in-github",
        "colab_type": "text"
      },
      "source": [
        "<a href=\"https://colab.research.google.com/github/sherna90/mineria_datos/blob/master/2-feature_engineering.ipynb\" target=\"_parent\"><img src=\"https://colab.research.google.com/assets/colab-badge.svg\" alt=\"Open In Colab\"/></a>"
      ]
    },
    {
      "cell_type": "markdown",
      "metadata": {
        "id": "c9P4TVyd8_hy"
      },
      "source": [
        "# Feature Engineering"
      ]
    },
    {
      "cell_type": "markdown",
      "metadata": {
        "id": "IZdXI8eD8_jg"
      },
      "source": [
        "# Tarea\n",
        "\n",
        "En este laboratorio Ud debe completar las siguientes tareas:\n",
        "\n",
        "\n",
        "1.   Implementar un modelo base para predecir la variable 'nuevos casos por millon de habitantes' usando las tasas de movilidad.\n",
        "2.   Reportar la metrica de ajuste del modelo base.\n",
        "3. Reportar la metrica de ajuste del modelo usando feature engineering.\n"
      ]
    },
    {
      "cell_type": "code",
      "metadata": {
        "id": "S9ro_1oc8_jg"
      },
      "source": [
        "# Analisis Exploratorio de Casos COVID \n",
        "import pandas as pd\n",
        "\n",
        "data=pd.read_csv('https://raw.githubusercontent.com/MinCiencia/Datos-COVID19/master/output/producto1/Covid-19.csv')\n"
      ],
      "execution_count": 73,
      "outputs": []
    },
    {
      "cell_type": "code",
      "metadata": {
        "id": "vmKX-uZ7QF4W"
      },
      "source": [
        "data['Region'] = data['Region'].astype('category')\n",
        "data['Comuna'] = data['Comuna'].astype('category')\n",
        "data['Codigo comuna'] = data['Codigo comuna'].astype('category')\n",
        "data['Codigo region'] = data['Codigo region'].astype('category')"
      ],
      "execution_count": 74,
      "outputs": []
    },
    {
      "cell_type": "code",
      "metadata": {
        "id": "q-OXaqTZ8_jj"
      },
      "source": [
        "data_maule=data[data.Region=='Maule']"
      ],
      "execution_count": 169,
      "outputs": []
    },
    {
      "cell_type": "code",
      "metadata": {
        "colab": {
          "base_uri": "https://localhost:8080/",
          "height": 146
        },
        "id": "2NxrrlPWPSeq",
        "outputId": "936be3d9-9830-4c23-b885-338f4f4487db"
      },
      "source": [
        "data_maule[data_maule.Comuna=='Talca'].head()"
      ],
      "execution_count": 170,
      "outputs": [
        {
          "output_type": "execute_result",
          "data": {
            "text/html": [
              "<div>\n",
              "<style scoped>\n",
              "    .dataframe tbody tr th:only-of-type {\n",
              "        vertical-align: middle;\n",
              "    }\n",
              "\n",
              "    .dataframe tbody tr th {\n",
              "        vertical-align: top;\n",
              "    }\n",
              "\n",
              "    .dataframe thead th {\n",
              "        text-align: right;\n",
              "    }\n",
              "</style>\n",
              "<table border=\"1\" class=\"dataframe\">\n",
              "  <thead>\n",
              "    <tr style=\"text-align: right;\">\n",
              "      <th></th>\n",
              "      <th>Region</th>\n",
              "      <th>Codigo region</th>\n",
              "      <th>Comuna</th>\n",
              "      <th>Codigo comuna</th>\n",
              "      <th>Poblacion</th>\n",
              "      <th>2020-03-30</th>\n",
              "      <th>2020-04-01</th>\n",
              "      <th>2020-04-03</th>\n",
              "      <th>2020-04-06</th>\n",
              "      <th>2020-04-08</th>\n",
              "      <th>2020-04-10</th>\n",
              "      <th>2020-04-13</th>\n",
              "      <th>2020-04-15</th>\n",
              "      <th>2020-04-17</th>\n",
              "      <th>2020-04-20</th>\n",
              "      <th>2020-04-24</th>\n",
              "      <th>2020-04-27</th>\n",
              "      <th>2020-05-01</th>\n",
              "      <th>2020-05-04</th>\n",
              "      <th>2020-05-08</th>\n",
              "      <th>2020-05-11</th>\n",
              "      <th>2020-05-15</th>\n",
              "      <th>2020-05-18</th>\n",
              "      <th>2020-05-22</th>\n",
              "      <th>2020-05-25</th>\n",
              "      <th>2020-05-29</th>\n",
              "      <th>2020-06-01</th>\n",
              "      <th>2020-06-05</th>\n",
              "      <th>2020-06-08</th>\n",
              "      <th>2020-06-12</th>\n",
              "      <th>2020-06-15</th>\n",
              "      <th>2020-06-19</th>\n",
              "      <th>2020-06-23</th>\n",
              "      <th>2020-06-28</th>\n",
              "      <th>2020-07-01</th>\n",
              "      <th>2020-07-05</th>\n",
              "      <th>2020-07-10</th>\n",
              "      <th>2020-07-13</th>\n",
              "      <th>2020-07-17</th>\n",
              "      <th>2020-07-20</th>\n",
              "      <th>...</th>\n",
              "      <th>2021-01-29</th>\n",
              "      <th>2021-02-01</th>\n",
              "      <th>2021-02-05</th>\n",
              "      <th>2021-02-08</th>\n",
              "      <th>2021-02-12</th>\n",
              "      <th>2021-02-15</th>\n",
              "      <th>2021-02-19</th>\n",
              "      <th>2021-02-22</th>\n",
              "      <th>2021-02-26</th>\n",
              "      <th>2021-03-01</th>\n",
              "      <th>2021-03-05</th>\n",
              "      <th>2021-03-08</th>\n",
              "      <th>2021-03-12</th>\n",
              "      <th>2021-03-15</th>\n",
              "      <th>2021-03-19</th>\n",
              "      <th>2021-03-22</th>\n",
              "      <th>2021-03-26</th>\n",
              "      <th>2021-03-29</th>\n",
              "      <th>2021-04-02</th>\n",
              "      <th>2021-04-05</th>\n",
              "      <th>2021-04-09</th>\n",
              "      <th>2021-04-12</th>\n",
              "      <th>2021-04-16</th>\n",
              "      <th>2021-04-19</th>\n",
              "      <th>2021-04-23</th>\n",
              "      <th>2021-04-26</th>\n",
              "      <th>2021-04-30</th>\n",
              "      <th>2021-05-03</th>\n",
              "      <th>2021-05-07</th>\n",
              "      <th>2021-05-10</th>\n",
              "      <th>2021-05-14</th>\n",
              "      <th>2021-05-17</th>\n",
              "      <th>2021-05-21</th>\n",
              "      <th>2021-05-24</th>\n",
              "      <th>2021-05-28</th>\n",
              "      <th>2021-05-31</th>\n",
              "      <th>2021-06-04</th>\n",
              "      <th>2021-06-07</th>\n",
              "      <th>2021-06-11</th>\n",
              "      <th>Tasa</th>\n",
              "    </tr>\n",
              "  </thead>\n",
              "  <tbody>\n",
              "    <tr>\n",
              "      <th>200</th>\n",
              "      <td>Maule</td>\n",
              "      <td>7</td>\n",
              "      <td>Talca</td>\n",
              "      <td>7101.0</td>\n",
              "      <td>236724.0</td>\n",
              "      <td>34.0</td>\n",
              "      <td>37.0</td>\n",
              "      <td>42.0</td>\n",
              "      <td>48.0</td>\n",
              "      <td>51.0</td>\n",
              "      <td>51.0</td>\n",
              "      <td>51.0</td>\n",
              "      <td>57.0</td>\n",
              "      <td>91.0</td>\n",
              "      <td>133.0</td>\n",
              "      <td>145.0</td>\n",
              "      <td>149.0</td>\n",
              "      <td>160.0</td>\n",
              "      <td>162.0</td>\n",
              "      <td>163.0</td>\n",
              "      <td>166.0</td>\n",
              "      <td>191.0</td>\n",
              "      <td>203.0</td>\n",
              "      <td>247.0</td>\n",
              "      <td>283.0</td>\n",
              "      <td>311.0</td>\n",
              "      <td>329.0</td>\n",
              "      <td>392.0</td>\n",
              "      <td>433.0</td>\n",
              "      <td>530.0</td>\n",
              "      <td>607.0</td>\n",
              "      <td>762.0</td>\n",
              "      <td>939.0</td>\n",
              "      <td>1154.0</td>\n",
              "      <td>1239.0</td>\n",
              "      <td>1392.0</td>\n",
              "      <td>1565.0</td>\n",
              "      <td>1635.0</td>\n",
              "      <td>1710.0</td>\n",
              "      <td>1755.0</td>\n",
              "      <td>...</td>\n",
              "      <td>7868.0</td>\n",
              "      <td>8163.0</td>\n",
              "      <td>8477.0</td>\n",
              "      <td>8747.0</td>\n",
              "      <td>8968.0</td>\n",
              "      <td>9172.0</td>\n",
              "      <td>9319.0</td>\n",
              "      <td>9503.0</td>\n",
              "      <td>9735.0</td>\n",
              "      <td>9987.0</td>\n",
              "      <td>10302.0</td>\n",
              "      <td>10580.0</td>\n",
              "      <td>10977.0</td>\n",
              "      <td>11296.0</td>\n",
              "      <td>11676.0</td>\n",
              "      <td>12023.0</td>\n",
              "      <td>12449.0</td>\n",
              "      <td>12746.0</td>\n",
              "      <td>13123.0</td>\n",
              "      <td>13403.0</td>\n",
              "      <td>13737.0</td>\n",
              "      <td>14058.0</td>\n",
              "      <td>14335.0</td>\n",
              "      <td>14547.0</td>\n",
              "      <td>14719.0</td>\n",
              "      <td>14885.0</td>\n",
              "      <td>15109.0</td>\n",
              "      <td>15310.0</td>\n",
              "      <td>15579.0</td>\n",
              "      <td>15801.0</td>\n",
              "      <td>16111.0</td>\n",
              "      <td>16399.0</td>\n",
              "      <td>16809.0</td>\n",
              "      <td>17068.0</td>\n",
              "      <td>17504.0</td>\n",
              "      <td>17851.0</td>\n",
              "      <td>18275.0</td>\n",
              "      <td>18602.0</td>\n",
              "      <td>18978.0</td>\n",
              "      <td>8016.9</td>\n",
              "    </tr>\n",
              "  </tbody>\n",
              "</table>\n",
              "<p>1 rows × 134 columns</p>\n",
              "</div>"
            ],
            "text/plain": [
              "    Region Codigo region Comuna  ... 2021-06-07  2021-06-11    Tasa\n",
              "200  Maule             7  Talca  ...    18602.0     18978.0  8016.9\n",
              "\n",
              "[1 rows x 134 columns]"
            ]
          },
          "metadata": {
            "tags": []
          },
          "execution_count": 170
        }
      ]
    },
    {
      "cell_type": "code",
      "metadata": {
        "colab": {
          "base_uri": "https://localhost:8080/"
        },
        "id": "uv1klaOdRXTf",
        "outputId": "0a3b3d92-6dfb-4672-ac15-2c7b54ae4c7e"
      },
      "source": [
        "data_maule.drop(columns=['Region','Codigo region','Codigo comuna'],inplace=True)"
      ],
      "execution_count": 171,
      "outputs": [
        {
          "output_type": "stream",
          "text": [
            "/usr/local/lib/python3.7/dist-packages/pandas/core/frame.py:4174: SettingWithCopyWarning: \n",
            "A value is trying to be set on a copy of a slice from a DataFrame\n",
            "\n",
            "See the caveats in the documentation: https://pandas.pydata.org/pandas-docs/stable/user_guide/indexing.html#returning-a-view-versus-a-copy\n",
            "  errors=errors,\n"
          ],
          "name": "stderr"
        }
      ]
    },
    {
      "cell_type": "code",
      "metadata": {
        "id": "KYQFjvKjRKI6"
      },
      "source": [
        "data_maule_tabla=data_maule.melt(id_vars=['Comuna', 'Poblacion','Tasa'], \n",
        "        var_name='Fecha', \n",
        "        value_name='Casos')"
      ],
      "execution_count": 194,
      "outputs": []
    },
    {
      "cell_type": "code",
      "metadata": {
        "id": "kq-cz-1IS1CR"
      },
      "source": [
        "data_maule_tabla['Fecha'] = pd.to_datetime(data_maule_tabla['Fecha'],format='%Y/%m/%d')"
      ],
      "execution_count": 195,
      "outputs": []
    },
    {
      "cell_type": "code",
      "metadata": {
        "colab": {
          "base_uri": "https://localhost:8080/",
          "height": 357
        },
        "id": "BF2Oq5d9Rvkz",
        "outputId": "a1edf20b-e896-453e-c663-e28967c2979d"
      },
      "source": [
        "data_maule_tabla[data_maule_tabla.Comuna=='Talca'].sort_values('Fecha').head(10)"
      ],
      "execution_count": 196,
      "outputs": [
        {
          "output_type": "execute_result",
          "data": {
            "text/html": [
              "<div>\n",
              "<style scoped>\n",
              "    .dataframe tbody tr th:only-of-type {\n",
              "        vertical-align: middle;\n",
              "    }\n",
              "\n",
              "    .dataframe tbody tr th {\n",
              "        vertical-align: top;\n",
              "    }\n",
              "\n",
              "    .dataframe thead th {\n",
              "        text-align: right;\n",
              "    }\n",
              "</style>\n",
              "<table border=\"1\" class=\"dataframe\">\n",
              "  <thead>\n",
              "    <tr style=\"text-align: right;\">\n",
              "      <th></th>\n",
              "      <th>Comuna</th>\n",
              "      <th>Poblacion</th>\n",
              "      <th>Tasa</th>\n",
              "      <th>Fecha</th>\n",
              "      <th>Casos</th>\n",
              "    </tr>\n",
              "  </thead>\n",
              "  <tbody>\n",
              "    <tr>\n",
              "      <th>25</th>\n",
              "      <td>Talca</td>\n",
              "      <td>236724.0</td>\n",
              "      <td>8016.9</td>\n",
              "      <td>2020-03-30</td>\n",
              "      <td>34.0</td>\n",
              "    </tr>\n",
              "    <tr>\n",
              "      <th>56</th>\n",
              "      <td>Talca</td>\n",
              "      <td>236724.0</td>\n",
              "      <td>8016.9</td>\n",
              "      <td>2020-04-01</td>\n",
              "      <td>37.0</td>\n",
              "    </tr>\n",
              "    <tr>\n",
              "      <th>87</th>\n",
              "      <td>Talca</td>\n",
              "      <td>236724.0</td>\n",
              "      <td>8016.9</td>\n",
              "      <td>2020-04-03</td>\n",
              "      <td>42.0</td>\n",
              "    </tr>\n",
              "    <tr>\n",
              "      <th>118</th>\n",
              "      <td>Talca</td>\n",
              "      <td>236724.0</td>\n",
              "      <td>8016.9</td>\n",
              "      <td>2020-04-06</td>\n",
              "      <td>48.0</td>\n",
              "    </tr>\n",
              "    <tr>\n",
              "      <th>149</th>\n",
              "      <td>Talca</td>\n",
              "      <td>236724.0</td>\n",
              "      <td>8016.9</td>\n",
              "      <td>2020-04-08</td>\n",
              "      <td>51.0</td>\n",
              "    </tr>\n",
              "    <tr>\n",
              "      <th>180</th>\n",
              "      <td>Talca</td>\n",
              "      <td>236724.0</td>\n",
              "      <td>8016.9</td>\n",
              "      <td>2020-04-10</td>\n",
              "      <td>51.0</td>\n",
              "    </tr>\n",
              "    <tr>\n",
              "      <th>211</th>\n",
              "      <td>Talca</td>\n",
              "      <td>236724.0</td>\n",
              "      <td>8016.9</td>\n",
              "      <td>2020-04-13</td>\n",
              "      <td>51.0</td>\n",
              "    </tr>\n",
              "    <tr>\n",
              "      <th>242</th>\n",
              "      <td>Talca</td>\n",
              "      <td>236724.0</td>\n",
              "      <td>8016.9</td>\n",
              "      <td>2020-04-15</td>\n",
              "      <td>57.0</td>\n",
              "    </tr>\n",
              "    <tr>\n",
              "      <th>273</th>\n",
              "      <td>Talca</td>\n",
              "      <td>236724.0</td>\n",
              "      <td>8016.9</td>\n",
              "      <td>2020-04-17</td>\n",
              "      <td>91.0</td>\n",
              "    </tr>\n",
              "    <tr>\n",
              "      <th>304</th>\n",
              "      <td>Talca</td>\n",
              "      <td>236724.0</td>\n",
              "      <td>8016.9</td>\n",
              "      <td>2020-04-20</td>\n",
              "      <td>133.0</td>\n",
              "    </tr>\n",
              "  </tbody>\n",
              "</table>\n",
              "</div>"
            ],
            "text/plain": [
              "    Comuna  Poblacion    Tasa      Fecha  Casos\n",
              "25   Talca   236724.0  8016.9 2020-03-30   34.0\n",
              "56   Talca   236724.0  8016.9 2020-04-01   37.0\n",
              "87   Talca   236724.0  8016.9 2020-04-03   42.0\n",
              "118  Talca   236724.0  8016.9 2020-04-06   48.0\n",
              "149  Talca   236724.0  8016.9 2020-04-08   51.0\n",
              "180  Talca   236724.0  8016.9 2020-04-10   51.0\n",
              "211  Talca   236724.0  8016.9 2020-04-13   51.0\n",
              "242  Talca   236724.0  8016.9 2020-04-15   57.0\n",
              "273  Talca   236724.0  8016.9 2020-04-17   91.0\n",
              "304  Talca   236724.0  8016.9 2020-04-20  133.0"
            ]
          },
          "metadata": {
            "tags": []
          },
          "execution_count": 196
        }
      ]
    },
    {
      "cell_type": "code",
      "metadata": {
        "id": "_41SexuCK4ez"
      },
      "source": [
        "poblacion_maule=data.groupby('Region')['Poblacion'].sum()['Maule']"
      ],
      "execution_count": 198,
      "outputs": []
    },
    {
      "cell_type": "code",
      "metadata": {
        "colab": {
          "base_uri": "https://localhost:8080/",
          "height": 457
        },
        "id": "8ZcdxLuZWeAL",
        "outputId": "3c75ea6f-1f43-41df-c7e6-9568e475ad9a"
      },
      "source": [
        "import matplotlib.pyplot as plt\n",
        "\n",
        "grouped_data_maule=data_maule_tabla.groupby('Fecha')['Casos'].sum()\n",
        "grouped_data_maule.plot(figsize=(15,7))\n",
        "plt.title('Casos confirmados Maule')"
      ],
      "execution_count": 252,
      "outputs": [
        {
          "output_type": "execute_result",
          "data": {
            "text/plain": [
              "Text(0.5, 1.0, 'Casos confirmados Maule')"
            ]
          },
          "metadata": {
            "tags": []
          },
          "execution_count": 252
        },
        {
          "output_type": "display_data",
          "data": {
            "image/png": "[encoded data removed]",
            "text/plain": [
              "<Figure size 1080x504 with 1 Axes>"
            ]
          },
          "metadata": {
            "tags": [],
            "needs_background": "light"
          }
        }
      ]
    },
    {
      "cell_type": "code",
      "metadata": {
        "id": "6hnUZmXKFd2G"
      },
      "source": [
        "prevalencia_maule=grouped_data_maule.diff()/poblacion_maule"
      ],
      "execution_count": 234,
      "outputs": []
    },
    {
      "cell_type": "code",
      "metadata": {
        "colab": {
          "base_uri": "https://localhost:8080/",
          "height": 441
        },
        "id": "eSyc6Gr7Xh6B",
        "outputId": "a463ff36-fab7-4ac4-a824-f0c1c06661d9"
      },
      "source": [
        "prevalencia_maule.plot(figsize=(15,7))"
      ],
      "execution_count": 251,
      "outputs": [
        {
          "output_type": "execute_result",
          "data": {
            "text/plain": [
              "<matplotlib.axes._subplots.AxesSubplot at 0x7f937f954d50>"
            ]
          },
          "metadata": {
            "tags": []
          },
          "execution_count": 251
        },
        {
          "output_type": "display_data",
          "data": {
            "image/png": "[encoded data removed]",
            "text/plain": [
              "<Figure size 1080x504 with 1 Axes>"
            ]
          },
          "metadata": {
            "tags": [],
            "needs_background": "light"
          }
        }
      ]
    },
    {
      "cell_type": "code",
      "metadata": {
        "colab": {
          "base_uri": "https://localhost:8080/"
        },
        "id": "c5DWcnPC8_j6",
        "outputId": "a11c6d7a-ba74-493b-8766-cb4e6028a449"
      },
      "source": [
        "def get_mobility_data():\n",
        "    data=pd.read_csv('https://www.gstatic.com/covid19/mobility/Global_Mobility_Report.csv?cachebust=5a11e4fc1b8138c6')\n",
        "    return data\n",
        "\n",
        "mobility_report=get_mobility_data()"
      ],
      "execution_count": 103,
      "outputs": [
        {
          "output_type": "stream",
          "text": [
            "/usr/local/lib/python3.7/dist-packages/IPython/core/interactiveshell.py:2822: DtypeWarning: Columns (4,5) have mixed types.Specify dtype option on import or set low_memory=False.\n",
            "  if self.run_code(code, result):\n"
          ],
          "name": "stderr"
        }
      ]
    },
    {
      "cell_type": "code",
      "metadata": {
        "colab": {
          "base_uri": "https://localhost:8080/"
        },
        "id": "6D_-L76O8_j9",
        "outputId": "fbfe4ad0-639f-4a92-9b28-5d6b81900b4f"
      },
      "source": [
        "mobility_report.dtypes"
      ],
      "execution_count": 104,
      "outputs": [
        {
          "output_type": "execute_result",
          "data": {
            "text/plain": [
              "country_region_code                                    object\n",
              "country_region                                         object\n",
              "sub_region_1                                           object\n",
              "sub_region_2                                           object\n",
              "metro_area                                             object\n",
              "iso_3166_2_code                                        object\n",
              "census_fips_code                                      float64\n",
              "place_id                                               object\n",
              "date                                                   object\n",
              "retail_and_recreation_percent_change_from_baseline    float64\n",
              "grocery_and_pharmacy_percent_change_from_baseline     float64\n",
              "parks_percent_change_from_baseline                    float64\n",
              "transit_stations_percent_change_from_baseline         float64\n",
              "workplaces_percent_change_from_baseline               float64\n",
              "residential_percent_change_from_baseline              float64\n",
              "dtype: object"
            ]
          },
          "metadata": {
            "tags": []
          },
          "execution_count": 104
        }
      ]
    },
    {
      "cell_type": "code",
      "metadata": {
        "id": "8w1OhL4T8_kA"
      },
      "source": [
        "mobility_report['date']=pd.to_datetime(mobility_report['date'],format='%Y/%m/%d')\n",
        "mobility_report['country_region_code'] = mobility_report['country_region_code'].astype('category')\n",
        "mobility_report['country_region'] = mobility_report['country_region'].astype('category')\n",
        "mobility_report['iso_3166_2_code'] = mobility_report['iso_3166_2_code'].astype('category')\n",
        "mobility_report['sub_region_1'] = mobility_report['sub_region_1'].astype('category')\n",
        "mobility_report['sub_region_2'] = mobility_report['sub_region_2'].astype('category')\n",
        "mobility_report.drop(['census_fips_code','iso_3166_2_code','place_id','metro_area'],axis=1,inplace=True)"
      ],
      "execution_count": 105,
      "outputs": []
    },
    {
      "cell_type": "code",
      "metadata": {
        "id": "rLjD9iMy8_kD"
      },
      "source": [
        "mobility_chile=mobility_report.loc[mobility_report.country_region=='Chile'].copy()\n",
        "mobility_chile.set_index('date',inplace=True)\n",
        "mobility_chile.sort_index(inplace=True)"
      ],
      "execution_count": 112,
      "outputs": []
    },
    {
      "cell_type": "code",
      "metadata": {
        "id": "V1N09Ve4Zdh_"
      },
      "source": [
        "mobility_maule=mobility_chile[mobility_chile.sub_region_1=='Maule']"
      ],
      "execution_count": 119,
      "outputs": []
    },
    {
      "cell_type": "code",
      "metadata": {
        "id": "8KgER_RdWMLz"
      },
      "source": [
        "mobility_maule=mobility_maule.groupby('date').mean()"
      ],
      "execution_count": 123,
      "outputs": []
    },
    {
      "cell_type": "code",
      "metadata": {
        "id": "U7y2eWwt8_kJ"
      },
      "source": [
        "df_maule=pd.merge(prevalencia_maule,mobility_maule, left_index=True, right_index=True)"
      ],
      "execution_count": 206,
      "outputs": []
    },
    {
      "cell_type": "code",
      "metadata": {
        "colab": {
          "base_uri": "https://localhost:8080/"
        },
        "id": "lFpgBuID8_kN",
        "outputId": "4599ef1d-d5e1-42fe-8d86-cfec1abe86f2"
      },
      "source": [
        "df_maule.dtypes"
      ],
      "execution_count": 207,
      "outputs": [
        {
          "output_type": "execute_result",
          "data": {
            "text/plain": [
              "Casos                                                 float64\n",
              "retail_and_recreation_percent_change_from_baseline    float64\n",
              "grocery_and_pharmacy_percent_change_from_baseline     float64\n",
              "parks_percent_change_from_baseline                    float64\n",
              "transit_stations_percent_change_from_baseline         float64\n",
              "workplaces_percent_change_from_baseline               float64\n",
              "residential_percent_change_from_baseline              float64\n",
              "dtype: object"
            ]
          },
          "metadata": {
            "tags": []
          },
          "execution_count": 207
        }
      ]
    },
    {
      "cell_type": "code",
      "metadata": {
        "colab": {
          "base_uri": "https://localhost:8080/"
        },
        "id": "aNCP2H8uIXqY",
        "outputId": "58ebfca9-9f5b-4d7b-c299-0e53a2e22cbf"
      },
      "source": [
        "df_maule['Casos']"
      ],
      "execution_count": 208,
      "outputs": [
        {
          "output_type": "execute_result",
          "data": {
            "text/plain": [
              "2020-03-30         NaN\n",
              "2020-04-01    0.000006\n",
              "2020-04-03    0.000011\n",
              "2020-04-06    0.000019\n",
              "2020-04-08    0.000011\n",
              "                ...   \n",
              "2021-05-28    0.001846\n",
              "2021-05-31    0.001485\n",
              "2021-06-04    0.001829\n",
              "2021-06-07    0.001313\n",
              "2021-06-11    0.001672\n",
              "Name: Casos, Length: 128, dtype: float64"
            ]
          },
          "metadata": {
            "tags": []
          },
          "execution_count": 208
        }
      ]
    },
    {
      "cell_type": "code",
      "metadata": {
        "colab": {
          "base_uri": "https://localhost:8080/",
          "height": 297
        },
        "id": "fHgTHQyr8_kP",
        "outputId": "74ccd966-3fdb-4e80-dda8-bfc0c5064b1c"
      },
      "source": [
        "import seaborn as sns\n",
        "\n",
        "sns.scatterplot(x=\"workplaces_percent_change_from_baseline\", y=\"Casos\", data=df_maule)\n"
      ],
      "execution_count": 209,
      "outputs": [
        {
          "output_type": "execute_result",
          "data": {
            "text/plain": [
              "<matplotlib.axes._subplots.AxesSubplot at 0x7f93824b55d0>"
            ]
          },
          "metadata": {
            "tags": []
          },
          "execution_count": 209
        },
        {
          "output_type": "display_data",
          "data": {
            "image/png": "[encoded data removed]",
            "text/plain": [
              "<Figure size 432x288 with 1 Axes>"
            ]
          },
          "metadata": {
            "tags": [],
            "needs_background": "light"
          }
        }
      ]
    },
    {
      "cell_type": "code",
      "metadata": {
        "colab": {
          "base_uri": "https://localhost:8080/",
          "height": 297
        },
        "id": "1e-AxmiBazaW",
        "outputId": "5ab19f29-4e47-4de3-e4d8-51967b90639d"
      },
      "source": [
        "sns.scatterplot(x=\"retail_and_recreation_percent_change_from_baseline\", y=\"Casos\", data=df_maule)\n"
      ],
      "execution_count": 210,
      "outputs": [
        {
          "output_type": "execute_result",
          "data": {
            "text/plain": [
              "<matplotlib.axes._subplots.AxesSubplot at 0x7f938241f1d0>"
            ]
          },
          "metadata": {
            "tags": []
          },
          "execution_count": 210
        },
        {
          "output_type": "display_data",
          "data": {
            "image/png": "[encoded data removed]",
            "text/plain": [
              "<Figure size 432x288 with 1 Axes>"
            ]
          },
          "metadata": {
            "tags": [],
            "needs_background": "light"
          }
        }
      ]
    },
    {
      "cell_type": "code",
      "metadata": {
        "colab": {
          "base_uri": "https://localhost:8080/",
          "height": 307
        },
        "id": "9UwB2B_u8_kW",
        "outputId": "a675a8e9-5877-4ef0-ed98-7db828e8e1bf"
      },
      "source": [
        "df_maule.tail()"
      ],
      "execution_count": 211,
      "outputs": [
        {
          "output_type": "execute_result",
          "data": {
            "text/html": [
              "<div>\n",
              "<style scoped>\n",
              "    .dataframe tbody tr th:only-of-type {\n",
              "        vertical-align: middle;\n",
              "    }\n",
              "\n",
              "    .dataframe tbody tr th {\n",
              "        vertical-align: top;\n",
              "    }\n",
              "\n",
              "    .dataframe thead th {\n",
              "        text-align: right;\n",
              "    }\n",
              "</style>\n",
              "<table border=\"1\" class=\"dataframe\">\n",
              "  <thead>\n",
              "    <tr style=\"text-align: right;\">\n",
              "      <th></th>\n",
              "      <th>Casos</th>\n",
              "      <th>retail_and_recreation_percent_change_from_baseline</th>\n",
              "      <th>grocery_and_pharmacy_percent_change_from_baseline</th>\n",
              "      <th>parks_percent_change_from_baseline</th>\n",
              "      <th>transit_stations_percent_change_from_baseline</th>\n",
              "      <th>workplaces_percent_change_from_baseline</th>\n",
              "      <th>residential_percent_change_from_baseline</th>\n",
              "    </tr>\n",
              "  </thead>\n",
              "  <tbody>\n",
              "    <tr>\n",
              "      <th>2021-05-28</th>\n",
              "      <td>0.001846</td>\n",
              "      <td>-6.6</td>\n",
              "      <td>15.00</td>\n",
              "      <td>-27.2</td>\n",
              "      <td>30.75</td>\n",
              "      <td>4.4</td>\n",
              "      <td>15.0</td>\n",
              "    </tr>\n",
              "    <tr>\n",
              "      <th>2021-05-31</th>\n",
              "      <td>0.001485</td>\n",
              "      <td>-6.4</td>\n",
              "      <td>13.50</td>\n",
              "      <td>-22.4</td>\n",
              "      <td>32.50</td>\n",
              "      <td>5.2</td>\n",
              "      <td>12.8</td>\n",
              "    </tr>\n",
              "    <tr>\n",
              "      <th>2021-06-04</th>\n",
              "      <td>0.001829</td>\n",
              "      <td>-0.6</td>\n",
              "      <td>23.50</td>\n",
              "      <td>-22.6</td>\n",
              "      <td>43.50</td>\n",
              "      <td>6.2</td>\n",
              "      <td>14.2</td>\n",
              "    </tr>\n",
              "    <tr>\n",
              "      <th>2021-06-07</th>\n",
              "      <td>0.001313</td>\n",
              "      <td>-11.0</td>\n",
              "      <td>10.25</td>\n",
              "      <td>-22.2</td>\n",
              "      <td>23.50</td>\n",
              "      <td>3.0</td>\n",
              "      <td>14.4</td>\n",
              "    </tr>\n",
              "    <tr>\n",
              "      <th>2021-06-11</th>\n",
              "      <td>0.001672</td>\n",
              "      <td>-12.4</td>\n",
              "      <td>12.00</td>\n",
              "      <td>-28.2</td>\n",
              "      <td>22.25</td>\n",
              "      <td>3.4</td>\n",
              "      <td>16.2</td>\n",
              "    </tr>\n",
              "  </tbody>\n",
              "</table>\n",
              "</div>"
            ],
            "text/plain": [
              "               Casos  ...  residential_percent_change_from_baseline\n",
              "2021-05-28  0.001846  ...                                      15.0\n",
              "2021-05-31  0.001485  ...                                      12.8\n",
              "2021-06-04  0.001829  ...                                      14.2\n",
              "2021-06-07  0.001313  ...                                      14.4\n",
              "2021-06-11  0.001672  ...                                      16.2\n",
              "\n",
              "[5 rows x 7 columns]"
            ]
          },
          "metadata": {
            "tags": []
          },
          "execution_count": 211
        }
      ]
    },
    {
      "cell_type": "code",
      "metadata": {
        "colab": {
          "base_uri": "https://localhost:8080/"
        },
        "id": "7GjzMYIc8_kZ",
        "outputId": "80a4c411-7468-43a5-bd8f-a46f11b8fdf4"
      },
      "source": [
        "df_maule['Casos'].isna().sum()"
      ],
      "execution_count": 213,
      "outputs": [
        {
          "output_type": "execute_result",
          "data": {
            "text/plain": [
              "1"
            ]
          },
          "metadata": {
            "tags": []
          },
          "execution_count": 213
        }
      ]
    },
    {
      "cell_type": "code",
      "metadata": {
        "id": "4kyEOL1yKjQT"
      },
      "source": [
        "df_maule.dropna(inplace=True)"
      ],
      "execution_count": 216,
      "outputs": []
    },
    {
      "cell_type": "code",
      "metadata": {
        "colab": {
          "base_uri": "https://localhost:8080/"
        },
        "id": "5KCxSnqT8_kj",
        "outputId": "4deb1530-86d9-490b-bd49-c4b545cef2e9"
      },
      "source": [
        "import numpy as np\n",
        "from sklearn.linear_model import LinearRegression\n",
        "from sklearn.linear_model import ElasticNet\n",
        "\n",
        "from sklearn.model_selection import train_test_split\n",
        "from sklearn.metrics import mean_absolute_error\n",
        "from sklearn.metrics import explained_variance_score\n",
        "\n",
        "y=df_maule['Casos'].values\n",
        "X=df_maule[df_maule.columns.difference(['Casos'])].values\n",
        "X_train, X_test, y_train, y_test = train_test_split(X, y, test_size=0.33, random_state=42)\n",
        "model = ElasticNet(normalize=False,fit_intercept=True).fit(X_train, y_train)\n",
        "y_hat=model.predict(X_test)\n",
        "print('Coeficiente de Determinacion R2 Modelo Base: {0:0.2f}'.format(reg.score(X_test,y_test)))\n",
        "print('MAE Modelo Base: {0:0.2f}'.format(mean_absolute_error(y_test,y_hat)))\n",
        "print('% Varianza Explicada  Modelo Base: {0:0.2f}'.format(explained_variance_score(y_test,y_hat)))"
      ],
      "execution_count": 236,
      "outputs": [
        {
          "output_type": "stream",
          "text": [
            "Coeficiente de Determinacion R2 Modelo Base: -0.01\n",
            "MAE Modelo Base: 0.00\n",
            "% Varianza Explicada  Modelo Base: 0.00\n"
          ],
          "name": "stdout"
        }
      ]
    },
    {
      "cell_type": "code",
      "metadata": {
        "colab": {
          "base_uri": "https://localhost:8080/"
        },
        "id": "xzkB9Gxa8_km",
        "outputId": "e780bf5c-c9b7-44e7-eb83-a16479ce8952"
      },
      "source": [
        "from sklearn.preprocessing import PolynomialFeatures\n",
        "\n",
        "def train_poly(X,y,p=8,interaction=True):\n",
        "  X_train, X_test, y_train, y_test = train_test_split(X, y, test_size=0.33, random_state=42)\n",
        "  for k in range(2,p):\n",
        "    poly = PolynomialFeatures(k,interaction_only=interaction)\n",
        "    poly.fit(X_train)\n",
        "    X_train_p2=poly.transform(X_train)\n",
        "    X_test_p2=poly.transform(X_test)\n",
        "\n",
        "    model = ElasticNet(normalize=False,fit_intercept=True).fit(X_train_p2, y_train)\n",
        "    y_hat_p2=model.predict(X_test_p2)\n",
        "    print('Coeficiente de Determinacion R2 Polinomio ({0}) : {1:0.2f}'.format(k,model.score(X_test_p2,y_test)))\n",
        "    print('-----------------------------------------------------')\n",
        "\n",
        "train_poly(X,y,p=5,interaction=False)"
      ],
      "execution_count": 238,
      "outputs": [
        {
          "output_type": "stream",
          "text": [
            "Coeficiente de Determinacion R2 Polinomio (2) : -0.01\n",
            "MAE Polinomio (2) : 0.00\n",
            "% Varianza Explicada  Polinomio (2) : 0.00\n",
            "-----------------------------------------------------\n",
            "Coeficiente de Determinacion R2 Polinomio (3) : 0.40\n",
            "MAE Polinomio (3) : 0.00\n",
            "% Varianza Explicada  Polinomio (3) : 0.40\n",
            "-----------------------------------------------------\n",
            "Coeficiente de Determinacion R2 Polinomio (4) : -4.74\n",
            "MAE Polinomio (4) : 0.00\n",
            "% Varianza Explicada  Polinomio (4) : -4.44\n",
            "-----------------------------------------------------\n"
          ],
          "name": "stdout"
        },
        {
          "output_type": "stream",
          "text": [
            "/usr/local/lib/python3.7/dist-packages/sklearn/linear_model/_coordinate_descent.py:476: ConvergenceWarning: Objective did not converge. You might want to increase the number of iterations. Duality gap: 9.152189263608288e-08, tolerance: 3.0811780339356063e-09\n",
            "  positive)\n",
            "/usr/local/lib/python3.7/dist-packages/sklearn/linear_model/_coordinate_descent.py:476: ConvergenceWarning: Objective did not converge. You might want to increase the number of iterations. Duality gap: 2.897982857598068e-06, tolerance: 3.0811780339356063e-09\n",
            "  positive)\n"
          ],
          "name": "stderr"
        }
      ]
    },
    {
      "cell_type": "code",
      "metadata": {
        "colab": {
          "base_uri": "https://localhost:8080/"
        },
        "id": "GXLCVUeRgNA7",
        "outputId": "2082b8a1-3226-4907-832f-a761b3ae01ab"
      },
      "source": [
        "train_poly(X,y,p=6,interaction=True)"
      ],
      "execution_count": 239,
      "outputs": [
        {
          "output_type": "stream",
          "text": [
            "Coeficiente de Determinacion R2 Polinomio (2) : -0.01\n",
            "MAE Polinomio (2) : 0.00\n",
            "% Varianza Explicada  Polinomio (2) : 0.00\n",
            "-----------------------------------------------------\n",
            "Coeficiente de Determinacion R2 Polinomio (3) : 0.48\n",
            "MAE Polinomio (3) : 0.00\n",
            "% Varianza Explicada  Polinomio (3) : 0.48\n",
            "-----------------------------------------------------\n",
            "Coeficiente de Determinacion R2 Polinomio (4) : -0.08\n",
            "MAE Polinomio (4) : 0.00\n",
            "% Varianza Explicada  Polinomio (4) : -0.06\n",
            "-----------------------------------------------------\n",
            "Coeficiente de Determinacion R2 Polinomio (5) : -0.37\n",
            "MAE Polinomio (5) : 0.00\n",
            "% Varianza Explicada  Polinomio (5) : -0.33\n",
            "-----------------------------------------------------\n"
          ],
          "name": "stdout"
        },
        {
          "output_type": "stream",
          "text": [
            "/usr/local/lib/python3.7/dist-packages/sklearn/linear_model/_coordinate_descent.py:476: ConvergenceWarning: Objective did not converge. You might want to increase the number of iterations. Duality gap: 6.7355167816579565e-06, tolerance: 3.0811780339356063e-09\n",
            "  positive)\n",
            "/usr/local/lib/python3.7/dist-packages/sklearn/linear_model/_coordinate_descent.py:476: ConvergenceWarning: Objective did not converge. You might want to increase the number of iterations. Duality gap: 8.163680417401187e-06, tolerance: 3.0811780339356063e-09\n",
            "  positive)\n"
          ],
          "name": "stderr"
        }
      ]
    },
    {
      "cell_type": "code",
      "metadata": {
        "colab": {
          "base_uri": "https://localhost:8080/",
          "height": 427
        },
        "id": "Z4O2HIEX8_kp",
        "outputId": "da8671f2-5366-48a0-ad27-964d3908b6a6"
      },
      "source": [
        "df_maule.rolling(14).mean().plot(figsize=(15,7))"
      ],
      "execution_count": 240,
      "outputs": [
        {
          "output_type": "execute_result",
          "data": {
            "text/plain": [
              "<matplotlib.axes._subplots.AxesSubplot at 0x7f937b66e850>"
            ]
          },
          "metadata": {
            "tags": []
          },
          "execution_count": 240
        },
        {
          "output_type": "display_data",
          "data": {
            "image/png": "[encoded data removed]",
            "text/plain": [
              "<Figure size 1080x504 with 1 Axes>"
            ]
          },
          "metadata": {
            "tags": [],
            "needs_background": "light"
          }
        }
      ]
    },
    {
      "cell_type": "code",
      "metadata": {
        "id": "KDfzph9wh5Ec"
      },
      "source": [
        "y=df_maule['Casos'].rolling(14).mean().dropna().values\n",
        "X=df_maule[df_maule.columns.difference(['Casos'])].rolling(14).mean().dropna().values\n"
      ],
      "execution_count": 241,
      "outputs": []
    },
    {
      "cell_type": "code",
      "metadata": {
        "colab": {
          "base_uri": "https://localhost:8080/"
        },
        "id": "5ku036cKiSCH",
        "outputId": "d88e647e-cad5-4e6c-e87c-f1c26bd693f0"
      },
      "source": [
        "X_train, X_test, y_train, y_test = train_test_split(X, y, test_size=0.33, random_state=42)\n",
        "model = ElasticNet(normalize=False,fit_intercept=True).fit(X_train, y_train)\n",
        "y_hat=model.predict(X_test)\n",
        "print('Coeficiente de Determinacion R2 Modelo Base: {0:0.2f}'.format(reg.score(X_test,y_test)))"
      ],
      "execution_count": 248,
      "outputs": [
        {
          "output_type": "stream",
          "text": [
            "Coeficiente de Determinacion R2 Modelo Base: -0.00\n"
          ],
          "name": "stdout"
        }
      ]
    },
    {
      "cell_type": "code",
      "metadata": {
        "colab": {
          "base_uri": "https://localhost:8080/"
        },
        "id": "lgK-n6PsjGHl",
        "outputId": "f91fc4bf-1ed0-41a3-a1bb-ca4767984ac9"
      },
      "source": [
        "train_poly(X,y,p=8,interaction=True)"
      ],
      "execution_count": 250,
      "outputs": [
        {
          "output_type": "stream",
          "text": [
            "Coeficiente de Determinacion R2 Polinomio (2) : -0.00\n",
            "MAE Polinomio (2) : 0.00\n",
            "% Varianza Explicada  Polinomio (2) : -0.00\n",
            "-----------------------------------------------------\n",
            "Coeficiente de Determinacion R2 Polinomio (3) : 0.64\n",
            "MAE Polinomio (3) : 0.00\n",
            "% Varianza Explicada  Polinomio (3) : 0.64\n",
            "-----------------------------------------------------\n",
            "Coeficiente de Determinacion R2 Polinomio (4) : 0.86\n",
            "MAE Polinomio (4) : 0.00\n",
            "% Varianza Explicada  Polinomio (4) : 0.86\n",
            "-----------------------------------------------------\n",
            "Coeficiente de Determinacion R2 Polinomio (5) : 0.86\n",
            "MAE Polinomio (5) : 0.00\n",
            "% Varianza Explicada  Polinomio (5) : 0.86\n",
            "-----------------------------------------------------\n",
            "Coeficiente de Determinacion R2 Polinomio (6) : 0.86\n",
            "MAE Polinomio (6) : 0.00\n",
            "% Varianza Explicada  Polinomio (6) : 0.86\n",
            "-----------------------------------------------------\n",
            "Coeficiente de Determinacion R2 Polinomio (7) : 0.86\n",
            "MAE Polinomio (7) : 0.00\n",
            "% Varianza Explicada  Polinomio (7) : 0.86\n",
            "-----------------------------------------------------\n"
          ],
          "name": "stdout"
        },
        {
          "output_type": "stream",
          "text": [
            "/usr/local/lib/python3.7/dist-packages/sklearn/linear_model/_coordinate_descent.py:476: ConvergenceWarning: Objective did not converge. You might want to increase the number of iterations. Duality gap: 1.9531305664057907e-06, tolerance: 2.09790506383801e-09\n",
            "  positive)\n",
            "/usr/local/lib/python3.7/dist-packages/sklearn/linear_model/_coordinate_descent.py:476: ConvergenceWarning: Objective did not converge. You might want to increase the number of iterations. Duality gap: 3.091974147134578e-06, tolerance: 2.09790506383801e-09\n",
            "  positive)\n",
            "/usr/local/lib/python3.7/dist-packages/sklearn/linear_model/_coordinate_descent.py:476: ConvergenceWarning: Objective did not converge. You might want to increase the number of iterations. Duality gap: 3.1081574800295636e-06, tolerance: 2.09790506383801e-09\n",
            "  positive)\n",
            "/usr/local/lib/python3.7/dist-packages/sklearn/linear_model/_coordinate_descent.py:476: ConvergenceWarning: Objective did not converge. You might want to increase the number of iterations. Duality gap: 3.1081574800295636e-06, tolerance: 2.09790506383801e-09\n",
            "  positive)\n"
          ],
          "name": "stderr"
        }
      ]
    },
    {
      "cell_type": "code",
      "metadata": {
        "colab": {
          "base_uri": "https://localhost:8080/"
        },
        "id": "iJcCRDaZddka",
        "outputId": "fae6dcb9-cf69-4d9b-ec39-f03421349fb7"
      },
      "source": [
        "model.get_params()"
      ],
      "execution_count": 246,
      "outputs": [
        {
          "output_type": "execute_result",
          "data": {
            "text/plain": [
              "{'alpha': 1.0,\n",
              " 'copy_X': True,\n",
              " 'fit_intercept': True,\n",
              " 'l1_ratio': 0.5,\n",
              " 'max_iter': 1000,\n",
              " 'normalize': False,\n",
              " 'positive': False,\n",
              " 'precompute': False,\n",
              " 'random_state': None,\n",
              " 'selection': 'cyclic',\n",
              " 'tol': 0.0001,\n",
              " 'warm_start': False}"
            ]
          },
          "metadata": {
            "tags": []
          },
          "execution_count": 246
        }
      ]
    }
  ]
}