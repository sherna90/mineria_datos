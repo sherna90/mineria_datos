{
 "cells": [
  {
   "cell_type": "markdown",
   "metadata": {
    "colab_type": "text",
    "id": "OtDafi0PnBhn"
   },
   "source": [
    "# Analisis Exploratorio\n",
    "\n",
    "El analisis exploratorio se usa para i obtener un resumen que describa los datos. Generalmente se usa como etapa previa para otros tipos de analisis y generalmente se usan histogramas y graficos que muestren la relacion entre las distintas variables. Al mismo tiempo, nos interesa  "
   ]
  },
  {
   "cell_type": "code",
   "execution_count": 1,
   "metadata": {
    "colab": {
     "base_uri": "https://localhost:8080/",
     "height": 35
    },
    "colab_type": "code",
    "id": "95hIj-31nBho",
    "outputId": "2d4d2598-4a04-4c2f-c368-6b3db93dc71e"
   },
   "outputs": [
    {
     "data": {
      "text/plain": [
       "'1.0.4'"
      ]
     },
     "execution_count": 1,
     "metadata": {},
     "output_type": "execute_result"
    }
   ],
   "source": [
    "import pandas as pd\n",
    "pd.__version__"
   ]
  },
  {
   "cell_type": "code",
   "execution_count": 392,
   "metadata": {
    "colab": {},
    "colab_type": "code",
    "id": "p40ntim_nBhu"
   },
   "outputs": [],
   "source": [
    "data_teams = {'year': \n",
    "        [2010 , 2011 , 2012 ,\n",
    "        2010 , 2011 , 2012 ,\n",
    "        2010 , 2011 , 2012],\n",
    "        'team': [\n",
    "        'Rangers','Rangers',\n",
    "        'Rangers','Colo Colo',\n",
    "        'Colo Colo','Colo Colo',\n",
    "        'Universidad de Chile','Universidad de Chile',\n",
    "        'Universidad de Chile'],\n",
    "        'wins':[30 , 28 , 32 , 29 , 32 , 26 , 21 , 17 , 19] ,\n",
    "        'draws':[6 , 7 , 4 , 5 , 4 , 7 , 8 , 10 , 8] ,\n",
    "        'losses': [2 , 3 , 2 , 4 , 2 , 5 , 9 , 11 , 11]\n",
    "        }\n",
    "\n",
    "df = pd.DataFrame(data_teams ,columns=data_teams.keys())"
   ]
  },
  {
   "cell_type": "code",
   "execution_count": 393,
   "metadata": {
    "colab": {
     "base_uri": "https://localhost:8080/",
     "height": 202
    },
    "colab_type": "code",
    "id": "g-hM_atBnBhy",
    "outputId": "c1f88451-75c4-4462-fbd7-eef95362aef6"
   },
   "outputs": [
    {
     "data": {
      "text/html": [
       "<div>\n",
       "<style scoped>\n",
       "    .dataframe tbody tr th:only-of-type {\n",
       "        vertical-align: middle;\n",
       "    }\n",
       "\n",
       "    .dataframe tbody tr th {\n",
       "        vertical-align: top;\n",
       "    }\n",
       "\n",
       "    .dataframe thead th {\n",
       "        text-align: right;\n",
       "    }\n",
       "</style>\n",
       "<table border=\"1\" class=\"dataframe\">\n",
       "  <thead>\n",
       "    <tr style=\"text-align: right;\">\n",
       "      <th></th>\n",
       "      <th>year</th>\n",
       "      <th>team</th>\n",
       "      <th>wins</th>\n",
       "      <th>draws</th>\n",
       "      <th>losses</th>\n",
       "    </tr>\n",
       "  </thead>\n",
       "  <tbody>\n",
       "    <tr>\n",
       "      <th>4</th>\n",
       "      <td>2011</td>\n",
       "      <td>Colo Colo</td>\n",
       "      <td>32</td>\n",
       "      <td>4</td>\n",
       "      <td>2</td>\n",
       "    </tr>\n",
       "    <tr>\n",
       "      <th>5</th>\n",
       "      <td>2012</td>\n",
       "      <td>Colo Colo</td>\n",
       "      <td>26</td>\n",
       "      <td>7</td>\n",
       "      <td>5</td>\n",
       "    </tr>\n",
       "    <tr>\n",
       "      <th>6</th>\n",
       "      <td>2010</td>\n",
       "      <td>Universidad de Chile</td>\n",
       "      <td>21</td>\n",
       "      <td>8</td>\n",
       "      <td>9</td>\n",
       "    </tr>\n",
       "    <tr>\n",
       "      <th>7</th>\n",
       "      <td>2011</td>\n",
       "      <td>Universidad de Chile</td>\n",
       "      <td>17</td>\n",
       "      <td>10</td>\n",
       "      <td>11</td>\n",
       "    </tr>\n",
       "    <tr>\n",
       "      <th>8</th>\n",
       "      <td>2012</td>\n",
       "      <td>Universidad de Chile</td>\n",
       "      <td>19</td>\n",
       "      <td>8</td>\n",
       "      <td>11</td>\n",
       "    </tr>\n",
       "  </tbody>\n",
       "</table>\n",
       "</div>"
      ],
      "text/plain": [
       "   year                  team  wins  draws  losses\n",
       "4  2011             Colo Colo    32      4       2\n",
       "5  2012             Colo Colo    26      7       5\n",
       "6  2010  Universidad de Chile    21      8       9\n",
       "7  2011  Universidad de Chile    17     10      11\n",
       "8  2012  Universidad de Chile    19      8      11"
      ]
     },
     "execution_count": 393,
     "metadata": {
      "tags": []
     },
     "output_type": "execute_result"
    }
   ],
   "source": [
    "df.tail()"
   ]
  },
  {
   "cell_type": "code",
   "execution_count": 394,
   "metadata": {
    "colab": {
     "base_uri": "https://localhost:8080/",
     "height": 125
    },
    "colab_type": "code",
    "id": "vWw7Q18BnBh4",
    "outputId": "521d7460-c565-4035-8c73-f786a0b562bf"
   },
   "outputs": [
    {
     "data": {
      "text/plain": [
       "year       int64\n",
       "team      object\n",
       "wins       int64\n",
       "draws      int64\n",
       "losses     int64\n",
       "dtype: object"
      ]
     },
     "execution_count": 394,
     "metadata": {
      "tags": []
     },
     "output_type": "execute_result"
    }
   ],
   "source": [
    "df.dtypes"
   ]
  },
  {
   "cell_type": "code",
   "execution_count": 395,
   "metadata": {
    "colab": {},
    "colab_type": "code",
    "id": "IGzN8aQAnBh8"
   },
   "outputs": [],
   "source": [
    "df['team'] = df['team'].astype('category')\n",
    "df['year']=pd.to_datetime(df['year'], format='%Y')"
   ]
  },
  {
   "cell_type": "code",
   "execution_count": 396,
   "metadata": {
    "colab": {
     "base_uri": "https://localhost:8080/",
     "height": 53
    },
    "colab_type": "code",
    "id": "13nIFeMaZAX7",
    "outputId": "65e4f317-27fc-4fb6-bff9-84d2829ca844"
   },
   "outputs": [
    {
     "data": {
      "text/plain": [
       "[Rangers, Colo Colo, Universidad de Chile]\n",
       "Categories (3, object): [Rangers, Colo Colo, Universidad de Chile]"
      ]
     },
     "execution_count": 396,
     "metadata": {
      "tags": []
     },
     "output_type": "execute_result"
    }
   ],
   "source": [
    "df['team'].unique()"
   ]
  },
  {
   "cell_type": "code",
   "execution_count": 397,
   "metadata": {
    "colab": {},
    "colab_type": "code",
    "id": "PKt9UKxys79g"
   },
   "outputs": [],
   "source": [
    "df_talca=df[df['team']=='Rangers']"
   ]
  },
  {
   "cell_type": "code",
   "execution_count": 400,
   "metadata": {
    "colab": {
     "base_uri": "https://localhost:8080/",
     "height": 107
    },
    "colab_type": "code",
    "id": "mtxGLJZltCur",
    "outputId": "7f97edf9-2d1e-4689-e14c-badce9bd586c"
   },
   "outputs": [
    {
     "data": {
      "text/plain": [
       "0    Rangers\n",
       "1    Rangers\n",
       "2    Rangers\n",
       "Name: team, dtype: category\n",
       "Categories (3, object): [Colo Colo, Rangers, Universidad de Chile]"
      ]
     },
     "execution_count": 400,
     "metadata": {
      "tags": []
     },
     "output_type": "execute_result"
    }
   ],
   "source": [
    "df_talca['team']"
   ]
  },
  {
   "cell_type": "code",
   "execution_count": null,
   "metadata": {
    "colab": {
     "base_uri": "https://localhost:8080/",
     "height": 125
    },
    "colab_type": "code",
    "id": "yQY1AZQ0nBiA",
    "outputId": "fdc1c658-74d0-4df5-9a78-46b577b43a80"
   },
   "outputs": [
    {
     "data": {
      "text/plain": [
       "year      datetime64[ns]\n",
       "team            category\n",
       "wins               int64\n",
       "draws              int64\n",
       "losses             int64\n",
       "dtype: object"
      ]
     },
     "execution_count": 11,
     "metadata": {
      "tags": []
     },
     "output_type": "execute_result"
    }
   ],
   "source": [
    "df.dtypes"
   ]
  },
  {
   "cell_type": "markdown",
   "metadata": {
    "colab_type": "text",
    "id": "DRthIb2mnBiF"
   },
   "source": [
    "La tabla ``df`` se encuentra indexada mediante un objeto del tipo ``pd.Index`` que nos sirve para acceder a los registros individuales."
   ]
  },
  {
   "cell_type": "code",
   "execution_count": null,
   "metadata": {
    "colab": {
     "base_uri": "https://localhost:8080/",
     "height": 35
    },
    "colab_type": "code",
    "id": "HaHFcuijnBiG",
    "outputId": "deff0d39-4fc6-4029-8777-5f716e06e6ca"
   },
   "outputs": [
    {
     "name": "stdout",
     "output_type": "stream",
     "text": [
      "RangeIndex(start=0, stop=9, step=1)\n"
     ]
    }
   ],
   "source": [
    "print(df.index)"
   ]
  },
  {
   "cell_type": "code",
   "execution_count": null,
   "metadata": {
    "colab": {
     "base_uri": "https://localhost:8080/",
     "height": 79
    },
    "colab_type": "code",
    "id": "75QdUV2MnBiK",
    "outputId": "58b77cb5-44ae-41e8-d41a-c169b08682fb"
   },
   "outputs": [
    {
     "data": {
      "text/html": [
       "<div>\n",
       "<style scoped>\n",
       "    .dataframe tbody tr th:only-of-type {\n",
       "        vertical-align: middle;\n",
       "    }\n",
       "\n",
       "    .dataframe tbody tr th {\n",
       "        vertical-align: top;\n",
       "    }\n",
       "\n",
       "    .dataframe thead th {\n",
       "        text-align: right;\n",
       "    }\n",
       "</style>\n",
       "<table border=\"1\" class=\"dataframe\">\n",
       "  <thead>\n",
       "    <tr style=\"text-align: right;\">\n",
       "      <th></th>\n",
       "      <th>year</th>\n",
       "      <th>team</th>\n",
       "      <th>wins</th>\n",
       "      <th>draws</th>\n",
       "      <th>losses</th>\n",
       "    </tr>\n",
       "  </thead>\n",
       "  <tbody>\n",
       "    <tr>\n",
       "      <th>0</th>\n",
       "      <td>2010-01-01</td>\n",
       "      <td>Rangers</td>\n",
       "      <td>30</td>\n",
       "      <td>6</td>\n",
       "      <td>2</td>\n",
       "    </tr>\n",
       "  </tbody>\n",
       "</table>\n",
       "</div>"
      ],
      "text/plain": [
       "        year     team  wins  draws  losses\n",
       "0 2010-01-01  Rangers    30      6       2"
      ]
     },
     "execution_count": 14,
     "metadata": {
      "tags": []
     },
     "output_type": "execute_result"
    }
   ],
   "source": [
    "df[df.index==0]"
   ]
  },
  {
   "cell_type": "code",
   "execution_count": null,
   "metadata": {
    "colab": {},
    "colab_type": "code",
    "id": "9MUKOclRnBiO",
    "outputId": "bfa0c677-86b1-435b-cb2b-ab5713296013"
   },
   "outputs": [
    {
     "data": {
      "text/plain": [
       "year      2010-01-01 00:00:00\n",
       "team                  Rangers\n",
       "wins                       30\n",
       "draws                       6\n",
       "losses                      2\n",
       "Name: 0, dtype: object"
      ]
     },
     "execution_count": 109,
     "metadata": {
      "tags": []
     },
     "output_type": "execute_result"
    }
   ],
   "source": [
    "df.iloc[0]"
   ]
  },
  {
   "cell_type": "code",
   "execution_count": null,
   "metadata": {
    "colab": {
     "base_uri": "https://localhost:8080/",
     "height": 110
    },
    "colab_type": "code",
    "id": "10O5uQRanBiS",
    "outputId": "3031f476-76b4-448d-e02d-f90a129edf72"
   },
   "outputs": [
    {
     "data": {
      "text/html": [
       "<div>\n",
       "<style scoped>\n",
       "    .dataframe tbody tr th:only-of-type {\n",
       "        vertical-align: middle;\n",
       "    }\n",
       "\n",
       "    .dataframe tbody tr th {\n",
       "        vertical-align: top;\n",
       "    }\n",
       "\n",
       "    .dataframe thead th {\n",
       "        text-align: right;\n",
       "    }\n",
       "</style>\n",
       "<table border=\"1\" class=\"dataframe\">\n",
       "  <thead>\n",
       "    <tr style=\"text-align: right;\">\n",
       "      <th></th>\n",
       "      <th>year</th>\n",
       "      <th>team</th>\n",
       "      <th>wins</th>\n",
       "      <th>draws</th>\n",
       "      <th>losses</th>\n",
       "    </tr>\n",
       "  </thead>\n",
       "  <tbody>\n",
       "    <tr>\n",
       "      <th>0</th>\n",
       "      <td>2010-01-01</td>\n",
       "      <td>Rangers</td>\n",
       "      <td>30</td>\n",
       "      <td>6</td>\n",
       "      <td>2</td>\n",
       "    </tr>\n",
       "    <tr>\n",
       "      <th>1</th>\n",
       "      <td>2011-01-01</td>\n",
       "      <td>Rangers</td>\n",
       "      <td>28</td>\n",
       "      <td>7</td>\n",
       "      <td>3</td>\n",
       "    </tr>\n",
       "  </tbody>\n",
       "</table>\n",
       "</div>"
      ],
      "text/plain": [
       "        year     team  wins  draws  losses\n",
       "0 2010-01-01  Rangers    30      6       2\n",
       "1 2011-01-01  Rangers    28      7       3"
      ]
     },
     "execution_count": 15,
     "metadata": {
      "tags": []
     },
     "output_type": "execute_result"
    }
   ],
   "source": [
    "df[0:2]"
   ]
  },
  {
   "cell_type": "code",
   "execution_count": null,
   "metadata": {
    "colab": {},
    "colab_type": "code",
    "id": "xbm91XfknBiW"
   },
   "outputs": [],
   "source": [
    "sum_data=df.groupby('year').sum()"
   ]
  },
  {
   "cell_type": "code",
   "execution_count": null,
   "metadata": {
    "colab": {
     "base_uri": "https://localhost:8080/",
     "height": 107
    },
    "colab_type": "code",
    "id": "HqpyGM3wnBiZ",
    "outputId": "3b337fa4-198a-4b5f-c348-136a591fd38a"
   },
   "outputs": [
    {
     "name": "stdout",
     "output_type": "stream",
     "text": [
      "            wins  draws  losses\n",
      "year                           \n",
      "2010-01-01    80     19      15\n",
      "2011-01-01    77     21      16\n",
      "2012-01-01    77     19      18\n"
     ]
    }
   ],
   "source": [
    "print(sum_data)"
   ]
  },
  {
   "cell_type": "code",
   "execution_count": null,
   "metadata": {
    "colab": {
     "base_uri": "https://localhost:8080/",
     "height": 35
    },
    "colab_type": "code",
    "id": "sQx_ozeanBid",
    "outputId": "73d3897c-066c-42b8-9ecf-e359d925a569"
   },
   "outputs": [
    {
     "data": {
      "text/plain": [
       "DatetimeIndex(['2010-01-01', '2011-01-01', '2012-01-01'], dtype='datetime64[ns]', name='year', freq=None)"
      ]
     },
     "execution_count": 21,
     "metadata": {
      "tags": []
     },
     "output_type": "execute_result"
    }
   ],
   "source": [
    "sum_data.index"
   ]
  },
  {
   "cell_type": "markdown",
   "metadata": {
    "colab_type": "text",
    "id": "5IMSk1wNnBih"
   },
   "source": [
    "# Analisis Exploratorio de Casos COVID \n",
    "\n",
    "En este laboratorio realizaremos un analisis exploratorio de casos confirmados de COVID-19. Para ello, accederemos a las API del Centro Europeo para la Prevencion y Control de Enfermedades (https://www.ecdc.europa.eu/en/publications-data/download-todays-data-geographic-distribution-covid-19-cases-worldwide)"
   ]
  },
  {
   "cell_type": "code",
   "execution_count": 298,
   "metadata": {
    "colab": {},
    "colab_type": "code",
    "id": "pTxDhRhunBii"
   },
   "outputs": [],
   "source": [
    "import requests \n",
    "import json\n",
    "\n",
    "response=requests.get('https://opendata.ecdc.europa.eu/covid19/casedistribution/json/')\n",
    "\n",
    "if response.status_code==200:\n",
    "    s=json.loads(response.text,encoding='utf-8',strict=False)\n",
    "    data=pd.DataFrame(s['records'])\n",
    "    data.to_csv('covid_data.csv')\n",
    "else:\n",
    "    data=pd.read_csv('covid_data.csv')"
   ]
  },
  {
   "cell_type": "code",
   "execution_count": 299,
   "metadata": {
    "colab": {
     "base_uri": "https://localhost:8080/",
     "height": 35
    },
    "colab_type": "code",
    "id": "GkBIwVB6nBil",
    "outputId": "cf90d5d3-4330-415a-d709-33a5a8302a97"
   },
   "outputs": [
    {
     "data": {
      "text/plain": [
       "(27622, 11)"
      ]
     },
     "execution_count": 299,
     "metadata": {
      "tags": []
     },
     "output_type": "execute_result"
    }
   ],
   "source": [
    "data.shape"
   ]
  },
  {
   "cell_type": "code",
   "execution_count": 401,
   "metadata": {
    "colab": {
     "base_uri": "https://localhost:8080/",
     "height": 415
    },
    "colab_type": "code",
    "id": "EkzCE2jPubKP",
    "outputId": "c864208d-9ac4-47d9-8fa6-aac8830a2dc9"
   },
   "outputs": [
    {
     "data": {
      "text/html": [
       "<div>\n",
       "<style scoped>\n",
       "    .dataframe tbody tr th:only-of-type {\n",
       "        vertical-align: middle;\n",
       "    }\n",
       "\n",
       "    .dataframe tbody tr th {\n",
       "        vertical-align: top;\n",
       "    }\n",
       "\n",
       "    .dataframe thead th {\n",
       "        text-align: right;\n",
       "    }\n",
       "</style>\n",
       "<table border=\"1\" class=\"dataframe\">\n",
       "  <thead>\n",
       "    <tr style=\"text-align: right;\">\n",
       "      <th></th>\n",
       "      <th>dateRep</th>\n",
       "      <th>cases</th>\n",
       "      <th>deaths</th>\n",
       "      <th>countriesAndTerritories</th>\n",
       "      <th>geoId</th>\n",
       "      <th>countryterritoryCode</th>\n",
       "      <th>popData2019</th>\n",
       "      <th>continentExp</th>\n",
       "    </tr>\n",
       "  </thead>\n",
       "  <tbody>\n",
       "    <tr>\n",
       "      <th>0</th>\n",
       "      <td>2020-07-04</td>\n",
       "      <td>302</td>\n",
       "      <td>12</td>\n",
       "      <td>Afghanistan</td>\n",
       "      <td>AF</td>\n",
       "      <td>AFG</td>\n",
       "      <td>38041757.0</td>\n",
       "      <td>Asia</td>\n",
       "    </tr>\n",
       "    <tr>\n",
       "      <th>1</th>\n",
       "      <td>2020-07-03</td>\n",
       "      <td>186</td>\n",
       "      <td>33</td>\n",
       "      <td>Afghanistan</td>\n",
       "      <td>AF</td>\n",
       "      <td>AFG</td>\n",
       "      <td>38041757.0</td>\n",
       "      <td>Asia</td>\n",
       "    </tr>\n",
       "    <tr>\n",
       "      <th>2</th>\n",
       "      <td>2020-07-02</td>\n",
       "      <td>319</td>\n",
       "      <td>28</td>\n",
       "      <td>Afghanistan</td>\n",
       "      <td>AF</td>\n",
       "      <td>AFG</td>\n",
       "      <td>38041757.0</td>\n",
       "      <td>Asia</td>\n",
       "    </tr>\n",
       "    <tr>\n",
       "      <th>3</th>\n",
       "      <td>2020-07-01</td>\n",
       "      <td>279</td>\n",
       "      <td>13</td>\n",
       "      <td>Afghanistan</td>\n",
       "      <td>AF</td>\n",
       "      <td>AFG</td>\n",
       "      <td>38041757.0</td>\n",
       "      <td>Asia</td>\n",
       "    </tr>\n",
       "    <tr>\n",
       "      <th>4</th>\n",
       "      <td>2020-06-30</td>\n",
       "      <td>271</td>\n",
       "      <td>12</td>\n",
       "      <td>Afghanistan</td>\n",
       "      <td>AF</td>\n",
       "      <td>AFG</td>\n",
       "      <td>38041757.0</td>\n",
       "      <td>Asia</td>\n",
       "    </tr>\n",
       "    <tr>\n",
       "      <th>...</th>\n",
       "      <td>...</td>\n",
       "      <td>...</td>\n",
       "      <td>...</td>\n",
       "      <td>...</td>\n",
       "      <td>...</td>\n",
       "      <td>...</td>\n",
       "      <td>...</td>\n",
       "      <td>...</td>\n",
       "    </tr>\n",
       "    <tr>\n",
       "      <th>27617</th>\n",
       "      <td>2020-03-25</td>\n",
       "      <td>0</td>\n",
       "      <td>0</td>\n",
       "      <td>Zimbabwe</td>\n",
       "      <td>ZW</td>\n",
       "      <td>ZWE</td>\n",
       "      <td>14645473.0</td>\n",
       "      <td>Africa</td>\n",
       "    </tr>\n",
       "    <tr>\n",
       "      <th>27618</th>\n",
       "      <td>2020-03-24</td>\n",
       "      <td>0</td>\n",
       "      <td>1</td>\n",
       "      <td>Zimbabwe</td>\n",
       "      <td>ZW</td>\n",
       "      <td>ZWE</td>\n",
       "      <td>14645473.0</td>\n",
       "      <td>Africa</td>\n",
       "    </tr>\n",
       "    <tr>\n",
       "      <th>27619</th>\n",
       "      <td>2020-03-23</td>\n",
       "      <td>0</td>\n",
       "      <td>0</td>\n",
       "      <td>Zimbabwe</td>\n",
       "      <td>ZW</td>\n",
       "      <td>ZWE</td>\n",
       "      <td>14645473.0</td>\n",
       "      <td>Africa</td>\n",
       "    </tr>\n",
       "    <tr>\n",
       "      <th>27620</th>\n",
       "      <td>2020-03-22</td>\n",
       "      <td>1</td>\n",
       "      <td>0</td>\n",
       "      <td>Zimbabwe</td>\n",
       "      <td>ZW</td>\n",
       "      <td>ZWE</td>\n",
       "      <td>14645473.0</td>\n",
       "      <td>Africa</td>\n",
       "    </tr>\n",
       "    <tr>\n",
       "      <th>27621</th>\n",
       "      <td>2020-03-21</td>\n",
       "      <td>1</td>\n",
       "      <td>0</td>\n",
       "      <td>Zimbabwe</td>\n",
       "      <td>ZW</td>\n",
       "      <td>ZWE</td>\n",
       "      <td>14645473.0</td>\n",
       "      <td>Africa</td>\n",
       "    </tr>\n",
       "  </tbody>\n",
       "</table>\n",
       "<p>27622 rows × 8 columns</p>\n",
       "</div>"
      ],
      "text/plain": [
       "         dateRep  cases  deaths  ... countryterritoryCode popData2019 continentExp\n",
       "0     2020-07-04    302      12  ...                  AFG  38041757.0         Asia\n",
       "1     2020-07-03    186      33  ...                  AFG  38041757.0         Asia\n",
       "2     2020-07-02    319      28  ...                  AFG  38041757.0         Asia\n",
       "3     2020-07-01    279      13  ...                  AFG  38041757.0         Asia\n",
       "4     2020-06-30    271      12  ...                  AFG  38041757.0         Asia\n",
       "...          ...    ...     ...  ...                  ...         ...          ...\n",
       "27617 2020-03-25      0       0  ...                  ZWE  14645473.0       Africa\n",
       "27618 2020-03-24      0       1  ...                  ZWE  14645473.0       Africa\n",
       "27619 2020-03-23      0       0  ...                  ZWE  14645473.0       Africa\n",
       "27620 2020-03-22      1       0  ...                  ZWE  14645473.0       Africa\n",
       "27621 2020-03-21      1       0  ...                  ZWE  14645473.0       Africa\n",
       "\n",
       "[27622 rows x 8 columns]"
      ]
     },
     "execution_count": 401,
     "metadata": {
      "tags": []
     },
     "output_type": "execute_result"
    }
   ],
   "source": [
    "data"
   ]
  },
  {
   "cell_type": "code",
   "execution_count": 300,
   "metadata": {
    "colab": {
     "base_uri": "https://localhost:8080/",
     "height": 233
    },
    "colab_type": "code",
    "id": "c2OmKGZxnBip",
    "outputId": "f0f36778-d9b1-421b-c185-994589bde2e3"
   },
   "outputs": [
    {
     "data": {
      "text/plain": [
       "dateRep                     object\n",
       "day                         object\n",
       "month                       object\n",
       "year                        object\n",
       "cases                        int64\n",
       "deaths                       int64\n",
       "countriesAndTerritories     object\n",
       "geoId                       object\n",
       "countryterritoryCode        object\n",
       "popData2019                float64\n",
       "continentExp                object\n",
       "dtype: object"
      ]
     },
     "execution_count": 300,
     "metadata": {
      "tags": []
     },
     "output_type": "execute_result"
    }
   ],
   "source": [
    "data.dtypes"
   ]
  },
  {
   "cell_type": "code",
   "execution_count": 301,
   "metadata": {
    "colab": {},
    "colab_type": "code",
    "id": "FZRugrk2nBit"
   },
   "outputs": [],
   "source": [
    "data['dateRep']=pd.to_datetime(data['dateRep'],format='%d/%m/%Y')"
   ]
  },
  {
   "cell_type": "code",
   "execution_count": null,
   "metadata": {
    "colab": {
     "base_uri": "https://localhost:8080/",
     "height": 233
    },
    "colab_type": "code",
    "id": "hcxixQHYnBix",
    "outputId": "04b618db-aa78-4b44-fbc1-5848c4c67e8d"
   },
   "outputs": [
    {
     "data": {
      "text/plain": [
       "dateRep                    datetime64[ns]\n",
       "day                                object\n",
       "month                              object\n",
       "year                               object\n",
       "cases                               int64\n",
       "deaths                              int64\n",
       "countriesAndTerritories            object\n",
       "geoId                              object\n",
       "countryterritoryCode               object\n",
       "popData2019                       float64\n",
       "continentExp                       object\n",
       "dtype: object"
      ]
     },
     "execution_count": 49,
     "metadata": {
      "tags": []
     },
     "output_type": "execute_result"
    }
   ],
   "source": [
    "data.dtypes"
   ]
  },
  {
   "cell_type": "code",
   "execution_count": 302,
   "metadata": {
    "colab": {
     "base_uri": "https://localhost:8080/",
     "height": 35
    },
    "colab_type": "code",
    "id": "3zPyokatHqLR",
    "outputId": "bcced3ff-f74d-46c2-9fc8-7456402b8a25"
   },
   "outputs": [
    {
     "data": {
      "text/plain": [
       "Timestamp('2019-12-31 00:00:00')"
      ]
     },
     "execution_count": 302,
     "metadata": {
      "tags": []
     },
     "output_type": "execute_result"
    }
   ],
   "source": [
    "data['dateRep'].min()"
   ]
  },
  {
   "cell_type": "code",
   "execution_count": 303,
   "metadata": {
    "colab": {
     "base_uri": "https://localhost:8080/",
     "height": 35
    },
    "colab_type": "code",
    "id": "75aFJkduK3Wm",
    "outputId": "f226def4-d863-47ec-8939-26cd9bdbaebb"
   },
   "outputs": [
    {
     "data": {
      "text/plain": [
       "Timestamp('2020-07-04 00:00:00')"
      ]
     },
     "execution_count": 303,
     "metadata": {
      "tags": []
     },
     "output_type": "execute_result"
    }
   ],
   "source": [
    "data['dateRep'].max()"
   ]
  },
  {
   "cell_type": "code",
   "execution_count": 304,
   "metadata": {
    "colab": {},
    "colab_type": "code",
    "id": "9_IXrNEonBi1"
   },
   "outputs": [],
   "source": [
    "data['countriesAndTerritories'] = data['countriesAndTerritories'].astype('category')\n",
    "data['geoId'] = data['geoId'].astype('category')\n",
    "data['countryterritoryCode'] = data['countryterritoryCode'].astype('category')\n",
    "data['continentExp'] = data['continentExp'].astype('category')\n",
    "data.drop(['day','month','year'],axis=1,inplace=True)"
   ]
  },
  {
   "cell_type": "code",
   "execution_count": 305,
   "metadata": {
    "colab": {
     "base_uri": "https://localhost:8080/",
     "height": 53
    },
    "colab_type": "code",
    "id": "OrZOeM9DVNfV",
    "outputId": "204cbba3-06c4-40cc-f451-8a1cc81c7651"
   },
   "outputs": [
    {
     "data": {
      "text/plain": [
       "[Asia, Europe, Africa, America, Oceania, Other]\n",
       "Categories (6, object): [Asia, Europe, Africa, America, Oceania, Other]"
      ]
     },
     "execution_count": 305,
     "metadata": {
      "tags": []
     },
     "output_type": "execute_result"
    }
   ],
   "source": [
    "data['continentExp'].unique()"
   ]
  },
  {
   "cell_type": "code",
   "execution_count": null,
   "metadata": {
    "colab": {
     "base_uri": "https://localhost:8080/",
     "height": 179
    },
    "colab_type": "code",
    "id": "8Iq5LVGsnBi4",
    "outputId": "d6cc890a-c404-4bbc-905f-750af28ab1f7"
   },
   "outputs": [
    {
     "data": {
      "text/plain": [
       "dateRep                    datetime64[ns]\n",
       "cases                               int64\n",
       "deaths                              int64\n",
       "countriesAndTerritories          category\n",
       "geoId                            category\n",
       "countryterritoryCode             category\n",
       "popData2019                       float64\n",
       "continentExp                     category\n",
       "dtype: object"
      ]
     },
     "execution_count": 54,
     "metadata": {
      "tags": []
     },
     "output_type": "execute_result"
    }
   ],
   "source": [
    "data.dtypes"
   ]
  },
  {
   "cell_type": "code",
   "execution_count": 306,
   "metadata": {
    "colab": {
     "base_uri": "https://localhost:8080/",
     "height": 53
    },
    "colab_type": "code",
    "id": "z6YlSaAQnBi7",
    "outputId": "e1791b93-fbf7-4137-b434-ba3abfc8af56"
   },
   "outputs": [
    {
     "data": {
      "text/plain": [
       "[Asia, Europe, Africa, America, Oceania, Other]\n",
       "Categories (6, object): [Asia, Europe, Africa, America, Oceania, Other]"
      ]
     },
     "execution_count": 306,
     "metadata": {
      "tags": []
     },
     "output_type": "execute_result"
    }
   ],
   "source": [
    "data['continentExp'].unique()"
   ]
  },
  {
   "cell_type": "code",
   "execution_count": 307,
   "metadata": {
    "colab": {
     "base_uri": "https://localhost:8080/",
     "height": 179
    },
    "colab_type": "code",
    "id": "7VQ90-JPXPyb",
    "outputId": "116a7fc9-c1f7-4ea9-d4e2-0d6e6d5aaefe"
   },
   "outputs": [
    {
     "data": {
      "text/plain": [
       "dateRep                    datetime64[ns]\n",
       "cases                               int64\n",
       "deaths                              int64\n",
       "countriesAndTerritories          category\n",
       "geoId                            category\n",
       "countryterritoryCode             category\n",
       "popData2019                       float64\n",
       "continentExp                     category\n",
       "dtype: object"
      ]
     },
     "execution_count": 307,
     "metadata": {
      "tags": []
     },
     "output_type": "execute_result"
    }
   ],
   "source": [
    "data.dtypes"
   ]
  },
  {
   "cell_type": "code",
   "execution_count": 308,
   "metadata": {
    "colab": {},
    "colab_type": "code",
    "id": "O0lZLPZTnBi-"
   },
   "outputs": [],
   "source": [
    "latin_america=data[data['continentExp']=='America']"
   ]
  },
  {
   "cell_type": "code",
   "execution_count": 310,
   "metadata": {
    "colab": {},
    "colab_type": "code",
    "id": "c3PJ_8AMnBjJ"
   },
   "outputs": [],
   "source": [
    "group_america=latin_america[['countriesAndTerritories','cases','geoId']].groupby('countriesAndTerritories',observed=True)"
   ]
  },
  {
   "cell_type": "code",
   "execution_count": 311,
   "metadata": {
    "colab": {},
    "colab_type": "code",
    "id": "S_BXiYOPnBjN"
   },
   "outputs": [],
   "source": [
    "sum_america=group_america.sum()\n",
    "sum_america.sort_values(by=['cases'],inplace=True,ascending=False)"
   ]
  },
  {
   "cell_type": "code",
   "execution_count": 312,
   "metadata": {
    "colab": {
     "base_uri": "https://localhost:8080/",
     "height": 233
    },
    "colab_type": "code",
    "id": "u2q8S7fDUNYJ",
    "outputId": "df3d7853-fc0f-4e7f-d7ce-38e22447c4f6"
   },
   "outputs": [
    {
     "data": {
      "text/html": [
       "<div>\n",
       "<style scoped>\n",
       "    .dataframe tbody tr th:only-of-type {\n",
       "        vertical-align: middle;\n",
       "    }\n",
       "\n",
       "    .dataframe tbody tr th {\n",
       "        vertical-align: top;\n",
       "    }\n",
       "\n",
       "    .dataframe thead th {\n",
       "        text-align: right;\n",
       "    }\n",
       "</style>\n",
       "<table border=\"1\" class=\"dataframe\">\n",
       "  <thead>\n",
       "    <tr style=\"text-align: right;\">\n",
       "      <th></th>\n",
       "      <th>cases</th>\n",
       "    </tr>\n",
       "    <tr>\n",
       "      <th>countriesAndTerritories</th>\n",
       "      <th></th>\n",
       "    </tr>\n",
       "  </thead>\n",
       "  <tbody>\n",
       "    <tr>\n",
       "      <th>United_States_of_America</th>\n",
       "      <td>2794321</td>\n",
       "    </tr>\n",
       "    <tr>\n",
       "      <th>Brazil</th>\n",
       "      <td>1539081</td>\n",
       "    </tr>\n",
       "    <tr>\n",
       "      <th>Peru</th>\n",
       "      <td>295599</td>\n",
       "    </tr>\n",
       "    <tr>\n",
       "      <th>Chile</th>\n",
       "      <td>288089</td>\n",
       "    </tr>\n",
       "    <tr>\n",
       "      <th>Mexico</th>\n",
       "      <td>245251</td>\n",
       "    </tr>\n",
       "  </tbody>\n",
       "</table>\n",
       "</div>"
      ],
      "text/plain": [
       "                            cases\n",
       "countriesAndTerritories          \n",
       "United_States_of_America  2794321\n",
       "Brazil                    1539081\n",
       "Peru                       295599\n",
       "Chile                      288089\n",
       "Mexico                     245251"
      ]
     },
     "execution_count": 312,
     "metadata": {
      "tags": []
     },
     "output_type": "execute_result"
    }
   ],
   "source": [
    "sum_america.head()"
   ]
  },
  {
   "cell_type": "code",
   "execution_count": 313,
   "metadata": {
    "colab": {
     "base_uri": "https://localhost:8080/",
     "height": 505
    },
    "colab_type": "code",
    "id": "qjuuLzLpnBjS",
    "outputId": "7dfeb018-982f-44e0-dd10-a2be66da2c31"
   },
   "outputs": [
    {
     "data": {
      "image/png": "[encoded data removed]",
      "text/plain": [
       "<Figure size 1008x504 with 1 Axes>"
      ]
     },
     "metadata": {
      "tags": []
     },
     "output_type": "display_data"
    }
   ],
   "source": [
    "import matplotlib.pyplot as plt\n",
    "plt.style.use('fivethirtyeight')\n",
    "fig, ax = plt.subplots(tight_layout=True,figsize=(14,7))\n",
    "\n",
    "scale = 'log'\n",
    "\n",
    "sum_america['cases'].head(30).plot(ax=ax, kind=\"bar\", color='purple')\n",
    "\n",
    "ax.set_yscale(scale)\n",
    "\n",
    "ax.set_title(f'COVID-19 en America', fontsize='large')\n",
    "ax.set_xlabel(f'Pais', fontsize='medium')\n",
    "ax.set_ylabel(f'Casos Confirmados ', fontsize='medium')\n",
    "\n",
    "plt.show()"
   ]
  },
  {
   "cell_type": "code",
   "execution_count": 323,
   "metadata": {
    "colab": {},
    "colab_type": "code",
    "id": "S-t4QoIFnBjV"
   },
   "outputs": [],
   "source": [
    "Q1 = sum_america['cases'].between(sum_america['cases'].quantile(.85), sum_america['cases'].quantile(1.))"
   ]
  },
  {
   "cell_type": "code",
   "execution_count": 324,
   "metadata": {
    "colab": {},
    "colab_type": "code",
    "id": "E5wpfQHcM2iO"
   },
   "outputs": [],
   "source": [
    "pos_rate=sum_america[Q1]['cases']"
   ]
  },
  {
   "cell_type": "code",
   "execution_count": 325,
   "metadata": {
    "colab": {
     "base_uri": "https://localhost:8080/",
     "height": 91
    },
    "colab_type": "code",
    "id": "9XSvgA9EotX_",
    "outputId": "5b5f1b6e-1de4-4164-ff5d-aec2d9096286"
   },
   "outputs": [
    {
     "data": {
      "text/plain": [
       "CategoricalIndex(['United_States_of_America', 'Brazil', 'Peru', 'Chile',\n",
       "                  'Mexico', 'Colombia', 'Canada', 'Argentina'],\n",
       "                 categories=['Afghanistan', 'Albania', 'Algeria', 'Andorra', 'Angola', 'Anguilla', 'Antigua_and_Barbuda', 'Argentina', ...], ordered=False, name='countriesAndTerritories', dtype='category')"
      ]
     },
     "execution_count": 325,
     "metadata": {
      "tags": []
     },
     "output_type": "execute_result"
    }
   ],
   "source": [
    "pos_rate.index"
   ]
  },
  {
   "cell_type": "code",
   "execution_count": 326,
   "metadata": {
    "colab": {
     "base_uri": "https://localhost:8080/",
     "height": 197
    },
    "colab_type": "code",
    "id": "3x5reRj1QlCi",
    "outputId": "14b50ec4-09c3-49aa-e29e-aaea6c27c7a6"
   },
   "outputs": [
    {
     "data": {
      "text/plain": [
       "countriesAndTerritories\n",
       "United_States_of_America    2794321\n",
       "Brazil                      1539081\n",
       "Peru                         295599\n",
       "Chile                        288089\n",
       "Mexico                       245251\n",
       "Colombia                     109505\n",
       "Canada                       105079\n",
       "Argentina                     72773\n",
       "Name: cases, dtype: int64"
      ]
     },
     "execution_count": 326,
     "metadata": {
      "tags": []
     },
     "output_type": "execute_result"
    }
   ],
   "source": [
    "pos_rate"
   ]
  },
  {
   "cell_type": "code",
   "execution_count": 327,
   "metadata": {
    "colab": {
     "base_uri": "https://localhost:8080/",
     "height": 505
    },
    "colab_type": "code",
    "id": "uKxqd6slqd4u",
    "outputId": "9f74d464-e3b5-4c68-f1d3-fda0128c9da7"
   },
   "outputs": [
    {
     "data": {
      "image/png": "[encoded data removed]",
      "text/plain": [
       "<Figure size 1008x504 with 1 Axes>"
      ]
     },
     "metadata": {
      "tags": []
     },
     "output_type": "display_data"
    }
   ],
   "source": [
    "fig, ax = plt.subplots(tight_layout=True,figsize=(14,7))\n",
    "pos_rate.plot(ax=ax, kind=\"bar\", color='purple')\n",
    "plt.show()"
   ]
  },
  {
   "cell_type": "markdown",
   "metadata": {
    "colab_type": "text",
    "id": "7fG9zM6tVcYl"
   },
   "source": [
    "# Tarea\n",
    "\n",
    "En este laboratorio Ud debe completar las siguientes tareas:\n",
    "\n",
    "\n",
    "1.   Reportar la suma de casos confirmados en America, normalizados por cada millon de habitantes.\n",
    "2.   Reportar la tasa de mortalidad en America, normalizados por cada millon de habitantes.\n",
    "3. Reportar la tasa de positividad en America, normalizados por cantidad de test PCR realizados.\n",
    "\n"
   ]
  },
  {
   "cell_type": "code",
   "execution_count": 328,
   "metadata": {
    "colab": {},
    "colab_type": "code",
    "id": "XRRbYDZbWdLj"
   },
   "outputs": [],
   "source": [
    "pcr_test=pd.read_csv('https://raw.githubusercontent.com/owid/covid-19-data/master/public/data/owid-covid-data.csv')"
   ]
  },
  {
   "cell_type": "code",
   "execution_count": 329,
   "metadata": {
    "colab": {
     "base_uri": "https://localhost:8080/",
     "height": 647
    },
    "colab_type": "code",
    "id": "Kb0bSSGFWsMm",
    "outputId": "9c5c10a0-64ea-4d9e-f98f-e24a34998c95"
   },
   "outputs": [
    {
     "data": {
      "text/plain": [
       "iso_code                            object\n",
       "continent                           object\n",
       "location                            object\n",
       "date                                object\n",
       "total_cases                        float64\n",
       "new_cases                          float64\n",
       "total_deaths                       float64\n",
       "new_deaths                         float64\n",
       "total_cases_per_million            float64\n",
       "new_cases_per_million              float64\n",
       "total_deaths_per_million           float64\n",
       "new_deaths_per_million             float64\n",
       "total_tests                        float64\n",
       "new_tests                          float64\n",
       "total_tests_per_thousand           float64\n",
       "new_tests_per_thousand             float64\n",
       "new_tests_smoothed                 float64\n",
       "new_tests_smoothed_per_thousand    float64\n",
       "tests_units                         object\n",
       "stringency_index                   float64\n",
       "population                         float64\n",
       "population_density                 float64\n",
       "median_age                         float64\n",
       "aged_65_older                      float64\n",
       "aged_70_older                      float64\n",
       "gdp_per_capita                     float64\n",
       "extreme_poverty                    float64\n",
       "cvd_death_rate                     float64\n",
       "diabetes_prevalence                float64\n",
       "female_smokers                     float64\n",
       "male_smokers                       float64\n",
       "handwashing_facilities             float64\n",
       "hospital_beds_per_thousand         float64\n",
       "life_expectancy                    float64\n",
       "dtype: object"
      ]
     },
     "execution_count": 329,
     "metadata": {
      "tags": []
     },
     "output_type": "execute_result"
    }
   ],
   "source": [
    "pcr_test.dtypes"
   ]
  },
  {
   "cell_type": "code",
   "execution_count": 330,
   "metadata": {
    "colab": {},
    "colab_type": "code",
    "id": "b2YIXBPeVPgL"
   },
   "outputs": [],
   "source": [
    "pcr_test['location'] = pcr_test['location'].astype('category')\n",
    "pcr_test['continent'] = pcr_test['continent'].astype('category')\n",
    "pcr_test['iso_code'] = pcr_test['iso_code'].astype('category')\n"
   ]
  },
  {
   "cell_type": "code",
   "execution_count": 331,
   "metadata": {
    "colab": {
     "base_uri": "https://localhost:8080/",
     "height": 53
    },
    "colab_type": "code",
    "id": "XTqJCSJzVnOX",
    "outputId": "8c454348-4892-4b2c-efdf-68708109f76d"
   },
   "outputs": [
    {
     "data": {
      "text/plain": [
       "[Asia, Europe, Africa, North America, South America, Oceania, NaN]\n",
       "Categories (6, object): [Asia, Europe, Africa, North America, South America, Oceania]"
      ]
     },
     "execution_count": 331,
     "metadata": {
      "tags": []
     },
     "output_type": "execute_result"
    }
   ],
   "source": [
    "pcr_test['continent'].unique()"
   ]
  },
  {
   "cell_type": "code",
   "execution_count": 333,
   "metadata": {
    "colab": {
     "base_uri": "https://localhost:8080/",
     "height": 71
    },
    "colab_type": "code",
    "id": "spBzJkSwVsqO",
    "outputId": "39da3915-d5e3-483d-ae29-f74721bc1ae6"
   },
   "outputs": [
    {
     "data": {
      "text/plain": [
       "[AFG, ALB, DZA, AND, AGO, ..., YEM, ZMB, ZWE, OWID_WRL, NaN]\n",
       "Length: 212\n",
       "Categories (211, object): [AFG, ALB, DZA, AND, ..., YEM, ZMB, ZWE, OWID_WRL]"
      ]
     },
     "execution_count": 333,
     "metadata": {
      "tags": []
     },
     "output_type": "execute_result"
    }
   ],
   "source": [
    "pcr_test['iso_code'].unique()"
   ]
  },
  {
   "cell_type": "code",
   "execution_count": 334,
   "metadata": {
    "colab": {
     "base_uri": "https://localhost:8080/",
     "height": 53
    },
    "colab_type": "code",
    "id": "ZwToj5PsYJbz",
    "outputId": "341b0446-48ef-4a99-acc3-383c2da9bcd4"
   },
   "outputs": [
    {
     "data": {
      "text/plain": [
       "[Asia, Europe, Africa, America, Oceania, Other]\n",
       "Categories (6, object): [Asia, Europe, Africa, America, Oceania, Other]"
      ]
     },
     "execution_count": 334,
     "metadata": {
      "tags": []
     },
     "output_type": "execute_result"
    }
   ],
   "source": [
    "data['continentExp'].unique()"
   ]
  },
  {
   "cell_type": "code",
   "execution_count": 375,
   "metadata": {
    "colab": {},
    "colab_type": "code",
    "id": "dbaOsU21VwBI"
   },
   "outputs": [],
   "source": [
    "pcr_north=pcr_test[pcr_test['continent']=='North America']\n",
    "pcr_south=pcr_test[pcr_test['continent']=='South America']\n"
   ]
  },
  {
   "cell_type": "code",
   "execution_count": 376,
   "metadata": {
    "colab": {},
    "colab_type": "code",
    "id": "Dt5lPCa_byrx"
   },
   "outputs": [],
   "source": [
    "pcr_south=pcr_south[['location','total_tests']].dropna()"
   ]
  },
  {
   "cell_type": "code",
   "execution_count": 377,
   "metadata": {
    "colab": {},
    "colab_type": "code",
    "id": "T90C3DemdKTI"
   },
   "outputs": [],
   "source": [
    "pcr_north=pcr_north[['location','total_tests']].dropna()"
   ]
  },
  {
   "cell_type": "code",
   "execution_count": 386,
   "metadata": {
    "colab": {},
    "colab_type": "code",
    "id": "UmRQjtHqdRC9"
   },
   "outputs": [],
   "source": [
    "sum_south=pcr_south.groupby('location',observed=True).max().dropna()"
   ]
  },
  {
   "cell_type": "code",
   "execution_count": 387,
   "metadata": {
    "colab": {},
    "colab_type": "code",
    "id": "XPWlBpF9drO2"
   },
   "outputs": [],
   "source": [
    "sum_north=pcr_north.groupby('location',observed=True).max().dropna()"
   ]
  },
  {
   "cell_type": "code",
   "execution_count": 388,
   "metadata": {
    "colab": {
     "base_uri": "https://localhost:8080/",
     "height": 91
    },
    "colab_type": "code",
    "id": "OUtOrL6emQKP",
    "outputId": "1a9cd544-30a3-4446-fd9f-0ab2a6886181"
   },
   "outputs": [
    {
     "data": {
      "text/plain": [
       "CategoricalIndex(['Argentina', 'Bolivia', 'Brazil', 'Chile', 'Colombia',\n",
       "                  'Ecuador', 'Paraguay', 'Peru', 'Uruguay'],\n",
       "                 categories=['Afghanistan', 'Albania', 'Algeria', 'Andorra', 'Angola', 'Anguilla', 'Antigua and Barbuda', 'Argentina', ...], ordered=False, name='location', dtype='category')"
      ]
     },
     "execution_count": 388,
     "metadata": {
      "tags": []
     },
     "output_type": "execute_result"
    }
   ],
   "source": [
    "sum_south.index"
   ]
  },
  {
   "cell_type": "code",
   "execution_count": 381,
   "metadata": {
    "colab": {
     "base_uri": "https://localhost:8080/",
     "height": 325
    },
    "colab_type": "code",
    "id": "kNBfqPZReEMI",
    "outputId": "31abda03-9d11-400b-ba72-92cfe12171ca"
   },
   "outputs": [
    {
     "data": {
      "text/html": [
       "<div>\n",
       "<style scoped>\n",
       "    .dataframe tbody tr th:only-of-type {\n",
       "        vertical-align: middle;\n",
       "    }\n",
       "\n",
       "    .dataframe tbody tr th {\n",
       "        vertical-align: top;\n",
       "    }\n",
       "\n",
       "    .dataframe thead th {\n",
       "        text-align: right;\n",
       "    }\n",
       "</style>\n",
       "<table border=\"1\" class=\"dataframe\">\n",
       "  <thead>\n",
       "    <tr style=\"text-align: right;\">\n",
       "      <th></th>\n",
       "      <th>cases</th>\n",
       "      <th>total_tests</th>\n",
       "    </tr>\n",
       "  </thead>\n",
       "  <tbody>\n",
       "    <tr>\n",
       "      <th>Argentina</th>\n",
       "      <td>72773</td>\n",
       "      <td>381431.0</td>\n",
       "    </tr>\n",
       "    <tr>\n",
       "      <th>Bolivia</th>\n",
       "      <td>36818</td>\n",
       "      <td>77413.0</td>\n",
       "    </tr>\n",
       "    <tr>\n",
       "      <th>Brazil</th>\n",
       "      <td>1539081</td>\n",
       "      <td>1478671.0</td>\n",
       "    </tr>\n",
       "    <tr>\n",
       "      <th>Chile</th>\n",
       "      <td>288089</td>\n",
       "      <td>1131008.0</td>\n",
       "    </tr>\n",
       "    <tr>\n",
       "      <th>Colombia</th>\n",
       "      <td>109505</td>\n",
       "      <td>798108.0</td>\n",
       "    </tr>\n",
       "    <tr>\n",
       "      <th>Ecuador</th>\n",
       "      <td>60657</td>\n",
       "      <td>120346.0</td>\n",
       "    </tr>\n",
       "    <tr>\n",
       "      <th>Paraguay</th>\n",
       "      <td>2349</td>\n",
       "      <td>68027.0</td>\n",
       "    </tr>\n",
       "    <tr>\n",
       "      <th>Peru</th>\n",
       "      <td>295599</td>\n",
       "      <td>255999.0</td>\n",
       "    </tr>\n",
       "    <tr>\n",
       "      <th>Uruguay</th>\n",
       "      <td>952</td>\n",
       "      <td>68449.0</td>\n",
       "    </tr>\n",
       "  </tbody>\n",
       "</table>\n",
       "</div>"
      ],
      "text/plain": [
       "             cases  total_tests\n",
       "Argentina    72773     381431.0\n",
       "Bolivia      36818      77413.0\n",
       "Brazil     1539081    1478671.0\n",
       "Chile       288089    1131008.0\n",
       "Colombia    109505     798108.0\n",
       "Ecuador      60657     120346.0\n",
       "Paraguay      2349      68027.0\n",
       "Peru        295599     255999.0\n",
       "Uruguay        952      68449.0"
      ]
     },
     "execution_count": 381,
     "metadata": {
      "tags": []
     },
     "output_type": "execute_result"
    }
   ],
   "source": [
    "pd.merge(sum_america,sum_south, left_index=True, right_index=True)"
   ]
  },
  {
   "cell_type": "code",
   "execution_count": 382,
   "metadata": {
    "colab": {
     "base_uri": "https://localhost:8080/",
     "height": 171
    },
    "colab_type": "code",
    "id": "Q7qDse8Goi3w",
    "outputId": "07b3c719-3124-4cc4-9597-c25d5cdfda24"
   },
   "outputs": [
    {
     "data": {
      "text/html": [
       "<div>\n",
       "<style scoped>\n",
       "    .dataframe tbody tr th:only-of-type {\n",
       "        vertical-align: middle;\n",
       "    }\n",
       "\n",
       "    .dataframe tbody tr th {\n",
       "        vertical-align: top;\n",
       "    }\n",
       "\n",
       "    .dataframe thead th {\n",
       "        text-align: right;\n",
       "    }\n",
       "</style>\n",
       "<table border=\"1\" class=\"dataframe\">\n",
       "  <thead>\n",
       "    <tr style=\"text-align: right;\">\n",
       "      <th></th>\n",
       "      <th>cases</th>\n",
       "      <th>total_tests</th>\n",
       "    </tr>\n",
       "  </thead>\n",
       "  <tbody>\n",
       "    <tr>\n",
       "      <th>Canada</th>\n",
       "      <td>105079</td>\n",
       "      <td>2848168.0</td>\n",
       "    </tr>\n",
       "    <tr>\n",
       "      <th>Cuba</th>\n",
       "      <td>2361</td>\n",
       "      <td>178062.0</td>\n",
       "    </tr>\n",
       "    <tr>\n",
       "      <th>Mexico</th>\n",
       "      <td>245251</td>\n",
       "      <td>520421.0</td>\n",
       "    </tr>\n",
       "    <tr>\n",
       "      <th>Panama</th>\n",
       "      <td>35995</td>\n",
       "      <td>130556.0</td>\n",
       "    </tr>\n",
       "  </tbody>\n",
       "</table>\n",
       "</div>"
      ],
      "text/plain": [
       "         cases  total_tests\n",
       "Canada  105079    2848168.0\n",
       "Cuba      2361     178062.0\n",
       "Mexico  245251     520421.0\n",
       "Panama   35995     130556.0"
      ]
     },
     "execution_count": 382,
     "metadata": {
      "tags": []
     },
     "output_type": "execute_result"
    }
   ],
   "source": [
    "pd.merge(sum_america,sum_north, left_index=True, right_index=True)"
   ]
  },
  {
   "cell_type": "code",
   "execution_count": 384,
   "metadata": {
    "colab": {
     "base_uri": "https://localhost:8080/",
     "height": 91
    },
    "colab_type": "code",
    "id": "uOwpogvwqoTF",
    "outputId": "1b46014d-4df8-4057-c596-34d8cef6e7cb"
   },
   "outputs": [
    {
     "data": {
      "text/plain": [
       "CategoricalIndex(['Canada', 'Costa Rica', 'Cuba', 'El Salvador', 'Mexico',\n",
       "                  'Panama', 'United States'],\n",
       "                 categories=['Afghanistan', 'Albania', 'Algeria', 'Andorra', 'Angola', 'Anguilla', 'Antigua and Barbuda', 'Argentina', ...], ordered=False, name='location', dtype='category')"
      ]
     },
     "execution_count": 384,
     "metadata": {
      "tags": []
     },
     "output_type": "execute_result"
    }
   ],
   "source": [
    "sum_north.index"
   ]
  },
  {
   "cell_type": "code",
   "execution_count": 385,
   "metadata": {
    "colab": {
     "base_uri": "https://localhost:8080/",
     "height": 307
    },
    "colab_type": "code",
    "id": "pZS62WbiquL-",
    "outputId": "7c1dcb90-e362-4c1d-86d4-b1d9b4f05618"
   },
   "outputs": [
    {
     "data": {
      "text/plain": [
       "CategoricalIndex(['Anguilla', 'Antigua_and_Barbuda', 'Argentina', 'Aruba',\n",
       "                  'Bahamas', 'Barbados', 'Belize', 'Bermuda', 'Bolivia',\n",
       "                  'Bonaire, Saint Eustatius and Saba', 'Brazil',\n",
       "                  'British_Virgin_Islands', 'Canada', 'Cayman_Islands',\n",
       "                  'Chile', 'Colombia', 'Costa_Rica', 'Cuba', 'Curaçao',\n",
       "                  'Dominica', 'Dominican_Republic', 'Ecuador', 'El_Salvador',\n",
       "                  'Falkland_Islands_(Malvinas)', 'Greenland', 'Grenada',\n",
       "                  'Guatemala', 'Guyana', 'Haiti', 'Honduras', 'Jamaica',\n",
       "                  'Mexico', 'Montserrat', 'Nicaragua', 'Panama', 'Paraguay',\n",
       "                  'Peru', 'Puerto_Rico', 'Saint_Kitts_and_Nevis',\n",
       "                  'Saint_Lucia', 'Saint_Vincent_and_the_Grenadines',\n",
       "                  'Sint_Maarten', 'Suriname', 'Trinidad_and_Tobago',\n",
       "                  'Turks_and_Caicos_islands', 'United_States_Virgin_Islands',\n",
       "                  'United_States_of_America', 'Uruguay', 'Venezuela'],\n",
       "                 categories=['Afghanistan', 'Albania', 'Algeria', 'Andorra', 'Angola', 'Anguilla', 'Antigua_and_Barbuda', 'Argentina', ...], ordered=False, name='countriesAndTerritories', dtype='category')"
      ]
     },
     "execution_count": 385,
     "metadata": {
      "tags": []
     },
     "output_type": "execute_result"
    }
   ],
   "source": [
    "sum_america.index"
   ]
  }
 ],
 "metadata": {
  "colab": {
   "name": "1.-analisis_exploratorio.ipynb",
   "provenance": []
  },
  "kernelspec": {
   "display_name": "Python 3",
   "language": "python",
   "name": "python3"
  },
  "language_info": {
   "codemirror_mode": {
    "name": "ipython",
    "version": 3
   },
   "file_extension": ".py",
   "mimetype": "text/x-python",
   "name": "python",
   "nbconvert_exporter": "python",
   "pygments_lexer": "ipython3",
   "version": "3.6.9"
  }
 },
 "nbformat": 4,
 "nbformat_minor": 1
}
