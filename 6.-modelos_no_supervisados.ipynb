{
  "nbformat": 4,
  "nbformat_minor": 0,
  "metadata": {
    "kernelspec": {
      "display_name": "Python 3",
      "language": "python",
      "name": "python3"
    },
    "language_info": {
      "codemirror_mode": {
        "name": "ipython",
        "version": 3
      },
      "file_extension": ".py",
      "mimetype": "text/x-python",
      "name": "python",
      "nbconvert_exporter": "python",
      "pygments_lexer": "ipython3",
      "version": "3.6.9"
    },
    "colab": {
      "name": "6.-modelos_no_supervisados.ipynb",
      "provenance": []
    }
  },
  "cells": [
    {
      "cell_type": "markdown",
      "metadata": {
        "id": "Xhb_3AVfJHjN",
        "colab_type": "text"
      },
      "source": [
        "# Modelos No Supervisados"
      ]
    },
    {
      "cell_type": "code",
      "metadata": {
        "id": "qxVoR0nqJHjO",
        "colab_type": "code",
        "colab": {}
      },
      "source": [
        "from sklearn.datasets import load_iris\n",
        "from sklearn import tree\n",
        "\n",
        "from sklearn.model_selection import train_test_split\n",
        "\n",
        "iris = load_iris()\n",
        "\n",
        "X_train, X_test, y_train, y_test = train_test_split(iris.data, iris.target, test_size=0.3, random_state=0)"
      ],
      "execution_count": 13,
      "outputs": []
    },
    {
      "cell_type": "code",
      "metadata": {
        "id": "QsO8hxIjJHjT",
        "colab_type": "code",
        "colab": {
          "base_uri": "https://localhost:8080/",
          "height": 35
        },
        "outputId": "2497d281-e1f6-4611-f2a3-f7a2a0c66ea6"
      },
      "source": [
        "iris.keys()"
      ],
      "execution_count": 14,
      "outputs": [
        {
          "output_type": "execute_result",
          "data": {
            "text/plain": [
              "dict_keys(['data', 'target', 'target_names', 'DESCR', 'feature_names', 'filename'])"
            ]
          },
          "metadata": {
            "tags": []
          },
          "execution_count": 14
        }
      ]
    },
    {
      "cell_type": "code",
      "metadata": {
        "id": "neb6oTpvJHjY",
        "colab_type": "code",
        "colab": {}
      },
      "source": [
        "from sklearn.cluster import KMeans\n",
        "\n",
        "k = 3\n",
        "kmeans = KMeans(n_clusters=k,init='k-means++').fit(X_train)\n",
        "y_pred = kmeans.predict(X_test)"
      ],
      "execution_count": 35,
      "outputs": []
    },
    {
      "cell_type": "code",
      "metadata": {
        "id": "rSSXfIoVJHjc",
        "colab_type": "code",
        "colab": {
          "base_uri": "https://localhost:8080/",
          "height": 171
        },
        "outputId": "5075b799-3018-4a80-e4dd-8cf9481e574a"
      },
      "source": [
        "import pandas as pd\n",
        "\n",
        "pd.crosstab(y_test,y_pred,rownames=['true values'],colnames=['cluster values'])"
      ],
      "execution_count": 36,
      "outputs": [
        {
          "output_type": "execute_result",
          "data": {
            "text/html": [
              "<div>\n",
              "<style scoped>\n",
              "    .dataframe tbody tr th:only-of-type {\n",
              "        vertical-align: middle;\n",
              "    }\n",
              "\n",
              "    .dataframe tbody tr th {\n",
              "        vertical-align: top;\n",
              "    }\n",
              "\n",
              "    .dataframe thead th {\n",
              "        text-align: right;\n",
              "    }\n",
              "</style>\n",
              "<table border=\"1\" class=\"dataframe\">\n",
              "  <thead>\n",
              "    <tr style=\"text-align: right;\">\n",
              "      <th>cluster values</th>\n",
              "      <th>0</th>\n",
              "      <th>1</th>\n",
              "      <th>2</th>\n",
              "    </tr>\n",
              "    <tr>\n",
              "      <th>true values</th>\n",
              "      <th></th>\n",
              "      <th></th>\n",
              "      <th></th>\n",
              "    </tr>\n",
              "  </thead>\n",
              "  <tbody>\n",
              "    <tr>\n",
              "      <th>0</th>\n",
              "      <td>16</td>\n",
              "      <td>0</td>\n",
              "      <td>0</td>\n",
              "    </tr>\n",
              "    <tr>\n",
              "      <th>1</th>\n",
              "      <td>0</td>\n",
              "      <td>0</td>\n",
              "      <td>18</td>\n",
              "    </tr>\n",
              "    <tr>\n",
              "      <th>2</th>\n",
              "      <td>0</td>\n",
              "      <td>7</td>\n",
              "      <td>4</td>\n",
              "    </tr>\n",
              "  </tbody>\n",
              "</table>\n",
              "</div>"
            ],
            "text/plain": [
              "cluster values   0  1   2\n",
              "true values              \n",
              "0               16  0   0\n",
              "1                0  0  18\n",
              "2                0  7   4"
            ]
          },
          "metadata": {
            "tags": []
          },
          "execution_count": 36
        }
      ]
    },
    {
      "cell_type": "code",
      "metadata": {
        "id": "-hUSQQq5JHjg",
        "colab_type": "code",
        "colab": {
          "base_uri": "https://localhost:8080/",
          "height": 71
        },
        "outputId": "13ecd16f-9618-47a5-8f9a-14e647f8ea72"
      },
      "source": [
        "from scipy.optimize import linear_sum_assignment\n",
        "\n",
        "cost = -1.0*pd.crosstab(y_test,y_pred)\n",
        "row_ind, col_ind = linear_sum_assignment(cost)\n",
        "\n",
        "for i,j in enumerate(col_ind):\n",
        "    print('Cluster Label : {0}, True Label : {1}'.format(i,j))"
      ],
      "execution_count": 25,
      "outputs": [
        {
          "output_type": "stream",
          "text": [
            "Cluster Label : 0, True Label : 1\n",
            "Cluster Label : 1, True Label : 0\n",
            "Cluster Label : 2, True Label : 2\n"
          ],
          "name": "stdout"
        }
      ]
    },
    {
      "cell_type": "code",
      "metadata": {
        "id": "UER_9REIJHjl",
        "colab_type": "code",
        "colab": {
          "base_uri": "https://localhost:8080/",
          "height": 35
        },
        "outputId": "ee7a872d-1256-4c42-9b8a-24dc4cec69d9"
      },
      "source": [
        "print(col_ind)"
      ],
      "execution_count": 20,
      "outputs": [
        {
          "output_type": "stream",
          "text": [
            "[2 0 1]\n"
          ],
          "name": "stdout"
        }
      ]
    },
    {
      "cell_type": "code",
      "metadata": {
        "id": "CcQ70zNUJHjp",
        "colab_type": "code",
        "colab": {}
      },
      "source": [
        "from sklearn.metrics import davies_bouldin_score,silhouette_score\n",
        "\n",
        "num_clusters=range(2,10)\n",
        "ind_1=list()\n",
        "ind_2=list()\n",
        "for k in num_clusters:\n",
        "    kmeans = KMeans(n_clusters=k,init='random').fit(X_train)\n",
        "    labels = kmeans.labels_\n",
        "    ind_1.append(davies_bouldin_score(X_train, labels))\n",
        "    ind_2.append(silhouette_score(X_train, labels))\n",
        "results=pd.DataFrame({'num_clusters':num_clusters,\n",
        "                      'Davies-Bouldin':ind_1,\n",
        "                      'Silhouette':ind_2})"
      ],
      "execution_count": 38,
      "outputs": []
    },
    {
      "cell_type": "code",
      "metadata": {
        "id": "og1kuEBeJHjt",
        "colab_type": "code",
        "colab": {
          "base_uri": "https://localhost:8080/",
          "height": 283
        },
        "outputId": "fda796a9-181a-4de0-a99e-6f0ce9a2b9f7"
      },
      "source": [
        "import matplotlib.pyplot as plt \n",
        "\n",
        "results.plot(x='num_clusters')\n",
        "plt.show()"
      ],
      "execution_count": 39,
      "outputs": [
        {
          "output_type": "display_data",
          "data": {
            "image/png": "[encoded data removed]",
            "text/plain": [
              "<Figure size 432x288 with 1 Axes>"
            ]
          },
          "metadata": {
            "tags": [],
            "needs_background": "light"
          }
        }
      ]
    },
    {
      "cell_type": "code",
      "metadata": {
        "id": "zo6t1HBpJHjx",
        "colab_type": "code",
        "colab": {
          "base_uri": "https://localhost:8080/",
          "height": 280
        },
        "outputId": "33160a8a-f322-48f2-ada0-bf55d61e4d19"
      },
      "source": [
        "ind_3=list()\n",
        "for k in num_clusters:\n",
        "    kmeans = KMeans(n_clusters=k,init='random').fit(X_train)\n",
        "    labels = kmeans.labels_\n",
        "    ind_3.append(kmeans.inertia_)\n",
        "results=pd.DataFrame({'num_clusters':num_clusters,\n",
        "                     'Inertia':ind_3})\n",
        "results.plot(x='num_clusters')\n",
        "plt.show()"
      ],
      "execution_count": 40,
      "outputs": [
        {
          "output_type": "display_data",
          "data": {
            "image/png": "[encoded data removed]",
            "text/plain": [
              "<Figure size 432x288 with 1 Axes>"
            ]
          },
          "metadata": {
            "tags": [],
            "needs_background": "light"
          }
        }
      ]
    },
    {
      "cell_type": "code",
      "metadata": {
        "id": "RG0cbl1pJHj1",
        "colab_type": "code",
        "colab": {}
      },
      "source": [
        "from sklearn.mixture import GaussianMixture\n",
        "\n",
        "gm = GaussianMixture(n_components=3,covariance_type='full', n_init=10,random_state=0)\n",
        "gm.fit(X_train)\n",
        "y_pred=gm.predict(X_test)"
      ],
      "execution_count": 69,
      "outputs": []
    },
    {
      "cell_type": "code",
      "metadata": {
        "id": "oxvi9HklJHj6",
        "colab_type": "code",
        "colab": {
          "base_uri": "https://localhost:8080/",
          "height": 171
        },
        "outputId": "3a1a67f8-8824-4ad7-c23d-81148580235c"
      },
      "source": [
        "pd.crosstab(y_test,y_pred,rownames=['true values'],colnames=['EM labels'])"
      ],
      "execution_count": 70,
      "outputs": [
        {
          "output_type": "execute_result",
          "data": {
            "text/html": [
              "<div>\n",
              "<style scoped>\n",
              "    .dataframe tbody tr th:only-of-type {\n",
              "        vertical-align: middle;\n",
              "    }\n",
              "\n",
              "    .dataframe tbody tr th {\n",
              "        vertical-align: top;\n",
              "    }\n",
              "\n",
              "    .dataframe thead th {\n",
              "        text-align: right;\n",
              "    }\n",
              "</style>\n",
              "<table border=\"1\" class=\"dataframe\">\n",
              "  <thead>\n",
              "    <tr style=\"text-align: right;\">\n",
              "      <th>EM labels</th>\n",
              "      <th>0</th>\n",
              "      <th>1</th>\n",
              "      <th>2</th>\n",
              "    </tr>\n",
              "    <tr>\n",
              "      <th>true values</th>\n",
              "      <th></th>\n",
              "      <th></th>\n",
              "      <th></th>\n",
              "    </tr>\n",
              "  </thead>\n",
              "  <tbody>\n",
              "    <tr>\n",
              "      <th>0</th>\n",
              "      <td>16</td>\n",
              "      <td>0</td>\n",
              "      <td>0</td>\n",
              "    </tr>\n",
              "    <tr>\n",
              "      <th>1</th>\n",
              "      <td>0</td>\n",
              "      <td>0</td>\n",
              "      <td>18</td>\n",
              "    </tr>\n",
              "    <tr>\n",
              "      <th>2</th>\n",
              "      <td>0</td>\n",
              "      <td>9</td>\n",
              "      <td>2</td>\n",
              "    </tr>\n",
              "  </tbody>\n",
              "</table>\n",
              "</div>"
            ],
            "text/plain": [
              "EM labels     0  1   2\n",
              "true values           \n",
              "0            16  0   0\n",
              "1             0  0  18\n",
              "2             0  9   2"
            ]
          },
          "metadata": {
            "tags": []
          },
          "execution_count": 70
        }
      ]
    },
    {
      "cell_type": "code",
      "metadata": {
        "id": "yjeA3fiFJHj-",
        "colab_type": "code",
        "colab": {
          "base_uri": "https://localhost:8080/",
          "height": 71
        },
        "outputId": "5e0ed88b-3147-40d1-9834-9c08e0b49b88"
      },
      "source": [
        "cost = -1.0*pd.crosstab(y_test,y_pred)\n",
        "row_ind, col_ind = linear_sum_assignment(cost)\n",
        "for i,j in enumerate(col_ind):\n",
        "    print('Cluster Label : {0}, True Label : {1}'.format(i,j))"
      ],
      "execution_count": 71,
      "outputs": [
        {
          "output_type": "stream",
          "text": [
            "Cluster Label : 0, True Label : 0\n",
            "Cluster Label : 1, True Label : 2\n",
            "Cluster Label : 2, True Label : 1\n"
          ],
          "name": "stdout"
        }
      ]
    },
    {
      "cell_type": "code",
      "metadata": {
        "id": "6ehfXehkJHkB",
        "colab_type": "code",
        "colab": {
          "base_uri": "https://localhost:8080/",
          "height": 161
        },
        "outputId": "99eec445-f8c6-42fc-cbc6-e748f5d88b9a"
      },
      "source": [
        "from sklearn.mixture import BayesianGaussianMixture\n",
        "\n",
        "bgm = BayesianGaussianMixture(n_components=10, n_init=10, random_state=42)\n",
        "bgm.fit(X_train)"
      ],
      "execution_count": 72,
      "outputs": [
        {
          "output_type": "execute_result",
          "data": {
            "text/plain": [
              "BayesianGaussianMixture(covariance_prior=None, covariance_type='full',\n",
              "                        degrees_of_freedom_prior=None, init_params='kmeans',\n",
              "                        max_iter=100, mean_precision_prior=None,\n",
              "                        mean_prior=None, n_components=10, n_init=10,\n",
              "                        random_state=42, reg_covar=1e-06, tol=0.001, verbose=0,\n",
              "                        verbose_interval=10, warm_start=False,\n",
              "                        weight_concentration_prior=None,\n",
              "                        weight_concentration_prior_type='dirichlet_process')"
            ]
          },
          "metadata": {
            "tags": []
          },
          "execution_count": 72
        }
      ]
    },
    {
      "cell_type": "code",
      "metadata": {
        "id": "NzhjWnvmJHkF",
        "colab_type": "code",
        "colab": {
          "base_uri": "https://localhost:8080/",
          "height": 35
        },
        "outputId": "dc01e698-f27b-4081-dd6a-47e95308f48d"
      },
      "source": [
        "import numpy as np\n",
        "\n",
        "print(\"BGM active components: %d\" % np.sum(bgm.weights_ > 0.01))"
      ],
      "execution_count": 73,
      "outputs": [
        {
          "output_type": "stream",
          "text": [
            "BGM active components: 3\n"
          ],
          "name": "stdout"
        }
      ]
    },
    {
      "cell_type": "markdown",
      "metadata": {
        "id": "xQHCs_VgJHkI",
        "colab_type": "text"
      },
      "source": [
        "# Tarea \n",
        "\n",
        "En este laboratorio Ud debe completar las siguientes tareas:\n",
        "\n",
        "\n",
        "1.  Implementar un modelo base no supervisado para las tasas de movilidad de los paises.\n",
        "2.  Reportar la metrica de ajuste del modelo base.\n",
        "3.  Reportar la metrica de ajuste del modelo variando el numero de clusters."
      ]
    },
    {
      "cell_type": "code",
      "metadata": {
        "id": "uP7SViQVJHkJ",
        "colab_type": "code",
        "colab": {
          "base_uri": "https://localhost:8080/",
          "height": 35
        },
        "outputId": "da069ddd-8ed6-47c2-9fb3-afb1ac8f1b14"
      },
      "source": [
        "try:\n",
        "    %tensorflow_version 2.x\n",
        "    COLAB = True\n",
        "    print(\"Note: using Google CoLab\")\n",
        "except:\n",
        "    print(\"Note: not using Google CoLab\")\n",
        "    COLAB = False"
      ],
      "execution_count": 74,
      "outputs": [
        {
          "output_type": "stream",
          "text": [
            "Note: using Google CoLab\n"
          ],
          "name": "stdout"
        }
      ]
    },
    {
      "cell_type": "code",
      "metadata": {
        "id": "dOU_rNWNJHkM",
        "colab_type": "code",
        "colab": {
          "base_uri": "https://localhost:8080/",
          "height": 73
        },
        "outputId": "90d8151a-4e4f-456c-a9fd-976451bef15d"
      },
      "source": [
        "import pandas as pd\n",
        "\n",
        "\n",
        "def get_mobility_data(download=False):\n",
        "    if download:\n",
        "        data=pd.read_csv('https://www.gstatic.com/covid19/mobility/Global_Mobility_Report.csv?cachebust=5a11e4fc1b8138c6')\n",
        "        #data.to_csv('data/mobility_data.csv',index=False)\n",
        "    else:\n",
        "        data=pd.read_csv('data/mobility_data.csv', low_memory=False)\n",
        "    return data\n",
        "\n",
        "mobility_report=get_mobility_data(COLAB)"
      ],
      "execution_count": 75,
      "outputs": [
        {
          "output_type": "stream",
          "text": [
            "/usr/local/lib/python3.6/dist-packages/IPython/core/interactiveshell.py:2822: DtypeWarning: Columns (4) have mixed types.Specify dtype option on import or set low_memory=False.\n",
            "  if self.run_code(code, result):\n"
          ],
          "name": "stderr"
        }
      ]
    },
    {
      "cell_type": "code",
      "metadata": {
        "id": "5wjV8vo3JHkP",
        "colab_type": "code",
        "colab": {
          "base_uri": "https://localhost:8080/",
          "height": 309
        },
        "outputId": "0b751f75-7850-4f23-d86d-8215d7c1246f"
      },
      "source": [
        "mobility_report.head()"
      ],
      "execution_count": 76,
      "outputs": [
        {
          "output_type": "execute_result",
          "data": {
            "text/html": [
              "<div>\n",
              "<style scoped>\n",
              "    .dataframe tbody tr th:only-of-type {\n",
              "        vertical-align: middle;\n",
              "    }\n",
              "\n",
              "    .dataframe tbody tr th {\n",
              "        vertical-align: top;\n",
              "    }\n",
              "\n",
              "    .dataframe thead th {\n",
              "        text-align: right;\n",
              "    }\n",
              "</style>\n",
              "<table border=\"1\" class=\"dataframe\">\n",
              "  <thead>\n",
              "    <tr style=\"text-align: right;\">\n",
              "      <th></th>\n",
              "      <th>country_region_code</th>\n",
              "      <th>country_region</th>\n",
              "      <th>sub_region_1</th>\n",
              "      <th>sub_region_2</th>\n",
              "      <th>metro_area</th>\n",
              "      <th>iso_3166_2_code</th>\n",
              "      <th>census_fips_code</th>\n",
              "      <th>date</th>\n",
              "      <th>retail_and_recreation_percent_change_from_baseline</th>\n",
              "      <th>grocery_and_pharmacy_percent_change_from_baseline</th>\n",
              "      <th>parks_percent_change_from_baseline</th>\n",
              "      <th>transit_stations_percent_change_from_baseline</th>\n",
              "      <th>workplaces_percent_change_from_baseline</th>\n",
              "      <th>residential_percent_change_from_baseline</th>\n",
              "    </tr>\n",
              "  </thead>\n",
              "  <tbody>\n",
              "    <tr>\n",
              "      <th>0</th>\n",
              "      <td>AE</td>\n",
              "      <td>United Arab Emirates</td>\n",
              "      <td>NaN</td>\n",
              "      <td>NaN</td>\n",
              "      <td>NaN</td>\n",
              "      <td>NaN</td>\n",
              "      <td>NaN</td>\n",
              "      <td>2020-02-15</td>\n",
              "      <td>0.0</td>\n",
              "      <td>4.0</td>\n",
              "      <td>5.0</td>\n",
              "      <td>0.0</td>\n",
              "      <td>2.0</td>\n",
              "      <td>1.0</td>\n",
              "    </tr>\n",
              "    <tr>\n",
              "      <th>1</th>\n",
              "      <td>AE</td>\n",
              "      <td>United Arab Emirates</td>\n",
              "      <td>NaN</td>\n",
              "      <td>NaN</td>\n",
              "      <td>NaN</td>\n",
              "      <td>NaN</td>\n",
              "      <td>NaN</td>\n",
              "      <td>2020-02-16</td>\n",
              "      <td>1.0</td>\n",
              "      <td>4.0</td>\n",
              "      <td>4.0</td>\n",
              "      <td>1.0</td>\n",
              "      <td>2.0</td>\n",
              "      <td>1.0</td>\n",
              "    </tr>\n",
              "    <tr>\n",
              "      <th>2</th>\n",
              "      <td>AE</td>\n",
              "      <td>United Arab Emirates</td>\n",
              "      <td>NaN</td>\n",
              "      <td>NaN</td>\n",
              "      <td>NaN</td>\n",
              "      <td>NaN</td>\n",
              "      <td>NaN</td>\n",
              "      <td>2020-02-17</td>\n",
              "      <td>-1.0</td>\n",
              "      <td>1.0</td>\n",
              "      <td>5.0</td>\n",
              "      <td>1.0</td>\n",
              "      <td>2.0</td>\n",
              "      <td>1.0</td>\n",
              "    </tr>\n",
              "    <tr>\n",
              "      <th>3</th>\n",
              "      <td>AE</td>\n",
              "      <td>United Arab Emirates</td>\n",
              "      <td>NaN</td>\n",
              "      <td>NaN</td>\n",
              "      <td>NaN</td>\n",
              "      <td>NaN</td>\n",
              "      <td>NaN</td>\n",
              "      <td>2020-02-18</td>\n",
              "      <td>-2.0</td>\n",
              "      <td>1.0</td>\n",
              "      <td>5.0</td>\n",
              "      <td>0.0</td>\n",
              "      <td>2.0</td>\n",
              "      <td>1.0</td>\n",
              "    </tr>\n",
              "    <tr>\n",
              "      <th>4</th>\n",
              "      <td>AE</td>\n",
              "      <td>United Arab Emirates</td>\n",
              "      <td>NaN</td>\n",
              "      <td>NaN</td>\n",
              "      <td>NaN</td>\n",
              "      <td>NaN</td>\n",
              "      <td>NaN</td>\n",
              "      <td>2020-02-19</td>\n",
              "      <td>-2.0</td>\n",
              "      <td>0.0</td>\n",
              "      <td>4.0</td>\n",
              "      <td>-1.0</td>\n",
              "      <td>2.0</td>\n",
              "      <td>1.0</td>\n",
              "    </tr>\n",
              "  </tbody>\n",
              "</table>\n",
              "</div>"
            ],
            "text/plain": [
              "  country_region_code  ... residential_percent_change_from_baseline\n",
              "0                  AE  ...                                      1.0\n",
              "1                  AE  ...                                      1.0\n",
              "2                  AE  ...                                      1.0\n",
              "3                  AE  ...                                      1.0\n",
              "4                  AE  ...                                      1.0\n",
              "\n",
              "[5 rows x 14 columns]"
            ]
          },
          "metadata": {
            "tags": []
          },
          "execution_count": 76
        }
      ]
    },
    {
      "cell_type": "code",
      "metadata": {
        "id": "0cKNNuAYJHkT",
        "colab_type": "code",
        "colab": {}
      },
      "source": [
        "mobility_report['date']=pd.to_datetime(mobility_report['date'],format='%Y/%m/%d')\n",
        "mobility_report['country_region_code'] = mobility_report['country_region_code'].astype('category')\n",
        "mobility_report['country_region'] = mobility_report['country_region'].astype('category')\n",
        "mobility_report['iso_3166_2_code'] = mobility_report['iso_3166_2_code'].astype('category')\n",
        "mobility_report.drop(['sub_region_1','sub_region_2','census_fips_code','iso_3166_2_code','metro_area'],axis=1,inplace=True)"
      ],
      "execution_count": 77,
      "outputs": []
    },
    {
      "cell_type": "code",
      "metadata": {
        "id": "rQeQyoJBJHkW",
        "colab_type": "code",
        "colab": {
          "base_uri": "https://localhost:8080/",
          "height": 197
        },
        "outputId": "949a55b1-6a32-412a-d6a4-104287cc31cc"
      },
      "source": [
        "mobility_report.dtypes"
      ],
      "execution_count": 78,
      "outputs": [
        {
          "output_type": "execute_result",
          "data": {
            "text/plain": [
              "country_region_code                                         category\n",
              "country_region                                              category\n",
              "date                                                  datetime64[ns]\n",
              "retail_and_recreation_percent_change_from_baseline           float64\n",
              "grocery_and_pharmacy_percent_change_from_baseline            float64\n",
              "parks_percent_change_from_baseline                           float64\n",
              "transit_stations_percent_change_from_baseline                float64\n",
              "workplaces_percent_change_from_baseline                      float64\n",
              "residential_percent_change_from_baseline                     float64\n",
              "dtype: object"
            ]
          },
          "metadata": {
            "tags": []
          },
          "execution_count": 78
        }
      ]
    },
    {
      "cell_type": "code",
      "metadata": {
        "id": "OT5fP0FlJHkZ",
        "colab_type": "code",
        "colab": {}
      },
      "source": [
        "grouped_df=mobility_report.groupby(['country_region'])"
      ],
      "execution_count": 79,
      "outputs": []
    },
    {
      "cell_type": "code",
      "metadata": {
        "id": "oXeJN7brJHkc",
        "colab_type": "code",
        "colab": {}
      },
      "source": [
        "df_country=grouped_df.median()"
      ],
      "execution_count": 81,
      "outputs": []
    },
    {
      "cell_type": "code",
      "metadata": {
        "id": "1LRAUtqYJHkf",
        "colab_type": "code",
        "colab": {
          "base_uri": "https://localhost:8080/",
          "height": 143
        },
        "outputId": "ca0f4f8a-f484-4721-fdd6-fe713681c403"
      },
      "source": [
        "df_country.isna().sum()"
      ],
      "execution_count": 82,
      "outputs": [
        {
          "output_type": "execute_result",
          "data": {
            "text/plain": [
              "retail_and_recreation_percent_change_from_baseline    0\n",
              "grocery_and_pharmacy_percent_change_from_baseline     0\n",
              "parks_percent_change_from_baseline                    1\n",
              "transit_stations_percent_change_from_baseline         1\n",
              "workplaces_percent_change_from_baseline               0\n",
              "residential_percent_change_from_baseline              3\n",
              "dtype: int64"
            ]
          },
          "metadata": {
            "tags": []
          },
          "execution_count": 82
        }
      ]
    },
    {
      "cell_type": "code",
      "metadata": {
        "id": "1aDAv3URKBGO",
        "colab_type": "code",
        "colab": {}
      },
      "source": [
        "df_country.fillna(method='ffill',inplace=True)"
      ],
      "execution_count": 83,
      "outputs": []
    },
    {
      "cell_type": "code",
      "metadata": {
        "id": "JHormCZbKHnP",
        "colab_type": "code",
        "colab": {
          "base_uri": "https://localhost:8080/",
          "height": 143
        },
        "outputId": "3423e456-a2b0-4b06-9dd0-f351c9af0d2a"
      },
      "source": [
        "df_country.isna().sum()"
      ],
      "execution_count": 84,
      "outputs": [
        {
          "output_type": "execute_result",
          "data": {
            "text/plain": [
              "retail_and_recreation_percent_change_from_baseline    0\n",
              "grocery_and_pharmacy_percent_change_from_baseline     0\n",
              "parks_percent_change_from_baseline                    0\n",
              "transit_stations_percent_change_from_baseline         0\n",
              "workplaces_percent_change_from_baseline               0\n",
              "residential_percent_change_from_baseline              0\n",
              "dtype: int64"
            ]
          },
          "metadata": {
            "tags": []
          },
          "execution_count": 84
        }
      ]
    },
    {
      "cell_type": "code",
      "metadata": {
        "id": "uOFwupZKsyMu",
        "colab_type": "code",
        "colab": {
          "base_uri": "https://localhost:8080/",
          "height": 483
        },
        "outputId": "88616f68-007d-4a23-e586-80a8b72b473f"
      },
      "source": [
        "df_country"
      ],
      "execution_count": 85,
      "outputs": [
        {
          "output_type": "execute_result",
          "data": {
            "text/html": [
              "<div>\n",
              "<style scoped>\n",
              "    .dataframe tbody tr th:only-of-type {\n",
              "        vertical-align: middle;\n",
              "    }\n",
              "\n",
              "    .dataframe tbody tr th {\n",
              "        vertical-align: top;\n",
              "    }\n",
              "\n",
              "    .dataframe thead th {\n",
              "        text-align: right;\n",
              "    }\n",
              "</style>\n",
              "<table border=\"1\" class=\"dataframe\">\n",
              "  <thead>\n",
              "    <tr style=\"text-align: right;\">\n",
              "      <th></th>\n",
              "      <th>retail_and_recreation_percent_change_from_baseline</th>\n",
              "      <th>grocery_and_pharmacy_percent_change_from_baseline</th>\n",
              "      <th>parks_percent_change_from_baseline</th>\n",
              "      <th>transit_stations_percent_change_from_baseline</th>\n",
              "      <th>workplaces_percent_change_from_baseline</th>\n",
              "      <th>residential_percent_change_from_baseline</th>\n",
              "    </tr>\n",
              "    <tr>\n",
              "      <th>country_region</th>\n",
              "      <th></th>\n",
              "      <th></th>\n",
              "      <th></th>\n",
              "      <th></th>\n",
              "      <th></th>\n",
              "      <th></th>\n",
              "    </tr>\n",
              "  </thead>\n",
              "  <tbody>\n",
              "    <tr>\n",
              "      <th>Afghanistan</th>\n",
              "      <td>-16.5</td>\n",
              "      <td>0.0</td>\n",
              "      <td>-6.0</td>\n",
              "      <td>-16.0</td>\n",
              "      <td>-18.0</td>\n",
              "      <td>8.0</td>\n",
              "    </tr>\n",
              "    <tr>\n",
              "      <th>Angola</th>\n",
              "      <td>-22.0</td>\n",
              "      <td>-9.0</td>\n",
              "      <td>-22.0</td>\n",
              "      <td>-46.0</td>\n",
              "      <td>-5.0</td>\n",
              "      <td>15.0</td>\n",
              "    </tr>\n",
              "    <tr>\n",
              "      <th>Antigua and Barbuda</th>\n",
              "      <td>-29.0</td>\n",
              "      <td>-18.5</td>\n",
              "      <td>-14.0</td>\n",
              "      <td>-51.0</td>\n",
              "      <td>-35.0</td>\n",
              "      <td>17.0</td>\n",
              "    </tr>\n",
              "    <tr>\n",
              "      <th>Argentina</th>\n",
              "      <td>-63.0</td>\n",
              "      <td>-17.0</td>\n",
              "      <td>-77.0</td>\n",
              "      <td>-60.0</td>\n",
              "      <td>-17.0</td>\n",
              "      <td>16.0</td>\n",
              "    </tr>\n",
              "    <tr>\n",
              "      <th>Aruba</th>\n",
              "      <td>-31.5</td>\n",
              "      <td>-8.0</td>\n",
              "      <td>-18.5</td>\n",
              "      <td>-48.0</td>\n",
              "      <td>-27.0</td>\n",
              "      <td>12.0</td>\n",
              "    </tr>\n",
              "    <tr>\n",
              "      <th>...</th>\n",
              "      <td>...</td>\n",
              "      <td>...</td>\n",
              "      <td>...</td>\n",
              "      <td>...</td>\n",
              "      <td>...</td>\n",
              "      <td>...</td>\n",
              "    </tr>\n",
              "    <tr>\n",
              "      <th>Venezuela</th>\n",
              "      <td>-45.0</td>\n",
              "      <td>-24.0</td>\n",
              "      <td>-41.0</td>\n",
              "      <td>-49.0</td>\n",
              "      <td>-31.5</td>\n",
              "      <td>16.0</td>\n",
              "    </tr>\n",
              "    <tr>\n",
              "      <th>Vietnam</th>\n",
              "      <td>-17.0</td>\n",
              "      <td>-6.0</td>\n",
              "      <td>-19.0</td>\n",
              "      <td>-15.0</td>\n",
              "      <td>3.0</td>\n",
              "      <td>5.0</td>\n",
              "    </tr>\n",
              "    <tr>\n",
              "      <th>Yemen</th>\n",
              "      <td>-4.0</td>\n",
              "      <td>2.0</td>\n",
              "      <td>-6.0</td>\n",
              "      <td>-5.5</td>\n",
              "      <td>-6.0</td>\n",
              "      <td>5.0</td>\n",
              "    </tr>\n",
              "    <tr>\n",
              "      <th>Zambia</th>\n",
              "      <td>-6.0</td>\n",
              "      <td>-3.0</td>\n",
              "      <td>0.0</td>\n",
              "      <td>-10.0</td>\n",
              "      <td>-4.0</td>\n",
              "      <td>11.0</td>\n",
              "    </tr>\n",
              "    <tr>\n",
              "      <th>Zimbabwe</th>\n",
              "      <td>-25.0</td>\n",
              "      <td>-9.0</td>\n",
              "      <td>-23.0</td>\n",
              "      <td>-41.0</td>\n",
              "      <td>-12.0</td>\n",
              "      <td>22.0</td>\n",
              "    </tr>\n",
              "  </tbody>\n",
              "</table>\n",
              "<p>135 rows × 6 columns</p>\n",
              "</div>"
            ],
            "text/plain": [
              "                     retail_and_recreation_percent_change_from_baseline  ...  residential_percent_change_from_baseline\n",
              "country_region                                                           ...                                          \n",
              "Afghanistan                                                      -16.5   ...                                       8.0\n",
              "Angola                                                           -22.0   ...                                      15.0\n",
              "Antigua and Barbuda                                              -29.0   ...                                      17.0\n",
              "Argentina                                                        -63.0   ...                                      16.0\n",
              "Aruba                                                            -31.5   ...                                      12.0\n",
              "...                                                                ...   ...                                       ...\n",
              "Venezuela                                                        -45.0   ...                                      16.0\n",
              "Vietnam                                                          -17.0   ...                                       5.0\n",
              "Yemen                                                             -4.0   ...                                       5.0\n",
              "Zambia                                                            -6.0   ...                                      11.0\n",
              "Zimbabwe                                                         -25.0   ...                                      22.0\n",
              "\n",
              "[135 rows x 6 columns]"
            ]
          },
          "metadata": {
            "tags": []
          },
          "execution_count": 85
        }
      ]
    },
    {
      "cell_type": "code",
      "metadata": {
        "id": "ngf9udy5s_1x",
        "colab_type": "code",
        "colab": {
          "base_uri": "https://localhost:8080/",
          "height": 280
        },
        "outputId": "93c97096-ef58-4e34-d9f3-35b8da726b5b"
      },
      "source": [
        "X=df_country.values\n",
        "num_clusters=range(2,15)\n",
        "ind_3=list()\n",
        "for k in num_clusters:\n",
        "    kmeans = KMeans(n_clusters=k).fit(X)\n",
        "    labels = kmeans.labels_\n",
        "    ind_3.append(kmeans.inertia_)\n",
        "results=pd.DataFrame({'num_clusters':num_clusters,\n",
        "                     'Inertia':ind_3})\n",
        "results.plot(x='num_clusters')\n",
        "plt.show()"
      ],
      "execution_count": 154,
      "outputs": [
        {
          "output_type": "display_data",
          "data": {
            "image/png": "[encoded data removed]",
            "text/plain": [
              "<Figure size 432x288 with 1 Axes>"
            ]
          },
          "metadata": {
            "tags": [],
            "needs_background": "light"
          }
        }
      ]
    },
    {
      "cell_type": "code",
      "metadata": {
        "id": "0Gb6Ojbit5GV",
        "colab_type": "code",
        "colab": {
          "base_uri": "https://localhost:8080/",
          "height": 280
        },
        "outputId": "116f8b00-a994-4137-9435-a4ad8377468b"
      },
      "source": [
        "ind_1=list()\n",
        "ind_2=list()\n",
        "for k in num_clusters:\n",
        "    kmeans = KMeans(n_clusters=k).fit(X)\n",
        "    labels = kmeans.labels_\n",
        "    ind_1.append(davies_bouldin_score(X, labels))\n",
        "    ind_2.append(silhouette_score(X, labels))\n",
        "results=pd.DataFrame({'num_clusters':num_clusters,\n",
        "                      'Davies-Bouldin':ind_1,\n",
        "                      'Silhouette':ind_2})\n",
        "results.plot(x='num_clusters')\n",
        "plt.show()"
      ],
      "execution_count": 155,
      "outputs": [
        {
          "output_type": "display_data",
          "data": {
            "image/png": "[encoded data removed]",
            "text/plain": [
              "<Figure size 432x288 with 1 Axes>"
            ]
          },
          "metadata": {
            "tags": [],
            "needs_background": "light"
          }
        }
      ]
    },
    {
      "cell_type": "code",
      "metadata": {
        "id": "YWvIIaa22Ds_",
        "colab_type": "code",
        "colab": {
          "base_uri": "https://localhost:8080/",
          "height": 35
        },
        "outputId": "64f911d3-15b1-4278-92b5-7e474a81c614"
      },
      "source": [
        "bgm = BayesianGaussianMixture(n_components=30, n_init=10)\n",
        "bgm.fit(X)\n",
        "print(\"BGM active components: %d\" % np.sum(bgm.weights_ > 0.01))"
      ],
      "execution_count": 162,
      "outputs": [
        {
          "output_type": "stream",
          "text": [
            "BGM active components: 20\n"
          ],
          "name": "stdout"
        }
      ]
    },
    {
      "cell_type": "code",
      "metadata": {
        "id": "AwPRWg9RuQ3S",
        "colab_type": "code",
        "colab": {
          "base_uri": "https://localhost:8080/",
          "height": 35
        },
        "outputId": "7f0e3697-b593-43dc-f9e7-6d0b38abda67"
      },
      "source": [
        "bgm = BayesianGaussianMixture(n_components=20, n_init=500,max_iter=5000,\n",
        "                              warm_start=False,verbose=0,weight_concentration_prior_type='dirichlet_distribution')\n",
        "bgm.fit(X)\n",
        "print(\"BGM active components: %d\" % np.sum(bgm.weights_ > 0.01))"
      ],
      "execution_count": 169,
      "outputs": [
        {
          "output_type": "stream",
          "text": [
            "BGM active components: 11\n"
          ],
          "name": "stdout"
        }
      ]
    },
    {
      "cell_type": "code",
      "metadata": {
        "id": "VeyL6yj0wrDA",
        "colab_type": "code",
        "colab": {
          "base_uri": "https://localhost:8080/",
          "height": 462
        },
        "outputId": "3a46f5b0-3a9e-4351-a51c-6248643b7169"
      },
      "source": [
        "x = np.arange(len(bgm.weights_))  # the label locations\n",
        "width = 0.5  # the width of the bars\n",
        "fig, ax = plt.subplots(figsize=(15,7))\n",
        "rects1 = ax.bar(x - width/2, bgm.weights_, width, label='Bayesian GMM')\n",
        "ax.set_ylabel('Coeficientes')\n",
        "ax.set_title('Coeficientes BGMM')\n",
        "ax.set_xticks(x)\n",
        "ax.legend()"
      ],
      "execution_count": 170,
      "outputs": [
        {
          "output_type": "execute_result",
          "data": {
            "text/plain": [
              "<matplotlib.legend.Legend at 0x7f52fd09a6d8>"
            ]
          },
          "metadata": {
            "tags": []
          },
          "execution_count": 170
        },
        {
          "output_type": "display_data",
          "data": {
            "image/png": "[encoded data removed]",
            "text/plain": [
              "<Figure size 1080x504 with 1 Axes>"
            ]
          },
          "metadata": {
            "tags": [],
            "needs_background": "light"
          }
        }
      ]
    },
    {
      "cell_type": "code",
      "metadata": {
        "id": "RjjBRgimx8f_",
        "colab_type": "code",
        "colab": {}
      },
      "source": [
        "gmm = GaussianMixture(n_components=11, n_init=100,max_iter=1000)\n",
        "gmm.fit(X)\n",
        "\n",
        "y_pred=gmm.predict(X)"
      ],
      "execution_count": 171,
      "outputs": []
    },
    {
      "cell_type": "code",
      "metadata": {
        "id": "rT6BHTUC4lWg",
        "colab_type": "code",
        "colab": {
          "base_uri": "https://localhost:8080/",
          "height": 462
        },
        "outputId": "e957b43f-6330-4d8a-b826-d5dcc49d4aa3"
      },
      "source": [
        "x = np.arange(len(gmm.weights_))  # the label locations\n",
        "width = 0.5  # the width of the bars\n",
        "fig, ax = plt.subplots(figsize=(15,7))\n",
        "rects1 = ax.bar(x - width/2, gmm.weights_, width, label='GMM')\n",
        "ax.set_ylabel('Coeficientes')\n",
        "ax.set_title('Coeficientes GMM')\n",
        "ax.set_xticks(x)\n",
        "ax.legend()"
      ],
      "execution_count": 176,
      "outputs": [
        {
          "output_type": "execute_result",
          "data": {
            "text/plain": [
              "<matplotlib.legend.Legend at 0x7f52fc53dd68>"
            ]
          },
          "metadata": {
            "tags": []
          },
          "execution_count": 176
        },
        {
          "output_type": "display_data",
          "data": {
            "image/png": "[encoded data removed]",
            "text/plain": [
              "<Figure size 1080x504 with 1 Axes>"
            ]
          },
          "metadata": {
            "tags": [],
            "needs_background": "light"
          }
        }
      ]
    },
    {
      "cell_type": "code",
      "metadata": {
        "id": "-9JnZ-s2ypPu",
        "colab_type": "code",
        "colab": {}
      },
      "source": [
        "df_country['cluster_label']=y_pred"
      ],
      "execution_count": 172,
      "outputs": []
    },
    {
      "cell_type": "code",
      "metadata": {
        "id": "G2uJXuEbyw92",
        "colab_type": "code",
        "colab": {}
      },
      "source": [
        "df_country['cluster_label'] = df_country['cluster_label'].astype('category')"
      ],
      "execution_count": 173,
      "outputs": []
    },
    {
      "cell_type": "code",
      "metadata": {
        "id": "SH_Tyb5iy38s",
        "colab_type": "code",
        "colab": {
          "base_uri": "https://localhost:8080/",
          "height": 659
        },
        "outputId": "92e22894-fb88-4f9e-8296-50983a6bf2f2"
      },
      "source": [
        "df_country.groupby('cluster_label').boxplot(figsize=(15,7),sharex=True, sharey=True)"
      ],
      "execution_count": 174,
      "outputs": [
        {
          "output_type": "execute_result",
          "data": {
            "text/plain": [
              "0          AxesSubplot(0.1,0.736957;0.235294x0.163043)\n",
              "1     AxesSubplot(0.382353,0.736957;0.235294x0.163043)\n",
              "2     AxesSubplot(0.664706,0.736957;0.235294x0.163043)\n",
              "3          AxesSubplot(0.1,0.541304;0.235294x0.163043)\n",
              "4     AxesSubplot(0.382353,0.541304;0.235294x0.163043)\n",
              "5     AxesSubplot(0.664706,0.541304;0.235294x0.163043)\n",
              "6          AxesSubplot(0.1,0.345652;0.235294x0.163043)\n",
              "7     AxesSubplot(0.382353,0.345652;0.235294x0.163043)\n",
              "8     AxesSubplot(0.664706,0.345652;0.235294x0.163043)\n",
              "9              AxesSubplot(0.1,0.15;0.235294x0.163043)\n",
              "10        AxesSubplot(0.382353,0.15;0.235294x0.163043)\n",
              "dtype: object"
            ]
          },
          "metadata": {
            "tags": []
          },
          "execution_count": 174
        },
        {
          "output_type": "display_data",
          "data": {
            "image/png": "[encoded data removed]",
            "text/plain": [
              "<Figure size 1080x504 with 12 Axes>"
            ]
          },
          "metadata": {
            "tags": [],
            "needs_background": "light"
          }
        }
      ]
    },
    {
      "cell_type": "code",
      "metadata": {
        "id": "a4eBCkvw0UyA",
        "colab_type": "code",
        "colab": {
          "base_uri": "https://localhost:8080/",
          "height": 1000
        },
        "outputId": "54eba1ea-fa9f-41fe-e5b2-8236ef51194a"
      },
      "source": [
        "df_country[df_country['cluster_label']==0]"
      ],
      "execution_count": 175,
      "outputs": [
        {
          "output_type": "execute_result",
          "data": {
            "text/html": [
              "<div>\n",
              "<style scoped>\n",
              "    .dataframe tbody tr th:only-of-type {\n",
              "        vertical-align: middle;\n",
              "    }\n",
              "\n",
              "    .dataframe tbody tr th {\n",
              "        vertical-align: top;\n",
              "    }\n",
              "\n",
              "    .dataframe thead th {\n",
              "        text-align: right;\n",
              "    }\n",
              "</style>\n",
              "<table border=\"1\" class=\"dataframe\">\n",
              "  <thead>\n",
              "    <tr style=\"text-align: right;\">\n",
              "      <th></th>\n",
              "      <th>retail_and_recreation_percent_change_from_baseline</th>\n",
              "      <th>grocery_and_pharmacy_percent_change_from_baseline</th>\n",
              "      <th>parks_percent_change_from_baseline</th>\n",
              "      <th>transit_stations_percent_change_from_baseline</th>\n",
              "      <th>workplaces_percent_change_from_baseline</th>\n",
              "      <th>residential_percent_change_from_baseline</th>\n",
              "      <th>cluster_label</th>\n",
              "    </tr>\n",
              "    <tr>\n",
              "      <th>country_region</th>\n",
              "      <th></th>\n",
              "      <th></th>\n",
              "      <th></th>\n",
              "      <th></th>\n",
              "      <th></th>\n",
              "      <th></th>\n",
              "      <th></th>\n",
              "    </tr>\n",
              "  </thead>\n",
              "  <tbody>\n",
              "    <tr>\n",
              "      <th>Afghanistan</th>\n",
              "      <td>-16.5</td>\n",
              "      <td>0.0</td>\n",
              "      <td>-6.0</td>\n",
              "      <td>-16.0</td>\n",
              "      <td>-18.0</td>\n",
              "      <td>8.0</td>\n",
              "      <td>0</td>\n",
              "    </tr>\n",
              "    <tr>\n",
              "      <th>Austria</th>\n",
              "      <td>-20.0</td>\n",
              "      <td>-7.0</td>\n",
              "      <td>13.0</td>\n",
              "      <td>-30.0</td>\n",
              "      <td>-28.0</td>\n",
              "      <td>5.0</td>\n",
              "      <td>0</td>\n",
              "    </tr>\n",
              "    <tr>\n",
              "      <th>Belarus</th>\n",
              "      <td>-7.0</td>\n",
              "      <td>3.5</td>\n",
              "      <td>26.0</td>\n",
              "      <td>-7.0</td>\n",
              "      <td>-18.0</td>\n",
              "      <td>0.0</td>\n",
              "      <td>0</td>\n",
              "    </tr>\n",
              "    <tr>\n",
              "      <th>Belgium</th>\n",
              "      <td>-27.0</td>\n",
              "      <td>-9.0</td>\n",
              "      <td>11.0</td>\n",
              "      <td>-34.0</td>\n",
              "      <td>-38.0</td>\n",
              "      <td>11.0</td>\n",
              "      <td>0</td>\n",
              "    </tr>\n",
              "    <tr>\n",
              "      <th>Bosnia and Herzegovina</th>\n",
              "      <td>-10.0</td>\n",
              "      <td>1.5</td>\n",
              "      <td>12.0</td>\n",
              "      <td>-14.0</td>\n",
              "      <td>-16.0</td>\n",
              "      <td>2.0</td>\n",
              "      <td>0</td>\n",
              "    </tr>\n",
              "    <tr>\n",
              "      <th>Bulgaria</th>\n",
              "      <td>-9.0</td>\n",
              "      <td>-3.0</td>\n",
              "      <td>7.0</td>\n",
              "      <td>-25.0</td>\n",
              "      <td>-18.0</td>\n",
              "      <td>2.0</td>\n",
              "      <td>0</td>\n",
              "    </tr>\n",
              "    <tr>\n",
              "      <th>Croatia</th>\n",
              "      <td>-5.0</td>\n",
              "      <td>-1.0</td>\n",
              "      <td>16.0</td>\n",
              "      <td>-31.0</td>\n",
              "      <td>-22.0</td>\n",
              "      <td>3.0</td>\n",
              "      <td>0</td>\n",
              "    </tr>\n",
              "    <tr>\n",
              "      <th>Czechia</th>\n",
              "      <td>-8.0</td>\n",
              "      <td>5.0</td>\n",
              "      <td>21.0</td>\n",
              "      <td>-13.0</td>\n",
              "      <td>-18.0</td>\n",
              "      <td>4.0</td>\n",
              "      <td>0</td>\n",
              "    </tr>\n",
              "    <tr>\n",
              "      <th>Estonia</th>\n",
              "      <td>-5.0</td>\n",
              "      <td>0.0</td>\n",
              "      <td>37.0</td>\n",
              "      <td>-8.0</td>\n",
              "      <td>-32.0</td>\n",
              "      <td>4.0</td>\n",
              "      <td>0</td>\n",
              "    </tr>\n",
              "    <tr>\n",
              "      <th>France</th>\n",
              "      <td>-24.0</td>\n",
              "      <td>-4.0</td>\n",
              "      <td>8.0</td>\n",
              "      <td>-29.0</td>\n",
              "      <td>-31.0</td>\n",
              "      <td>8.0</td>\n",
              "      <td>0</td>\n",
              "    </tr>\n",
              "    <tr>\n",
              "      <th>Georgia</th>\n",
              "      <td>-32.0</td>\n",
              "      <td>-11.5</td>\n",
              "      <td>-14.0</td>\n",
              "      <td>-25.5</td>\n",
              "      <td>-35.0</td>\n",
              "      <td>8.0</td>\n",
              "      <td>0</td>\n",
              "    </tr>\n",
              "    <tr>\n",
              "      <th>Hungary</th>\n",
              "      <td>0.0</td>\n",
              "      <td>1.0</td>\n",
              "      <td>25.0</td>\n",
              "      <td>-14.0</td>\n",
              "      <td>-24.0</td>\n",
              "      <td>5.0</td>\n",
              "      <td>0</td>\n",
              "    </tr>\n",
              "    <tr>\n",
              "      <th>Israel</th>\n",
              "      <td>-24.0</td>\n",
              "      <td>1.0</td>\n",
              "      <td>-6.0</td>\n",
              "      <td>-18.0</td>\n",
              "      <td>-24.0</td>\n",
              "      <td>9.0</td>\n",
              "      <td>0</td>\n",
              "    </tr>\n",
              "    <tr>\n",
              "      <th>Kazakhstan</th>\n",
              "      <td>-24.0</td>\n",
              "      <td>-6.5</td>\n",
              "      <td>5.0</td>\n",
              "      <td>-1.0</td>\n",
              "      <td>-29.5</td>\n",
              "      <td>6.0</td>\n",
              "      <td>0</td>\n",
              "    </tr>\n",
              "    <tr>\n",
              "      <th>Latvia</th>\n",
              "      <td>-5.0</td>\n",
              "      <td>-2.0</td>\n",
              "      <td>15.0</td>\n",
              "      <td>-19.0</td>\n",
              "      <td>-30.0</td>\n",
              "      <td>2.0</td>\n",
              "      <td>0</td>\n",
              "    </tr>\n",
              "    <tr>\n",
              "      <th>Liechtenstein</th>\n",
              "      <td>-19.0</td>\n",
              "      <td>2.0</td>\n",
              "      <td>7.0</td>\n",
              "      <td>-21.0</td>\n",
              "      <td>-25.0</td>\n",
              "      <td>4.0</td>\n",
              "      <td>0</td>\n",
              "    </tr>\n",
              "    <tr>\n",
              "      <th>Luxembourg</th>\n",
              "      <td>-27.5</td>\n",
              "      <td>-10.0</td>\n",
              "      <td>12.0</td>\n",
              "      <td>-32.0</td>\n",
              "      <td>-37.5</td>\n",
              "      <td>11.0</td>\n",
              "      <td>0</td>\n",
              "    </tr>\n",
              "    <tr>\n",
              "      <th>Malta</th>\n",
              "      <td>-25.0</td>\n",
              "      <td>-8.0</td>\n",
              "      <td>13.0</td>\n",
              "      <td>-25.0</td>\n",
              "      <td>-30.0</td>\n",
              "      <td>12.0</td>\n",
              "      <td>0</td>\n",
              "    </tr>\n",
              "    <tr>\n",
              "      <th>Moldova</th>\n",
              "      <td>-19.0</td>\n",
              "      <td>-8.5</td>\n",
              "      <td>5.0</td>\n",
              "      <td>-27.0</td>\n",
              "      <td>-27.0</td>\n",
              "      <td>5.0</td>\n",
              "      <td>0</td>\n",
              "    </tr>\n",
              "    <tr>\n",
              "      <th>North Macedonia</th>\n",
              "      <td>-21.0</td>\n",
              "      <td>-1.0</td>\n",
              "      <td>17.0</td>\n",
              "      <td>-34.0</td>\n",
              "      <td>-28.0</td>\n",
              "      <td>6.0</td>\n",
              "      <td>0</td>\n",
              "    </tr>\n",
              "    <tr>\n",
              "      <th>Poland</th>\n",
              "      <td>-6.0</td>\n",
              "      <td>-1.0</td>\n",
              "      <td>5.0</td>\n",
              "      <td>-27.0</td>\n",
              "      <td>-21.0</td>\n",
              "      <td>5.0</td>\n",
              "      <td>0</td>\n",
              "    </tr>\n",
              "    <tr>\n",
              "      <th>Portugal</th>\n",
              "      <td>-31.0</td>\n",
              "      <td>-11.0</td>\n",
              "      <td>-8.0</td>\n",
              "      <td>-42.0</td>\n",
              "      <td>-30.0</td>\n",
              "      <td>13.0</td>\n",
              "      <td>0</td>\n",
              "    </tr>\n",
              "    <tr>\n",
              "      <th>Romania</th>\n",
              "      <td>-21.0</td>\n",
              "      <td>-6.0</td>\n",
              "      <td>-6.0</td>\n",
              "      <td>-23.0</td>\n",
              "      <td>-26.0</td>\n",
              "      <td>3.0</td>\n",
              "      <td>0</td>\n",
              "    </tr>\n",
              "    <tr>\n",
              "      <th>Russia</th>\n",
              "      <td>-19.0</td>\n",
              "      <td>-2.0</td>\n",
              "      <td>8.0</td>\n",
              "      <td>-11.0</td>\n",
              "      <td>-28.0</td>\n",
              "      <td>2.0</td>\n",
              "      <td>0</td>\n",
              "    </tr>\n",
              "    <tr>\n",
              "      <th>Slovakia</th>\n",
              "      <td>-16.0</td>\n",
              "      <td>-1.0</td>\n",
              "      <td>16.0</td>\n",
              "      <td>-27.0</td>\n",
              "      <td>-24.0</td>\n",
              "      <td>5.0</td>\n",
              "      <td>0</td>\n",
              "    </tr>\n",
              "    <tr>\n",
              "      <th>Switzerland</th>\n",
              "      <td>-18.0</td>\n",
              "      <td>1.0</td>\n",
              "      <td>16.0</td>\n",
              "      <td>-20.0</td>\n",
              "      <td>-24.0</td>\n",
              "      <td>7.0</td>\n",
              "      <td>0</td>\n",
              "    </tr>\n",
              "    <tr>\n",
              "      <th>Turkey</th>\n",
              "      <td>-26.0</td>\n",
              "      <td>2.0</td>\n",
              "      <td>-1.0</td>\n",
              "      <td>-28.0</td>\n",
              "      <td>-19.0</td>\n",
              "      <td>5.0</td>\n",
              "      <td>0</td>\n",
              "    </tr>\n",
              "    <tr>\n",
              "      <th>Ukraine</th>\n",
              "      <td>-16.5</td>\n",
              "      <td>0.0</td>\n",
              "      <td>20.5</td>\n",
              "      <td>-16.0</td>\n",
              "      <td>-29.0</td>\n",
              "      <td>3.0</td>\n",
              "      <td>0</td>\n",
              "    </tr>\n",
              "    <tr>\n",
              "      <th>United States</th>\n",
              "      <td>-7.0</td>\n",
              "      <td>3.0</td>\n",
              "      <td>20.0</td>\n",
              "      <td>-9.0</td>\n",
              "      <td>-26.0</td>\n",
              "      <td>8.0</td>\n",
              "      <td>0</td>\n",
              "    </tr>\n",
              "  </tbody>\n",
              "</table>\n",
              "</div>"
            ],
            "text/plain": [
              "                        retail_and_recreation_percent_change_from_baseline  ...  cluster_label\n",
              "country_region                                                              ...               \n",
              "Afghanistan                                                         -16.5   ...              0\n",
              "Austria                                                             -20.0   ...              0\n",
              "Belarus                                                              -7.0   ...              0\n",
              "Belgium                                                             -27.0   ...              0\n",
              "Bosnia and Herzegovina                                              -10.0   ...              0\n",
              "Bulgaria                                                             -9.0   ...              0\n",
              "Croatia                                                              -5.0   ...              0\n",
              "Czechia                                                              -8.0   ...              0\n",
              "Estonia                                                              -5.0   ...              0\n",
              "France                                                              -24.0   ...              0\n",
              "Georgia                                                             -32.0   ...              0\n",
              "Hungary                                                               0.0   ...              0\n",
              "Israel                                                              -24.0   ...              0\n",
              "Kazakhstan                                                          -24.0   ...              0\n",
              "Latvia                                                               -5.0   ...              0\n",
              "Liechtenstein                                                       -19.0   ...              0\n",
              "Luxembourg                                                          -27.5   ...              0\n",
              "Malta                                                               -25.0   ...              0\n",
              "Moldova                                                             -19.0   ...              0\n",
              "North Macedonia                                                     -21.0   ...              0\n",
              "Poland                                                               -6.0   ...              0\n",
              "Portugal                                                            -31.0   ...              0\n",
              "Romania                                                             -21.0   ...              0\n",
              "Russia                                                              -19.0   ...              0\n",
              "Slovakia                                                            -16.0   ...              0\n",
              "Switzerland                                                         -18.0   ...              0\n",
              "Turkey                                                              -26.0   ...              0\n",
              "Ukraine                                                             -16.5   ...              0\n",
              "United States                                                        -7.0   ...              0\n",
              "\n",
              "[29 rows x 7 columns]"
            ]
          },
          "metadata": {
            "tags": []
          },
          "execution_count": 175
        }
      ]
    },
    {
      "cell_type": "code",
      "metadata": {
        "id": "8Q2OxXdK08Vx",
        "colab_type": "code",
        "colab": {
          "base_uri": "https://localhost:8080/",
          "height": 375
        },
        "outputId": "475d9247-8cb9-42f9-9de6-74841938d3f0"
      },
      "source": [
        "df_country[df_country['cluster_label']==1]"
      ],
      "execution_count": 177,
      "outputs": [
        {
          "output_type": "execute_result",
          "data": {
            "text/html": [
              "<div>\n",
              "<style scoped>\n",
              "    .dataframe tbody tr th:only-of-type {\n",
              "        vertical-align: middle;\n",
              "    }\n",
              "\n",
              "    .dataframe tbody tr th {\n",
              "        vertical-align: top;\n",
              "    }\n",
              "\n",
              "    .dataframe thead th {\n",
              "        text-align: right;\n",
              "    }\n",
              "</style>\n",
              "<table border=\"1\" class=\"dataframe\">\n",
              "  <thead>\n",
              "    <tr style=\"text-align: right;\">\n",
              "      <th></th>\n",
              "      <th>retail_and_recreation_percent_change_from_baseline</th>\n",
              "      <th>grocery_and_pharmacy_percent_change_from_baseline</th>\n",
              "      <th>parks_percent_change_from_baseline</th>\n",
              "      <th>transit_stations_percent_change_from_baseline</th>\n",
              "      <th>workplaces_percent_change_from_baseline</th>\n",
              "      <th>residential_percent_change_from_baseline</th>\n",
              "      <th>cluster_label</th>\n",
              "    </tr>\n",
              "    <tr>\n",
              "      <th>country_region</th>\n",
              "      <th></th>\n",
              "      <th></th>\n",
              "      <th></th>\n",
              "      <th></th>\n",
              "      <th></th>\n",
              "      <th></th>\n",
              "      <th></th>\n",
              "    </tr>\n",
              "  </thead>\n",
              "  <tbody>\n",
              "    <tr>\n",
              "      <th>Argentina</th>\n",
              "      <td>-63.0</td>\n",
              "      <td>-17.0</td>\n",
              "      <td>-77.0</td>\n",
              "      <td>-60.0</td>\n",
              "      <td>-17.0</td>\n",
              "      <td>16.0</td>\n",
              "      <td>1</td>\n",
              "    </tr>\n",
              "    <tr>\n",
              "      <th>Bolivia</th>\n",
              "      <td>-61.0</td>\n",
              "      <td>-49.0</td>\n",
              "      <td>-53.0</td>\n",
              "      <td>-68.0</td>\n",
              "      <td>-40.0</td>\n",
              "      <td>26.0</td>\n",
              "      <td>1</td>\n",
              "    </tr>\n",
              "    <tr>\n",
              "      <th>Chile</th>\n",
              "      <td>-53.0</td>\n",
              "      <td>-36.0</td>\n",
              "      <td>-58.0</td>\n",
              "      <td>-57.0</td>\n",
              "      <td>-27.0</td>\n",
              "      <td>20.0</td>\n",
              "      <td>1</td>\n",
              "    </tr>\n",
              "    <tr>\n",
              "      <th>Colombia</th>\n",
              "      <td>-54.0</td>\n",
              "      <td>-33.0</td>\n",
              "      <td>-47.0</td>\n",
              "      <td>-59.0</td>\n",
              "      <td>-29.0</td>\n",
              "      <td>19.0</td>\n",
              "      <td>1</td>\n",
              "    </tr>\n",
              "    <tr>\n",
              "      <th>Honduras</th>\n",
              "      <td>-61.0</td>\n",
              "      <td>-35.0</td>\n",
              "      <td>-42.0</td>\n",
              "      <td>-62.0</td>\n",
              "      <td>-39.0</td>\n",
              "      <td>18.0</td>\n",
              "      <td>1</td>\n",
              "    </tr>\n",
              "    <tr>\n",
              "      <th>Morocco</th>\n",
              "      <td>-64.0</td>\n",
              "      <td>-35.0</td>\n",
              "      <td>-61.0</td>\n",
              "      <td>-54.0</td>\n",
              "      <td>-41.0</td>\n",
              "      <td>21.0</td>\n",
              "      <td>1</td>\n",
              "    </tr>\n",
              "    <tr>\n",
              "      <th>Panama</th>\n",
              "      <td>-67.0</td>\n",
              "      <td>-40.0</td>\n",
              "      <td>-64.0</td>\n",
              "      <td>-64.0</td>\n",
              "      <td>-56.0</td>\n",
              "      <td>32.0</td>\n",
              "      <td>1</td>\n",
              "    </tr>\n",
              "    <tr>\n",
              "      <th>Peru</th>\n",
              "      <td>-68.0</td>\n",
              "      <td>-44.0</td>\n",
              "      <td>-47.0</td>\n",
              "      <td>-69.0</td>\n",
              "      <td>-39.0</td>\n",
              "      <td>26.0</td>\n",
              "      <td>1</td>\n",
              "    </tr>\n",
              "    <tr>\n",
              "      <th>Réunion</th>\n",
              "      <td>-62.0</td>\n",
              "      <td>-61.0</td>\n",
              "      <td>-70.5</td>\n",
              "      <td>-67.0</td>\n",
              "      <td>-28.0</td>\n",
              "      <td>16.0</td>\n",
              "      <td>1</td>\n",
              "    </tr>\n",
              "  </tbody>\n",
              "</table>\n",
              "</div>"
            ],
            "text/plain": [
              "                retail_and_recreation_percent_change_from_baseline  ...  cluster_label\n",
              "country_region                                                      ...               \n",
              "Argentina                                                   -63.0   ...              1\n",
              "Bolivia                                                     -61.0   ...              1\n",
              "Chile                                                       -53.0   ...              1\n",
              "Colombia                                                    -54.0   ...              1\n",
              "Honduras                                                    -61.0   ...              1\n",
              "Morocco                                                     -64.0   ...              1\n",
              "Panama                                                      -67.0   ...              1\n",
              "Peru                                                        -68.0   ...              1\n",
              "Réunion                                                     -62.0   ...              1\n",
              "\n",
              "[9 rows x 7 columns]"
            ]
          },
          "metadata": {
            "tags": []
          },
          "execution_count": 177
        }
      ]
    },
    {
      "cell_type": "code",
      "metadata": {
        "id": "8RfQXnP80-w8",
        "colab_type": "code",
        "colab": {
          "base_uri": "https://localhost:8080/",
          "height": 393
        },
        "outputId": "37e3a9f8-f92d-4d90-8267-c88c45b80766"
      },
      "source": [
        "df_country[df_country['cluster_label']==2]"
      ],
      "execution_count": 178,
      "outputs": [
        {
          "output_type": "execute_result",
          "data": {
            "text/html": [
              "<div>\n",
              "<style scoped>\n",
              "    .dataframe tbody tr th:only-of-type {\n",
              "        vertical-align: middle;\n",
              "    }\n",
              "\n",
              "    .dataframe tbody tr th {\n",
              "        vertical-align: top;\n",
              "    }\n",
              "\n",
              "    .dataframe thead th {\n",
              "        text-align: right;\n",
              "    }\n",
              "</style>\n",
              "<table border=\"1\" class=\"dataframe\">\n",
              "  <thead>\n",
              "    <tr style=\"text-align: right;\">\n",
              "      <th></th>\n",
              "      <th>retail_and_recreation_percent_change_from_baseline</th>\n",
              "      <th>grocery_and_pharmacy_percent_change_from_baseline</th>\n",
              "      <th>parks_percent_change_from_baseline</th>\n",
              "      <th>transit_stations_percent_change_from_baseline</th>\n",
              "      <th>workplaces_percent_change_from_baseline</th>\n",
              "      <th>residential_percent_change_from_baseline</th>\n",
              "      <th>cluster_label</th>\n",
              "    </tr>\n",
              "    <tr>\n",
              "      <th>country_region</th>\n",
              "      <th></th>\n",
              "      <th></th>\n",
              "      <th></th>\n",
              "      <th></th>\n",
              "      <th></th>\n",
              "      <th></th>\n",
              "      <th></th>\n",
              "    </tr>\n",
              "  </thead>\n",
              "  <tbody>\n",
              "    <tr>\n",
              "      <th>Antigua and Barbuda</th>\n",
              "      <td>-29.0</td>\n",
              "      <td>-18.5</td>\n",
              "      <td>-14.0</td>\n",
              "      <td>-51.0</td>\n",
              "      <td>-35.0</td>\n",
              "      <td>17.0</td>\n",
              "      <td>2</td>\n",
              "    </tr>\n",
              "    <tr>\n",
              "      <th>Bangladesh</th>\n",
              "      <td>-44.0</td>\n",
              "      <td>-24.0</td>\n",
              "      <td>-23.0</td>\n",
              "      <td>-40.0</td>\n",
              "      <td>-23.0</td>\n",
              "      <td>14.0</td>\n",
              "      <td>2</td>\n",
              "    </tr>\n",
              "    <tr>\n",
              "      <th>Barbados</th>\n",
              "      <td>-28.0</td>\n",
              "      <td>-19.0</td>\n",
              "      <td>-24.0</td>\n",
              "      <td>-56.0</td>\n",
              "      <td>-35.0</td>\n",
              "      <td>14.0</td>\n",
              "      <td>2</td>\n",
              "    </tr>\n",
              "    <tr>\n",
              "      <th>Haiti</th>\n",
              "      <td>-28.0</td>\n",
              "      <td>-24.0</td>\n",
              "      <td>-16.0</td>\n",
              "      <td>-43.0</td>\n",
              "      <td>-22.0</td>\n",
              "      <td>9.0</td>\n",
              "      <td>2</td>\n",
              "    </tr>\n",
              "    <tr>\n",
              "      <th>Jamaica</th>\n",
              "      <td>-32.0</td>\n",
              "      <td>-18.0</td>\n",
              "      <td>-29.0</td>\n",
              "      <td>-38.5</td>\n",
              "      <td>-28.0</td>\n",
              "      <td>14.0</td>\n",
              "      <td>2</td>\n",
              "    </tr>\n",
              "    <tr>\n",
              "      <th>Nepal</th>\n",
              "      <td>-44.5</td>\n",
              "      <td>-25.5</td>\n",
              "      <td>-29.0</td>\n",
              "      <td>-44.0</td>\n",
              "      <td>-34.0</td>\n",
              "      <td>13.0</td>\n",
              "      <td>2</td>\n",
              "    </tr>\n",
              "    <tr>\n",
              "      <th>Oman</th>\n",
              "      <td>-33.0</td>\n",
              "      <td>-24.0</td>\n",
              "      <td>-32.0</td>\n",
              "      <td>-47.0</td>\n",
              "      <td>-21.0</td>\n",
              "      <td>14.0</td>\n",
              "      <td>2</td>\n",
              "    </tr>\n",
              "    <tr>\n",
              "      <th>Singapore</th>\n",
              "      <td>-31.0</td>\n",
              "      <td>-9.0</td>\n",
              "      <td>-35.5</td>\n",
              "      <td>-39.0</td>\n",
              "      <td>-36.0</td>\n",
              "      <td>25.0</td>\n",
              "      <td>2</td>\n",
              "    </tr>\n",
              "    <tr>\n",
              "      <th>South Africa</th>\n",
              "      <td>-32.0</td>\n",
              "      <td>-14.0</td>\n",
              "      <td>-17.0</td>\n",
              "      <td>-49.0</td>\n",
              "      <td>-25.0</td>\n",
              "      <td>16.0</td>\n",
              "      <td>2</td>\n",
              "    </tr>\n",
              "  </tbody>\n",
              "</table>\n",
              "</div>"
            ],
            "text/plain": [
              "                     retail_and_recreation_percent_change_from_baseline  ...  cluster_label\n",
              "country_region                                                           ...               \n",
              "Antigua and Barbuda                                              -29.0   ...              2\n",
              "Bangladesh                                                       -44.0   ...              2\n",
              "Barbados                                                         -28.0   ...              2\n",
              "Haiti                                                            -28.0   ...              2\n",
              "Jamaica                                                          -32.0   ...              2\n",
              "Nepal                                                            -44.5   ...              2\n",
              "Oman                                                             -33.0   ...              2\n",
              "Singapore                                                        -31.0   ...              2\n",
              "South Africa                                                     -32.0   ...              2\n",
              "\n",
              "[9 rows x 7 columns]"
            ]
          },
          "metadata": {
            "tags": []
          },
          "execution_count": 178
        }
      ]
    },
    {
      "cell_type": "code",
      "metadata": {
        "id": "WXAG9k261Ddv",
        "colab_type": "code",
        "colab": {
          "base_uri": "https://localhost:8080/",
          "height": 529
        },
        "outputId": "feb80ed7-98a4-4ce3-f94d-2a1b907f1f9b"
      },
      "source": [
        "df_country[df_country['cluster_label']==3]"
      ],
      "execution_count": 179,
      "outputs": [
        {
          "output_type": "execute_result",
          "data": {
            "text/html": [
              "<div>\n",
              "<style scoped>\n",
              "    .dataframe tbody tr th:only-of-type {\n",
              "        vertical-align: middle;\n",
              "    }\n",
              "\n",
              "    .dataframe tbody tr th {\n",
              "        vertical-align: top;\n",
              "    }\n",
              "\n",
              "    .dataframe thead th {\n",
              "        text-align: right;\n",
              "    }\n",
              "</style>\n",
              "<table border=\"1\" class=\"dataframe\">\n",
              "  <thead>\n",
              "    <tr style=\"text-align: right;\">\n",
              "      <th></th>\n",
              "      <th>retail_and_recreation_percent_change_from_baseline</th>\n",
              "      <th>grocery_and_pharmacy_percent_change_from_baseline</th>\n",
              "      <th>parks_percent_change_from_baseline</th>\n",
              "      <th>transit_stations_percent_change_from_baseline</th>\n",
              "      <th>workplaces_percent_change_from_baseline</th>\n",
              "      <th>residential_percent_change_from_baseline</th>\n",
              "      <th>cluster_label</th>\n",
              "    </tr>\n",
              "    <tr>\n",
              "      <th>country_region</th>\n",
              "      <th></th>\n",
              "      <th></th>\n",
              "      <th></th>\n",
              "      <th></th>\n",
              "      <th></th>\n",
              "      <th></th>\n",
              "      <th></th>\n",
              "    </tr>\n",
              "  </thead>\n",
              "  <tbody>\n",
              "    <tr>\n",
              "      <th>Benin</th>\n",
              "      <td>-9.0</td>\n",
              "      <td>0.0</td>\n",
              "      <td>3.0</td>\n",
              "      <td>-16.5</td>\n",
              "      <td>-3.0</td>\n",
              "      <td>6.0</td>\n",
              "      <td>3</td>\n",
              "    </tr>\n",
              "    <tr>\n",
              "      <th>Botswana</th>\n",
              "      <td>-7.0</td>\n",
              "      <td>-2.0</td>\n",
              "      <td>-1.0</td>\n",
              "      <td>-21.0</td>\n",
              "      <td>-5.0</td>\n",
              "      <td>11.0</td>\n",
              "      <td>3</td>\n",
              "    </tr>\n",
              "    <tr>\n",
              "      <th>Cameroon</th>\n",
              "      <td>-12.0</td>\n",
              "      <td>-6.0</td>\n",
              "      <td>-15.5</td>\n",
              "      <td>-10.0</td>\n",
              "      <td>-3.0</td>\n",
              "      <td>7.0</td>\n",
              "      <td>3</td>\n",
              "    </tr>\n",
              "    <tr>\n",
              "      <th>Côte d'Ivoire</th>\n",
              "      <td>-8.0</td>\n",
              "      <td>0.0</td>\n",
              "      <td>-4.0</td>\n",
              "      <td>-16.0</td>\n",
              "      <td>0.0</td>\n",
              "      <td>8.0</td>\n",
              "      <td>3</td>\n",
              "    </tr>\n",
              "    <tr>\n",
              "      <th>Fiji</th>\n",
              "      <td>-13.5</td>\n",
              "      <td>-6.0</td>\n",
              "      <td>-8.5</td>\n",
              "      <td>-25.0</td>\n",
              "      <td>-9.0</td>\n",
              "      <td>10.0</td>\n",
              "      <td>3</td>\n",
              "    </tr>\n",
              "    <tr>\n",
              "      <th>Japan</th>\n",
              "      <td>-10.0</td>\n",
              "      <td>1.0</td>\n",
              "      <td>1.0</td>\n",
              "      <td>-24.0</td>\n",
              "      <td>-8.0</td>\n",
              "      <td>5.0</td>\n",
              "      <td>3</td>\n",
              "    </tr>\n",
              "    <tr>\n",
              "      <th>Laos</th>\n",
              "      <td>-10.5</td>\n",
              "      <td>-2.0</td>\n",
              "      <td>-7.0</td>\n",
              "      <td>-23.0</td>\n",
              "      <td>-1.0</td>\n",
              "      <td>4.0</td>\n",
              "      <td>3</td>\n",
              "    </tr>\n",
              "    <tr>\n",
              "      <th>Libya</th>\n",
              "      <td>-9.0</td>\n",
              "      <td>4.5</td>\n",
              "      <td>7.0</td>\n",
              "      <td>-39.0</td>\n",
              "      <td>-8.0</td>\n",
              "      <td>4.0</td>\n",
              "      <td>3</td>\n",
              "    </tr>\n",
              "    <tr>\n",
              "      <th>Mozambique</th>\n",
              "      <td>-13.0</td>\n",
              "      <td>-5.0</td>\n",
              "      <td>-15.0</td>\n",
              "      <td>-25.0</td>\n",
              "      <td>3.0</td>\n",
              "      <td>9.0</td>\n",
              "      <td>3</td>\n",
              "    </tr>\n",
              "    <tr>\n",
              "      <th>Tanzania</th>\n",
              "      <td>-11.0</td>\n",
              "      <td>-3.0</td>\n",
              "      <td>-9.0</td>\n",
              "      <td>-7.0</td>\n",
              "      <td>-6.5</td>\n",
              "      <td>4.0</td>\n",
              "      <td>3</td>\n",
              "    </tr>\n",
              "    <tr>\n",
              "      <th>Togo</th>\n",
              "      <td>-18.0</td>\n",
              "      <td>-8.0</td>\n",
              "      <td>1.0</td>\n",
              "      <td>-30.0</td>\n",
              "      <td>-5.0</td>\n",
              "      <td>13.0</td>\n",
              "      <td>3</td>\n",
              "    </tr>\n",
              "    <tr>\n",
              "      <th>Vietnam</th>\n",
              "      <td>-17.0</td>\n",
              "      <td>-6.0</td>\n",
              "      <td>-19.0</td>\n",
              "      <td>-15.0</td>\n",
              "      <td>3.0</td>\n",
              "      <td>5.0</td>\n",
              "      <td>3</td>\n",
              "    </tr>\n",
              "    <tr>\n",
              "      <th>Yemen</th>\n",
              "      <td>-4.0</td>\n",
              "      <td>2.0</td>\n",
              "      <td>-6.0</td>\n",
              "      <td>-5.5</td>\n",
              "      <td>-6.0</td>\n",
              "      <td>5.0</td>\n",
              "      <td>3</td>\n",
              "    </tr>\n",
              "    <tr>\n",
              "      <th>Zambia</th>\n",
              "      <td>-6.0</td>\n",
              "      <td>-3.0</td>\n",
              "      <td>0.0</td>\n",
              "      <td>-10.0</td>\n",
              "      <td>-4.0</td>\n",
              "      <td>11.0</td>\n",
              "      <td>3</td>\n",
              "    </tr>\n",
              "  </tbody>\n",
              "</table>\n",
              "</div>"
            ],
            "text/plain": [
              "                retail_and_recreation_percent_change_from_baseline  ...  cluster_label\n",
              "country_region                                                      ...               \n",
              "Benin                                                        -9.0   ...              3\n",
              "Botswana                                                     -7.0   ...              3\n",
              "Cameroon                                                    -12.0   ...              3\n",
              "Côte d'Ivoire                                                -8.0   ...              3\n",
              "Fiji                                                        -13.5   ...              3\n",
              "Japan                                                       -10.0   ...              3\n",
              "Laos                                                        -10.5   ...              3\n",
              "Libya                                                        -9.0   ...              3\n",
              "Mozambique                                                  -13.0   ...              3\n",
              "Tanzania                                                    -11.0   ...              3\n",
              "Togo                                                        -18.0   ...              3\n",
              "Vietnam                                                     -17.0   ...              3\n",
              "Yemen                                                        -4.0   ...              3\n",
              "Zambia                                                       -6.0   ...              3\n",
              "\n",
              "[14 rows x 7 columns]"
            ]
          },
          "metadata": {
            "tags": []
          },
          "execution_count": 179
        }
      ]
    },
    {
      "cell_type": "code",
      "metadata": {
        "id": "IZeQSlKT1IH0",
        "colab_type": "code",
        "colab": {
          "base_uri": "https://localhost:8080/",
          "height": 406
        },
        "outputId": "39453ee0-fc03-4283-9373-41d706e590a9"
      },
      "source": [
        "df_country[df_country['cluster_label']==4]"
      ],
      "execution_count": 180,
      "outputs": [
        {
          "output_type": "execute_result",
          "data": {
            "text/html": [
              "<div>\n",
              "<style scoped>\n",
              "    .dataframe tbody tr th:only-of-type {\n",
              "        vertical-align: middle;\n",
              "    }\n",
              "\n",
              "    .dataframe tbody tr th {\n",
              "        vertical-align: top;\n",
              "    }\n",
              "\n",
              "    .dataframe thead th {\n",
              "        text-align: right;\n",
              "    }\n",
              "</style>\n",
              "<table border=\"1\" class=\"dataframe\">\n",
              "  <thead>\n",
              "    <tr style=\"text-align: right;\">\n",
              "      <th></th>\n",
              "      <th>retail_and_recreation_percent_change_from_baseline</th>\n",
              "      <th>grocery_and_pharmacy_percent_change_from_baseline</th>\n",
              "      <th>parks_percent_change_from_baseline</th>\n",
              "      <th>transit_stations_percent_change_from_baseline</th>\n",
              "      <th>workplaces_percent_change_from_baseline</th>\n",
              "      <th>residential_percent_change_from_baseline</th>\n",
              "      <th>cluster_label</th>\n",
              "    </tr>\n",
              "    <tr>\n",
              "      <th>country_region</th>\n",
              "      <th></th>\n",
              "      <th></th>\n",
              "      <th></th>\n",
              "      <th></th>\n",
              "      <th></th>\n",
              "      <th></th>\n",
              "      <th></th>\n",
              "    </tr>\n",
              "  </thead>\n",
              "  <tbody>\n",
              "    <tr>\n",
              "      <th>Canada</th>\n",
              "      <td>-20.0</td>\n",
              "      <td>-1.0</td>\n",
              "      <td>48.0</td>\n",
              "      <td>-45.0</td>\n",
              "      <td>-34.0</td>\n",
              "      <td>10.0</td>\n",
              "      <td>4</td>\n",
              "    </tr>\n",
              "    <tr>\n",
              "      <th>Denmark</th>\n",
              "      <td>-3.0</td>\n",
              "      <td>-1.0</td>\n",
              "      <td>107.0</td>\n",
              "      <td>-21.0</td>\n",
              "      <td>-24.0</td>\n",
              "      <td>5.0</td>\n",
              "      <td>4</td>\n",
              "    </tr>\n",
              "    <tr>\n",
              "      <th>Finland</th>\n",
              "      <td>-9.0</td>\n",
              "      <td>2.0</td>\n",
              "      <td>48.0</td>\n",
              "      <td>-31.0</td>\n",
              "      <td>-35.0</td>\n",
              "      <td>4.0</td>\n",
              "      <td>4</td>\n",
              "    </tr>\n",
              "    <tr>\n",
              "      <th>Germany</th>\n",
              "      <td>-16.0</td>\n",
              "      <td>-2.0</td>\n",
              "      <td>47.5</td>\n",
              "      <td>-27.0</td>\n",
              "      <td>-23.0</td>\n",
              "      <td>6.0</td>\n",
              "      <td>4</td>\n",
              "    </tr>\n",
              "    <tr>\n",
              "      <th>Greece</th>\n",
              "      <td>-14.0</td>\n",
              "      <td>9.0</td>\n",
              "      <td>43.0</td>\n",
              "      <td>-17.0</td>\n",
              "      <td>-14.0</td>\n",
              "      <td>3.0</td>\n",
              "      <td>4</td>\n",
              "    </tr>\n",
              "    <tr>\n",
              "      <th>Lithuania</th>\n",
              "      <td>-20.0</td>\n",
              "      <td>6.0</td>\n",
              "      <td>48.5</td>\n",
              "      <td>-16.0</td>\n",
              "      <td>-24.0</td>\n",
              "      <td>3.0</td>\n",
              "      <td>4</td>\n",
              "    </tr>\n",
              "    <tr>\n",
              "      <th>Netherlands</th>\n",
              "      <td>-13.0</td>\n",
              "      <td>-2.0</td>\n",
              "      <td>59.0</td>\n",
              "      <td>-41.0</td>\n",
              "      <td>-31.0</td>\n",
              "      <td>8.0</td>\n",
              "      <td>4</td>\n",
              "    </tr>\n",
              "    <tr>\n",
              "      <th>Norway</th>\n",
              "      <td>-5.0</td>\n",
              "      <td>5.0</td>\n",
              "      <td>54.0</td>\n",
              "      <td>-23.0</td>\n",
              "      <td>-28.0</td>\n",
              "      <td>5.0</td>\n",
              "      <td>4</td>\n",
              "    </tr>\n",
              "    <tr>\n",
              "      <th>South Korea</th>\n",
              "      <td>-9.0</td>\n",
              "      <td>6.0</td>\n",
              "      <td>40.0</td>\n",
              "      <td>-8.0</td>\n",
              "      <td>-4.0</td>\n",
              "      <td>4.0</td>\n",
              "      <td>4</td>\n",
              "    </tr>\n",
              "    <tr>\n",
              "      <th>Sweden</th>\n",
              "      <td>-3.0</td>\n",
              "      <td>0.0</td>\n",
              "      <td>35.0</td>\n",
              "      <td>-22.0</td>\n",
              "      <td>-22.0</td>\n",
              "      <td>7.0</td>\n",
              "      <td>4</td>\n",
              "    </tr>\n",
              "  </tbody>\n",
              "</table>\n",
              "</div>"
            ],
            "text/plain": [
              "                retail_and_recreation_percent_change_from_baseline  ...  cluster_label\n",
              "country_region                                                      ...               \n",
              "Canada                                                      -20.0   ...              4\n",
              "Denmark                                                      -3.0   ...              4\n",
              "Finland                                                      -9.0   ...              4\n",
              "Germany                                                     -16.0   ...              4\n",
              "Greece                                                      -14.0   ...              4\n",
              "Lithuania                                                   -20.0   ...              4\n",
              "Netherlands                                                 -13.0   ...              4\n",
              "Norway                                                       -5.0   ...              4\n",
              "South Korea                                                  -9.0   ...              4\n",
              "Sweden                                                       -3.0   ...              4\n",
              "\n",
              "[10 rows x 7 columns]"
            ]
          },
          "metadata": {
            "tags": []
          },
          "execution_count": 180
        }
      ]
    },
    {
      "cell_type": "code",
      "metadata": {
        "id": "iOekYuOl1Lim",
        "colab_type": "code",
        "colab": {
          "base_uri": "https://localhost:8080/",
          "height": 927
        },
        "outputId": "89fac072-7d7f-463c-9f53-2ea3acd8a8e1"
      },
      "source": [
        "df_country[df_country['cluster_label']==5]"
      ],
      "execution_count": 181,
      "outputs": [
        {
          "output_type": "execute_result",
          "data": {
            "text/html": [
              "<div>\n",
              "<style scoped>\n",
              "    .dataframe tbody tr th:only-of-type {\n",
              "        vertical-align: middle;\n",
              "    }\n",
              "\n",
              "    .dataframe tbody tr th {\n",
              "        vertical-align: top;\n",
              "    }\n",
              "\n",
              "    .dataframe thead th {\n",
              "        text-align: right;\n",
              "    }\n",
              "</style>\n",
              "<table border=\"1\" class=\"dataframe\">\n",
              "  <thead>\n",
              "    <tr style=\"text-align: right;\">\n",
              "      <th></th>\n",
              "      <th>retail_and_recreation_percent_change_from_baseline</th>\n",
              "      <th>grocery_and_pharmacy_percent_change_from_baseline</th>\n",
              "      <th>parks_percent_change_from_baseline</th>\n",
              "      <th>transit_stations_percent_change_from_baseline</th>\n",
              "      <th>workplaces_percent_change_from_baseline</th>\n",
              "      <th>residential_percent_change_from_baseline</th>\n",
              "      <th>cluster_label</th>\n",
              "    </tr>\n",
              "    <tr>\n",
              "      <th>country_region</th>\n",
              "      <th></th>\n",
              "      <th></th>\n",
              "      <th></th>\n",
              "      <th></th>\n",
              "      <th></th>\n",
              "      <th></th>\n",
              "      <th></th>\n",
              "    </tr>\n",
              "  </thead>\n",
              "  <tbody>\n",
              "    <tr>\n",
              "      <th>Angola</th>\n",
              "      <td>-22.0</td>\n",
              "      <td>-9.0</td>\n",
              "      <td>-22.0</td>\n",
              "      <td>-46.0</td>\n",
              "      <td>-5.0</td>\n",
              "      <td>15.0</td>\n",
              "      <td>5</td>\n",
              "    </tr>\n",
              "    <tr>\n",
              "      <th>Australia</th>\n",
              "      <td>-15.0</td>\n",
              "      <td>1.0</td>\n",
              "      <td>-18.0</td>\n",
              "      <td>-33.0</td>\n",
              "      <td>-13.0</td>\n",
              "      <td>9.0</td>\n",
              "      <td>5</td>\n",
              "    </tr>\n",
              "    <tr>\n",
              "      <th>Bahrain</th>\n",
              "      <td>-30.0</td>\n",
              "      <td>-11.0</td>\n",
              "      <td>-29.5</td>\n",
              "      <td>-28.0</td>\n",
              "      <td>-20.0</td>\n",
              "      <td>15.0</td>\n",
              "      <td>5</td>\n",
              "    </tr>\n",
              "    <tr>\n",
              "      <th>Brazil</th>\n",
              "      <td>-37.0</td>\n",
              "      <td>-1.0</td>\n",
              "      <td>-36.0</td>\n",
              "      <td>-41.0</td>\n",
              "      <td>-10.0</td>\n",
              "      <td>12.0</td>\n",
              "      <td>5</td>\n",
              "    </tr>\n",
              "    <tr>\n",
              "      <th>Cambodia</th>\n",
              "      <td>-16.0</td>\n",
              "      <td>-12.0</td>\n",
              "      <td>-11.0</td>\n",
              "      <td>-38.0</td>\n",
              "      <td>-15.0</td>\n",
              "      <td>9.0</td>\n",
              "      <td>5</td>\n",
              "    </tr>\n",
              "    <tr>\n",
              "      <th>Egypt</th>\n",
              "      <td>-39.0</td>\n",
              "      <td>6.0</td>\n",
              "      <td>-23.0</td>\n",
              "      <td>-34.0</td>\n",
              "      <td>-17.0</td>\n",
              "      <td>10.0</td>\n",
              "      <td>5</td>\n",
              "    </tr>\n",
              "    <tr>\n",
              "      <th>Gabon</th>\n",
              "      <td>-24.0</td>\n",
              "      <td>-13.0</td>\n",
              "      <td>-14.0</td>\n",
              "      <td>-32.0</td>\n",
              "      <td>-13.0</td>\n",
              "      <td>17.0</td>\n",
              "      <td>5</td>\n",
              "    </tr>\n",
              "    <tr>\n",
              "      <th>Ghana</th>\n",
              "      <td>-16.0</td>\n",
              "      <td>-7.0</td>\n",
              "      <td>-18.0</td>\n",
              "      <td>-19.0</td>\n",
              "      <td>-14.0</td>\n",
              "      <td>13.0</td>\n",
              "      <td>5</td>\n",
              "    </tr>\n",
              "    <tr>\n",
              "      <th>Guinea-Bissau</th>\n",
              "      <td>-22.0</td>\n",
              "      <td>-11.0</td>\n",
              "      <td>-15.0</td>\n",
              "      <td>-57.0</td>\n",
              "      <td>-15.0</td>\n",
              "      <td>17.0</td>\n",
              "      <td>5</td>\n",
              "    </tr>\n",
              "    <tr>\n",
              "      <th>Hong Kong</th>\n",
              "      <td>-22.0</td>\n",
              "      <td>-1.0</td>\n",
              "      <td>-16.0</td>\n",
              "      <td>-27.5</td>\n",
              "      <td>-13.0</td>\n",
              "      <td>12.0</td>\n",
              "      <td>5</td>\n",
              "    </tr>\n",
              "    <tr>\n",
              "      <th>Indonesia</th>\n",
              "      <td>-23.0</td>\n",
              "      <td>-8.0</td>\n",
              "      <td>-18.0</td>\n",
              "      <td>-43.0</td>\n",
              "      <td>-19.0</td>\n",
              "      <td>11.0</td>\n",
              "      <td>5</td>\n",
              "    </tr>\n",
              "    <tr>\n",
              "      <th>Iraq</th>\n",
              "      <td>-34.0</td>\n",
              "      <td>-11.0</td>\n",
              "      <td>-23.0</td>\n",
              "      <td>-32.0</td>\n",
              "      <td>-24.0</td>\n",
              "      <td>13.0</td>\n",
              "      <td>5</td>\n",
              "    </tr>\n",
              "    <tr>\n",
              "      <th>Kenya</th>\n",
              "      <td>-16.0</td>\n",
              "      <td>-14.0</td>\n",
              "      <td>-16.0</td>\n",
              "      <td>-22.0</td>\n",
              "      <td>-11.0</td>\n",
              "      <td>16.0</td>\n",
              "      <td>5</td>\n",
              "    </tr>\n",
              "    <tr>\n",
              "      <th>Malaysia</th>\n",
              "      <td>-35.0</td>\n",
              "      <td>-7.0</td>\n",
              "      <td>-23.5</td>\n",
              "      <td>-41.0</td>\n",
              "      <td>-22.0</td>\n",
              "      <td>12.0</td>\n",
              "      <td>5</td>\n",
              "    </tr>\n",
              "    <tr>\n",
              "      <th>Mali</th>\n",
              "      <td>-7.0</td>\n",
              "      <td>-9.0</td>\n",
              "      <td>-7.0</td>\n",
              "      <td>-33.0</td>\n",
              "      <td>-5.0</td>\n",
              "      <td>7.0</td>\n",
              "      <td>5</td>\n",
              "    </tr>\n",
              "    <tr>\n",
              "      <th>Myanmar (Burma)</th>\n",
              "      <td>-22.0</td>\n",
              "      <td>-11.0</td>\n",
              "      <td>-17.0</td>\n",
              "      <td>-24.0</td>\n",
              "      <td>-17.0</td>\n",
              "      <td>11.0</td>\n",
              "      <td>5</td>\n",
              "    </tr>\n",
              "    <tr>\n",
              "      <th>Namibia</th>\n",
              "      <td>-20.0</td>\n",
              "      <td>-7.0</td>\n",
              "      <td>-21.0</td>\n",
              "      <td>-50.0</td>\n",
              "      <td>-9.0</td>\n",
              "      <td>10.0</td>\n",
              "      <td>5</td>\n",
              "    </tr>\n",
              "    <tr>\n",
              "      <th>Nicaragua</th>\n",
              "      <td>-31.0</td>\n",
              "      <td>-15.0</td>\n",
              "      <td>-22.0</td>\n",
              "      <td>-30.0</td>\n",
              "      <td>-13.0</td>\n",
              "      <td>10.0</td>\n",
              "      <td>5</td>\n",
              "    </tr>\n",
              "    <tr>\n",
              "      <th>Nigeria</th>\n",
              "      <td>-16.0</td>\n",
              "      <td>-11.0</td>\n",
              "      <td>-17.0</td>\n",
              "      <td>-28.0</td>\n",
              "      <td>-9.0</td>\n",
              "      <td>9.0</td>\n",
              "      <td>5</td>\n",
              "    </tr>\n",
              "    <tr>\n",
              "      <th>Pakistan</th>\n",
              "      <td>-30.0</td>\n",
              "      <td>-18.0</td>\n",
              "      <td>-12.0</td>\n",
              "      <td>-29.0</td>\n",
              "      <td>-23.0</td>\n",
              "      <td>10.0</td>\n",
              "      <td>5</td>\n",
              "    </tr>\n",
              "    <tr>\n",
              "      <th>Qatar</th>\n",
              "      <td>-32.0</td>\n",
              "      <td>-2.0</td>\n",
              "      <td>-22.0</td>\n",
              "      <td>-37.0</td>\n",
              "      <td>-21.0</td>\n",
              "      <td>16.0</td>\n",
              "      <td>5</td>\n",
              "    </tr>\n",
              "    <tr>\n",
              "      <th>Rwanda</th>\n",
              "      <td>-26.0</td>\n",
              "      <td>-21.0</td>\n",
              "      <td>-8.0</td>\n",
              "      <td>-31.0</td>\n",
              "      <td>-23.0</td>\n",
              "      <td>16.0</td>\n",
              "      <td>5</td>\n",
              "    </tr>\n",
              "    <tr>\n",
              "      <th>Senegal</th>\n",
              "      <td>-28.0</td>\n",
              "      <td>-14.0</td>\n",
              "      <td>-14.0</td>\n",
              "      <td>-45.0</td>\n",
              "      <td>-7.0</td>\n",
              "      <td>9.0</td>\n",
              "      <td>5</td>\n",
              "    </tr>\n",
              "    <tr>\n",
              "      <th>Sri Lanka</th>\n",
              "      <td>-28.5</td>\n",
              "      <td>-11.0</td>\n",
              "      <td>-18.0</td>\n",
              "      <td>-26.0</td>\n",
              "      <td>-22.5</td>\n",
              "      <td>13.5</td>\n",
              "      <td>5</td>\n",
              "    </tr>\n",
              "    <tr>\n",
              "      <th>Thailand</th>\n",
              "      <td>-18.0</td>\n",
              "      <td>1.0</td>\n",
              "      <td>-24.0</td>\n",
              "      <td>-33.0</td>\n",
              "      <td>-18.5</td>\n",
              "      <td>9.0</td>\n",
              "      <td>5</td>\n",
              "    </tr>\n",
              "    <tr>\n",
              "      <th>Uganda</th>\n",
              "      <td>-33.0</td>\n",
              "      <td>-25.0</td>\n",
              "      <td>-10.0</td>\n",
              "      <td>-43.0</td>\n",
              "      <td>-7.0</td>\n",
              "      <td>15.0</td>\n",
              "      <td>5</td>\n",
              "    </tr>\n",
              "    <tr>\n",
              "      <th>Zimbabwe</th>\n",
              "      <td>-25.0</td>\n",
              "      <td>-9.0</td>\n",
              "      <td>-23.0</td>\n",
              "      <td>-41.0</td>\n",
              "      <td>-12.0</td>\n",
              "      <td>22.0</td>\n",
              "      <td>5</td>\n",
              "    </tr>\n",
              "  </tbody>\n",
              "</table>\n",
              "</div>"
            ],
            "text/plain": [
              "                 retail_and_recreation_percent_change_from_baseline  ...  cluster_label\n",
              "country_region                                                       ...               \n",
              "Angola                                                       -22.0   ...              5\n",
              "Australia                                                    -15.0   ...              5\n",
              "Bahrain                                                      -30.0   ...              5\n",
              "Brazil                                                       -37.0   ...              5\n",
              "Cambodia                                                     -16.0   ...              5\n",
              "Egypt                                                        -39.0   ...              5\n",
              "Gabon                                                        -24.0   ...              5\n",
              "Ghana                                                        -16.0   ...              5\n",
              "Guinea-Bissau                                                -22.0   ...              5\n",
              "Hong Kong                                                    -22.0   ...              5\n",
              "Indonesia                                                    -23.0   ...              5\n",
              "Iraq                                                         -34.0   ...              5\n",
              "Kenya                                                        -16.0   ...              5\n",
              "Malaysia                                                     -35.0   ...              5\n",
              "Mali                                                          -7.0   ...              5\n",
              "Myanmar (Burma)                                              -22.0   ...              5\n",
              "Namibia                                                      -20.0   ...              5\n",
              "Nicaragua                                                    -31.0   ...              5\n",
              "Nigeria                                                      -16.0   ...              5\n",
              "Pakistan                                                     -30.0   ...              5\n",
              "Qatar                                                        -32.0   ...              5\n",
              "Rwanda                                                       -26.0   ...              5\n",
              "Senegal                                                      -28.0   ...              5\n",
              "Sri Lanka                                                    -28.5   ...              5\n",
              "Thailand                                                     -18.0   ...              5\n",
              "Uganda                                                       -33.0   ...              5\n",
              "Zimbabwe                                                     -25.0   ...              5\n",
              "\n",
              "[27 rows x 7 columns]"
            ]
          },
          "metadata": {
            "tags": []
          },
          "execution_count": 181
        }
      ]
    },
    {
      "cell_type": "code",
      "metadata": {
        "id": "XLYsPuJD55uu",
        "colab_type": "code",
        "colab": {
          "base_uri": "https://localhost:8080/",
          "height": 253
        },
        "outputId": "449567f2-d087-4441-ca88-418b96eb4a6e"
      },
      "source": [
        "df_country[df_country['cluster_label']==6]"
      ],
      "execution_count": 182,
      "outputs": [
        {
          "output_type": "execute_result",
          "data": {
            "text/html": [
              "<div>\n",
              "<style scoped>\n",
              "    .dataframe tbody tr th:only-of-type {\n",
              "        vertical-align: middle;\n",
              "    }\n",
              "\n",
              "    .dataframe tbody tr th {\n",
              "        vertical-align: top;\n",
              "    }\n",
              "\n",
              "    .dataframe thead th {\n",
              "        text-align: right;\n",
              "    }\n",
              "</style>\n",
              "<table border=\"1\" class=\"dataframe\">\n",
              "  <thead>\n",
              "    <tr style=\"text-align: right;\">\n",
              "      <th></th>\n",
              "      <th>retail_and_recreation_percent_change_from_baseline</th>\n",
              "      <th>grocery_and_pharmacy_percent_change_from_baseline</th>\n",
              "      <th>parks_percent_change_from_baseline</th>\n",
              "      <th>transit_stations_percent_change_from_baseline</th>\n",
              "      <th>workplaces_percent_change_from_baseline</th>\n",
              "      <th>residential_percent_change_from_baseline</th>\n",
              "      <th>cluster_label</th>\n",
              "    </tr>\n",
              "    <tr>\n",
              "      <th>country_region</th>\n",
              "      <th></th>\n",
              "      <th></th>\n",
              "      <th></th>\n",
              "      <th></th>\n",
              "      <th></th>\n",
              "      <th></th>\n",
              "      <th></th>\n",
              "    </tr>\n",
              "  </thead>\n",
              "  <tbody>\n",
              "    <tr>\n",
              "      <th>Burkina Faso</th>\n",
              "      <td>-2.0</td>\n",
              "      <td>-1.0</td>\n",
              "      <td>-8.0</td>\n",
              "      <td>-16.0</td>\n",
              "      <td>0.0</td>\n",
              "      <td>3.0</td>\n",
              "      <td>6</td>\n",
              "    </tr>\n",
              "    <tr>\n",
              "      <th>Mongolia</th>\n",
              "      <td>-1.0</td>\n",
              "      <td>24.0</td>\n",
              "      <td>19.0</td>\n",
              "      <td>3.0</td>\n",
              "      <td>-4.0</td>\n",
              "      <td>0.0</td>\n",
              "      <td>6</td>\n",
              "    </tr>\n",
              "    <tr>\n",
              "      <th>Niger</th>\n",
              "      <td>-1.0</td>\n",
              "      <td>1.0</td>\n",
              "      <td>-12.0</td>\n",
              "      <td>-14.0</td>\n",
              "      <td>-4.0</td>\n",
              "      <td>2.0</td>\n",
              "      <td>6</td>\n",
              "    </tr>\n",
              "    <tr>\n",
              "      <th>Papua New Guinea</th>\n",
              "      <td>3.0</td>\n",
              "      <td>16.5</td>\n",
              "      <td>-10.0</td>\n",
              "      <td>-17.0</td>\n",
              "      <td>16.0</td>\n",
              "      <td>2.0</td>\n",
              "      <td>6</td>\n",
              "    </tr>\n",
              "    <tr>\n",
              "      <th>Taiwan</th>\n",
              "      <td>-8.0</td>\n",
              "      <td>4.0</td>\n",
              "      <td>-3.0</td>\n",
              "      <td>-15.5</td>\n",
              "      <td>3.0</td>\n",
              "      <td>2.0</td>\n",
              "      <td>6</td>\n",
              "    </tr>\n",
              "  </tbody>\n",
              "</table>\n",
              "</div>"
            ],
            "text/plain": [
              "                  retail_and_recreation_percent_change_from_baseline  ...  cluster_label\n",
              "country_region                                                        ...               \n",
              "Burkina Faso                                                   -2.0   ...              6\n",
              "Mongolia                                                       -1.0   ...              6\n",
              "Niger                                                          -1.0   ...              6\n",
              "Papua New Guinea                                                3.0   ...              6\n",
              "Taiwan                                                         -8.0   ...              6\n",
              "\n",
              "[5 rows x 7 columns]"
            ]
          },
          "metadata": {
            "tags": []
          },
          "execution_count": 182
        }
      ]
    }
  ]
}