{
  "nbformat": 4,
  "nbformat_minor": 0,
  "metadata": {
    "kernelspec": {
      "display_name": "Python 3",
      "language": "python",
      "name": "python3"
    },
    "language_info": {
      "codemirror_mode": {
        "name": "ipython",
        "version": 3
      },
      "file_extension": ".py",
      "mimetype": "text/x-python",
      "name": "python",
      "nbconvert_exporter": "python",
      "pygments_lexer": "ipython3",
      "version": "3.6.9"
    },
    "colab": {
      "name": "6.-modelos_no_supervisados.ipynb",
      "provenance": []
    }
  },
  "cells": [
    {
      "cell_type": "markdown",
      "metadata": {
        "id": "Xhb_3AVfJHjN",
        "colab_type": "text"
      },
      "source": [
        "# Modelos No Supervisados"
      ]
    },
    {
      "cell_type": "code",
      "metadata": {
        "id": "qxVoR0nqJHjO",
        "colab_type": "code",
        "colab": {}
      },
      "source": [
        "from sklearn.datasets import load_iris\n",
        "from sklearn import tree\n",
        "\n",
        "from sklearn.model_selection import train_test_split\n",
        "\n",
        "iris = load_iris()\n",
        "\n",
        "X_train, X_test, y_train, y_test = train_test_split(iris.data, iris.target, test_size=0.3, random_state=0)"
      ],
      "execution_count": 13,
      "outputs": []
    },
    {
      "cell_type": "code",
      "metadata": {
        "id": "QsO8hxIjJHjT",
        "colab_type": "code",
        "colab": {
          "base_uri": "https://localhost:8080/",
          "height": 35
        },
        "outputId": "2497d281-e1f6-4611-f2a3-f7a2a0c66ea6"
      },
      "source": [
        "iris.keys()"
      ],
      "execution_count": 14,
      "outputs": [
        {
          "output_type": "execute_result",
          "data": {
            "text/plain": [
              "dict_keys(['data', 'target', 'target_names', 'DESCR', 'feature_names', 'filename'])"
            ]
          },
          "metadata": {
            "tags": []
          },
          "execution_count": 14
        }
      ]
    },
    {
      "cell_type": "code",
      "metadata": {
        "id": "neb6oTpvJHjY",
        "colab_type": "code",
        "colab": {}
      },
      "source": [
        "from sklearn.cluster import KMeans\n",
        "\n",
        "k = 3\n",
        "kmeans = KMeans(n_clusters=k,init='k-means++').fit(X_train)\n",
        "y_pred = kmeans.predict(X_test)"
      ],
      "execution_count": 35,
      "outputs": []
    },
    {
      "cell_type": "code",
      "metadata": {
        "id": "rSSXfIoVJHjc",
        "colab_type": "code",
        "colab": {
          "base_uri": "https://localhost:8080/",
          "height": 171
        },
        "outputId": "5075b799-3018-4a80-e4dd-8cf9481e574a"
      },
      "source": [
        "import pandas as pd\n",
        "\n",
        "pd.crosstab(y_test,y_pred,rownames=['true values'],colnames=['cluster values'])"
      ],
      "execution_count": 36,
      "outputs": [
        {
          "output_type": "execute_result",
          "data": {
            "text/html": [
              "<div>\n",
              "<style scoped>\n",
              "    .dataframe tbody tr th:only-of-type {\n",
              "        vertical-align: middle;\n",
              "    }\n",
              "\n",
              "    .dataframe tbody tr th {\n",
              "        vertical-align: top;\n",
              "    }\n",
              "\n",
              "    .dataframe thead th {\n",
              "        text-align: right;\n",
              "    }\n",
              "</style>\n",
              "<table border=\"1\" class=\"dataframe\">\n",
              "  <thead>\n",
              "    <tr style=\"text-align: right;\">\n",
              "      <th>cluster values</th>\n",
              "      <th>0</th>\n",
              "      <th>1</th>\n",
              "      <th>2</th>\n",
              "    </tr>\n",
              "    <tr>\n",
              "      <th>true values</th>\n",
              "      <th></th>\n",
              "      <th></th>\n",
              "      <th></th>\n",
              "    </tr>\n",
              "  </thead>\n",
              "  <tbody>\n",
              "    <tr>\n",
              "      <th>0</th>\n",
              "      <td>16</td>\n",
              "      <td>0</td>\n",
              "      <td>0</td>\n",
              "    </tr>\n",
              "    <tr>\n",
              "      <th>1</th>\n",
              "      <td>0</td>\n",
              "      <td>0</td>\n",
              "      <td>18</td>\n",
              "    </tr>\n",
              "    <tr>\n",
              "      <th>2</th>\n",
              "      <td>0</td>\n",
              "      <td>7</td>\n",
              "      <td>4</td>\n",
              "    </tr>\n",
              "  </tbody>\n",
              "</table>\n",
              "</div>"
            ],
            "text/plain": [
              "cluster values   0  1   2\n",
              "true values              \n",
              "0               16  0   0\n",
              "1                0  0  18\n",
              "2                0  7   4"
            ]
          },
          "metadata": {
            "tags": []
          },
          "execution_count": 36
        }
      ]
    },
    {
      "cell_type": "code",
      "metadata": {
        "id": "-hUSQQq5JHjg",
        "colab_type": "code",
        "colab": {
          "base_uri": "https://localhost:8080/",
          "height": 71
        },
        "outputId": "13ecd16f-9618-47a5-8f9a-14e647f8ea72"
      },
      "source": [
        "from scipy.optimize import linear_sum_assignment\n",
        "\n",
        "cost = -1.0*pd.crosstab(y_test,y_pred)\n",
        "row_ind, col_ind = linear_sum_assignment(cost)\n",
        "\n",
        "for i,j in enumerate(col_ind):\n",
        "    print('Cluster Label : {0}, True Label : {1}'.format(i,j))"
      ],
      "execution_count": 25,
      "outputs": [
        {
          "output_type": "stream",
          "text": [
            "Cluster Label : 0, True Label : 1\n",
            "Cluster Label : 1, True Label : 0\n",
            "Cluster Label : 2, True Label : 2\n"
          ],
          "name": "stdout"
        }
      ]
    },
    {
      "cell_type": "code",
      "metadata": {
        "id": "UER_9REIJHjl",
        "colab_type": "code",
        "colab": {
          "base_uri": "https://localhost:8080/",
          "height": 35
        },
        "outputId": "ee7a872d-1256-4c42-9b8a-24dc4cec69d9"
      },
      "source": [
        "print(col_ind)"
      ],
      "execution_count": 20,
      "outputs": [
        {
          "output_type": "stream",
          "text": [
            "[2 0 1]\n"
          ],
          "name": "stdout"
        }
      ]
    },
    {
      "cell_type": "code",
      "metadata": {
        "id": "CcQ70zNUJHjp",
        "colab_type": "code",
        "colab": {}
      },
      "source": [
        "from sklearn.metrics import davies_bouldin_score,silhouette_score\n",
        "\n",
        "num_clusters=range(2,10)\n",
        "ind_1=list()\n",
        "ind_2=list()\n",
        "for k in num_clusters:\n",
        "    kmeans = KMeans(n_clusters=k,init='random').fit(X_train)\n",
        "    labels = kmeans.labels_\n",
        "    ind_1.append(davies_bouldin_score(X_train, labels))\n",
        "    ind_2.append(silhouette_score(X_train, labels))\n",
        "results=pd.DataFrame({'num_clusters':num_clusters,\n",
        "                      'Davies-Bouldin':ind_1,\n",
        "                      'Silhouette':ind_2})"
      ],
      "execution_count": 38,
      "outputs": []
    },
    {
      "cell_type": "code",
      "metadata": {
        "id": "og1kuEBeJHjt",
        "colab_type": "code",
        "colab": {
          "base_uri": "https://localhost:8080/",
          "height": 283
        },
        "outputId": "fda796a9-181a-4de0-a99e-6f0ce9a2b9f7"
      },
      "source": [
        "import matplotlib.pyplot as plt \n",
        "\n",
        "results.plot(x='num_clusters')\n",
        "plt.show()"
      ],
      "execution_count": 39,
      "outputs": [
        {
          "output_type": "display_data",
          "data": {
            "image/png": "[encoded data removed]",
            "text/plain": [
              "<Figure size 432x288 with 1 Axes>"
            ]
          },
          "metadata": {
            "tags": [],
            "needs_background": "light"
          }
        }
      ]
    },
    {
      "cell_type": "code",
      "metadata": {
        "id": "zo6t1HBpJHjx",
        "colab_type": "code",
        "colab": {
          "base_uri": "https://localhost:8080/",
          "height": 280
        },
        "outputId": "33160a8a-f322-48f2-ada0-bf55d61e4d19"
      },
      "source": [
        "ind_3=list()\n",
        "for k in num_clusters:\n",
        "    kmeans = KMeans(n_clusters=k,init='random').fit(X_train)\n",
        "    labels = kmeans.labels_\n",
        "    ind_3.append(kmeans.inertia_)\n",
        "results=pd.DataFrame({'num_clusters':num_clusters,\n",
        "                     'Inertia':ind_3})\n",
        "results.plot(x='num_clusters')\n",
        "plt.show()"
      ],
      "execution_count": 40,
      "outputs": [
        {
          "output_type": "display_data",
          "data": {
            "image/png": "[encoded data removed]",
            "text/plain": [
              "<Figure size 432x288 with 1 Axes>"
            ]
          },
          "metadata": {
            "tags": [],
            "needs_background": "light"
          }
        }
      ]
    },
    {
      "cell_type": "code",
      "metadata": {
        "id": "RG0cbl1pJHj1",
        "colab_type": "code",
        "colab": {}
      },
      "source": [
        "from sklearn.mixture import GaussianMixture\n",
        "\n",
        "gm = GaussianMixture(n_components=3,covariance_type='full', n_init=10,random_state=0)\n",
        "gm.fit(X_train)\n",
        "y_pred=gm.predict(X_test)"
      ],
      "execution_count": 69,
      "outputs": []
    },
    {
      "cell_type": "code",
      "metadata": {
        "id": "oxvi9HklJHj6",
        "colab_type": "code",
        "colab": {
          "base_uri": "https://localhost:8080/",
          "height": 171
        },
        "outputId": "3a1a67f8-8824-4ad7-c23d-81148580235c"
      },
      "source": [
        "pd.crosstab(y_test,y_pred,rownames=['true values'],colnames=['EM labels'])"
      ],
      "execution_count": 70,
      "outputs": [
        {
          "output_type": "execute_result",
          "data": {
            "text/html": [
              "<div>\n",
              "<style scoped>\n",
              "    .dataframe tbody tr th:only-of-type {\n",
              "        vertical-align: middle;\n",
              "    }\n",
              "\n",
              "    .dataframe tbody tr th {\n",
              "        vertical-align: top;\n",
              "    }\n",
              "\n",
              "    .dataframe thead th {\n",
              "        text-align: right;\n",
              "    }\n",
              "</style>\n",
              "<table border=\"1\" class=\"dataframe\">\n",
              "  <thead>\n",
              "    <tr style=\"text-align: right;\">\n",
              "      <th>EM labels</th>\n",
              "      <th>0</th>\n",
              "      <th>1</th>\n",
              "      <th>2</th>\n",
              "    </tr>\n",
              "    <tr>\n",
              "      <th>true values</th>\n",
              "      <th></th>\n",
              "      <th></th>\n",
              "      <th></th>\n",
              "    </tr>\n",
              "  </thead>\n",
              "  <tbody>\n",
              "    <tr>\n",
              "      <th>0</th>\n",
              "      <td>16</td>\n",
              "      <td>0</td>\n",
              "      <td>0</td>\n",
              "    </tr>\n",
              "    <tr>\n",
              "      <th>1</th>\n",
              "      <td>0</td>\n",
              "      <td>0</td>\n",
              "      <td>18</td>\n",
              "    </tr>\n",
              "    <tr>\n",
              "      <th>2</th>\n",
              "      <td>0</td>\n",
              "      <td>9</td>\n",
              "      <td>2</td>\n",
              "    </tr>\n",
              "  </tbody>\n",
              "</table>\n",
              "</div>"
            ],
            "text/plain": [
              "EM labels     0  1   2\n",
              "true values           \n",
              "0            16  0   0\n",
              "1             0  0  18\n",
              "2             0  9   2"
            ]
          },
          "metadata": {
            "tags": []
          },
          "execution_count": 70
        }
      ]
    },
    {
      "cell_type": "code",
      "metadata": {
        "id": "yjeA3fiFJHj-",
        "colab_type": "code",
        "colab": {
          "base_uri": "https://localhost:8080/",
          "height": 71
        },
        "outputId": "5e0ed88b-3147-40d1-9834-9c08e0b49b88"
      },
      "source": [
        "cost = -1.0*pd.crosstab(y_test,y_pred)\n",
        "row_ind, col_ind = linear_sum_assignment(cost)\n",
        "for i,j in enumerate(col_ind):\n",
        "    print('Cluster Label : {0}, True Label : {1}'.format(i,j))"
      ],
      "execution_count": 71,
      "outputs": [
        {
          "output_type": "stream",
          "text": [
            "Cluster Label : 0, True Label : 0\n",
            "Cluster Label : 1, True Label : 2\n",
            "Cluster Label : 2, True Label : 1\n"
          ],
          "name": "stdout"
        }
      ]
    },
    {
      "cell_type": "code",
      "metadata": {
        "id": "6ehfXehkJHkB",
        "colab_type": "code",
        "colab": {
          "base_uri": "https://localhost:8080/",
          "height": 161
        },
        "outputId": "99eec445-f8c6-42fc-cbc6-e748f5d88b9a"
      },
      "source": [
        "from sklearn.mixture import BayesianGaussianMixture\n",
        "\n",
        "bgm = BayesianGaussianMixture(n_components=10, n_init=10, random_state=42)\n",
        "bgm.fit(X_train)"
      ],
      "execution_count": 72,
      "outputs": [
        {
          "output_type": "execute_result",
          "data": {
            "text/plain": [
              "BayesianGaussianMixture(covariance_prior=None, covariance_type='full',\n",
              "                        degrees_of_freedom_prior=None, init_params='kmeans',\n",
              "                        max_iter=100, mean_precision_prior=None,\n",
              "                        mean_prior=None, n_components=10, n_init=10,\n",
              "                        random_state=42, reg_covar=1e-06, tol=0.001, verbose=0,\n",
              "                        verbose_interval=10, warm_start=False,\n",
              "                        weight_concentration_prior=None,\n",
              "                        weight_concentration_prior_type='dirichlet_process')"
            ]
          },
          "metadata": {
            "tags": []
          },
          "execution_count": 72
        }
      ]
    },
    {
      "cell_type": "code",
      "metadata": {
        "id": "NzhjWnvmJHkF",
        "colab_type": "code",
        "colab": {
          "base_uri": "https://localhost:8080/",
          "height": 35
        },
        "outputId": "dc01e698-f27b-4081-dd6a-47e95308f48d"
      },
      "source": [
        "import numpy as np\n",
        "\n",
        "print(\"BGM active components: %d\" % np.sum(bgm.weights_ > 0.01))"
      ],
      "execution_count": 73,
      "outputs": [
        {
          "output_type": "stream",
          "text": [
            "BGM active components: 3\n"
          ],
          "name": "stdout"
        }
      ]
    },
    {
      "cell_type": "markdown",
      "metadata": {
        "id": "xQHCs_VgJHkI",
        "colab_type": "text"
      },
      "source": [
        "# Tarea \n",
        "\n",
        "En este laboratorio Ud debe completar las siguientes tareas:\n",
        "\n",
        "\n",
        "1.  Implementar un modelo base no supervisado para las tasas de movilidad de los paises.\n",
        "2.  Reportar la metrica de ajuste del modelo base.\n",
        "3.  Reportar la metrica de ajuste del modelo variando el numero de clusters."
      ]
    },
    {
      "cell_type": "code",
      "metadata": {
        "id": "uP7SViQVJHkJ",
        "colab_type": "code",
        "colab": {
          "base_uri": "https://localhost:8080/",
          "height": 35
        },
        "outputId": "da069ddd-8ed6-47c2-9fb3-afb1ac8f1b14"
      },
      "source": [
        "try:\n",
        "    %tensorflow_version 2.x\n",
        "    COLAB = True\n",
        "    print(\"Note: using Google CoLab\")\n",
        "except:\n",
        "    print(\"Note: not using Google CoLab\")\n",
        "    COLAB = False"
      ],
      "execution_count": 74,
      "outputs": [
        {
          "output_type": "stream",
          "text": [
            "Note: using Google CoLab\n"
          ],
          "name": "stdout"
        }
      ]
    },
    {
      "cell_type": "code",
      "metadata": {
        "id": "dOU_rNWNJHkM",
        "colab_type": "code",
        "colab": {
          "base_uri": "https://localhost:8080/",
          "height": 73
        },
        "outputId": "90d8151a-4e4f-456c-a9fd-976451bef15d"
      },
      "source": [
        "import pandas as pd\n",
        "\n",
        "\n",
        "def get_mobility_data(download=False):\n",
        "    if download:\n",
        "        data=pd.read_csv('https://www.gstatic.com/covid19/mobility/Global_Mobility_Report.csv?cachebust=5a11e4fc1b8138c6')\n",
        "        #data.to_csv('data/mobility_data.csv',index=False)\n",
        "    else:\n",
        "        data=pd.read_csv('data/mobility_data.csv', low_memory=False)\n",
        "    return data\n",
        "\n",
        "mobility_report=get_mobility_data(COLAB)"
      ],
      "execution_count": 75,
      "outputs": [
        {
          "output_type": "stream",
          "text": [
            "/usr/local/lib/python3.6/dist-packages/IPython/core/interactiveshell.py:2822: DtypeWarning: Columns (4) have mixed types.Specify dtype option on import or set low_memory=False.\n",
            "  if self.run_code(code, result):\n"
          ],
          "name": "stderr"
        }
      ]
    },
    {
      "cell_type": "code",
      "metadata": {
        "id": "5wjV8vo3JHkP",
        "colab_type": "code",
        "colab": {
          "base_uri": "https://localhost:8080/",
          "height": 309
        },
        "outputId": "0b751f75-7850-4f23-d86d-8215d7c1246f"
      },
      "source": [
        "mobility_report.head()"
      ],
      "execution_count": 76,
      "outputs": [
        {
          "output_type": "execute_result",
          "data": {
            "text/html": [
              "<div>\n",
              "<style scoped>\n",
              "    .dataframe tbody tr th:only-of-type {\n",
              "        vertical-align: middle;\n",
              "    }\n",
              "\n",
              "    .dataframe tbody tr th {\n",
              "        vertical-align: top;\n",
              "    }\n",
              "\n",
              "    .dataframe thead th {\n",
              "        text-align: right;\n",
              "    }\n",
              "</style>\n",
              "<table border=\"1\" class=\"dataframe\">\n",
              "  <thead>\n",
              "    <tr style=\"text-align: right;\">\n",
              "      <th></th>\n",
              "      <th>country_region_code</th>\n",
              "      <th>country_region</th>\n",
              "      <th>sub_region_1</th>\n",
              "      <th>sub_region_2</th>\n",
              "      <th>metro_area</th>\n",
              "      <th>iso_3166_2_code</th>\n",
              "      <th>census_fips_code</th>\n",
              "      <th>date</th>\n",
              "      <th>retail_and_recreation_percent_change_from_baseline</th>\n",
              "      <th>grocery_and_pharmacy_percent_change_from_baseline</th>\n",
              "      <th>parks_percent_change_from_baseline</th>\n",
              "      <th>transit_stations_percent_change_from_baseline</th>\n",
              "      <th>workplaces_percent_change_from_baseline</th>\n",
              "      <th>residential_percent_change_from_baseline</th>\n",
              "    </tr>\n",
              "  </thead>\n",
              "  <tbody>\n",
              "    <tr>\n",
              "      <th>0</th>\n",
              "      <td>AE</td>\n",
              "      <td>United Arab Emirates</td>\n",
              "      <td>NaN</td>\n",
              "      <td>NaN</td>\n",
              "      <td>NaN</td>\n",
              "      <td>NaN</td>\n",
              "      <td>NaN</td>\n",
              "      <td>2020-02-15</td>\n",
              "      <td>0.0</td>\n",
              "      <td>4.0</td>\n",
              "      <td>5.0</td>\n",
              "      <td>0.0</td>\n",
              "      <td>2.0</td>\n",
              "      <td>1.0</td>\n",
              "    </tr>\n",
              "    <tr>\n",
              "      <th>1</th>\n",
              "      <td>AE</td>\n",
              "      <td>United Arab Emirates</td>\n",
              "      <td>NaN</td>\n",
              "      <td>NaN</td>\n",
              "      <td>NaN</td>\n",
              "      <td>NaN</td>\n",
              "      <td>NaN</td>\n",
              "      <td>2020-02-16</td>\n",
              "      <td>1.0</td>\n",
              "      <td>4.0</td>\n",
              "      <td>4.0</td>\n",
              "      <td>1.0</td>\n",
              "      <td>2.0</td>\n",
              "      <td>1.0</td>\n",
              "    </tr>\n",
              "    <tr>\n",
              "      <th>2</th>\n",
              "      <td>AE</td>\n",
              "      <td>United Arab Emirates</td>\n",
              "      <td>NaN</td>\n",
              "      <td>NaN</td>\n",
              "      <td>NaN</td>\n",
              "      <td>NaN</td>\n",
              "      <td>NaN</td>\n",
              "      <td>2020-02-17</td>\n",
              "      <td>-1.0</td>\n",
              "      <td>1.0</td>\n",
              "      <td>5.0</td>\n",
              "      <td>1.0</td>\n",
              "      <td>2.0</td>\n",
              "      <td>1.0</td>\n",
              "    </tr>\n",
              "    <tr>\n",
              "      <th>3</th>\n",
              "      <td>AE</td>\n",
              "      <td>United Arab Emirates</td>\n",
              "      <td>NaN</td>\n",
              "      <td>NaN</td>\n",
              "      <td>NaN</td>\n",
              "      <td>NaN</td>\n",
              "      <td>NaN</td>\n",
              "      <td>2020-02-18</td>\n",
              "      <td>-2.0</td>\n",
              "      <td>1.0</td>\n",
              "      <td>5.0</td>\n",
              "      <td>0.0</td>\n",
              "      <td>2.0</td>\n",
              "      <td>1.0</td>\n",
              "    </tr>\n",
              "    <tr>\n",
              "      <th>4</th>\n",
              "      <td>AE</td>\n",
              "      <td>United Arab Emirates</td>\n",
              "      <td>NaN</td>\n",
              "      <td>NaN</td>\n",
              "      <td>NaN</td>\n",
              "      <td>NaN</td>\n",
              "      <td>NaN</td>\n",
              "      <td>2020-02-19</td>\n",
              "      <td>-2.0</td>\n",
              "      <td>0.0</td>\n",
              "      <td>4.0</td>\n",
              "      <td>-1.0</td>\n",
              "      <td>2.0</td>\n",
              "      <td>1.0</td>\n",
              "    </tr>\n",
              "  </tbody>\n",
              "</table>\n",
              "</div>"
            ],
            "text/plain": [
              "  country_region_code  ... residential_percent_change_from_baseline\n",
              "0                  AE  ...                                      1.0\n",
              "1                  AE  ...                                      1.0\n",
              "2                  AE  ...                                      1.0\n",
              "3                  AE  ...                                      1.0\n",
              "4                  AE  ...                                      1.0\n",
              "\n",
              "[5 rows x 14 columns]"
            ]
          },
          "metadata": {
            "tags": []
          },
          "execution_count": 76
        }
      ]
    },
    {
      "cell_type": "code",
      "metadata": {
        "id": "0cKNNuAYJHkT",
        "colab_type": "code",
        "colab": {}
      },
      "source": [
        "mobility_report['date']=pd.to_datetime(mobility_report['date'],format='%Y/%m/%d')\n",
        "mobility_report['country_region_code'] = mobility_report['country_region_code'].astype('category')\n",
        "mobility_report['country_region'] = mobility_report['country_region'].astype('category')\n",
        "mobility_report['iso_3166_2_code'] = mobility_report['iso_3166_2_code'].astype('category')\n",
        "mobility_report.drop(['sub_region_1','sub_region_2','census_fips_code','iso_3166_2_code','metro_area'],axis=1,inplace=True)"
      ],
      "execution_count": 77,
      "outputs": []
    },
    {
      "cell_type": "code",
      "metadata": {
        "id": "rQeQyoJBJHkW",
        "colab_type": "code",
        "colab": {
          "base_uri": "https://localhost:8080/",
          "height": 197
        },
        "outputId": "949a55b1-6a32-412a-d6a4-104287cc31cc"
      },
      "source": [
        "mobility_report.dtypes"
      ],
      "execution_count": 78,
      "outputs": [
        {
          "output_type": "execute_result",
          "data": {
            "text/plain": [
              "country_region_code                                         category\n",
              "country_region                                              category\n",
              "date                                                  datetime64[ns]\n",
              "retail_and_recreation_percent_change_from_baseline           float64\n",
              "grocery_and_pharmacy_percent_change_from_baseline            float64\n",
              "parks_percent_change_from_baseline                           float64\n",
              "transit_stations_percent_change_from_baseline                float64\n",
              "workplaces_percent_change_from_baseline                      float64\n",
              "residential_percent_change_from_baseline                     float64\n",
              "dtype: object"
            ]
          },
          "metadata": {
            "tags": []
          },
          "execution_count": 78
        }
      ]
    },
    {
      "cell_type": "code",
      "metadata": {
        "id": "OT5fP0FlJHkZ",
        "colab_type": "code",
        "colab": {}
      },
      "source": [
        "grouped_df=mobility_report.groupby(['country_region'])"
      ],
      "execution_count": 79,
      "outputs": []
    },
    {
      "cell_type": "code",
      "metadata": {
        "id": "oXeJN7brJHkc",
        "colab_type": "code",
        "colab": {}
      },
      "source": [
        "df_country=grouped_df.median()"
      ],
      "execution_count": 81,
      "outputs": []
    },
    {
      "cell_type": "code",
      "metadata": {
        "id": "1LRAUtqYJHkf",
        "colab_type": "code",
        "colab": {
          "base_uri": "https://localhost:8080/",
          "height": 143
        },
        "outputId": "ca0f4f8a-f484-4721-fdd6-fe713681c403"
      },
      "source": [
        "df_country.isna().sum()"
      ],
      "execution_count": 82,
      "outputs": [
        {
          "output_type": "execute_result",
          "data": {
            "text/plain": [
              "retail_and_recreation_percent_change_from_baseline    0\n",
              "grocery_and_pharmacy_percent_change_from_baseline     0\n",
              "parks_percent_change_from_baseline                    1\n",
              "transit_stations_percent_change_from_baseline         1\n",
              "workplaces_percent_change_from_baseline               0\n",
              "residential_percent_change_from_baseline              3\n",
              "dtype: int64"
            ]
          },
          "metadata": {
            "tags": []
          },
          "execution_count": 82
        }
      ]
    },
    {
      "cell_type": "code",
      "metadata": {
        "id": "1aDAv3URKBGO",
        "colab_type": "code",
        "colab": {}
      },
      "source": [
        "df_country.fillna(method='ffill',inplace=True)"
      ],
      "execution_count": 83,
      "outputs": []
    },
    {
      "cell_type": "code",
      "metadata": {
        "id": "JHormCZbKHnP",
        "colab_type": "code",
        "colab": {
          "base_uri": "https://localhost:8080/",
          "height": 143
        },
        "outputId": "3423e456-a2b0-4b06-9dd0-f351c9af0d2a"
      },
      "source": [
        "df_country.isna().sum()"
      ],
      "execution_count": 84,
      "outputs": [
        {
          "output_type": "execute_result",
          "data": {
            "text/plain": [
              "retail_and_recreation_percent_change_from_baseline    0\n",
              "grocery_and_pharmacy_percent_change_from_baseline     0\n",
              "parks_percent_change_from_baseline                    0\n",
              "transit_stations_percent_change_from_baseline         0\n",
              "workplaces_percent_change_from_baseline               0\n",
              "residential_percent_change_from_baseline              0\n",
              "dtype: int64"
            ]
          },
          "metadata": {
            "tags": []
          },
          "execution_count": 84
        }
      ]
    },
    {
      "cell_type": "code",
      "metadata": {
        "id": "uOFwupZKsyMu",
        "colab_type": "code",
        "colab": {
          "base_uri": "https://localhost:8080/",
          "height": 483
        },
        "outputId": "88616f68-007d-4a23-e586-80a8b72b473f"
      },
      "source": [
        "df_country"
      ],
      "execution_count": 85,
      "outputs": [
        {
          "output_type": "execute_result",
          "data": {
            "text/html": [
              "<div>\n",
              "<style scoped>\n",
              "    .dataframe tbody tr th:only-of-type {\n",
              "        vertical-align: middle;\n",
              "    }\n",
              "\n",
              "    .dataframe tbody tr th {\n",
              "        vertical-align: top;\n",
              "    }\n",
              "\n",
              "    .dataframe thead th {\n",
              "        text-align: right;\n",
              "    }\n",
              "</style>\n",
              "<table border=\"1\" class=\"dataframe\">\n",
              "  <thead>\n",
              "    <tr style=\"text-align: right;\">\n",
              "      <th></th>\n",
              "      <th>retail_and_recreation_percent_change_from_baseline</th>\n",
              "      <th>grocery_and_pharmacy_percent_change_from_baseline</th>\n",
              "      <th>parks_percent_change_from_baseline</th>\n",
              "      <th>transit_stations_percent_change_from_baseline</th>\n",
              "      <th>workplaces_percent_change_from_baseline</th>\n",
              "      <th>residential_percent_change_from_baseline</th>\n",
              "    </tr>\n",
              "    <tr>\n",
              "      <th>country_region</th>\n",
              "      <th></th>\n",
              "      <th></th>\n",
              "      <th></th>\n",
              "      <th></th>\n",
              "      <th></th>\n",
              "      <th></th>\n",
              "    </tr>\n",
              "  </thead>\n",
              "  <tbody>\n",
              "    <tr>\n",
              "      <th>Afghanistan</th>\n",
              "      <td>-16.5</td>\n",
              "      <td>0.0</td>\n",
              "      <td>-6.0</td>\n",
              "      <td>-16.0</td>\n",
              "      <td>-18.0</td>\n",
              "      <td>8.0</td>\n",
              "    </tr>\n",
              "    <tr>\n",
              "      <th>Angola</th>\n",
              "      <td>-22.0</td>\n",
              "      <td>-9.0</td>\n",
              "      <td>-22.0</td>\n",
              "      <td>-46.0</td>\n",
              "      <td>-5.0</td>\n",
              "      <td>15.0</td>\n",
              "    </tr>\n",
              "    <tr>\n",
              "      <th>Antigua and Barbuda</th>\n",
              "      <td>-29.0</td>\n",
              "      <td>-18.5</td>\n",
              "      <td>-14.0</td>\n",
              "      <td>-51.0</td>\n",
              "      <td>-35.0</td>\n",
              "      <td>17.0</td>\n",
              "    </tr>\n",
              "    <tr>\n",
              "      <th>Argentina</th>\n",
              "      <td>-63.0</td>\n",
              "      <td>-17.0</td>\n",
              "      <td>-77.0</td>\n",
              "      <td>-60.0</td>\n",
              "      <td>-17.0</td>\n",
              "      <td>16.0</td>\n",
              "    </tr>\n",
              "    <tr>\n",
              "      <th>Aruba</th>\n",
              "      <td>-31.5</td>\n",
              "      <td>-8.0</td>\n",
              "      <td>-18.5</td>\n",
              "      <td>-48.0</td>\n",
              "      <td>-27.0</td>\n",
              "      <td>12.0</td>\n",
              "    </tr>\n",
              "    <tr>\n",
              "      <th>...</th>\n",
              "      <td>...</td>\n",
              "      <td>...</td>\n",
              "      <td>...</td>\n",
              "      <td>...</td>\n",
              "      <td>...</td>\n",
              "      <td>...</td>\n",
              "    </tr>\n",
              "    <tr>\n",
              "      <th>Venezuela</th>\n",
              "      <td>-45.0</td>\n",
              "      <td>-24.0</td>\n",
              "      <td>-41.0</td>\n",
              "      <td>-49.0</td>\n",
              "      <td>-31.5</td>\n",
              "      <td>16.0</td>\n",
              "    </tr>\n",
              "    <tr>\n",
              "      <th>Vietnam</th>\n",
              "      <td>-17.0</td>\n",
              "      <td>-6.0</td>\n",
              "      <td>-19.0</td>\n",
              "      <td>-15.0</td>\n",
              "      <td>3.0</td>\n",
              "      <td>5.0</td>\n",
              "    </tr>\n",
              "    <tr>\n",
              "      <th>Yemen</th>\n",
              "      <td>-4.0</td>\n",
              "      <td>2.0</td>\n",
              "      <td>-6.0</td>\n",
              "      <td>-5.5</td>\n",
              "      <td>-6.0</td>\n",
              "      <td>5.0</td>\n",
              "    </tr>\n",
              "    <tr>\n",
              "      <th>Zambia</th>\n",
              "      <td>-6.0</td>\n",
              "      <td>-3.0</td>\n",
              "      <td>0.0</td>\n",
              "      <td>-10.0</td>\n",
              "      <td>-4.0</td>\n",
              "      <td>11.0</td>\n",
              "    </tr>\n",
              "    <tr>\n",
              "      <th>Zimbabwe</th>\n",
              "      <td>-25.0</td>\n",
              "      <td>-9.0</td>\n",
              "      <td>-23.0</td>\n",
              "      <td>-41.0</td>\n",
              "      <td>-12.0</td>\n",
              "      <td>22.0</td>\n",
              "    </tr>\n",
              "  </tbody>\n",
              "</table>\n",
              "<p>135 rows × 6 columns</p>\n",
              "</div>"
            ],
            "text/plain": [
              "                     retail_and_recreation_percent_change_from_baseline  ...  residential_percent_change_from_baseline\n",
              "country_region                                                           ...                                          \n",
              "Afghanistan                                                      -16.5   ...                                       8.0\n",
              "Angola                                                           -22.0   ...                                      15.0\n",
              "Antigua and Barbuda                                              -29.0   ...                                      17.0\n",
              "Argentina                                                        -63.0   ...                                      16.0\n",
              "Aruba                                                            -31.5   ...                                      12.0\n",
              "...                                                                ...   ...                                       ...\n",
              "Venezuela                                                        -45.0   ...                                      16.0\n",
              "Vietnam                                                          -17.0   ...                                       5.0\n",
              "Yemen                                                             -4.0   ...                                       5.0\n",
              "Zambia                                                            -6.0   ...                                      11.0\n",
              "Zimbabwe                                                         -25.0   ...                                      22.0\n",
              "\n",
              "[135 rows x 6 columns]"
            ]
          },
          "metadata": {
            "tags": []
          },
          "execution_count": 85
        }
      ]
    },
    {
      "cell_type": "code",
      "metadata": {
        "id": "ngf9udy5s_1x",
        "colab_type": "code",
        "colab": {}
      },
      "source": [
        "X=df_country.values"
      ],
      "execution_count": 86,
      "outputs": []
    }
  ]
}