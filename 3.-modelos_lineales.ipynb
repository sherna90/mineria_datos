{
  "nbformat": 4,
  "nbformat_minor": 0,
  "metadata": {
    "kernelspec": {
      "display_name": "Python 3",
      "language": "python",
      "name": "python3"
    },
    "language_info": {
      "codemirror_mode": {
        "name": "ipython",
        "version": 3
      },
      "file_extension": ".py",
      "mimetype": "text/x-python",
      "name": "python",
      "nbconvert_exporter": "python",
      "pygments_lexer": "ipython3",
      "version": "3.6.9"
    },
    "colab": {
      "name": "3.-modelos_lineales.ipynb",
      "provenance": []
    }
  },
  "cells": [
    {
      "cell_type": "markdown",
      "metadata": {
        "id": "n9m1eTNuP8hJ"
      },
      "source": [
        "# Modelos lineales y regularizacion"
      ]
    },
    {
      "cell_type": "code",
      "metadata": {
        "id": "5gmbtaA1P8hK"
      },
      "source": [
        "import numpy as np\n",
        "\n",
        "n=100\n",
        "X = 2 * np.random.rand(n, 1)\n",
        "y = 4 + 3 * X + np.random.randn(n, 1)"
      ],
      "execution_count": 1,
      "outputs": []
    },
    {
      "cell_type": "code",
      "metadata": {
        "id": "9Hioht9NP8hQ",
        "colab": {
          "base_uri": "https://localhost:8080/",
          "height": 265
        },
        "outputId": "643b16bc-577d-471a-ae86-c292ad421690"
      },
      "source": [
        "import matplotlib.pyplot as plt\n",
        "\n",
        "plt.plot(X,y,'b.')\n",
        "plt.axis([0, 2, 0, 15])\n",
        "plt.show()"
      ],
      "execution_count": 2,
      "outputs": [
        {
          "output_type": "display_data",
          "data": {
            "image/png": "[encoded data removed]",
            "text/plain": [
              "<Figure size 432x288 with 1 Axes>"
            ]
          },
          "metadata": {
            "needs_background": "light"
          }
        }
      ]
    },
    {
      "cell_type": "code",
      "metadata": {
        "id": "VAPmUn0_P8hV"
      },
      "source": [
        "X_b = np.c_[np.ones((n, 1)), X] # add x0 = 1 to each instance\n",
        "# w_hat \n",
        "w_hat = np.linalg.inv(X_b.T.dot(X_b)).dot(X_b.T).dot(y)"
      ],
      "execution_count": 8,
      "outputs": []
    },
    {
      "cell_type": "code",
      "metadata": {
        "id": "n1cuoBufW8CP",
        "colab": {
          "base_uri": "https://localhost:8080/"
        },
        "outputId": "98a1649f-4218-471b-b049-2c3e9bdf7640"
      },
      "source": [
        "X_b.shape"
      ],
      "execution_count": 9,
      "outputs": [
        {
          "output_type": "execute_result",
          "data": {
            "text/plain": [
              "(100, 2)"
            ]
          },
          "metadata": {},
          "execution_count": 9
        }
      ]
    },
    {
      "cell_type": "code",
      "metadata": {
        "id": "iV_2jhl-P8hZ",
        "colab": {
          "base_uri": "https://localhost:8080/"
        },
        "outputId": "578edca1-2237-4d83-e414-6a1efecdeba0"
      },
      "source": [
        "print(w_hat)"
      ],
      "execution_count": 10,
      "outputs": [
        {
          "output_type": "stream",
          "name": "stdout",
          "text": [
            "[[4.17364209]\n",
            " [2.60531093]]\n"
          ]
        }
      ]
    },
    {
      "cell_type": "code",
      "metadata": {
        "id": "BLoEl6BtP8hd"
      },
      "source": [
        "X_new = np.array([[0], [2]])\n",
        "X_new_b = np.c_[np.ones((2, 1)), X_new] # add x0 = 1 to each instance\n",
        "y_predict = X_new_b.dot(w_hat)"
      ],
      "execution_count": 11,
      "outputs": []
    },
    {
      "cell_type": "code",
      "metadata": {
        "id": "6mK0UA_GP8hh",
        "colab": {
          "base_uri": "https://localhost:8080/",
          "height": 265
        },
        "outputId": "0cf5ec58-d193-4dcd-9442-0d7a9df8ef5e"
      },
      "source": [
        "plt.plot(X_new, y_predict, \"r-\")\n",
        "plt.plot(X, y, \"b.\")\n",
        "plt.axis([0, 2, 0, 15])\n",
        "plt.show()"
      ],
      "execution_count": 12,
      "outputs": [
        {
          "output_type": "display_data",
          "data": {
            "image/png": "[encoded data removed]",
            "text/plain": [
              "<Figure size 432x288 with 1 Axes>"
            ]
          },
          "metadata": {
            "needs_background": "light"
          }
        }
      ]
    },
    {
      "cell_type": "code",
      "metadata": {
        "id": "2ESD2EPCP8hl",
        "colab": {
          "base_uri": "https://localhost:8080/"
        },
        "outputId": "4048b7f6-49cb-46eb-b4ca-9462ad163e25"
      },
      "source": [
        "from sklearn.linear_model import LinearRegression\n",
        "\n",
        "lin_reg = LinearRegression()\n",
        "lin_reg.fit(X, y)\n",
        "print('Coeficientes Sklearn : ',lin_reg.intercept_, lin_reg.coef_)\n",
        "print('Coeficientes Manual : ',w_hat)"
      ],
      "execution_count": 13,
      "outputs": [
        {
          "output_type": "stream",
          "name": "stdout",
          "text": [
            "Coeficientes Sklearn :  [4.17364209] [[2.60531093]]\n",
            "Coeficientes Manual :  [[4.17364209]\n",
            " [2.60531093]]\n"
          ]
        }
      ]
    },
    {
      "cell_type": "markdown",
      "metadata": {
        "id": "7agtsdj1P8hq"
      },
      "source": [
        "# Regularizacion"
      ]
    },
    {
      "cell_type": "code",
      "metadata": {
        "id": "Jkt-6Cj2P8hr"
      },
      "source": [
        "X = 2 * np.random.rand(100, 1)\n",
        "y = 4 + 3 * np.sin(X) + np.random.randn(100, 1)"
      ],
      "execution_count": null,
      "outputs": []
    },
    {
      "cell_type": "code",
      "metadata": {
        "id": "1fpghK28P8hu",
        "colab": {
          "base_uri": "https://localhost:8080/",
          "height": 265
        },
        "outputId": "43fc2e89-17e5-4b77-9f93-b986e47fade8"
      },
      "source": [
        "import matplotlib.pyplot as plt\n",
        "\n",
        "plt.plot(X,y,'b.')\n",
        "plt.axis([0, 2, 0, 15])\n",
        "plt.show()"
      ],
      "execution_count": null,
      "outputs": [
        {
          "output_type": "display_data",
          "data": {
            "image/png": "[encoded data removed]",
            "text/plain": [
              "<Figure size 432x288 with 1 Axes>"
            ]
          },
          "metadata": {
            "needs_background": "light"
          }
        }
      ]
    },
    {
      "cell_type": "code",
      "metadata": {
        "id": "hM-I4JzQP8hy"
      },
      "source": [
        "from sklearn.preprocessing import PolynomialFeatures\n",
        "\n",
        "poly=PolynomialFeatures(degree=2,interaction_only=False,include_bias=True)\n",
        "poly.fit(X)\n",
        "X_p=poly.transform(X)"
      ],
      "execution_count": null,
      "outputs": []
    },
    {
      "cell_type": "code",
      "metadata": {
        "id": "nzfd8RSIP8h2",
        "colab": {
          "base_uri": "https://localhost:8080/"
        },
        "outputId": "262c1b18-b5bd-4790-b853-e5cb946c5fbb"
      },
      "source": [
        "X_p[0]"
      ],
      "execution_count": null,
      "outputs": [
        {
          "output_type": "execute_result",
          "data": {
            "text/plain": [
              "array([1.        , 1.75705675, 3.08724843])"
            ]
          },
          "metadata": {},
          "execution_count": 12
        }
      ]
    },
    {
      "cell_type": "code",
      "metadata": {
        "id": "w1sHshmnaQtN",
        "colab": {
          "base_uri": "https://localhost:8080/"
        },
        "outputId": "1a07f960-84d3-4984-896d-6358d61364ff"
      },
      "source": [
        "lin_reg = LinearRegression()\n",
        "lin_reg.fit(X, y)\n",
        "r2=lin_reg.score(X, y)\n",
        "print('Coeficiente Determinacion :',r2)\n",
        "print('Coeficientes Sklearn : ',lin_reg.intercept_, lin_reg.coef_)"
      ],
      "execution_count": null,
      "outputs": [
        {
          "output_type": "stream",
          "name": "stdout",
          "text": [
            "Coeficiente Determinacion : 0.39007262277083776\n",
            "Coeficientes Sklearn :  [4.56530569] [[1.48675753]]\n"
          ]
        }
      ]
    },
    {
      "cell_type": "code",
      "metadata": {
        "id": "0FHDaKWzP8iE",
        "colab": {
          "base_uri": "https://localhost:8080/"
        },
        "outputId": "93a67dd3-6e92-4b36-e430-b4b1feabdd9a"
      },
      "source": [
        "lin_reg = LinearRegression()\n",
        "lin_reg.fit(X_p, y)\n",
        "r2=lin_reg.score(X_p, y)\n",
        "print('Coeficientes Sklearn : ',lin_reg.intercept_, lin_reg.coef_)\n",
        "print('Coeficiente Determinacion :',r2)"
      ],
      "execution_count": null,
      "outputs": [
        {
          "output_type": "stream",
          "name": "stdout",
          "text": [
            "Coeficientes Sklearn :  [4.02462452] [[ 0.          3.1073279  -0.80935799]]\n",
            "Coeficiente Determinacion : 0.42051678772550866\n"
          ]
        }
      ]
    },
    {
      "cell_type": "code",
      "metadata": {
        "id": "7-MG4QN7P8iI"
      },
      "source": [
        "y_predict=lin_reg.predict(X_p)"
      ],
      "execution_count": null,
      "outputs": []
    },
    {
      "cell_type": "code",
      "metadata": {
        "id": "gugnbYSTP8iL",
        "colab": {
          "base_uri": "https://localhost:8080/",
          "height": 285
        },
        "outputId": "0ec110c5-1838-4860-9e82-0368516a7e03"
      },
      "source": [
        "plt.plot(X_p[:,1], y_predict, \"r.\")\n",
        "plt.plot(X,y,'b.')\n",
        "plt.title(r'Polinomio : {0}, $R^2$:{1:0.2f}'.format(2,r2))\n",
        "plt.axis([0, 2, 0, 15])\n",
        "plt.show()"
      ],
      "execution_count": null,
      "outputs": [
        {
          "output_type": "display_data",
          "data": {
            "image/png": "[encoded data removed]",
            "text/plain": [
              "<Figure size 432x288 with 1 Axes>"
            ]
          },
          "metadata": {
            "needs_background": "light"
          }
        }
      ]
    },
    {
      "cell_type": "code",
      "metadata": {
        "id": "EG4RnADVP8iZ",
        "colab": {
          "base_uri": "https://localhost:8080/",
          "height": 307
        },
        "outputId": "6bc31827-455a-47dd-86e1-7d0312bd34c1"
      },
      "source": [
        "K=5\n",
        "poly=PolynomialFeatures(degree=K,interaction_only=False,include_bias=True)\n",
        "poly.fit(X)\n",
        "X_p=poly.transform(X)\n",
        "lin_reg = LinearRegression()\n",
        "lin_reg.fit(X_p, y)\n",
        "r2=lin_reg.score(X_p, y)\n",
        "X_new=np.linspace(-3, 3, 100).reshape(100, 1)\n",
        "X_new_poly = poly.transform(X_new)\n",
        "y_new = lin_reg.predict(X_new_poly)\n",
        "plt.plot(X, y, \"b.\")\n",
        "plt.plot(X_new, y_new, \"r-\", linewidth=2, label=\"Predictions\")\n",
        "plt.xlabel(\"$x_1$\", fontsize=18)\n",
        "plt.ylabel(\"$y$\", rotation=0, fontsize=18)\n",
        "plt.axis([0, 2, 0, 15])\n",
        "plt.title(r'Polinomio : {0}, $R^2$:{1:0.2f}'.format(K,r2))\n",
        "plt.show()"
      ],
      "execution_count": null,
      "outputs": [
        {
          "output_type": "display_data",
          "data": {
            "image/png": "[encoded data removed]",
            "text/plain": [
              "<Figure size 432x288 with 1 Axes>"
            ]
          },
          "metadata": {
            "needs_background": "light"
          }
        }
      ]
    },
    {
      "cell_type": "code",
      "metadata": {
        "id": "GtNRbIlvP8id",
        "colab": {
          "base_uri": "https://localhost:8080/",
          "height": 307
        },
        "outputId": "0522bc9c-e752-43e7-af07-7e79a0987a5a"
      },
      "source": [
        "K=20\n",
        "poly=PolynomialFeatures(degree=K,interaction_only=False,include_bias=True)\n",
        "poly.fit(X)\n",
        "X_p=poly.transform(X)\n",
        "lin_reg = LinearRegression()\n",
        "lin_reg.fit(X_p, y)\n",
        "r2=lin_reg.score(X_p, y)\n",
        "X_new=np.linspace(-3, 3, 100).reshape(100, 1)\n",
        "X_new_poly = poly.transform(X_new)\n",
        "y_new = lin_reg.predict(X_new_poly)\n",
        "plt.plot(X, y, \"b.\")\n",
        "plt.plot(X_new, y_new, \"r-\", linewidth=2, label=\"Predictions\")\n",
        "plt.xlabel(\"$x_1$\", fontsize=18)\n",
        "plt.ylabel(\"$y$\", rotation=0, fontsize=18)\n",
        "plt.axis([0, 2, 0, 15])\n",
        "plt.title(r'Polinomio : {0}, $R^2$:{1:0.2f}'.format(K,r2))\n",
        "plt.show()"
      ],
      "execution_count": null,
      "outputs": [
        {
          "output_type": "display_data",
          "data": {
            "image/png": "[encoded data removed]",
            "text/plain": [
              "<Figure size 432x288 with 1 Axes>"
            ]
          },
          "metadata": {
            "needs_background": "light"
          }
        }
      ]
    },
    {
      "cell_type": "code",
      "metadata": {
        "id": "vANlTocnP8ii",
        "colab": {
          "base_uri": "https://localhost:8080/"
        },
        "outputId": "8c15e4c9-69e5-434d-8f1b-f16c8b88841c"
      },
      "source": [
        "print(X_p.shape)"
      ],
      "execution_count": null,
      "outputs": [
        {
          "output_type": "stream",
          "name": "stdout",
          "text": [
            "(100, 21)\n"
          ]
        }
      ]
    },
    {
      "cell_type": "code",
      "metadata": {
        "id": "s9UKeEHiP8im",
        "colab": {
          "base_uri": "https://localhost:8080/",
          "height": 307
        },
        "outputId": "69eb3873-afe6-493b-9b2c-7e5c0f26bb1b"
      },
      "source": [
        "from sklearn.linear_model import Ridge\n",
        "\n",
        "lamb=0.1\n",
        "K=20\n",
        "\n",
        "poly=PolynomialFeatures(degree=K,interaction_only=False,include_bias=True)\n",
        "poly.fit(X)\n",
        "X_p=poly.transform(X)\n",
        "\n",
        "ridge_reg = Ridge(alpha=lamb, solver=\"cholesky\", random_state=42)\n",
        "ridge_reg.fit(X_p, y)\n",
        "r2=ridge_reg.score(X_p, y)\n",
        "\n",
        "X_new=np.linspace(-3, 3, 100).reshape(100, 1)\n",
        "X_new_poly = poly.transform(X_new)\n",
        "y_new = ridge_reg.predict(X_new_poly)\n",
        "plt.plot(X, y, \"b.\")\n",
        "plt.plot(X_new, y_new, \"r-\", linewidth=2, label=\"Predictions\")\n",
        "plt.xlabel(\"$x_1$\", fontsize=18)\n",
        "plt.ylabel(\"$y$\", rotation=0, fontsize=18)\n",
        "plt.axis([0, 2, 0, 15])\n",
        "plt.title(r'Polinomio : {0}, Ridge $\\lambda$ : {1}, $R^2$:{2:0.2f}'.\n",
        "          format(K,lamb,r2))\n",
        "plt.show()"
      ],
      "execution_count": null,
      "outputs": [
        {
          "output_type": "display_data",
          "data": {
            "image/png": "[encoded data removed]",
            "text/plain": [
              "<Figure size 432x288 with 1 Axes>"
            ]
          },
          "metadata": {
            "needs_background": "light"
          }
        }
      ]
    },
    {
      "cell_type": "code",
      "metadata": {
        "id": "bwaOKLyAP8iq",
        "colab": {
          "base_uri": "https://localhost:8080/",
          "height": 361
        },
        "outputId": "3224f8e4-b78f-416f-d0f2-8974f27d107a"
      },
      "source": [
        "from sklearn.linear_model import Lasso\n",
        "\n",
        "lamb=0.1\n",
        "K=20\n",
        "\n",
        "poly=PolynomialFeatures(degree=K,interaction_only=False,include_bias=True)\n",
        "poly.fit(X)\n",
        "X_p=poly.transform(X)\n",
        "\n",
        "lasso_reg = Lasso(alpha=0.1)\n",
        "lasso_reg.fit(X_p, y)\n",
        "r2=lasso_reg.score(X_p, y)\n",
        "\n",
        "X_new=np.linspace(-3, 3, 100).reshape(100, 1)\n",
        "X_new_poly = poly.transform(X_new)\n",
        "y_new = lasso_reg.predict(X_new_poly)\n",
        "plt.plot(X, y, \"b.\")\n",
        "plt.plot(X_new, y_new, \"r-\", linewidth=2, label=\"Predictions\")\n",
        "plt.xlabel(\"$x_1$\", fontsize=18)\n",
        "plt.ylabel(\"$y$\", rotation=0, fontsize=18)\n",
        "plt.axis([0, 2, 0, 15])\n",
        "plt.title(r'Polinomio : {0}, Lasso $\\lambda$ : {1}, $R^2$:{2:0.2f}'.\n",
        "          format(K,lamb,r2))\n",
        "plt.show()"
      ],
      "execution_count": null,
      "outputs": [
        {
          "output_type": "stream",
          "name": "stderr",
          "text": [
            "/usr/local/lib/python3.7/dist-packages/sklearn/linear_model/_coordinate_descent.py:476: ConvergenceWarning: Objective did not converge. You might want to increase the number of iterations. Duality gap: 66.16127105687363, tolerance: 0.01892441780847124\n",
            "  positive)\n"
          ]
        },
        {
          "output_type": "display_data",
          "data": {
            "image/png": "[encoded data removed]",
            "text/plain": [
              "<Figure size 432x288 with 1 Axes>"
            ]
          },
          "metadata": {
            "needs_background": "light"
          }
        }
      ]
    },
    {
      "cell_type": "code",
      "metadata": {
        "id": "tjga_BNUP8it",
        "colab": {
          "base_uri": "https://localhost:8080/",
          "height": 420
        },
        "outputId": "e26a2852-fa10-4bc6-fad0-7bb3b5072138"
      },
      "source": [
        "x = np.arange(len(lasso_reg.coef_))  # the label locations\n",
        "width = 0.5  # the width of the bars\n",
        "fig, ax = plt.subplots(figsize=(15,7))\n",
        "rects1 = ax.bar(x - width/2, lasso_reg.coef_, width, label='Lasso')\n",
        "rects2 = ax.bar(x + width/2, ridge_reg.coef_[0], width, label='Ridge')\n",
        "#rects3 = ax.bar(x + width/2, lin_reg.coef_[0], width, label='Linear')\n",
        "ax.set_ylabel('Coeficientes')\n",
        "ax.set_title('Coeficientes por regularizacion')\n",
        "ax.set_xticks(x)\n",
        "#ax.set_xticklabels(labels)\n",
        "ax.legend()"
      ],
      "execution_count": null,
      "outputs": [
        {
          "output_type": "execute_result",
          "data": {
            "text/plain": [
              "<matplotlib.legend.Legend at 0x7fb9747499d0>"
            ]
          },
          "metadata": {},
          "execution_count": 23
        },
        {
          "output_type": "display_data",
          "data": {
            "image/png": "[encoded data removed]",
            "text/plain": [
              "<Figure size 1080x504 with 1 Axes>"
            ]
          },
          "metadata": {
            "needs_background": "light"
          }
        }
      ]
    },
    {
      "cell_type": "markdown",
      "metadata": {
        "id": "EP1eQeJeP8iw"
      },
      "source": [
        "# Tarea\n",
        "\n",
        "En este laboratorio Ud debe completar las siguientes tareas:\n",
        "\n",
        "\n",
        "1.   Implementar un modelo base para predecir el total de 'nuevos casos' a partir de las distintas vacunas y las medidas administradas en Chile.\n",
        "2. Reportar la metrica de ajuste del modelo base.\n",
        "3. Reportar la metrica de ajuste del modelo regularizacion.\n"
      ]
    },
    {
      "cell_type": "code",
      "metadata": {
        "id": "7j1A7-VHT-Xb"
      },
      "source": [
        "import pandas as pd\n",
        "\n",
        "data_cases = pd.read_csv(\n",
        "    \"https://storage.googleapis.com/covid19-open-data/v3/epidemiology.csv\",\n",
        "    keep_default_na=False,\n",
        "    na_values=[\"\"],\n",
        ")"
      ],
      "execution_count": 14,
      "outputs": []
    },
    {
      "cell_type": "code",
      "metadata": {
        "id": "ZNOq-3jS9UE0",
        "colab": {
          "base_uri": "https://localhost:8080/"
        },
        "outputId": "20656f51-8d47-451e-823e-d6db7f5be9f1"
      },
      "source": [
        "for i,c in enumerate(data_cases.columns):\n",
        "  print(i,c)"
      ],
      "execution_count": 15,
      "outputs": [
        {
          "output_type": "stream",
          "name": "stdout",
          "text": [
            "0 date\n",
            "1 location_key\n",
            "2 new_confirmed\n",
            "3 new_deceased\n",
            "4 new_recovered\n",
            "5 new_tested\n",
            "6 cumulative_confirmed\n",
            "7 cumulative_deceased\n",
            "8 cumulative_recovered\n",
            "9 cumulative_tested\n"
          ]
        }
      ]
    },
    {
      "cell_type": "code",
      "metadata": {
        "id": "f9hlY14JXE4u"
      },
      "source": [
        "cases_bolivia=data_cases[data_cases.location_key=='BO']"
      ],
      "execution_count": 24,
      "outputs": []
    },
    {
      "cell_type": "code",
      "metadata": {
        "id": "gOqnqq0mX663",
        "outputId": "6dc1291b-d6a5-47bb-97c1-358af3024d22",
        "colab": {
          "base_uri": "https://localhost:8080/"
        }
      },
      "source": [
        "cases_bolivia.shape"
      ],
      "execution_count": 25,
      "outputs": [
        {
          "output_type": "execute_result",
          "data": {
            "text/plain": [
              "(658, 10)"
            ]
          },
          "metadata": {},
          "execution_count": 25
        }
      ]
    },
    {
      "cell_type": "code",
      "metadata": {
        "id": "k5X68kTDqF7a",
        "colab": {
          "base_uri": "https://localhost:8080/",
          "height": 307
        },
        "outputId": "589842d0-f755-4116-c049-f457cd936517"
      },
      "source": [
        "data_cases.head()"
      ],
      "execution_count": 20,
      "outputs": [
        {
          "output_type": "execute_result",
          "data": {
            "text/html": [
              "<div>\n",
              "<style scoped>\n",
              "    .dataframe tbody tr th:only-of-type {\n",
              "        vertical-align: middle;\n",
              "    }\n",
              "\n",
              "    .dataframe tbody tr th {\n",
              "        vertical-align: top;\n",
              "    }\n",
              "\n",
              "    .dataframe thead th {\n",
              "        text-align: right;\n",
              "    }\n",
              "</style>\n",
              "<table border=\"1\" class=\"dataframe\">\n",
              "  <thead>\n",
              "    <tr style=\"text-align: right;\">\n",
              "      <th></th>\n",
              "      <th>date</th>\n",
              "      <th>location_key</th>\n",
              "      <th>new_confirmed</th>\n",
              "      <th>new_deceased</th>\n",
              "      <th>new_recovered</th>\n",
              "      <th>new_tested</th>\n",
              "      <th>cumulative_confirmed</th>\n",
              "      <th>cumulative_deceased</th>\n",
              "      <th>cumulative_recovered</th>\n",
              "      <th>cumulative_tested</th>\n",
              "    </tr>\n",
              "  </thead>\n",
              "  <tbody>\n",
              "    <tr>\n",
              "      <th>0</th>\n",
              "      <td>2020-01-01</td>\n",
              "      <td>AD</td>\n",
              "      <td>0.0</td>\n",
              "      <td>0.0</td>\n",
              "      <td>NaN</td>\n",
              "      <td>NaN</td>\n",
              "      <td>0.0</td>\n",
              "      <td>0.0</td>\n",
              "      <td>NaN</td>\n",
              "      <td>NaN</td>\n",
              "    </tr>\n",
              "    <tr>\n",
              "      <th>1</th>\n",
              "      <td>2020-01-02</td>\n",
              "      <td>AD</td>\n",
              "      <td>0.0</td>\n",
              "      <td>0.0</td>\n",
              "      <td>NaN</td>\n",
              "      <td>NaN</td>\n",
              "      <td>0.0</td>\n",
              "      <td>0.0</td>\n",
              "      <td>NaN</td>\n",
              "      <td>NaN</td>\n",
              "    </tr>\n",
              "    <tr>\n",
              "      <th>2</th>\n",
              "      <td>2020-01-03</td>\n",
              "      <td>AD</td>\n",
              "      <td>0.0</td>\n",
              "      <td>0.0</td>\n",
              "      <td>NaN</td>\n",
              "      <td>NaN</td>\n",
              "      <td>0.0</td>\n",
              "      <td>0.0</td>\n",
              "      <td>NaN</td>\n",
              "      <td>NaN</td>\n",
              "    </tr>\n",
              "    <tr>\n",
              "      <th>3</th>\n",
              "      <td>2020-01-04</td>\n",
              "      <td>AD</td>\n",
              "      <td>0.0</td>\n",
              "      <td>0.0</td>\n",
              "      <td>NaN</td>\n",
              "      <td>NaN</td>\n",
              "      <td>0.0</td>\n",
              "      <td>0.0</td>\n",
              "      <td>NaN</td>\n",
              "      <td>NaN</td>\n",
              "    </tr>\n",
              "    <tr>\n",
              "      <th>4</th>\n",
              "      <td>2020-01-05</td>\n",
              "      <td>AD</td>\n",
              "      <td>0.0</td>\n",
              "      <td>0.0</td>\n",
              "      <td>NaN</td>\n",
              "      <td>NaN</td>\n",
              "      <td>0.0</td>\n",
              "      <td>0.0</td>\n",
              "      <td>NaN</td>\n",
              "      <td>NaN</td>\n",
              "    </tr>\n",
              "  </tbody>\n",
              "</table>\n",
              "</div>"
            ],
            "text/plain": [
              "         date location_key  ...  cumulative_recovered  cumulative_tested\n",
              "0  2020-01-01           AD  ...                   NaN                NaN\n",
              "1  2020-01-02           AD  ...                   NaN                NaN\n",
              "2  2020-01-03           AD  ...                   NaN                NaN\n",
              "3  2020-01-04           AD  ...                   NaN                NaN\n",
              "4  2020-01-05           AD  ...                   NaN                NaN\n",
              "\n",
              "[5 rows x 10 columns]"
            ]
          },
          "metadata": {},
          "execution_count": 20
        }
      ]
    },
    {
      "cell_type": "code",
      "metadata": {
        "id": "meDE0geAqQ-_",
        "colab": {
          "base_uri": "https://localhost:8080/",
          "height": 285
        },
        "outputId": "2568f7b2-b95e-4942-8531-bf18e1899fd3"
      },
      "source": [
        "cases_bolivia['new_confirmed'].plot()"
      ],
      "execution_count": 77,
      "outputs": [
        {
          "output_type": "execute_result",
          "data": {
            "text/plain": [
              "<matplotlib.axes._subplots.AxesSubplot at 0x7f7c0ca18e10>"
            ]
          },
          "metadata": {},
          "execution_count": 77
        },
        {
          "output_type": "display_data",
          "data": {
            "image/png": "[encoded data removed]",
            "text/plain": [
              "<Figure size 432x288 with 1 Axes>"
            ]
          },
          "metadata": {
            "needs_background": "light"
          }
        }
      ]
    },
    {
      "cell_type": "code",
      "metadata": {
        "id": "km6bZlgqUBIb"
      },
      "source": [
        "data_vaccines = pd.read_csv(\n",
        "    \"https://storage.googleapis.com/covid19-open-data/v3/vaccinations.csv\",\n",
        "    keep_default_na=False,\n",
        "    na_values=[\"\"],\n",
        ")"
      ],
      "execution_count": 22,
      "outputs": []
    },
    {
      "cell_type": "code",
      "metadata": {
        "id": "otjWTNzK_VTn",
        "colab": {
          "base_uri": "https://localhost:8080/",
          "height": 808
        },
        "outputId": "e5d1209b-8b61-4c6d-bf72-c2f6a1b94f9a"
      },
      "source": [
        "data_vaccines[data_vaccines.location_key=='BO'].describe().transpose()"
      ],
      "execution_count": 23,
      "outputs": [
        {
          "output_type": "execute_result",
          "data": {
            "text/html": [
              "<div>\n",
              "<style scoped>\n",
              "    .dataframe tbody tr th:only-of-type {\n",
              "        vertical-align: middle;\n",
              "    }\n",
              "\n",
              "    .dataframe tbody tr th {\n",
              "        vertical-align: top;\n",
              "    }\n",
              "\n",
              "    .dataframe thead th {\n",
              "        text-align: right;\n",
              "    }\n",
              "</style>\n",
              "<table border=\"1\" class=\"dataframe\">\n",
              "  <thead>\n",
              "    <tr style=\"text-align: right;\">\n",
              "      <th></th>\n",
              "      <th>count</th>\n",
              "      <th>mean</th>\n",
              "      <th>std</th>\n",
              "      <th>min</th>\n",
              "      <th>25%</th>\n",
              "      <th>50%</th>\n",
              "      <th>75%</th>\n",
              "      <th>max</th>\n",
              "    </tr>\n",
              "  </thead>\n",
              "  <tbody>\n",
              "    <tr>\n",
              "      <th>new_persons_vaccinated</th>\n",
              "      <td>206.0</td>\n",
              "      <td>2.757431e+04</td>\n",
              "      <td>1.611223e+05</td>\n",
              "      <td>-1106411.0</td>\n",
              "      <td>2280.75</td>\n",
              "      <td>8035.0</td>\n",
              "      <td>24904.00</td>\n",
              "      <td>1431134.0</td>\n",
              "    </tr>\n",
              "    <tr>\n",
              "      <th>cumulative_persons_vaccinated</th>\n",
              "      <td>207.0</td>\n",
              "      <td>1.465363e+06</td>\n",
              "      <td>1.384446e+06</td>\n",
              "      <td>0.0</td>\n",
              "      <td>163820.50</td>\n",
              "      <td>1004613.0</td>\n",
              "      <td>2948535.50</td>\n",
              "      <td>4252426.0</td>\n",
              "    </tr>\n",
              "    <tr>\n",
              "      <th>new_persons_fully_vaccinated</th>\n",
              "      <td>206.0</td>\n",
              "      <td>2.222231e+04</td>\n",
              "      <td>9.475739e+04</td>\n",
              "      <td>-489210.0</td>\n",
              "      <td>679.75</td>\n",
              "      <td>6610.5</td>\n",
              "      <td>29334.00</td>\n",
              "      <td>762181.0</td>\n",
              "    </tr>\n",
              "    <tr>\n",
              "      <th>cumulative_persons_fully_vaccinated</th>\n",
              "      <td>207.0</td>\n",
              "      <td>8.898139e+05</td>\n",
              "      <td>1.060779e+06</td>\n",
              "      <td>0.0</td>\n",
              "      <td>64369.00</td>\n",
              "      <td>296588.0</td>\n",
              "      <td>1823049.00</td>\n",
              "      <td>3258388.0</td>\n",
              "    </tr>\n",
              "    <tr>\n",
              "      <th>new_vaccine_doses_administered</th>\n",
              "      <td>153.0</td>\n",
              "      <td>4.530516e+04</td>\n",
              "      <td>7.078258e+04</td>\n",
              "      <td>12.0</td>\n",
              "      <td>6996.00</td>\n",
              "      <td>23085.0</td>\n",
              "      <td>52392.00</td>\n",
              "      <td>501685.0</td>\n",
              "    </tr>\n",
              "    <tr>\n",
              "      <th>cumulative_vaccine_doses_administered</th>\n",
              "      <td>154.0</td>\n",
              "      <td>2.021552e+06</td>\n",
              "      <td>2.132955e+06</td>\n",
              "      <td>0.0</td>\n",
              "      <td>318602.50</td>\n",
              "      <td>1044046.0</td>\n",
              "      <td>3493784.75</td>\n",
              "      <td>6931689.0</td>\n",
              "    </tr>\n",
              "    <tr>\n",
              "      <th>new_persons_vaccinated_pfizer</th>\n",
              "      <td>0.0</td>\n",
              "      <td>NaN</td>\n",
              "      <td>NaN</td>\n",
              "      <td>NaN</td>\n",
              "      <td>NaN</td>\n",
              "      <td>NaN</td>\n",
              "      <td>NaN</td>\n",
              "      <td>NaN</td>\n",
              "    </tr>\n",
              "    <tr>\n",
              "      <th>cumulative_persons_vaccinated_pfizer</th>\n",
              "      <td>0.0</td>\n",
              "      <td>NaN</td>\n",
              "      <td>NaN</td>\n",
              "      <td>NaN</td>\n",
              "      <td>NaN</td>\n",
              "      <td>NaN</td>\n",
              "      <td>NaN</td>\n",
              "      <td>NaN</td>\n",
              "    </tr>\n",
              "    <tr>\n",
              "      <th>new_persons_fully_vaccinated_pfizer</th>\n",
              "      <td>0.0</td>\n",
              "      <td>NaN</td>\n",
              "      <td>NaN</td>\n",
              "      <td>NaN</td>\n",
              "      <td>NaN</td>\n",
              "      <td>NaN</td>\n",
              "      <td>NaN</td>\n",
              "      <td>NaN</td>\n",
              "    </tr>\n",
              "    <tr>\n",
              "      <th>cumulative_persons_fully_vaccinated_pfizer</th>\n",
              "      <td>0.0</td>\n",
              "      <td>NaN</td>\n",
              "      <td>NaN</td>\n",
              "      <td>NaN</td>\n",
              "      <td>NaN</td>\n",
              "      <td>NaN</td>\n",
              "      <td>NaN</td>\n",
              "      <td>NaN</td>\n",
              "    </tr>\n",
              "    <tr>\n",
              "      <th>new_vaccine_doses_administered_pfizer</th>\n",
              "      <td>0.0</td>\n",
              "      <td>NaN</td>\n",
              "      <td>NaN</td>\n",
              "      <td>NaN</td>\n",
              "      <td>NaN</td>\n",
              "      <td>NaN</td>\n",
              "      <td>NaN</td>\n",
              "      <td>NaN</td>\n",
              "    </tr>\n",
              "    <tr>\n",
              "      <th>cumulative_vaccine_doses_administered_pfizer</th>\n",
              "      <td>0.0</td>\n",
              "      <td>NaN</td>\n",
              "      <td>NaN</td>\n",
              "      <td>NaN</td>\n",
              "      <td>NaN</td>\n",
              "      <td>NaN</td>\n",
              "      <td>NaN</td>\n",
              "      <td>NaN</td>\n",
              "    </tr>\n",
              "    <tr>\n",
              "      <th>new_persons_vaccinated_moderna</th>\n",
              "      <td>0.0</td>\n",
              "      <td>NaN</td>\n",
              "      <td>NaN</td>\n",
              "      <td>NaN</td>\n",
              "      <td>NaN</td>\n",
              "      <td>NaN</td>\n",
              "      <td>NaN</td>\n",
              "      <td>NaN</td>\n",
              "    </tr>\n",
              "    <tr>\n",
              "      <th>cumulative_persons_vaccinated_moderna</th>\n",
              "      <td>0.0</td>\n",
              "      <td>NaN</td>\n",
              "      <td>NaN</td>\n",
              "      <td>NaN</td>\n",
              "      <td>NaN</td>\n",
              "      <td>NaN</td>\n",
              "      <td>NaN</td>\n",
              "      <td>NaN</td>\n",
              "    </tr>\n",
              "    <tr>\n",
              "      <th>new_persons_fully_vaccinated_moderna</th>\n",
              "      <td>0.0</td>\n",
              "      <td>NaN</td>\n",
              "      <td>NaN</td>\n",
              "      <td>NaN</td>\n",
              "      <td>NaN</td>\n",
              "      <td>NaN</td>\n",
              "      <td>NaN</td>\n",
              "      <td>NaN</td>\n",
              "    </tr>\n",
              "    <tr>\n",
              "      <th>cumulative_persons_fully_vaccinated_moderna</th>\n",
              "      <td>0.0</td>\n",
              "      <td>NaN</td>\n",
              "      <td>NaN</td>\n",
              "      <td>NaN</td>\n",
              "      <td>NaN</td>\n",
              "      <td>NaN</td>\n",
              "      <td>NaN</td>\n",
              "      <td>NaN</td>\n",
              "    </tr>\n",
              "    <tr>\n",
              "      <th>new_vaccine_doses_administered_moderna</th>\n",
              "      <td>0.0</td>\n",
              "      <td>NaN</td>\n",
              "      <td>NaN</td>\n",
              "      <td>NaN</td>\n",
              "      <td>NaN</td>\n",
              "      <td>NaN</td>\n",
              "      <td>NaN</td>\n",
              "      <td>NaN</td>\n",
              "    </tr>\n",
              "    <tr>\n",
              "      <th>cumulative_vaccine_doses_administered_moderna</th>\n",
              "      <td>0.0</td>\n",
              "      <td>NaN</td>\n",
              "      <td>NaN</td>\n",
              "      <td>NaN</td>\n",
              "      <td>NaN</td>\n",
              "      <td>NaN</td>\n",
              "      <td>NaN</td>\n",
              "      <td>NaN</td>\n",
              "    </tr>\n",
              "    <tr>\n",
              "      <th>new_persons_vaccinated_janssen</th>\n",
              "      <td>0.0</td>\n",
              "      <td>NaN</td>\n",
              "      <td>NaN</td>\n",
              "      <td>NaN</td>\n",
              "      <td>NaN</td>\n",
              "      <td>NaN</td>\n",
              "      <td>NaN</td>\n",
              "      <td>NaN</td>\n",
              "    </tr>\n",
              "    <tr>\n",
              "      <th>cumulative_persons_vaccinated_janssen</th>\n",
              "      <td>0.0</td>\n",
              "      <td>NaN</td>\n",
              "      <td>NaN</td>\n",
              "      <td>NaN</td>\n",
              "      <td>NaN</td>\n",
              "      <td>NaN</td>\n",
              "      <td>NaN</td>\n",
              "      <td>NaN</td>\n",
              "    </tr>\n",
              "    <tr>\n",
              "      <th>new_persons_fully_vaccinated_janssen</th>\n",
              "      <td>0.0</td>\n",
              "      <td>NaN</td>\n",
              "      <td>NaN</td>\n",
              "      <td>NaN</td>\n",
              "      <td>NaN</td>\n",
              "      <td>NaN</td>\n",
              "      <td>NaN</td>\n",
              "      <td>NaN</td>\n",
              "    </tr>\n",
              "    <tr>\n",
              "      <th>cumulative_persons_fully_vaccinated_janssen</th>\n",
              "      <td>0.0</td>\n",
              "      <td>NaN</td>\n",
              "      <td>NaN</td>\n",
              "      <td>NaN</td>\n",
              "      <td>NaN</td>\n",
              "      <td>NaN</td>\n",
              "      <td>NaN</td>\n",
              "      <td>NaN</td>\n",
              "    </tr>\n",
              "    <tr>\n",
              "      <th>new_vaccine_doses_administered_janssen</th>\n",
              "      <td>0.0</td>\n",
              "      <td>NaN</td>\n",
              "      <td>NaN</td>\n",
              "      <td>NaN</td>\n",
              "      <td>NaN</td>\n",
              "      <td>NaN</td>\n",
              "      <td>NaN</td>\n",
              "      <td>NaN</td>\n",
              "    </tr>\n",
              "    <tr>\n",
              "      <th>cumulative_vaccine_doses_administered_janssen</th>\n",
              "      <td>0.0</td>\n",
              "      <td>NaN</td>\n",
              "      <td>NaN</td>\n",
              "      <td>NaN</td>\n",
              "      <td>NaN</td>\n",
              "      <td>NaN</td>\n",
              "      <td>NaN</td>\n",
              "      <td>NaN</td>\n",
              "    </tr>\n",
              "  </tbody>\n",
              "</table>\n",
              "</div>"
            ],
            "text/plain": [
              "                                               count  ...        max\n",
              "new_persons_vaccinated                         206.0  ...  1431134.0\n",
              "cumulative_persons_vaccinated                  207.0  ...  4252426.0\n",
              "new_persons_fully_vaccinated                   206.0  ...   762181.0\n",
              "cumulative_persons_fully_vaccinated            207.0  ...  3258388.0\n",
              "new_vaccine_doses_administered                 153.0  ...   501685.0\n",
              "cumulative_vaccine_doses_administered          154.0  ...  6931689.0\n",
              "new_persons_vaccinated_pfizer                    0.0  ...        NaN\n",
              "cumulative_persons_vaccinated_pfizer             0.0  ...        NaN\n",
              "new_persons_fully_vaccinated_pfizer              0.0  ...        NaN\n",
              "cumulative_persons_fully_vaccinated_pfizer       0.0  ...        NaN\n",
              "new_vaccine_doses_administered_pfizer            0.0  ...        NaN\n",
              "cumulative_vaccine_doses_administered_pfizer     0.0  ...        NaN\n",
              "new_persons_vaccinated_moderna                   0.0  ...        NaN\n",
              "cumulative_persons_vaccinated_moderna            0.0  ...        NaN\n",
              "new_persons_fully_vaccinated_moderna             0.0  ...        NaN\n",
              "cumulative_persons_fully_vaccinated_moderna      0.0  ...        NaN\n",
              "new_vaccine_doses_administered_moderna           0.0  ...        NaN\n",
              "cumulative_vaccine_doses_administered_moderna    0.0  ...        NaN\n",
              "new_persons_vaccinated_janssen                   0.0  ...        NaN\n",
              "cumulative_persons_vaccinated_janssen            0.0  ...        NaN\n",
              "new_persons_fully_vaccinated_janssen             0.0  ...        NaN\n",
              "cumulative_persons_fully_vaccinated_janssen      0.0  ...        NaN\n",
              "new_vaccine_doses_administered_janssen           0.0  ...        NaN\n",
              "cumulative_vaccine_doses_administered_janssen    0.0  ...        NaN\n",
              "\n",
              "[24 rows x 8 columns]"
            ]
          },
          "metadata": {},
          "execution_count": 23
        }
      ]
    },
    {
      "cell_type": "code",
      "metadata": {
        "id": "kcXeJdVkx6PM"
      },
      "source": [
        "vaccines_bolivia=data_vaccines[data_vaccines.location_key=='BO']"
      ],
      "execution_count": 69,
      "outputs": []
    },
    {
      "cell_type": "code",
      "metadata": {
        "id": "u_NDsBbkZyxb"
      },
      "source": [
        "Q1 = vaccines_bolivia['new_persons_vaccinated'].quantile(0.25)\n",
        "Q3 = vaccines_bolivia['new_persons_vaccinated'].quantile(0.75)\n",
        "IQR = Q3 - Q1\n",
        "\n",
        "#df = df[~((df < (Q1 - 1.5 * IQR)) |(df > (Q3 + 1.5 * IQR))).any(axis=1)]"
      ],
      "execution_count": 70,
      "outputs": []
    },
    {
      "cell_type": "code",
      "metadata": {
        "id": "DE0IyjEId1zR"
      },
      "source": [
        ""
      ],
      "execution_count": null,
      "outputs": []
    },
    {
      "cell_type": "code",
      "metadata": {
        "id": "6eI72wFJcJoB"
      },
      "source": [
        "vaccines_bolivia = vaccines_bolivia[~((vaccines_bolivia['new_persons_vaccinated'] < (Q1 - 1.5 * IQR)) |(vaccines_bolivia['new_persons_vaccinated']> (Q3 + 1.5 * IQR)))]"
      ],
      "execution_count": 71,
      "outputs": []
    },
    {
      "cell_type": "code",
      "metadata": {
        "id": "4pE9ObbVZeFd",
        "outputId": "530d22e7-ce0b-4991-e645-505987e533d7",
        "colab": {
          "base_uri": "https://localhost:8080/",
          "height": 282
        }
      },
      "source": [
        "vaccines_bolivia['new_persons_vaccinated'].plot()"
      ],
      "execution_count": 73,
      "outputs": [
        {
          "output_type": "execute_result",
          "data": {
            "text/plain": [
              "<matplotlib.axes._subplots.AxesSubplot at 0x7f7c0b402750>"
            ]
          },
          "metadata": {},
          "execution_count": 73
        },
        {
          "output_type": "display_data",
          "data": {
            "image/png": "[encoded data removed]",
            "text/plain": [
              "<Figure size 432x288 with 1 Axes>"
            ]
          },
          "metadata": {
            "needs_background": "light"
          }
        }
      ]
    },
    {
      "cell_type": "code",
      "metadata": {
        "id": "tirAEEi9bgRZ",
        "outputId": "97f020a6-a23c-4029-ad40-ccd754a1482c",
        "colab": {
          "base_uri": "https://localhost:8080/",
          "height": 293
        }
      },
      "source": [
        "vaccines_bolivia['cumulative_persons_fully_vaccinated'].plot()"
      ],
      "execution_count": 74,
      "outputs": [
        {
          "output_type": "execute_result",
          "data": {
            "text/plain": [
              "<matplotlib.axes._subplots.AxesSubplot at 0x7f7c0b3773d0>"
            ]
          },
          "metadata": {},
          "execution_count": 74
        },
        {
          "output_type": "display_data",
          "data": {
            "image/png": "[encoded data removed]",
            "text/plain": [
              "<Figure size 432x288 with 1 Axes>"
            ]
          },
          "metadata": {
            "needs_background": "light"
          }
        }
      ]
    },
    {
      "cell_type": "code",
      "metadata": {
        "id": "YGwi1Pe5ebCM",
        "outputId": "3362ebfc-d32f-4b11-a6d1-cc9da26cc98e",
        "colab": {
          "base_uri": "https://localhost:8080/"
        }
      },
      "source": [
        "vaccines_bolivia.shape"
      ],
      "execution_count": 79,
      "outputs": [
        {
          "output_type": "execute_result",
          "data": {
            "text/plain": [
              "(181, 26)"
            ]
          },
          "metadata": {},
          "execution_count": 79
        }
      ]
    },
    {
      "cell_type": "code",
      "metadata": {
        "id": "ayf8rPpYCTK0"
      },
      "source": [
        "data_response = pd.read_csv(\n",
        "    \"https://storage.googleapis.com/covid19-open-data/v3/oxford-government-response.csv\",\n",
        "    keep_default_na=False,\n",
        "    na_values=[\"\"],\n",
        ")"
      ],
      "execution_count": 75,
      "outputs": []
    },
    {
      "cell_type": "code",
      "metadata": {
        "id": "45ntUlGVrXj4",
        "colab": {
          "base_uri": "https://localhost:8080/",
          "height": 665
        },
        "outputId": "e0b57c82-ff15-435e-b8f4-e2084ff4447c"
      },
      "source": [
        "data_response[data_response.location_key=='BO'].describe().transpose()"
      ],
      "execution_count": 78,
      "outputs": [
        {
          "output_type": "execute_result",
          "data": {
            "text/html": [
              "<div>\n",
              "<style scoped>\n",
              "    .dataframe tbody tr th:only-of-type {\n",
              "        vertical-align: middle;\n",
              "    }\n",
              "\n",
              "    .dataframe tbody tr th {\n",
              "        vertical-align: top;\n",
              "    }\n",
              "\n",
              "    .dataframe thead th {\n",
              "        text-align: right;\n",
              "    }\n",
              "</style>\n",
              "<table border=\"1\" class=\"dataframe\">\n",
              "  <thead>\n",
              "    <tr style=\"text-align: right;\">\n",
              "      <th></th>\n",
              "      <th>count</th>\n",
              "      <th>mean</th>\n",
              "      <th>std</th>\n",
              "      <th>min</th>\n",
              "      <th>25%</th>\n",
              "      <th>50%</th>\n",
              "      <th>75%</th>\n",
              "      <th>max</th>\n",
              "    </tr>\n",
              "  </thead>\n",
              "  <tbody>\n",
              "    <tr>\n",
              "      <th>school_closing</th>\n",
              "      <td>651.0</td>\n",
              "      <td>2.282642e+00</td>\n",
              "      <td>9.265269e-01</td>\n",
              "      <td>0.0</td>\n",
              "      <td>2.00</td>\n",
              "      <td>3.00</td>\n",
              "      <td>3.0</td>\n",
              "      <td>3.0</td>\n",
              "    </tr>\n",
              "    <tr>\n",
              "      <th>workplace_closing</th>\n",
              "      <td>651.0</td>\n",
              "      <td>1.182796e+00</td>\n",
              "      <td>1.124036e+00</td>\n",
              "      <td>0.0</td>\n",
              "      <td>0.00</td>\n",
              "      <td>1.00</td>\n",
              "      <td>2.0</td>\n",
              "      <td>3.0</td>\n",
              "    </tr>\n",
              "    <tr>\n",
              "      <th>cancel_public_events</th>\n",
              "      <td>651.0</td>\n",
              "      <td>1.006144e+00</td>\n",
              "      <td>8.978396e-01</td>\n",
              "      <td>0.0</td>\n",
              "      <td>0.00</td>\n",
              "      <td>1.00</td>\n",
              "      <td>2.0</td>\n",
              "      <td>2.0</td>\n",
              "    </tr>\n",
              "    <tr>\n",
              "      <th>restrictions_on_gatherings</th>\n",
              "      <td>651.0</td>\n",
              "      <td>1.740399e+00</td>\n",
              "      <td>1.868413e+00</td>\n",
              "      <td>0.0</td>\n",
              "      <td>0.00</td>\n",
              "      <td>1.00</td>\n",
              "      <td>4.0</td>\n",
              "      <td>4.0</td>\n",
              "    </tr>\n",
              "    <tr>\n",
              "      <th>public_transport_closing</th>\n",
              "      <td>651.0</td>\n",
              "      <td>9.400922e-01</td>\n",
              "      <td>9.254218e-01</td>\n",
              "      <td>0.0</td>\n",
              "      <td>0.00</td>\n",
              "      <td>1.00</td>\n",
              "      <td>2.0</td>\n",
              "      <td>2.0</td>\n",
              "    </tr>\n",
              "    <tr>\n",
              "      <th>stay_at_home_requirements</th>\n",
              "      <td>642.0</td>\n",
              "      <td>1.216511e+00</td>\n",
              "      <td>9.585033e-01</td>\n",
              "      <td>0.0</td>\n",
              "      <td>0.00</td>\n",
              "      <td>2.00</td>\n",
              "      <td>2.0</td>\n",
              "      <td>3.0</td>\n",
              "    </tr>\n",
              "    <tr>\n",
              "      <th>restrictions_on_internal_movement</th>\n",
              "      <td>651.0</td>\n",
              "      <td>9.554531e-01</td>\n",
              "      <td>9.095292e-01</td>\n",
              "      <td>0.0</td>\n",
              "      <td>0.00</td>\n",
              "      <td>1.00</td>\n",
              "      <td>2.0</td>\n",
              "      <td>2.0</td>\n",
              "    </tr>\n",
              "    <tr>\n",
              "      <th>international_travel_controls</th>\n",
              "      <td>651.0</td>\n",
              "      <td>2.516129e+00</td>\n",
              "      <td>1.519403e+00</td>\n",
              "      <td>0.0</td>\n",
              "      <td>1.00</td>\n",
              "      <td>3.00</td>\n",
              "      <td>4.0</td>\n",
              "      <td>4.0</td>\n",
              "    </tr>\n",
              "    <tr>\n",
              "      <th>income_support</th>\n",
              "      <td>643.0</td>\n",
              "      <td>8.491446e-01</td>\n",
              "      <td>3.581865e-01</td>\n",
              "      <td>0.0</td>\n",
              "      <td>1.00</td>\n",
              "      <td>1.00</td>\n",
              "      <td>1.0</td>\n",
              "      <td>1.0</td>\n",
              "    </tr>\n",
              "    <tr>\n",
              "      <th>debt_relief</th>\n",
              "      <td>651.0</td>\n",
              "      <td>8.632873e-01</td>\n",
              "      <td>8.689805e-01</td>\n",
              "      <td>0.0</td>\n",
              "      <td>0.00</td>\n",
              "      <td>1.00</td>\n",
              "      <td>2.0</td>\n",
              "      <td>2.0</td>\n",
              "    </tr>\n",
              "    <tr>\n",
              "      <th>fiscal_measures</th>\n",
              "      <td>573.0</td>\n",
              "      <td>2.042758e+06</td>\n",
              "      <td>2.818343e+07</td>\n",
              "      <td>0.0</td>\n",
              "      <td>0.00</td>\n",
              "      <td>0.00</td>\n",
              "      <td>0.0</td>\n",
              "      <td>584000000.0</td>\n",
              "    </tr>\n",
              "    <tr>\n",
              "      <th>international_support</th>\n",
              "      <td>573.0</td>\n",
              "      <td>0.000000e+00</td>\n",
              "      <td>0.000000e+00</td>\n",
              "      <td>0.0</td>\n",
              "      <td>0.00</td>\n",
              "      <td>0.00</td>\n",
              "      <td>0.0</td>\n",
              "      <td>0.0</td>\n",
              "    </tr>\n",
              "    <tr>\n",
              "      <th>public_information_campaigns</th>\n",
              "      <td>651.0</td>\n",
              "      <td>1.783410e+00</td>\n",
              "      <td>6.182616e-01</td>\n",
              "      <td>0.0</td>\n",
              "      <td>2.00</td>\n",
              "      <td>2.00</td>\n",
              "      <td>2.0</td>\n",
              "      <td>2.0</td>\n",
              "    </tr>\n",
              "    <tr>\n",
              "      <th>testing_policy</th>\n",
              "      <td>651.0</td>\n",
              "      <td>1.256528e+00</td>\n",
              "      <td>9.382141e-01</td>\n",
              "      <td>0.0</td>\n",
              "      <td>1.00</td>\n",
              "      <td>1.00</td>\n",
              "      <td>1.0</td>\n",
              "      <td>3.0</td>\n",
              "    </tr>\n",
              "    <tr>\n",
              "      <th>contact_tracing</th>\n",
              "      <td>645.0</td>\n",
              "      <td>7.968992e-01</td>\n",
              "      <td>4.800262e-01</td>\n",
              "      <td>0.0</td>\n",
              "      <td>1.00</td>\n",
              "      <td>1.00</td>\n",
              "      <td>1.0</td>\n",
              "      <td>2.0</td>\n",
              "    </tr>\n",
              "    <tr>\n",
              "      <th>emergency_investment_in_healthcare</th>\n",
              "      <td>573.0</td>\n",
              "      <td>2.908359e+05</td>\n",
              "      <td>4.632514e+06</td>\n",
              "      <td>0.0</td>\n",
              "      <td>0.00</td>\n",
              "      <td>0.00</td>\n",
              "      <td>0.0</td>\n",
              "      <td>101387930.0</td>\n",
              "    </tr>\n",
              "    <tr>\n",
              "      <th>investment_in_vaccines</th>\n",
              "      <td>651.0</td>\n",
              "      <td>0.000000e+00</td>\n",
              "      <td>0.000000e+00</td>\n",
              "      <td>0.0</td>\n",
              "      <td>0.00</td>\n",
              "      <td>0.00</td>\n",
              "      <td>0.0</td>\n",
              "      <td>0.0</td>\n",
              "    </tr>\n",
              "    <tr>\n",
              "      <th>facial_coverings</th>\n",
              "      <td>651.0</td>\n",
              "      <td>2.821813e+00</td>\n",
              "      <td>1.519783e+00</td>\n",
              "      <td>0.0</td>\n",
              "      <td>3.00</td>\n",
              "      <td>3.00</td>\n",
              "      <td>4.0</td>\n",
              "      <td>4.0</td>\n",
              "    </tr>\n",
              "    <tr>\n",
              "      <th>vaccination_policy</th>\n",
              "      <td>651.0</td>\n",
              "      <td>1.105991e+00</td>\n",
              "      <td>1.536072e+00</td>\n",
              "      <td>0.0</td>\n",
              "      <td>0.00</td>\n",
              "      <td>0.00</td>\n",
              "      <td>2.0</td>\n",
              "      <td>5.0</td>\n",
              "    </tr>\n",
              "    <tr>\n",
              "      <th>stringency_index</th>\n",
              "      <td>651.0</td>\n",
              "      <td>5.230261e+01</td>\n",
              "      <td>3.245775e+01</td>\n",
              "      <td>0.0</td>\n",
              "      <td>27.78</td>\n",
              "      <td>47.22</td>\n",
              "      <td>87.5</td>\n",
              "      <td>96.3</td>\n",
              "    </tr>\n",
              "  </tbody>\n",
              "</table>\n",
              "</div>"
            ],
            "text/plain": [
              "                                    count          mean  ...   75%          max\n",
              "school_closing                      651.0  2.282642e+00  ...   3.0          3.0\n",
              "workplace_closing                   651.0  1.182796e+00  ...   2.0          3.0\n",
              "cancel_public_events                651.0  1.006144e+00  ...   2.0          2.0\n",
              "restrictions_on_gatherings          651.0  1.740399e+00  ...   4.0          4.0\n",
              "public_transport_closing            651.0  9.400922e-01  ...   2.0          2.0\n",
              "stay_at_home_requirements           642.0  1.216511e+00  ...   2.0          3.0\n",
              "restrictions_on_internal_movement   651.0  9.554531e-01  ...   2.0          2.0\n",
              "international_travel_controls       651.0  2.516129e+00  ...   4.0          4.0\n",
              "income_support                      643.0  8.491446e-01  ...   1.0          1.0\n",
              "debt_relief                         651.0  8.632873e-01  ...   2.0          2.0\n",
              "fiscal_measures                     573.0  2.042758e+06  ...   0.0  584000000.0\n",
              "international_support               573.0  0.000000e+00  ...   0.0          0.0\n",
              "public_information_campaigns        651.0  1.783410e+00  ...   2.0          2.0\n",
              "testing_policy                      651.0  1.256528e+00  ...   1.0          3.0\n",
              "contact_tracing                     645.0  7.968992e-01  ...   1.0          2.0\n",
              "emergency_investment_in_healthcare  573.0  2.908359e+05  ...   0.0  101387930.0\n",
              "investment_in_vaccines              651.0  0.000000e+00  ...   0.0          0.0\n",
              "facial_coverings                    651.0  2.821813e+00  ...   4.0          4.0\n",
              "vaccination_policy                  651.0  1.105991e+00  ...   2.0          5.0\n",
              "stringency_index                    651.0  5.230261e+01  ...  87.5         96.3\n",
              "\n",
              "[20 rows x 8 columns]"
            ]
          },
          "metadata": {},
          "execution_count": 78
        }
      ]
    },
    {
      "cell_type": "code",
      "metadata": {
        "id": "CiQAsA0gteU1"
      },
      "source": [
        "response_bolivia=data_response.loc[data_response.location_key=='BO']"
      ],
      "execution_count": 80,
      "outputs": []
    },
    {
      "cell_type": "code",
      "metadata": {
        "id": "uS1B8OroyIap",
        "colab": {
          "base_uri": "https://localhost:8080/",
          "height": 282
        },
        "outputId": "d3fe47b0-fd78-4e6a-9375-48bd4f2d235e"
      },
      "source": [
        "vaccines_bolivia['new_persons_vaccinated'].plot()"
      ],
      "execution_count": 81,
      "outputs": [
        {
          "output_type": "execute_result",
          "data": {
            "text/plain": [
              "<matplotlib.axes._subplots.AxesSubplot at 0x7f7c0c9c4890>"
            ]
          },
          "metadata": {},
          "execution_count": 81
        },
        {
          "output_type": "display_data",
          "data": {
            "image/png": "[encoded data removed]",
            "text/plain": [
              "<Figure size 432x288 with 1 Axes>"
            ]
          },
          "metadata": {
            "needs_background": "light"
          }
        }
      ]
    },
    {
      "cell_type": "code",
      "metadata": {
        "id": "jAAiMFo8tvMX"
      },
      "source": [
        "cases_bolivia.set_index('date',inplace=True)\n",
        "vaccines_bolivia.set_index('date',inplace=True)\n",
        "response_bolivia.set_index('date',inplace=True)"
      ],
      "execution_count": 82,
      "outputs": []
    },
    {
      "cell_type": "code",
      "metadata": {
        "id": "MgTe8We4A3pC"
      },
      "source": [
        "df_bolivia=pd.concat([cases_bolivia,vaccines_bolivia,response_bolivia])"
      ],
      "execution_count": 88,
      "outputs": []
    },
    {
      "cell_type": "code",
      "metadata": {
        "id": "GgfHmrQ6fs7B"
      },
      "source": [
        ""
      ],
      "execution_count": null,
      "outputs": []
    },
    {
      "cell_type": "code",
      "metadata": {
        "id": "yPQKtq9zfZM8",
        "outputId": "62a0b6fd-58e2-47de-cbdd-5ae341b18a21",
        "colab": {
          "base_uri": "https://localhost:8080/",
          "height": 296
        }
      },
      "source": [
        "df_bolivia['new_persons_vaccinated'].plot()"
      ],
      "execution_count": 91,
      "outputs": [
        {
          "output_type": "execute_result",
          "data": {
            "text/plain": [
              "<matplotlib.axes._subplots.AxesSubplot at 0x7f7c0b18e850>"
            ]
          },
          "metadata": {},
          "execution_count": 91
        },
        {
          "output_type": "display_data",
          "data": {
            "image/png": "[encoded data removed]",
            "text/plain": [
              "<Figure size 432x288 with 1 Axes>"
            ]
          },
          "metadata": {
            "needs_background": "light"
          }
        }
      ]
    },
    {
      "cell_type": "code",
      "metadata": {
        "id": "BcHkqUxLyvcy"
      },
      "source": [
        "df_bolivia=pd.merge(cases_bolivia,vaccines_bolivia, left_index=True, right_index=True)"
      ],
      "execution_count": 92,
      "outputs": []
    },
    {
      "cell_type": "code",
      "metadata": {
        "id": "yB-NJ28ny49Z"
      },
      "source": [
        "df_bolivia=pd.merge(df_bolivia,response_bolivia, left_index=True, right_index=True)"
      ],
      "execution_count": 94,
      "outputs": []
    },
    {
      "cell_type": "code",
      "metadata": {
        "id": "us9lgDaZyOmB",
        "colab": {
          "base_uri": "https://localhost:8080/",
          "height": 296
        },
        "outputId": "2fe72238-cba5-413e-a3cb-295c7d329ff2"
      },
      "source": [
        "df_bolivia['new_persons_vaccinated'].plot()"
      ],
      "execution_count": 95,
      "outputs": [
        {
          "output_type": "execute_result",
          "data": {
            "text/plain": [
              "<matplotlib.axes._subplots.AxesSubplot at 0x7f7c0b209ed0>"
            ]
          },
          "metadata": {},
          "execution_count": 95
        },
        {
          "output_type": "display_data",
          "data": {
            "image/png": "[encoded data removed]",
            "text/plain": [
              "<Figure size 432x288 with 1 Axes>"
            ]
          },
          "metadata": {
            "needs_background": "light"
          }
        }
      ]
    },
    {
      "cell_type": "code",
      "metadata": {
        "id": "cr9OYq64BRXE"
      },
      "source": [
        "y=df_bolivia['new_confirmed']\n",
        "#X=df_bolivia[['new_persons_vaccinated','school_closing','workplace_closing','cancel_public_events','facial_coverings']]"
      ],
      "execution_count": 297,
      "outputs": []
    },
    {
      "cell_type": "code",
      "metadata": {
        "id": "a1IQv1zgukgu"
      },
      "source": [
        "X=df_bolivia[df_bolivia.columns.difference(['new_confirmed','location_key_x','location_key','location_key_y'])]"
      ],
      "execution_count": 298,
      "outputs": []
    },
    {
      "cell_type": "code",
      "metadata": {
        "id": "vw0dcaX6vCD8",
        "outputId": "1caccef4-89e0-420c-84e6-c7a7d5c9ad01",
        "colab": {
          "base_uri": "https://localhost:8080/"
        }
      },
      "source": [
        "X.shape"
      ],
      "execution_count": 299,
      "outputs": [
        {
          "output_type": "execute_result",
          "data": {
            "text/plain": [
              "(179, 51)"
            ]
          },
          "metadata": {},
          "execution_count": 299
        }
      ]
    },
    {
      "cell_type": "code",
      "metadata": {
        "id": "w2XJzi8FkXct",
        "outputId": "15ea9102-acd9-4cf4-8c45-0cb80253e976",
        "colab": {
          "base_uri": "https://localhost:8080/"
        }
      },
      "source": [
        "X.fillna(0,inplace=True)"
      ],
      "execution_count": 300,
      "outputs": [
        {
          "output_type": "stream",
          "name": "stderr",
          "text": [
            "/usr/local/lib/python3.7/dist-packages/pandas/core/frame.py:4327: SettingWithCopyWarning: \n",
            "A value is trying to be set on a copy of a slice from a DataFrame\n",
            "\n",
            "See the caveats in the documentation: https://pandas.pydata.org/pandas-docs/stable/user_guide/indexing.html#returning-a-view-versus-a-copy\n",
            "  downcast=downcast,\n"
          ]
        }
      ]
    },
    {
      "cell_type": "code",
      "metadata": {
        "id": "rTO0V8pwwEIt",
        "outputId": "774c5263-0170-484b-df68-cc051ad9ca37",
        "colab": {
          "base_uri": "https://localhost:8080/",
          "height": 315
        }
      },
      "source": [
        "X.describe()"
      ],
      "execution_count": 301,
      "outputs": [
        {
          "output_type": "execute_result",
          "data": {
            "text/html": [
              "<div>\n",
              "<style scoped>\n",
              "    .dataframe tbody tr th:only-of-type {\n",
              "        vertical-align: middle;\n",
              "    }\n",
              "\n",
              "    .dataframe tbody tr th {\n",
              "        vertical-align: top;\n",
              "    }\n",
              "\n",
              "    .dataframe thead th {\n",
              "        text-align: right;\n",
              "    }\n",
              "</style>\n",
              "<table border=\"1\" class=\"dataframe\">\n",
              "  <thead>\n",
              "    <tr style=\"text-align: right;\">\n",
              "      <th></th>\n",
              "      <th>cancel_public_events</th>\n",
              "      <th>contact_tracing</th>\n",
              "      <th>cumulative_confirmed</th>\n",
              "      <th>cumulative_deceased</th>\n",
              "      <th>cumulative_persons_fully_vaccinated</th>\n",
              "      <th>cumulative_persons_fully_vaccinated_janssen</th>\n",
              "      <th>cumulative_persons_fully_vaccinated_moderna</th>\n",
              "      <th>cumulative_persons_fully_vaccinated_pfizer</th>\n",
              "      <th>cumulative_persons_vaccinated</th>\n",
              "      <th>cumulative_persons_vaccinated_janssen</th>\n",
              "      <th>cumulative_persons_vaccinated_moderna</th>\n",
              "      <th>cumulative_persons_vaccinated_pfizer</th>\n",
              "      <th>cumulative_recovered</th>\n",
              "      <th>cumulative_tested</th>\n",
              "      <th>cumulative_vaccine_doses_administered</th>\n",
              "      <th>cumulative_vaccine_doses_administered_janssen</th>\n",
              "      <th>cumulative_vaccine_doses_administered_moderna</th>\n",
              "      <th>cumulative_vaccine_doses_administered_pfizer</th>\n",
              "      <th>debt_relief</th>\n",
              "      <th>emergency_investment_in_healthcare</th>\n",
              "      <th>facial_coverings</th>\n",
              "      <th>fiscal_measures</th>\n",
              "      <th>income_support</th>\n",
              "      <th>international_support</th>\n",
              "      <th>international_travel_controls</th>\n",
              "      <th>investment_in_vaccines</th>\n",
              "      <th>new_deceased</th>\n",
              "      <th>new_persons_fully_vaccinated</th>\n",
              "      <th>new_persons_fully_vaccinated_janssen</th>\n",
              "      <th>new_persons_fully_vaccinated_moderna</th>\n",
              "      <th>new_persons_fully_vaccinated_pfizer</th>\n",
              "      <th>new_persons_vaccinated</th>\n",
              "      <th>new_persons_vaccinated_janssen</th>\n",
              "      <th>new_persons_vaccinated_moderna</th>\n",
              "      <th>new_persons_vaccinated_pfizer</th>\n",
              "      <th>new_recovered</th>\n",
              "      <th>new_tested</th>\n",
              "      <th>new_vaccine_doses_administered</th>\n",
              "      <th>new_vaccine_doses_administered_janssen</th>\n",
              "      <th>new_vaccine_doses_administered_moderna</th>\n",
              "      <th>new_vaccine_doses_administered_pfizer</th>\n",
              "      <th>public_information_campaigns</th>\n",
              "      <th>public_transport_closing</th>\n",
              "      <th>restrictions_on_gatherings</th>\n",
              "      <th>restrictions_on_internal_movement</th>\n",
              "      <th>school_closing</th>\n",
              "      <th>stay_at_home_requirements</th>\n",
              "      <th>stringency_index</th>\n",
              "      <th>testing_policy</th>\n",
              "      <th>vaccination_policy</th>\n",
              "      <th>workplace_closing</th>\n",
              "    </tr>\n",
              "  </thead>\n",
              "  <tbody>\n",
              "    <tr>\n",
              "      <th>count</th>\n",
              "      <td>179.000000</td>\n",
              "      <td>179.000000</td>\n",
              "      <td>179.000000</td>\n",
              "      <td>179.000000</td>\n",
              "      <td>1.790000e+02</td>\n",
              "      <td>179.0</td>\n",
              "      <td>179.0</td>\n",
              "      <td>179.0</td>\n",
              "      <td>1.790000e+02</td>\n",
              "      <td>179.0</td>\n",
              "      <td>179.0</td>\n",
              "      <td>179.0</td>\n",
              "      <td>179.0</td>\n",
              "      <td>1.790000e+02</td>\n",
              "      <td>1.790000e+02</td>\n",
              "      <td>179.0</td>\n",
              "      <td>179.0</td>\n",
              "      <td>179.0</td>\n",
              "      <td>179.000000</td>\n",
              "      <td>1.790000e+02</td>\n",
              "      <td>179.0</td>\n",
              "      <td>179.0</td>\n",
              "      <td>179.000000</td>\n",
              "      <td>179.0</td>\n",
              "      <td>179.000000</td>\n",
              "      <td>179.0</td>\n",
              "      <td>179.000000</td>\n",
              "      <td>179.000000</td>\n",
              "      <td>179.0</td>\n",
              "      <td>179.0</td>\n",
              "      <td>179.0</td>\n",
              "      <td>179.000000</td>\n",
              "      <td>179.0</td>\n",
              "      <td>179.0</td>\n",
              "      <td>179.0</td>\n",
              "      <td>179.0</td>\n",
              "      <td>179.000000</td>\n",
              "      <td>179.000000</td>\n",
              "      <td>179.0</td>\n",
              "      <td>179.0</td>\n",
              "      <td>179.0</td>\n",
              "      <td>179.0</td>\n",
              "      <td>179.000000</td>\n",
              "      <td>179.000000</td>\n",
              "      <td>179.00000</td>\n",
              "      <td>179.000000</td>\n",
              "      <td>179.000000</td>\n",
              "      <td>179.000000</td>\n",
              "      <td>179.000000</td>\n",
              "      <td>179.000000</td>\n",
              "      <td>179.000000</td>\n",
              "    </tr>\n",
              "    <tr>\n",
              "      <th>mean</th>\n",
              "      <td>0.307263</td>\n",
              "      <td>1.083799</td>\n",
              "      <td>349542.860335</td>\n",
              "      <td>14332.324022</td>\n",
              "      <td>8.376663e+05</td>\n",
              "      <td>0.0</td>\n",
              "      <td>0.0</td>\n",
              "      <td>0.0</td>\n",
              "      <td>1.305430e+06</td>\n",
              "      <td>0.0</td>\n",
              "      <td>0.0</td>\n",
              "      <td>0.0</td>\n",
              "      <td>0.0</td>\n",
              "      <td>1.324237e+06</td>\n",
              "      <td>1.393746e+06</td>\n",
              "      <td>0.0</td>\n",
              "      <td>0.0</td>\n",
              "      <td>0.0</td>\n",
              "      <td>1.670391</td>\n",
              "      <td>1.850679e+04</td>\n",
              "      <td>4.0</td>\n",
              "      <td>0.0</td>\n",
              "      <td>0.949721</td>\n",
              "      <td>0.0</td>\n",
              "      <td>2.826816</td>\n",
              "      <td>0.0</td>\n",
              "      <td>30.351955</td>\n",
              "      <td>13816.480447</td>\n",
              "      <td>0.0</td>\n",
              "      <td>0.0</td>\n",
              "      <td>0.0</td>\n",
              "      <td>10744.916201</td>\n",
              "      <td>0.0</td>\n",
              "      <td>0.0</td>\n",
              "      <td>0.0</td>\n",
              "      <td>0.0</td>\n",
              "      <td>6612.715084</td>\n",
              "      <td>23103.776536</td>\n",
              "      <td>0.0</td>\n",
              "      <td>0.0</td>\n",
              "      <td>0.0</td>\n",
              "      <td>2.0</td>\n",
              "      <td>0.307263</td>\n",
              "      <td>0.307263</td>\n",
              "      <td>0.22905</td>\n",
              "      <td>2.022346</td>\n",
              "      <td>0.547486</td>\n",
              "      <td>30.925196</td>\n",
              "      <td>1.759777</td>\n",
              "      <td>2.687151</td>\n",
              "      <td>0.307263</td>\n",
              "    </tr>\n",
              "    <tr>\n",
              "      <th>std</th>\n",
              "      <td>0.462653</td>\n",
              "      <td>0.277863</td>\n",
              "      <td>104322.893071</td>\n",
              "      <td>2965.133049</td>\n",
              "      <td>1.090904e+06</td>\n",
              "      <td>0.0</td>\n",
              "      <td>0.0</td>\n",
              "      <td>0.0</td>\n",
              "      <td>1.414526e+06</td>\n",
              "      <td>0.0</td>\n",
              "      <td>0.0</td>\n",
              "      <td>0.0</td>\n",
              "      <td>0.0</td>\n",
              "      <td>7.157422e+05</td>\n",
              "      <td>2.069117e+06</td>\n",
              "      <td>0.0</td>\n",
              "      <td>0.0</td>\n",
              "      <td>0.0</td>\n",
              "      <td>0.625098</td>\n",
              "      <td>1.698813e+05</td>\n",
              "      <td>0.0</td>\n",
              "      <td>0.0</td>\n",
              "      <td>0.219134</td>\n",
              "      <td>0.0</td>\n",
              "      <td>1.306060</td>\n",
              "      <td>0.0</td>\n",
              "      <td>23.289438</td>\n",
              "      <td>53222.573086</td>\n",
              "      <td>0.0</td>\n",
              "      <td>0.0</td>\n",
              "      <td>0.0</td>\n",
              "      <td>13330.120176</td>\n",
              "      <td>0.0</td>\n",
              "      <td>0.0</td>\n",
              "      <td>0.0</td>\n",
              "      <td>0.0</td>\n",
              "      <td>3487.260667</td>\n",
              "      <td>39867.302363</td>\n",
              "      <td>0.0</td>\n",
              "      <td>0.0</td>\n",
              "      <td>0.0</td>\n",
              "      <td>0.0</td>\n",
              "      <td>0.462653</td>\n",
              "      <td>0.462653</td>\n",
              "      <td>0.42140</td>\n",
              "      <td>0.148222</td>\n",
              "      <td>0.894259</td>\n",
              "      <td>11.943439</td>\n",
              "      <td>0.944143</td>\n",
              "      <td>1.097700</td>\n",
              "      <td>0.462653</td>\n",
              "    </tr>\n",
              "    <tr>\n",
              "      <th>min</th>\n",
              "      <td>0.000000</td>\n",
              "      <td>1.000000</td>\n",
              "      <td>210726.000000</td>\n",
              "      <td>10226.000000</td>\n",
              "      <td>0.000000e+00</td>\n",
              "      <td>0.0</td>\n",
              "      <td>0.0</td>\n",
              "      <td>0.0</td>\n",
              "      <td>0.000000e+00</td>\n",
              "      <td>0.0</td>\n",
              "      <td>0.0</td>\n",
              "      <td>0.0</td>\n",
              "      <td>0.0</td>\n",
              "      <td>0.000000e+00</td>\n",
              "      <td>0.000000e+00</td>\n",
              "      <td>0.0</td>\n",
              "      <td>0.0</td>\n",
              "      <td>0.0</td>\n",
              "      <td>0.000000</td>\n",
              "      <td>0.000000e+00</td>\n",
              "      <td>4.0</td>\n",
              "      <td>0.0</td>\n",
              "      <td>0.000000</td>\n",
              "      <td>0.0</td>\n",
              "      <td>1.000000</td>\n",
              "      <td>0.0</td>\n",
              "      <td>0.000000</td>\n",
              "      <td>-439288.000000</td>\n",
              "      <td>0.0</td>\n",
              "      <td>0.0</td>\n",
              "      <td>0.0</td>\n",
              "      <td>-10325.000000</td>\n",
              "      <td>0.0</td>\n",
              "      <td>0.0</td>\n",
              "      <td>0.0</td>\n",
              "      <td>0.0</td>\n",
              "      <td>0.000000</td>\n",
              "      <td>0.000000</td>\n",
              "      <td>0.0</td>\n",
              "      <td>0.0</td>\n",
              "      <td>0.0</td>\n",
              "      <td>2.0</td>\n",
              "      <td>0.000000</td>\n",
              "      <td>0.000000</td>\n",
              "      <td>0.00000</td>\n",
              "      <td>2.000000</td>\n",
              "      <td>0.000000</td>\n",
              "      <td>19.440000</td>\n",
              "      <td>1.000000</td>\n",
              "      <td>0.000000</td>\n",
              "      <td>0.000000</td>\n",
              "    </tr>\n",
              "    <tr>\n",
              "      <th>25%</th>\n",
              "      <td>0.000000</td>\n",
              "      <td>1.000000</td>\n",
              "      <td>259724.000000</td>\n",
              "      <td>11966.000000</td>\n",
              "      <td>9.973500e+03</td>\n",
              "      <td>0.0</td>\n",
              "      <td>0.0</td>\n",
              "      <td>0.0</td>\n",
              "      <td>1.280515e+05</td>\n",
              "      <td>0.0</td>\n",
              "      <td>0.0</td>\n",
              "      <td>0.0</td>\n",
              "      <td>0.0</td>\n",
              "      <td>7.600435e+05</td>\n",
              "      <td>0.000000e+00</td>\n",
              "      <td>0.0</td>\n",
              "      <td>0.0</td>\n",
              "      <td>0.0</td>\n",
              "      <td>2.000000</td>\n",
              "      <td>0.000000e+00</td>\n",
              "      <td>4.0</td>\n",
              "      <td>0.0</td>\n",
              "      <td>1.000000</td>\n",
              "      <td>0.0</td>\n",
              "      <td>1.000000</td>\n",
              "      <td>0.0</td>\n",
              "      <td>13.500000</td>\n",
              "      <td>183.500000</td>\n",
              "      <td>0.0</td>\n",
              "      <td>0.0</td>\n",
              "      <td>0.0</td>\n",
              "      <td>949.500000</td>\n",
              "      <td>0.0</td>\n",
              "      <td>0.0</td>\n",
              "      <td>0.0</td>\n",
              "      <td>0.0</td>\n",
              "      <td>4613.500000</td>\n",
              "      <td>0.000000</td>\n",
              "      <td>0.0</td>\n",
              "      <td>0.0</td>\n",
              "      <td>0.0</td>\n",
              "      <td>2.0</td>\n",
              "      <td>0.000000</td>\n",
              "      <td>0.000000</td>\n",
              "      <td>0.00000</td>\n",
              "      <td>2.000000</td>\n",
              "      <td>0.000000</td>\n",
              "      <td>19.440000</td>\n",
              "      <td>1.000000</td>\n",
              "      <td>2.000000</td>\n",
              "      <td>0.000000</td>\n",
              "    </tr>\n",
              "    <tr>\n",
              "      <th>50%</th>\n",
              "      <td>0.000000</td>\n",
              "      <td>1.000000</td>\n",
              "      <td>301831.000000</td>\n",
              "      <td>12920.000000</td>\n",
              "      <td>2.059880e+05</td>\n",
              "      <td>0.0</td>\n",
              "      <td>0.0</td>\n",
              "      <td>0.0</td>\n",
              "      <td>5.169580e+05</td>\n",
              "      <td>0.0</td>\n",
              "      <td>0.0</td>\n",
              "      <td>0.0</td>\n",
              "      <td>0.0</td>\n",
              "      <td>1.107107e+06</td>\n",
              "      <td>3.230810e+05</td>\n",
              "      <td>0.0</td>\n",
              "      <td>0.0</td>\n",
              "      <td>0.0</td>\n",
              "      <td>2.000000</td>\n",
              "      <td>0.000000e+00</td>\n",
              "      <td>4.0</td>\n",
              "      <td>0.0</td>\n",
              "      <td>1.000000</td>\n",
              "      <td>0.0</td>\n",
              "      <td>4.000000</td>\n",
              "      <td>0.0</td>\n",
              "      <td>24.000000</td>\n",
              "      <td>4667.000000</td>\n",
              "      <td>0.0</td>\n",
              "      <td>0.0</td>\n",
              "      <td>0.0</td>\n",
              "      <td>6145.000000</td>\n",
              "      <td>0.0</td>\n",
              "      <td>0.0</td>\n",
              "      <td>0.0</td>\n",
              "      <td>0.0</td>\n",
              "      <td>6599.000000</td>\n",
              "      <td>7014.000000</td>\n",
              "      <td>0.0</td>\n",
              "      <td>0.0</td>\n",
              "      <td>0.0</td>\n",
              "      <td>2.0</td>\n",
              "      <td>0.000000</td>\n",
              "      <td>0.000000</td>\n",
              "      <td>0.00000</td>\n",
              "      <td>2.000000</td>\n",
              "      <td>0.000000</td>\n",
              "      <td>27.780000</td>\n",
              "      <td>1.000000</td>\n",
              "      <td>2.000000</td>\n",
              "      <td>0.000000</td>\n",
              "    </tr>\n",
              "    <tr>\n",
              "      <th>75%</th>\n",
              "      <td>1.000000</td>\n",
              "      <td>1.000000</td>\n",
              "      <td>479065.000000</td>\n",
              "      <td>18043.000000</td>\n",
              "      <td>1.857656e+06</td>\n",
              "      <td>0.0</td>\n",
              "      <td>0.0</td>\n",
              "      <td>0.0</td>\n",
              "      <td>2.948536e+06</td>\n",
              "      <td>0.0</td>\n",
              "      <td>0.0</td>\n",
              "      <td>0.0</td>\n",
              "      <td>0.0</td>\n",
              "      <td>2.140462e+06</td>\n",
              "      <td>1.748801e+06</td>\n",
              "      <td>0.0</td>\n",
              "      <td>0.0</td>\n",
              "      <td>0.0</td>\n",
              "      <td>2.000000</td>\n",
              "      <td>0.000000e+00</td>\n",
              "      <td>4.0</td>\n",
              "      <td>0.0</td>\n",
              "      <td>1.000000</td>\n",
              "      <td>0.0</td>\n",
              "      <td>4.000000</td>\n",
              "      <td>0.0</td>\n",
              "      <td>41.000000</td>\n",
              "      <td>14894.000000</td>\n",
              "      <td>0.0</td>\n",
              "      <td>0.0</td>\n",
              "      <td>0.0</td>\n",
              "      <td>14966.500000</td>\n",
              "      <td>0.0</td>\n",
              "      <td>0.0</td>\n",
              "      <td>0.0</td>\n",
              "      <td>0.0</td>\n",
              "      <td>8403.000000</td>\n",
              "      <td>30730.000000</td>\n",
              "      <td>0.0</td>\n",
              "      <td>0.0</td>\n",
              "      <td>0.0</td>\n",
              "      <td>2.0</td>\n",
              "      <td>1.000000</td>\n",
              "      <td>1.000000</td>\n",
              "      <td>0.00000</td>\n",
              "      <td>2.000000</td>\n",
              "      <td>2.000000</td>\n",
              "      <td>31.020000</td>\n",
              "      <td>3.000000</td>\n",
              "      <td>4.000000</td>\n",
              "      <td>1.000000</td>\n",
              "    </tr>\n",
              "    <tr>\n",
              "      <th>max</th>\n",
              "      <td>1.000000</td>\n",
              "      <td>2.000000</td>\n",
              "      <td>504601.000000</td>\n",
              "      <td>18806.000000</td>\n",
              "      <td>3.258388e+06</td>\n",
              "      <td>0.0</td>\n",
              "      <td>0.0</td>\n",
              "      <td>0.0</td>\n",
              "      <td>4.252426e+06</td>\n",
              "      <td>0.0</td>\n",
              "      <td>0.0</td>\n",
              "      <td>0.0</td>\n",
              "      <td>0.0</td>\n",
              "      <td>2.513678e+06</td>\n",
              "      <td>6.931689e+06</td>\n",
              "      <td>0.0</td>\n",
              "      <td>0.0</td>\n",
              "      <td>0.0</td>\n",
              "      <td>2.000000</td>\n",
              "      <td>2.044298e+06</td>\n",
              "      <td>4.0</td>\n",
              "      <td>0.0</td>\n",
              "      <td>1.000000</td>\n",
              "      <td>0.0</td>\n",
              "      <td>4.000000</td>\n",
              "      <td>0.0</td>\n",
              "      <td>115.000000</td>\n",
              "      <td>441445.000000</td>\n",
              "      <td>0.0</td>\n",
              "      <td>0.0</td>\n",
              "      <td>0.0</td>\n",
              "      <td>53822.000000</td>\n",
              "      <td>0.0</td>\n",
              "      <td>0.0</td>\n",
              "      <td>0.0</td>\n",
              "      <td>0.0</td>\n",
              "      <td>16286.000000</td>\n",
              "      <td>280034.000000</td>\n",
              "      <td>0.0</td>\n",
              "      <td>0.0</td>\n",
              "      <td>0.0</td>\n",
              "      <td>2.0</td>\n",
              "      <td>1.000000</td>\n",
              "      <td>1.000000</td>\n",
              "      <td>1.00000</td>\n",
              "      <td>3.000000</td>\n",
              "      <td>2.000000</td>\n",
              "      <td>56.480000</td>\n",
              "      <td>3.000000</td>\n",
              "      <td>5.000000</td>\n",
              "      <td>1.000000</td>\n",
              "    </tr>\n",
              "  </tbody>\n",
              "</table>\n",
              "</div>"
            ],
            "text/plain": [
              "       cancel_public_events  ...  workplace_closing\n",
              "count            179.000000  ...         179.000000\n",
              "mean               0.307263  ...           0.307263\n",
              "std                0.462653  ...           0.462653\n",
              "min                0.000000  ...           0.000000\n",
              "25%                0.000000  ...           0.000000\n",
              "50%                0.000000  ...           0.000000\n",
              "75%                1.000000  ...           1.000000\n",
              "max                1.000000  ...           1.000000\n",
              "\n",
              "[8 rows x 51 columns]"
            ]
          },
          "metadata": {},
          "execution_count": 301
        }
      ]
    },
    {
      "cell_type": "code",
      "metadata": {
        "id": "dVLMh5LSgOiA",
        "outputId": "7de087b6-84cb-49de-fee7-b909c7808643",
        "colab": {
          "base_uri": "https://localhost:8080/"
        }
      },
      "source": [
        "X['school_closing']=X['school_closing'].astype('category')\n",
        "X['workplace_closing']=X['workplace_closing'].astype('category')\n",
        "X['cancel_public_events']=X['cancel_public_events'].astype('category')\n",
        "X['facial_coverings']=X['facial_coverings'].astype('category')"
      ],
      "execution_count": 265,
      "outputs": [
        {
          "output_type": "stream",
          "name": "stderr",
          "text": [
            "/usr/local/lib/python3.7/dist-packages/ipykernel_launcher.py:1: SettingWithCopyWarning: \n",
            "A value is trying to be set on a copy of a slice from a DataFrame.\n",
            "Try using .loc[row_indexer,col_indexer] = value instead\n",
            "\n",
            "See the caveats in the documentation: https://pandas.pydata.org/pandas-docs/stable/user_guide/indexing.html#returning-a-view-versus-a-copy\n",
            "  \"\"\"Entry point for launching an IPython kernel.\n",
            "/usr/local/lib/python3.7/dist-packages/ipykernel_launcher.py:2: SettingWithCopyWarning: \n",
            "A value is trying to be set on a copy of a slice from a DataFrame.\n",
            "Try using .loc[row_indexer,col_indexer] = value instead\n",
            "\n",
            "See the caveats in the documentation: https://pandas.pydata.org/pandas-docs/stable/user_guide/indexing.html#returning-a-view-versus-a-copy\n",
            "  \n",
            "/usr/local/lib/python3.7/dist-packages/ipykernel_launcher.py:3: SettingWithCopyWarning: \n",
            "A value is trying to be set on a copy of a slice from a DataFrame.\n",
            "Try using .loc[row_indexer,col_indexer] = value instead\n",
            "\n",
            "See the caveats in the documentation: https://pandas.pydata.org/pandas-docs/stable/user_guide/indexing.html#returning-a-view-versus-a-copy\n",
            "  This is separate from the ipykernel package so we can avoid doing imports until\n",
            "/usr/local/lib/python3.7/dist-packages/ipykernel_launcher.py:4: SettingWithCopyWarning: \n",
            "A value is trying to be set on a copy of a slice from a DataFrame.\n",
            "Try using .loc[row_indexer,col_indexer] = value instead\n",
            "\n",
            "See the caveats in the documentation: https://pandas.pydata.org/pandas-docs/stable/user_guide/indexing.html#returning-a-view-versus-a-copy\n",
            "  after removing the cwd from sys.path.\n"
          ]
        }
      ]
    },
    {
      "cell_type": "code",
      "metadata": {
        "id": "f30zK57qhnOk"
      },
      "source": [
        "X_new=pd.get_dummies(X,sparse=True)"
      ],
      "execution_count": 266,
      "outputs": []
    },
    {
      "cell_type": "code",
      "metadata": {
        "id": "PR-ZZl32kSN0",
        "outputId": "8c18b26e-40b1-4dbe-88bc-f556f434968c",
        "colab": {
          "base_uri": "https://localhost:8080/",
          "height": 635
        }
      },
      "source": [
        "X_new"
      ],
      "execution_count": 267,
      "outputs": [
        {
          "output_type": "execute_result",
          "data": {
            "text/html": [
              "<div>\n",
              "<style scoped>\n",
              "    .dataframe tbody tr th:only-of-type {\n",
              "        vertical-align: middle;\n",
              "    }\n",
              "\n",
              "    .dataframe tbody tr th {\n",
              "        vertical-align: top;\n",
              "    }\n",
              "\n",
              "    .dataframe thead th {\n",
              "        text-align: right;\n",
              "    }\n",
              "</style>\n",
              "<table border=\"1\" class=\"dataframe\">\n",
              "  <thead>\n",
              "    <tr style=\"text-align: right;\">\n",
              "      <th></th>\n",
              "      <th>new_persons_vaccinated</th>\n",
              "      <th>school_closing_2.0</th>\n",
              "      <th>school_closing_3.0</th>\n",
              "      <th>workplace_closing_0.0</th>\n",
              "      <th>workplace_closing_1.0</th>\n",
              "      <th>cancel_public_events_0.0</th>\n",
              "      <th>cancel_public_events_1.0</th>\n",
              "      <th>facial_coverings_4.0</th>\n",
              "    </tr>\n",
              "    <tr>\n",
              "      <th>date</th>\n",
              "      <th></th>\n",
              "      <th></th>\n",
              "      <th></th>\n",
              "      <th></th>\n",
              "      <th></th>\n",
              "      <th></th>\n",
              "      <th></th>\n",
              "      <th></th>\n",
              "    </tr>\n",
              "  </thead>\n",
              "  <tbody>\n",
              "    <tr>\n",
              "      <th>2021-01-28</th>\n",
              "      <td>0.0</td>\n",
              "      <td>0</td>\n",
              "      <td>1</td>\n",
              "      <td>1</td>\n",
              "      <td>0</td>\n",
              "      <td>1</td>\n",
              "      <td>0</td>\n",
              "      <td>1</td>\n",
              "    </tr>\n",
              "    <tr>\n",
              "      <th>2021-01-29</th>\n",
              "      <td>0.0</td>\n",
              "      <td>0</td>\n",
              "      <td>1</td>\n",
              "      <td>1</td>\n",
              "      <td>0</td>\n",
              "      <td>1</td>\n",
              "      <td>0</td>\n",
              "      <td>1</td>\n",
              "    </tr>\n",
              "    <tr>\n",
              "      <th>2021-01-30</th>\n",
              "      <td>0.0</td>\n",
              "      <td>0</td>\n",
              "      <td>1</td>\n",
              "      <td>1</td>\n",
              "      <td>0</td>\n",
              "      <td>1</td>\n",
              "      <td>0</td>\n",
              "      <td>1</td>\n",
              "    </tr>\n",
              "    <tr>\n",
              "      <th>2021-01-31</th>\n",
              "      <td>0.0</td>\n",
              "      <td>0</td>\n",
              "      <td>1</td>\n",
              "      <td>1</td>\n",
              "      <td>0</td>\n",
              "      <td>1</td>\n",
              "      <td>0</td>\n",
              "      <td>1</td>\n",
              "    </tr>\n",
              "    <tr>\n",
              "      <th>2021-02-01</th>\n",
              "      <td>0.0</td>\n",
              "      <td>1</td>\n",
              "      <td>0</td>\n",
              "      <td>1</td>\n",
              "      <td>0</td>\n",
              "      <td>1</td>\n",
              "      <td>0</td>\n",
              "      <td>1</td>\n",
              "    </tr>\n",
              "    <tr>\n",
              "      <th>...</th>\n",
              "      <td>...</td>\n",
              "      <td>...</td>\n",
              "      <td>...</td>\n",
              "      <td>...</td>\n",
              "      <td>...</td>\n",
              "      <td>...</td>\n",
              "      <td>...</td>\n",
              "      <td>...</td>\n",
              "    </tr>\n",
              "    <tr>\n",
              "      <th>2021-10-07</th>\n",
              "      <td>5378.0</td>\n",
              "      <td>1</td>\n",
              "      <td>0</td>\n",
              "      <td>0</td>\n",
              "      <td>1</td>\n",
              "      <td>0</td>\n",
              "      <td>1</td>\n",
              "      <td>1</td>\n",
              "    </tr>\n",
              "    <tr>\n",
              "      <th>2021-10-08</th>\n",
              "      <td>5919.0</td>\n",
              "      <td>1</td>\n",
              "      <td>0</td>\n",
              "      <td>0</td>\n",
              "      <td>1</td>\n",
              "      <td>0</td>\n",
              "      <td>1</td>\n",
              "      <td>1</td>\n",
              "    </tr>\n",
              "    <tr>\n",
              "      <th>2021-10-09</th>\n",
              "      <td>905.0</td>\n",
              "      <td>1</td>\n",
              "      <td>0</td>\n",
              "      <td>0</td>\n",
              "      <td>1</td>\n",
              "      <td>0</td>\n",
              "      <td>1</td>\n",
              "      <td>1</td>\n",
              "    </tr>\n",
              "    <tr>\n",
              "      <th>2021-10-10</th>\n",
              "      <td>-4935.0</td>\n",
              "      <td>1</td>\n",
              "      <td>0</td>\n",
              "      <td>0</td>\n",
              "      <td>1</td>\n",
              "      <td>0</td>\n",
              "      <td>1</td>\n",
              "      <td>1</td>\n",
              "    </tr>\n",
              "    <tr>\n",
              "      <th>2021-10-12</th>\n",
              "      <td>17770.0</td>\n",
              "      <td>1</td>\n",
              "      <td>0</td>\n",
              "      <td>0</td>\n",
              "      <td>1</td>\n",
              "      <td>0</td>\n",
              "      <td>1</td>\n",
              "      <td>1</td>\n",
              "    </tr>\n",
              "  </tbody>\n",
              "</table>\n",
              "<p>179 rows × 8 columns</p>\n",
              "</div>"
            ],
            "text/plain": [
              "            new_persons_vaccinated  ...  facial_coverings_4.0\n",
              "date                                ...                      \n",
              "2021-01-28                     0.0  ...                     1\n",
              "2021-01-29                     0.0  ...                     1\n",
              "2021-01-30                     0.0  ...                     1\n",
              "2021-01-31                     0.0  ...                     1\n",
              "2021-02-01                     0.0  ...                     1\n",
              "...                            ...  ...                   ...\n",
              "2021-10-07                  5378.0  ...                     1\n",
              "2021-10-08                  5919.0  ...                     1\n",
              "2021-10-09                   905.0  ...                     1\n",
              "2021-10-10                 -4935.0  ...                     1\n",
              "2021-10-12                 17770.0  ...                     1\n",
              "\n",
              "[179 rows x 8 columns]"
            ]
          },
          "metadata": {},
          "execution_count": 267
        }
      ]
    },
    {
      "cell_type": "code",
      "metadata": {
        "id": "A8qNUC09xpol",
        "colab": {
          "base_uri": "https://localhost:8080/",
          "height": 296
        },
        "outputId": "81badf8b-6e00-47e0-84b8-34882f9de05d"
      },
      "source": [
        "X_new['new_persons_vaccinated'].plot()"
      ],
      "execution_count": 269,
      "outputs": [
        {
          "output_type": "execute_result",
          "data": {
            "text/plain": [
              "<matplotlib.axes._subplots.AxesSubplot at 0x7f7c06d77fd0>"
            ]
          },
          "metadata": {},
          "execution_count": 269
        },
        {
          "output_type": "display_data",
          "data": {
            "image/png": "[encoded data removed]",
            "text/plain": [
              "<Figure size 432x288 with 1 Axes>"
            ]
          },
          "metadata": {
            "needs_background": "light"
          }
        }
      ]
    },
    {
      "cell_type": "code",
      "metadata": {
        "id": "YOH3APlwtMHa"
      },
      "source": [
        "outliers=X_new['new_persons_vaccinated'].between(0, X_new['new_persons_vaccinated'].quantile(.95))"
      ],
      "execution_count": 271,
      "outputs": []
    },
    {
      "cell_type": "code",
      "metadata": {
        "id": "UuO8e1UvzHJz"
      },
      "source": [
        "y=y[outliers]\n",
        "X_new=X_new[outliers]"
      ],
      "execution_count": 272,
      "outputs": []
    },
    {
      "cell_type": "code",
      "metadata": {
        "id": "64_fIRMkmxhr"
      },
      "source": [
        "X_rolling=X_new.rolling(7).mean()\n",
        "y_rolling=y.rolling(7).mean()"
      ],
      "execution_count": 273,
      "outputs": []
    },
    {
      "cell_type": "code",
      "metadata": {
        "id": "R4Scjl1wm4Vb"
      },
      "source": [
        "X_rolling.dropna(inplace=True)\n",
        "y_rolling.dropna(inplace=True)"
      ],
      "execution_count": 274,
      "outputs": []
    },
    {
      "cell_type": "code",
      "metadata": {
        "id": "WZ22fR7PnnPE",
        "outputId": "b99bc401-570b-4028-b890-b53db49e9b42",
        "colab": {
          "base_uri": "https://localhost:8080/"
        }
      },
      "source": [
        "X_rolling['new_persons_vaccinated'].min()"
      ],
      "execution_count": 275,
      "outputs": [
        {
          "output_type": "execute_result",
          "data": {
            "text/plain": [
              "0.0"
            ]
          },
          "metadata": {},
          "execution_count": 275
        }
      ]
    },
    {
      "cell_type": "code",
      "metadata": {
        "id": "iTU4ZRRgqFVs",
        "outputId": "cc340953-6b35-442e-f918-5e2c49e2bd13",
        "colab": {
          "base_uri": "https://localhost:8080/",
          "height": 635
        }
      },
      "source": [
        "X_rolling"
      ],
      "execution_count": 276,
      "outputs": [
        {
          "output_type": "execute_result",
          "data": {
            "text/html": [
              "<div>\n",
              "<style scoped>\n",
              "    .dataframe tbody tr th:only-of-type {\n",
              "        vertical-align: middle;\n",
              "    }\n",
              "\n",
              "    .dataframe tbody tr th {\n",
              "        vertical-align: top;\n",
              "    }\n",
              "\n",
              "    .dataframe thead th {\n",
              "        text-align: right;\n",
              "    }\n",
              "</style>\n",
              "<table border=\"1\" class=\"dataframe\">\n",
              "  <thead>\n",
              "    <tr style=\"text-align: right;\">\n",
              "      <th></th>\n",
              "      <th>new_persons_vaccinated</th>\n",
              "      <th>school_closing_2.0</th>\n",
              "      <th>school_closing_3.0</th>\n",
              "      <th>workplace_closing_0.0</th>\n",
              "      <th>workplace_closing_1.0</th>\n",
              "      <th>cancel_public_events_0.0</th>\n",
              "      <th>cancel_public_events_1.0</th>\n",
              "      <th>facial_coverings_4.0</th>\n",
              "    </tr>\n",
              "    <tr>\n",
              "      <th>date</th>\n",
              "      <th></th>\n",
              "      <th></th>\n",
              "      <th></th>\n",
              "      <th></th>\n",
              "      <th></th>\n",
              "      <th></th>\n",
              "      <th></th>\n",
              "      <th></th>\n",
              "    </tr>\n",
              "  </thead>\n",
              "  <tbody>\n",
              "    <tr>\n",
              "      <th>2021-02-03</th>\n",
              "      <td>0.000000</td>\n",
              "      <td>0.428571</td>\n",
              "      <td>0.571429</td>\n",
              "      <td>1.0</td>\n",
              "      <td>0.0</td>\n",
              "      <td>1.0</td>\n",
              "      <td>0.0</td>\n",
              "      <td>1.0</td>\n",
              "    </tr>\n",
              "    <tr>\n",
              "      <th>2021-02-04</th>\n",
              "      <td>0.000000</td>\n",
              "      <td>0.571429</td>\n",
              "      <td>0.428571</td>\n",
              "      <td>1.0</td>\n",
              "      <td>0.0</td>\n",
              "      <td>1.0</td>\n",
              "      <td>0.0</td>\n",
              "      <td>1.0</td>\n",
              "    </tr>\n",
              "    <tr>\n",
              "      <th>2021-02-05</th>\n",
              "      <td>322.571429</td>\n",
              "      <td>0.714286</td>\n",
              "      <td>0.285714</td>\n",
              "      <td>1.0</td>\n",
              "      <td>0.0</td>\n",
              "      <td>1.0</td>\n",
              "      <td>0.0</td>\n",
              "      <td>1.0</td>\n",
              "    </tr>\n",
              "    <tr>\n",
              "      <th>2021-02-06</th>\n",
              "      <td>352.000000</td>\n",
              "      <td>0.857143</td>\n",
              "      <td>0.142857</td>\n",
              "      <td>1.0</td>\n",
              "      <td>0.0</td>\n",
              "      <td>1.0</td>\n",
              "      <td>0.0</td>\n",
              "      <td>1.0</td>\n",
              "    </tr>\n",
              "    <tr>\n",
              "      <th>2021-02-07</th>\n",
              "      <td>368.571429</td>\n",
              "      <td>1.000000</td>\n",
              "      <td>0.000000</td>\n",
              "      <td>1.0</td>\n",
              "      <td>0.0</td>\n",
              "      <td>1.0</td>\n",
              "      <td>0.0</td>\n",
              "      <td>1.0</td>\n",
              "    </tr>\n",
              "    <tr>\n",
              "      <th>...</th>\n",
              "      <td>...</td>\n",
              "      <td>...</td>\n",
              "      <td>...</td>\n",
              "      <td>...</td>\n",
              "      <td>...</td>\n",
              "      <td>...</td>\n",
              "      <td>...</td>\n",
              "      <td>...</td>\n",
              "    </tr>\n",
              "    <tr>\n",
              "      <th>2021-10-06</th>\n",
              "      <td>5691.857143</td>\n",
              "      <td>1.000000</td>\n",
              "      <td>0.000000</td>\n",
              "      <td>0.0</td>\n",
              "      <td>1.0</td>\n",
              "      <td>0.0</td>\n",
              "      <td>1.0</td>\n",
              "      <td>1.0</td>\n",
              "    </tr>\n",
              "    <tr>\n",
              "      <th>2021-10-07</th>\n",
              "      <td>5741.142857</td>\n",
              "      <td>1.000000</td>\n",
              "      <td>0.000000</td>\n",
              "      <td>0.0</td>\n",
              "      <td>1.0</td>\n",
              "      <td>0.0</td>\n",
              "      <td>1.0</td>\n",
              "      <td>1.0</td>\n",
              "    </tr>\n",
              "    <tr>\n",
              "      <th>2021-10-08</th>\n",
              "      <td>5781.857143</td>\n",
              "      <td>1.000000</td>\n",
              "      <td>0.000000</td>\n",
              "      <td>0.0</td>\n",
              "      <td>1.0</td>\n",
              "      <td>0.0</td>\n",
              "      <td>1.0</td>\n",
              "      <td>1.0</td>\n",
              "    </tr>\n",
              "    <tr>\n",
              "      <th>2021-10-09</th>\n",
              "      <td>5741.142857</td>\n",
              "      <td>1.000000</td>\n",
              "      <td>0.000000</td>\n",
              "      <td>0.0</td>\n",
              "      <td>1.0</td>\n",
              "      <td>0.0</td>\n",
              "      <td>1.0</td>\n",
              "      <td>1.0</td>\n",
              "    </tr>\n",
              "    <tr>\n",
              "      <th>2021-10-12</th>\n",
              "      <td>8077.285714</td>\n",
              "      <td>1.000000</td>\n",
              "      <td>0.000000</td>\n",
              "      <td>0.0</td>\n",
              "      <td>1.0</td>\n",
              "      <td>0.0</td>\n",
              "      <td>1.0</td>\n",
              "      <td>1.0</td>\n",
              "    </tr>\n",
              "  </tbody>\n",
              "</table>\n",
              "<p>159 rows × 8 columns</p>\n",
              "</div>"
            ],
            "text/plain": [
              "            new_persons_vaccinated  ...  facial_coverings_4.0\n",
              "date                                ...                      \n",
              "2021-02-03                0.000000  ...                   1.0\n",
              "2021-02-04                0.000000  ...                   1.0\n",
              "2021-02-05              322.571429  ...                   1.0\n",
              "2021-02-06              352.000000  ...                   1.0\n",
              "2021-02-07              368.571429  ...                   1.0\n",
              "...                            ...  ...                   ...\n",
              "2021-10-06             5691.857143  ...                   1.0\n",
              "2021-10-07             5741.142857  ...                   1.0\n",
              "2021-10-08             5781.857143  ...                   1.0\n",
              "2021-10-09             5741.142857  ...                   1.0\n",
              "2021-10-12             8077.285714  ...                   1.0\n",
              "\n",
              "[159 rows x 8 columns]"
            ]
          },
          "metadata": {},
          "execution_count": 276
        }
      ]
    },
    {
      "cell_type": "code",
      "metadata": {
        "id": "CzFFrWrsjBrW"
      },
      "source": [
        "from sklearn.model_selection import train_test_split\n",
        "\n",
        "\n",
        "X_train, X_test, y_train, y_test = train_test_split(X_rolling,y_rolling, test_size=0.2, random_state=42)"
      ],
      "execution_count": 277,
      "outputs": []
    },
    {
      "cell_type": "code",
      "metadata": {
        "id": "H6BVC3r4nK6z",
        "outputId": "1c3483ad-0ee4-46fe-c0d5-73654a15e36d",
        "colab": {
          "base_uri": "https://localhost:8080/"
        }
      },
      "source": [
        "y_train.shape"
      ],
      "execution_count": 278,
      "outputs": [
        {
          "output_type": "execute_result",
          "data": {
            "text/plain": [
              "(127,)"
            ]
          },
          "metadata": {},
          "execution_count": 278
        }
      ]
    },
    {
      "cell_type": "code",
      "metadata": {
        "id": "NU2ePY1SifCh",
        "outputId": "748faae4-f0cc-4e72-9a21-f744e2d37c43",
        "colab": {
          "base_uri": "https://localhost:8080/"
        }
      },
      "source": [
        "lin_reg = LinearRegression()\n",
        "lin_reg.fit(X_train, y_train)\n",
        "r2=lin_reg.score(X_test, y_test)\n",
        "print('Coeficiente Determinacion :',r2)"
      ],
      "execution_count": 279,
      "outputs": [
        {
          "output_type": "stream",
          "name": "stdout",
          "text": [
            "Coeficiente Determinacion : 0.7718867064183124\n"
          ]
        }
      ]
    },
    {
      "cell_type": "code",
      "metadata": {
        "id": "SexjBMX2sx0E",
        "outputId": "235ecaee-c3e0-45cb-adf4-d810d0ef5529",
        "colab": {
          "base_uri": "https://localhost:8080/"
        }
      },
      "source": [
        "lasso_reg = Lasso(alpha=0.1)\n",
        "lasso_reg.fit(X_train, y_train)\n",
        "r2=lasso_reg.score(X_test, y_test)\n",
        "print('Coeficiente Determinacion :',r2)"
      ],
      "execution_count": 280,
      "outputs": [
        {
          "output_type": "stream",
          "name": "stdout",
          "text": [
            "Coeficiente Determinacion : 0.7717291049645595\n"
          ]
        }
      ]
    },
    {
      "cell_type": "code",
      "metadata": {
        "id": "J7Jlgd5vrIm9",
        "outputId": "3e441d93-6467-4375-8c43-4ffb5e467eaf",
        "colab": {
          "base_uri": "https://localhost:8080/"
        }
      },
      "source": [
        "response_bolivia.columns"
      ],
      "execution_count": 222,
      "outputs": [
        {
          "output_type": "execute_result",
          "data": {
            "text/plain": [
              "Index(['location_key', 'school_closing', 'workplace_closing',\n",
              "       'cancel_public_events', 'restrictions_on_gatherings',\n",
              "       'public_transport_closing', 'stay_at_home_requirements',\n",
              "       'restrictions_on_internal_movement', 'international_travel_controls',\n",
              "       'income_support', 'debt_relief', 'fiscal_measures',\n",
              "       'international_support', 'public_information_campaigns',\n",
              "       'testing_policy', 'contact_tracing',\n",
              "       'emergency_investment_in_healthcare', 'investment_in_vaccines',\n",
              "       'facial_coverings', 'vaccination_policy', 'stringency_index'],\n",
              "      dtype='object')"
            ]
          },
          "metadata": {},
          "execution_count": 222
        }
      ]
    },
    {
      "cell_type": "code",
      "metadata": {
        "id": "_rz7PFuOq7c6"
      },
      "source": [
        "y=df_bolivia['new_confirmed']\n",
        "X=df_bolivia[['new_persons_vaccinated','school_closing','workplace_closing','cancel_public_events','facial_coverings']]"
      ],
      "execution_count": 223,
      "outputs": []
    },
    {
      "cell_type": "code",
      "metadata": {
        "id": "aYauGOQhrhNs",
        "outputId": "46ece7d7-b756-4c6c-fc60-97d1d30ed4a8",
        "colab": {
          "base_uri": "https://localhost:8080/"
        }
      },
      "source": [
        "X.fillna(0,inplace=True)"
      ],
      "execution_count": 225,
      "outputs": [
        {
          "output_type": "stream",
          "name": "stderr",
          "text": [
            "/usr/local/lib/python3.7/dist-packages/pandas/core/frame.py:4327: SettingWithCopyWarning: \n",
            "A value is trying to be set on a copy of a slice from a DataFrame\n",
            "\n",
            "See the caveats in the documentation: https://pandas.pydata.org/pandas-docs/stable/user_guide/indexing.html#returning-a-view-versus-a-copy\n",
            "  downcast=downcast,\n"
          ]
        }
      ]
    },
    {
      "cell_type": "code",
      "metadata": {
        "id": "KIsH-LN2vKye",
        "outputId": "d31030a1-0170-4621-ac04-26682d1e9ffc",
        "colab": {
          "base_uri": "https://localhost:8080/"
        }
      },
      "source": [
        "y.shape"
      ],
      "execution_count": 287,
      "outputs": [
        {
          "output_type": "execute_result",
          "data": {
            "text/plain": [
              "(165,)"
            ]
          },
          "metadata": {},
          "execution_count": 287
        }
      ]
    },
    {
      "cell_type": "code",
      "metadata": {
        "id": "R4At3bTGzWaf"
      },
      "source": [
        "from sklearn.model_selection import train_test_split\n",
        "from sklearn.tree import DecisionTreeRegressor\n",
        "\n",
        "X_train, X_test, y_train, y_test = train_test_split(X,y, test_size=0.2, random_state=42)\n",
        "\n",
        "\n",
        "regr_1 = DecisionTreeRegressor(max_depth=80)\n",
        "\n",
        "regr_1 = regr_1.fit(X_train,y_train)\n"
      ],
      "execution_count": 304,
      "outputs": []
    },
    {
      "cell_type": "code",
      "metadata": {
        "id": "26LDQ5dErrdq",
        "outputId": "c35576f4-903d-4204-abad-5a3a84c8877a",
        "colab": {
          "base_uri": "https://localhost:8080/"
        }
      },
      "source": [
        "r2=regr_1.score(X_test, y_test)\n",
        "print('Coeficiente Determinacion :',r2)"
      ],
      "execution_count": 305,
      "outputs": [
        {
          "output_type": "stream",
          "name": "stdout",
          "text": [
            "Coeficiente Determinacion : 0.6236957028525623\n"
          ]
        }
      ]
    }
  ]
}