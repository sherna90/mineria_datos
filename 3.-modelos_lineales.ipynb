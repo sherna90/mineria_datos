{
  "nbformat": 4,
  "nbformat_minor": 0,
  "metadata": {
    "kernelspec": {
      "display_name": "Python 3",
      "language": "python",
      "name": "python3"
    },
    "language_info": {
      "codemirror_mode": {
        "name": "ipython",
        "version": 3
      },
      "file_extension": ".py",
      "mimetype": "text/x-python",
      "name": "python",
      "nbconvert_exporter": "python",
      "pygments_lexer": "ipython3",
      "version": "3.6.9"
    },
    "colab": {
      "name": "3.-modelos_lineales.ipynb",
      "provenance": []
    }
  },
  "cells": [
    {
      "cell_type": "markdown",
      "metadata": {
        "id": "n9m1eTNuP8hJ"
      },
      "source": [
        "# Modelos lineales y regularizacion"
      ]
    },
    {
      "cell_type": "code",
      "metadata": {
        "id": "5gmbtaA1P8hK"
      },
      "source": [
        "import numpy as np\n",
        "\n",
        "n=100\n",
        "X = 2 * np.random.rand(n, 1)\n",
        "y = 4 + 3 * X + np.random.randn(n, 1)"
      ],
      "execution_count": 1,
      "outputs": []
    },
    {
      "cell_type": "code",
      "metadata": {
        "id": "9Hioht9NP8hQ",
        "colab": {
          "base_uri": "https://localhost:8080/",
          "height": 265
        },
        "outputId": "03c22e83-88a4-43cd-9ffc-00f1ecc509a5"
      },
      "source": [
        "import matplotlib.pyplot as plt\n",
        "\n",
        "plt.plot(X,y,'b.')\n",
        "plt.axis([0, 2, 0, 15])\n",
        "plt.show()"
      ],
      "execution_count": 2,
      "outputs": [
        {
          "output_type": "display_data",
          "data": {
            "image/png": "[encoded data removed]",
            "text/plain": [
              "<Figure size 432x288 with 1 Axes>"
            ]
          },
          "metadata": {
            "needs_background": "light"
          }
        }
      ]
    },
    {
      "cell_type": "code",
      "metadata": {
        "id": "VAPmUn0_P8hV"
      },
      "source": [
        "X_b = np.c_[np.ones((n, 1)), X] # add x0 = 1 to each instance\n",
        "# w_hat \n",
        ", = np.linalg.inv(X_b.T.dot(X_b)).dot(X_b.T).dot(y)"
      ],
      "execution_count": null,
      "outputs": []
    },
    {
      "cell_type": "code",
      "metadata": {
        "id": "n1cuoBufW8CP",
        "colab": {
          "base_uri": "https://localhost:8080/"
        },
        "outputId": "dc2f2148-c7e9-48e5-9452-d02b194a72a0"
      },
      "source": [
        "X_b.shape"
      ],
      "execution_count": null,
      "outputs": [
        {
          "output_type": "execute_result",
          "data": {
            "text/plain": [
              "(100, 2)"
            ]
          },
          "metadata": {},
          "execution_count": 4
        }
      ]
    },
    {
      "cell_type": "code",
      "metadata": {
        "id": "iV_2jhl-P8hZ",
        "colab": {
          "base_uri": "https://localhost:8080/"
        },
        "outputId": "98ce38ad-3900-458f-a752-8e8fff66b9d5"
      },
      "source": [
        "print(w_hat)"
      ],
      "execution_count": null,
      "outputs": [
        {
          "output_type": "stream",
          "name": "stdout",
          "text": [
            "[[4.04671292]\n",
            " [2.9927079 ]]\n"
          ]
        }
      ]
    },
    {
      "cell_type": "code",
      "metadata": {
        "id": "BLoEl6BtP8hd"
      },
      "source": [
        "X_new = np.array([[0], [2]])\n",
        "X_new_b = np.c_[np.ones((2, 1)), X_new] # add x0 = 1 to each instance\n",
        "y_predict = X_new_b.dot(w_hat)"
      ],
      "execution_count": null,
      "outputs": []
    },
    {
      "cell_type": "code",
      "metadata": {
        "id": "6mK0UA_GP8hh",
        "colab": {
          "base_uri": "https://localhost:8080/",
          "height": 265
        },
        "outputId": "5df3205f-5ac3-47b8-a62e-ec2faf6ee76f"
      },
      "source": [
        "plt.plot(X_new, y_predict, \"r-\")\n",
        "plt.plot(X, y, \"b.\")\n",
        "plt.axis([0, 2, 0, 15])\n",
        "plt.show()"
      ],
      "execution_count": null,
      "outputs": [
        {
          "output_type": "display_data",
          "data": {
            "image/png": "[encoded data removed]",
            "text/plain": [
              "<Figure size 432x288 with 1 Axes>"
            ]
          },
          "metadata": {
            "needs_background": "light"
          }
        }
      ]
    },
    {
      "cell_type": "code",
      "metadata": {
        "id": "2ESD2EPCP8hl",
        "colab": {
          "base_uri": "https://localhost:8080/"
        },
        "outputId": "2cffb948-04a9-45b3-b7aa-270ba698a316"
      },
      "source": [
        "from sklearn.linear_model import LinearRegression\n",
        "\n",
        "lin_reg = LinearRegression()\n",
        "lin_reg.fit(X, y)\n",
        "print('Coeficientes Sklearn : ',lin_reg.intercept_, lin_reg.coef_)\n",
        "print('Coeficientes Manual : ',w_hat)"
      ],
      "execution_count": null,
      "outputs": [
        {
          "output_type": "stream",
          "name": "stdout",
          "text": [
            "Coeficientes Sklearn :  [4.04671292] [[2.9927079]]\n",
            "Coeficientes Manual :  [[4.04671292]\n",
            " [2.9927079 ]]\n"
          ]
        }
      ]
    },
    {
      "cell_type": "markdown",
      "metadata": {
        "id": "7agtsdj1P8hq"
      },
      "source": [
        "# Regularizacion"
      ]
    },
    {
      "cell_type": "code",
      "metadata": {
        "id": "Jkt-6Cj2P8hr"
      },
      "source": [
        "X = 2 * np.random.rand(100, 1)\n",
        "y = 4 + 3 * np.sin(X) + np.random.randn(100, 1)"
      ],
      "execution_count": null,
      "outputs": []
    },
    {
      "cell_type": "code",
      "metadata": {
        "id": "1fpghK28P8hu",
        "colab": {
          "base_uri": "https://localhost:8080/",
          "height": 265
        },
        "outputId": "43fc2e89-17e5-4b77-9f93-b986e47fade8"
      },
      "source": [
        "import matplotlib.pyplot as plt\n",
        "\n",
        "plt.plot(X,y,'b.')\n",
        "plt.axis([0, 2, 0, 15])\n",
        "plt.show()"
      ],
      "execution_count": null,
      "outputs": [
        {
          "output_type": "display_data",
          "data": {
            "image/png": "[encoded data removed]",
            "text/plain": [
              "<Figure size 432x288 with 1 Axes>"
            ]
          },
          "metadata": {
            "needs_background": "light"
          }
        }
      ]
    },
    {
      "cell_type": "code",
      "metadata": {
        "id": "hM-I4JzQP8hy"
      },
      "source": [
        "from sklearn.preprocessing import PolynomialFeatures\n",
        "\n",
        "poly=PolynomialFeatures(degree=2,interaction_only=False,include_bias=True)\n",
        "poly.fit(X)\n",
        "X_p=poly.transform(X)"
      ],
      "execution_count": null,
      "outputs": []
    },
    {
      "cell_type": "code",
      "metadata": {
        "id": "nzfd8RSIP8h2",
        "colab": {
          "base_uri": "https://localhost:8080/"
        },
        "outputId": "262c1b18-b5bd-4790-b853-e5cb946c5fbb"
      },
      "source": [
        "X_p[0]"
      ],
      "execution_count": null,
      "outputs": [
        {
          "output_type": "execute_result",
          "data": {
            "text/plain": [
              "array([1.        , 1.75705675, 3.08724843])"
            ]
          },
          "metadata": {},
          "execution_count": 12
        }
      ]
    },
    {
      "cell_type": "code",
      "metadata": {
        "id": "w1sHshmnaQtN",
        "colab": {
          "base_uri": "https://localhost:8080/"
        },
        "outputId": "1a07f960-84d3-4984-896d-6358d61364ff"
      },
      "source": [
        "lin_reg = LinearRegression()\n",
        "lin_reg.fit(X, y)\n",
        "r2=lin_reg.score(X, y)\n",
        "print('Coeficiente Determinacion :',r2)\n",
        "print('Coeficientes Sklearn : ',lin_reg.intercept_, lin_reg.coef_)"
      ],
      "execution_count": null,
      "outputs": [
        {
          "output_type": "stream",
          "name": "stdout",
          "text": [
            "Coeficiente Determinacion : 0.39007262277083776\n",
            "Coeficientes Sklearn :  [4.56530569] [[1.48675753]]\n"
          ]
        }
      ]
    },
    {
      "cell_type": "code",
      "metadata": {
        "id": "0FHDaKWzP8iE",
        "colab": {
          "base_uri": "https://localhost:8080/"
        },
        "outputId": "93a67dd3-6e92-4b36-e430-b4b1feabdd9a"
      },
      "source": [
        "lin_reg = LinearRegression()\n",
        "lin_reg.fit(X_p, y)\n",
        "r2=lin_reg.score(X_p, y)\n",
        "print('Coeficientes Sklearn : ',lin_reg.intercept_, lin_reg.coef_)\n",
        "print('Coeficiente Determinacion :',r2)"
      ],
      "execution_count": null,
      "outputs": [
        {
          "output_type": "stream",
          "name": "stdout",
          "text": [
            "Coeficientes Sklearn :  [4.02462452] [[ 0.          3.1073279  -0.80935799]]\n",
            "Coeficiente Determinacion : 0.42051678772550866\n"
          ]
        }
      ]
    },
    {
      "cell_type": "code",
      "metadata": {
        "id": "7-MG4QN7P8iI"
      },
      "source": [
        "y_predict=lin_reg.predict(X_p)"
      ],
      "execution_count": null,
      "outputs": []
    },
    {
      "cell_type": "code",
      "metadata": {
        "id": "gugnbYSTP8iL",
        "colab": {
          "base_uri": "https://localhost:8080/",
          "height": 285
        },
        "outputId": "0ec110c5-1838-4860-9e82-0368516a7e03"
      },
      "source": [
        "plt.plot(X_p[:,1], y_predict, \"r.\")\n",
        "plt.plot(X,y,'b.')\n",
        "plt.title(r'Polinomio : {0}, $R^2$:{1:0.2f}'.format(2,r2))\n",
        "plt.axis([0, 2, 0, 15])\n",
        "plt.show()"
      ],
      "execution_count": null,
      "outputs": [
        {
          "output_type": "display_data",
          "data": {
            "image/png": "[encoded data removed]",
            "text/plain": [
              "<Figure size 432x288 with 1 Axes>"
            ]
          },
          "metadata": {
            "needs_background": "light"
          }
        }
      ]
    },
    {
      "cell_type": "code",
      "metadata": {
        "id": "EG4RnADVP8iZ",
        "colab": {
          "base_uri": "https://localhost:8080/",
          "height": 307
        },
        "outputId": "6bc31827-455a-47dd-86e1-7d0312bd34c1"
      },
      "source": [
        "K=5\n",
        "poly=PolynomialFeatures(degree=K,interaction_only=False,include_bias=True)\n",
        "poly.fit(X)\n",
        "X_p=poly.transform(X)\n",
        "lin_reg = LinearRegression()\n",
        "lin_reg.fit(X_p, y)\n",
        "r2=lin_reg.score(X_p, y)\n",
        "X_new=np.linspace(-3, 3, 100).reshape(100, 1)\n",
        "X_new_poly = poly.transform(X_new)\n",
        "y_new = lin_reg.predict(X_new_poly)\n",
        "plt.plot(X, y, \"b.\")\n",
        "plt.plot(X_new, y_new, \"r-\", linewidth=2, label=\"Predictions\")\n",
        "plt.xlabel(\"$x_1$\", fontsize=18)\n",
        "plt.ylabel(\"$y$\", rotation=0, fontsize=18)\n",
        "plt.axis([0, 2, 0, 15])\n",
        "plt.title(r'Polinomio : {0}, $R^2$:{1:0.2f}'.format(K,r2))\n",
        "plt.show()"
      ],
      "execution_count": null,
      "outputs": [
        {
          "output_type": "display_data",
          "data": {
            "image/png": "[encoded data removed]",
            "text/plain": [
              "<Figure size 432x288 with 1 Axes>"
            ]
          },
          "metadata": {
            "needs_background": "light"
          }
        }
      ]
    },
    {
      "cell_type": "code",
      "metadata": {
        "id": "GtNRbIlvP8id",
        "colab": {
          "base_uri": "https://localhost:8080/",
          "height": 307
        },
        "outputId": "0522bc9c-e752-43e7-af07-7e79a0987a5a"
      },
      "source": [
        "K=20\n",
        "poly=PolynomialFeatures(degree=K,interaction_only=False,include_bias=True)\n",
        "poly.fit(X)\n",
        "X_p=poly.transform(X)\n",
        "lin_reg = LinearRegression()\n",
        "lin_reg.fit(X_p, y)\n",
        "r2=lin_reg.score(X_p, y)\n",
        "X_new=np.linspace(-3, 3, 100).reshape(100, 1)\n",
        "X_new_poly = poly.transform(X_new)\n",
        "y_new = lin_reg.predict(X_new_poly)\n",
        "plt.plot(X, y, \"b.\")\n",
        "plt.plot(X_new, y_new, \"r-\", linewidth=2, label=\"Predictions\")\n",
        "plt.xlabel(\"$x_1$\", fontsize=18)\n",
        "plt.ylabel(\"$y$\", rotation=0, fontsize=18)\n",
        "plt.axis([0, 2, 0, 15])\n",
        "plt.title(r'Polinomio : {0}, $R^2$:{1:0.2f}'.format(K,r2))\n",
        "plt.show()"
      ],
      "execution_count": null,
      "outputs": [
        {
          "output_type": "display_data",
          "data": {
            "image/png": "[encoded data removed]",
            "text/plain": [
              "<Figure size 432x288 with 1 Axes>"
            ]
          },
          "metadata": {
            "needs_background": "light"
          }
        }
      ]
    },
    {
      "cell_type": "code",
      "metadata": {
        "id": "vANlTocnP8ii",
        "colab": {
          "base_uri": "https://localhost:8080/"
        },
        "outputId": "8c15e4c9-69e5-434d-8f1b-f16c8b88841c"
      },
      "source": [
        "print(X_p.shape)"
      ],
      "execution_count": null,
      "outputs": [
        {
          "output_type": "stream",
          "name": "stdout",
          "text": [
            "(100, 21)\n"
          ]
        }
      ]
    },
    {
      "cell_type": "code",
      "metadata": {
        "id": "s9UKeEHiP8im",
        "colab": {
          "base_uri": "https://localhost:8080/",
          "height": 307
        },
        "outputId": "69eb3873-afe6-493b-9b2c-7e5c0f26bb1b"
      },
      "source": [
        "from sklearn.linear_model import Ridge\n",
        "\n",
        "lamb=0.1\n",
        "K=20\n",
        "\n",
        "poly=PolynomialFeatures(degree=K,interaction_only=False,include_bias=True)\n",
        "poly.fit(X)\n",
        "X_p=poly.transform(X)\n",
        "\n",
        "ridge_reg = Ridge(alpha=lamb, solver=\"cholesky\", random_state=42)\n",
        "ridge_reg.fit(X_p, y)\n",
        "r2=ridge_reg.score(X_p, y)\n",
        "\n",
        "X_new=np.linspace(-3, 3, 100).reshape(100, 1)\n",
        "X_new_poly = poly.transform(X_new)\n",
        "y_new = ridge_reg.predict(X_new_poly)\n",
        "plt.plot(X, y, \"b.\")\n",
        "plt.plot(X_new, y_new, \"r-\", linewidth=2, label=\"Predictions\")\n",
        "plt.xlabel(\"$x_1$\", fontsize=18)\n",
        "plt.ylabel(\"$y$\", rotation=0, fontsize=18)\n",
        "plt.axis([0, 2, 0, 15])\n",
        "plt.title(r'Polinomio : {0}, Ridge $\\lambda$ : {1}, $R^2$:{2:0.2f}'.\n",
        "          format(K,lamb,r2))\n",
        "plt.show()"
      ],
      "execution_count": null,
      "outputs": [
        {
          "output_type": "display_data",
          "data": {
            "image/png": "[encoded data removed]",
            "text/plain": [
              "<Figure size 432x288 with 1 Axes>"
            ]
          },
          "metadata": {
            "needs_background": "light"
          }
        }
      ]
    },
    {
      "cell_type": "code",
      "metadata": {
        "id": "bwaOKLyAP8iq",
        "colab": {
          "base_uri": "https://localhost:8080/",
          "height": 361
        },
        "outputId": "3224f8e4-b78f-416f-d0f2-8974f27d107a"
      },
      "source": [
        "from sklearn.linear_model import Lasso\n",
        "\n",
        "lamb=0.1\n",
        "K=20\n",
        "\n",
        "poly=PolynomialFeatures(degree=K,interaction_only=False,include_bias=True)\n",
        "poly.fit(X)\n",
        "X_p=poly.transform(X)\n",
        "\n",
        "lasso_reg = Lasso(alpha=0.1)\n",
        "lasso_reg.fit(X_p, y)\n",
        "r2=lasso_reg.score(X_p, y)\n",
        "\n",
        "X_new=np.linspace(-3, 3, 100).reshape(100, 1)\n",
        "X_new_poly = poly.transform(X_new)\n",
        "y_new = lasso_reg.predict(X_new_poly)\n",
        "plt.plot(X, y, \"b.\")\n",
        "plt.plot(X_new, y_new, \"r-\", linewidth=2, label=\"Predictions\")\n",
        "plt.xlabel(\"$x_1$\", fontsize=18)\n",
        "plt.ylabel(\"$y$\", rotation=0, fontsize=18)\n",
        "plt.axis([0, 2, 0, 15])\n",
        "plt.title(r'Polinomio : {0}, Lasso $\\lambda$ : {1}, $R^2$:{2:0.2f}'.\n",
        "          format(K,lamb,r2))\n",
        "plt.show()"
      ],
      "execution_count": null,
      "outputs": [
        {
          "output_type": "stream",
          "name": "stderr",
          "text": [
            "/usr/local/lib/python3.7/dist-packages/sklearn/linear_model/_coordinate_descent.py:476: ConvergenceWarning: Objective did not converge. You might want to increase the number of iterations. Duality gap: 66.16127105687363, tolerance: 0.01892441780847124\n",
            "  positive)\n"
          ]
        },
        {
          "output_type": "display_data",
          "data": {
            "image/png": "[encoded data removed]",
            "text/plain": [
              "<Figure size 432x288 with 1 Axes>"
            ]
          },
          "metadata": {
            "needs_background": "light"
          }
        }
      ]
    },
    {
      "cell_type": "code",
      "metadata": {
        "id": "tjga_BNUP8it",
        "colab": {
          "base_uri": "https://localhost:8080/",
          "height": 420
        },
        "outputId": "e26a2852-fa10-4bc6-fad0-7bb3b5072138"
      },
      "source": [
        "x = np.arange(len(lasso_reg.coef_))  # the label locations\n",
        "width = 0.5  # the width of the bars\n",
        "fig, ax = plt.subplots(figsize=(15,7))\n",
        "rects1 = ax.bar(x - width/2, lasso_reg.coef_, width, label='Lasso')\n",
        "rects2 = ax.bar(x + width/2, ridge_reg.coef_[0], width, label='Ridge')\n",
        "#rects3 = ax.bar(x + width/2, lin_reg.coef_[0], width, label='Linear')\n",
        "ax.set_ylabel('Coeficientes')\n",
        "ax.set_title('Coeficientes por regularizacion')\n",
        "ax.set_xticks(x)\n",
        "#ax.set_xticklabels(labels)\n",
        "ax.legend()"
      ],
      "execution_count": null,
      "outputs": [
        {
          "output_type": "execute_result",
          "data": {
            "text/plain": [
              "<matplotlib.legend.Legend at 0x7fb9747499d0>"
            ]
          },
          "metadata": {},
          "execution_count": 23
        },
        {
          "output_type": "display_data",
          "data": {
            "image/png": "[encoded data removed]",
            "text/plain": [
              "<Figure size 1080x504 with 1 Axes>"
            ]
          },
          "metadata": {
            "needs_background": "light"
          }
        }
      ]
    },
    {
      "cell_type": "markdown",
      "metadata": {
        "id": "EP1eQeJeP8iw"
      },
      "source": [
        "# Tarea\n",
        "\n",
        "En este laboratorio Ud debe completar las siguientes tareas:\n",
        "\n",
        "\n",
        "1.   Implementar un modelo base para predecir el total de 'nuevos casos' a partir de las distintas vacunas y las medidas administradas en Chile.\n",
        "2. Reportar la metrica de ajuste del modelo base.\n",
        "3. Reportar la metrica de ajuste del modelo regularizacion.\n"
      ]
    },
    {
      "cell_type": "code",
      "metadata": {
        "id": "7j1A7-VHT-Xb"
      },
      "source": [
        "import pandas as pd\n",
        "\n",
        "data_cases = pd.read_csv(\n",
        "    \"https://storage.googleapis.com/covid19-open-data/v3/epidemiology.csv\",\n",
        "    keep_default_na=False,\n",
        "    na_values=[\"\"],\n",
        ")"
      ],
      "execution_count": 3,
      "outputs": []
    },
    {
      "cell_type": "code",
      "metadata": {
        "id": "ZNOq-3jS9UE0",
        "colab": {
          "base_uri": "https://localhost:8080/"
        },
        "outputId": "472fa9af-030b-4ea5-a4ed-7985fbfc10b9"
      },
      "source": [
        "for i,c in enumerate(data_cases.columns):\n",
        "  print(i,c)"
      ],
      "execution_count": null,
      "outputs": [
        {
          "output_type": "stream",
          "name": "stdout",
          "text": [
            "0 date\n",
            "1 location_key\n",
            "2 new_confirmed\n",
            "3 new_deceased\n",
            "4 new_recovered\n",
            "5 new_tested\n",
            "6 cumulative_confirmed\n",
            "7 cumulative_deceased\n",
            "8 cumulative_recovered\n",
            "9 cumulative_tested\n"
          ]
        }
      ]
    },
    {
      "cell_type": "code",
      "metadata": {
        "id": "k5X68kTDqF7a",
        "outputId": "341912cb-989e-44fc-cbc9-6b089ac51e7f",
        "colab": {
          "base_uri": "https://localhost:8080/",
          "height": 307
        }
      },
      "source": [
        "data_cases.head()"
      ],
      "execution_count": 4,
      "outputs": [
        {
          "output_type": "execute_result",
          "data": {
            "text/html": [
              "<div>\n",
              "<style scoped>\n",
              "    .dataframe tbody tr th:only-of-type {\n",
              "        vertical-align: middle;\n",
              "    }\n",
              "\n",
              "    .dataframe tbody tr th {\n",
              "        vertical-align: top;\n",
              "    }\n",
              "\n",
              "    .dataframe thead th {\n",
              "        text-align: right;\n",
              "    }\n",
              "</style>\n",
              "<table border=\"1\" class=\"dataframe\">\n",
              "  <thead>\n",
              "    <tr style=\"text-align: right;\">\n",
              "      <th></th>\n",
              "      <th>date</th>\n",
              "      <th>location_key</th>\n",
              "      <th>new_confirmed</th>\n",
              "      <th>new_deceased</th>\n",
              "      <th>new_recovered</th>\n",
              "      <th>new_tested</th>\n",
              "      <th>cumulative_confirmed</th>\n",
              "      <th>cumulative_deceased</th>\n",
              "      <th>cumulative_recovered</th>\n",
              "      <th>cumulative_tested</th>\n",
              "    </tr>\n",
              "  </thead>\n",
              "  <tbody>\n",
              "    <tr>\n",
              "      <th>0</th>\n",
              "      <td>2020-01-01</td>\n",
              "      <td>AD</td>\n",
              "      <td>0.0</td>\n",
              "      <td>0.0</td>\n",
              "      <td>NaN</td>\n",
              "      <td>NaN</td>\n",
              "      <td>0.0</td>\n",
              "      <td>0.0</td>\n",
              "      <td>NaN</td>\n",
              "      <td>NaN</td>\n",
              "    </tr>\n",
              "    <tr>\n",
              "      <th>1</th>\n",
              "      <td>2020-01-02</td>\n",
              "      <td>AD</td>\n",
              "      <td>0.0</td>\n",
              "      <td>0.0</td>\n",
              "      <td>NaN</td>\n",
              "      <td>NaN</td>\n",
              "      <td>0.0</td>\n",
              "      <td>0.0</td>\n",
              "      <td>NaN</td>\n",
              "      <td>NaN</td>\n",
              "    </tr>\n",
              "    <tr>\n",
              "      <th>2</th>\n",
              "      <td>2020-01-03</td>\n",
              "      <td>AD</td>\n",
              "      <td>0.0</td>\n",
              "      <td>0.0</td>\n",
              "      <td>NaN</td>\n",
              "      <td>NaN</td>\n",
              "      <td>0.0</td>\n",
              "      <td>0.0</td>\n",
              "      <td>NaN</td>\n",
              "      <td>NaN</td>\n",
              "    </tr>\n",
              "    <tr>\n",
              "      <th>3</th>\n",
              "      <td>2020-01-04</td>\n",
              "      <td>AD</td>\n",
              "      <td>0.0</td>\n",
              "      <td>0.0</td>\n",
              "      <td>NaN</td>\n",
              "      <td>NaN</td>\n",
              "      <td>0.0</td>\n",
              "      <td>0.0</td>\n",
              "      <td>NaN</td>\n",
              "      <td>NaN</td>\n",
              "    </tr>\n",
              "    <tr>\n",
              "      <th>4</th>\n",
              "      <td>2020-01-05</td>\n",
              "      <td>AD</td>\n",
              "      <td>0.0</td>\n",
              "      <td>0.0</td>\n",
              "      <td>NaN</td>\n",
              "      <td>NaN</td>\n",
              "      <td>0.0</td>\n",
              "      <td>0.0</td>\n",
              "      <td>NaN</td>\n",
              "      <td>NaN</td>\n",
              "    </tr>\n",
              "  </tbody>\n",
              "</table>\n",
              "</div>"
            ],
            "text/plain": [
              "         date location_key  ...  cumulative_recovered  cumulative_tested\n",
              "0  2020-01-01           AD  ...                   NaN                NaN\n",
              "1  2020-01-02           AD  ...                   NaN                NaN\n",
              "2  2020-01-03           AD  ...                   NaN                NaN\n",
              "3  2020-01-04           AD  ...                   NaN                NaN\n",
              "4  2020-01-05           AD  ...                   NaN                NaN\n",
              "\n",
              "[5 rows x 10 columns]"
            ]
          },
          "metadata": {},
          "execution_count": 4
        }
      ]
    },
    {
      "cell_type": "code",
      "metadata": {
        "id": "meDE0geAqQ-_",
        "outputId": "11cdcf63-427e-4cd4-9446-111ffdbd7242",
        "colab": {
          "base_uri": "https://localhost:8080/"
        }
      },
      "source": [
        "data_cases.groupby('location_key')"
      ],
      "execution_count": 9,
      "outputs": [
        {
          "output_type": "execute_result",
          "data": {
            "text/plain": [
              "<pandas.core.groupby.generic.DataFrameGroupBy object at 0x7f36c3851c10>"
            ]
          },
          "metadata": {},
          "execution_count": 9
        }
      ]
    },
    {
      "cell_type": "code",
      "metadata": {
        "id": "km6bZlgqUBIb"
      },
      "source": [
        "data_vaccines = pd.read_csv(\n",
        "    \"https://storage.googleapis.com/covid19-open-data/v3/vaccinations.csv\",\n",
        "    keep_default_na=False,\n",
        "    na_values=[\"\"],\n",
        ")"
      ],
      "execution_count": 10,
      "outputs": []
    },
    {
      "cell_type": "code",
      "metadata": {
        "id": "otjWTNzK_VTn",
        "colab": {
          "base_uri": "https://localhost:8080/",
          "height": 808
        },
        "outputId": "6c9c1712-d9a7-415f-ba2d-31f85500fbd8"
      },
      "source": [
        "data_vaccines[data_vaccines.location_key=='CL'].describe().transpose()"
      ],
      "execution_count": 13,
      "outputs": [
        {
          "output_type": "execute_result",
          "data": {
            "text/html": [
              "<div>\n",
              "<style scoped>\n",
              "    .dataframe tbody tr th:only-of-type {\n",
              "        vertical-align: middle;\n",
              "    }\n",
              "\n",
              "    .dataframe tbody tr th {\n",
              "        vertical-align: top;\n",
              "    }\n",
              "\n",
              "    .dataframe thead th {\n",
              "        text-align: right;\n",
              "    }\n",
              "</style>\n",
              "<table border=\"1\" class=\"dataframe\">\n",
              "  <thead>\n",
              "    <tr style=\"text-align: right;\">\n",
              "      <th></th>\n",
              "      <th>count</th>\n",
              "      <th>mean</th>\n",
              "      <th>std</th>\n",
              "      <th>min</th>\n",
              "      <th>25%</th>\n",
              "      <th>50%</th>\n",
              "      <th>75%</th>\n",
              "      <th>max</th>\n",
              "    </tr>\n",
              "  </thead>\n",
              "  <tbody>\n",
              "    <tr>\n",
              "      <th>new_persons_vaccinated</th>\n",
              "      <td>295.0</td>\n",
              "      <td>5.461384e+04</td>\n",
              "      <td>6.153611e+04</td>\n",
              "      <td>0.0</td>\n",
              "      <td>1892.00</td>\n",
              "      <td>29527.0</td>\n",
              "      <td>88545.0</td>\n",
              "      <td>272448.0</td>\n",
              "    </tr>\n",
              "    <tr>\n",
              "      <th>cumulative_persons_vaccinated</th>\n",
              "      <td>296.0</td>\n",
              "      <td>8.861794e+06</td>\n",
              "      <td>5.383216e+06</td>\n",
              "      <td>420.0</td>\n",
              "      <td>4164577.25</td>\n",
              "      <td>9629610.0</td>\n",
              "      <td>13963041.0</td>\n",
              "      <td>16111504.0</td>\n",
              "    </tr>\n",
              "    <tr>\n",
              "      <th>new_persons_fully_vaccinated</th>\n",
              "      <td>275.0</td>\n",
              "      <td>5.223737e+04</td>\n",
              "      <td>6.365403e+04</td>\n",
              "      <td>0.0</td>\n",
              "      <td>951.00</td>\n",
              "      <td>22431.0</td>\n",
              "      <td>88515.5</td>\n",
              "      <td>272515.0</td>\n",
              "    </tr>\n",
              "    <tr>\n",
              "      <th>cumulative_persons_fully_vaccinated</th>\n",
              "      <td>276.0</td>\n",
              "      <td>7.753487e+06</td>\n",
              "      <td>5.171637e+06</td>\n",
              "      <td>1032.0</td>\n",
              "      <td>3073859.25</td>\n",
              "      <td>8015835.0</td>\n",
              "      <td>12745556.5</td>\n",
              "      <td>14366309.0</td>\n",
              "    </tr>\n",
              "    <tr>\n",
              "      <th>new_vaccine_doses_administered</th>\n",
              "      <td>295.0</td>\n",
              "      <td>1.156883e+05</td>\n",
              "      <td>1.052193e+05</td>\n",
              "      <td>0.0</td>\n",
              "      <td>4489.50</td>\n",
              "      <td>130336.0</td>\n",
              "      <td>190658.0</td>\n",
              "      <td>430397.0</td>\n",
              "    </tr>\n",
              "    <tr>\n",
              "      <th>cumulative_vaccine_doses_administered</th>\n",
              "      <td>296.0</td>\n",
              "      <td>1.638490e+07</td>\n",
              "      <td>1.113210e+07</td>\n",
              "      <td>420.0</td>\n",
              "      <td>4907170.75</td>\n",
              "      <td>17357514.5</td>\n",
              "      <td>26045410.0</td>\n",
              "      <td>34128477.0</td>\n",
              "    </tr>\n",
              "    <tr>\n",
              "      <th>new_persons_vaccinated_pfizer</th>\n",
              "      <td>0.0</td>\n",
              "      <td>NaN</td>\n",
              "      <td>NaN</td>\n",
              "      <td>NaN</td>\n",
              "      <td>NaN</td>\n",
              "      <td>NaN</td>\n",
              "      <td>NaN</td>\n",
              "      <td>NaN</td>\n",
              "    </tr>\n",
              "    <tr>\n",
              "      <th>cumulative_persons_vaccinated_pfizer</th>\n",
              "      <td>0.0</td>\n",
              "      <td>NaN</td>\n",
              "      <td>NaN</td>\n",
              "      <td>NaN</td>\n",
              "      <td>NaN</td>\n",
              "      <td>NaN</td>\n",
              "      <td>NaN</td>\n",
              "      <td>NaN</td>\n",
              "    </tr>\n",
              "    <tr>\n",
              "      <th>new_persons_fully_vaccinated_pfizer</th>\n",
              "      <td>0.0</td>\n",
              "      <td>NaN</td>\n",
              "      <td>NaN</td>\n",
              "      <td>NaN</td>\n",
              "      <td>NaN</td>\n",
              "      <td>NaN</td>\n",
              "      <td>NaN</td>\n",
              "      <td>NaN</td>\n",
              "    </tr>\n",
              "    <tr>\n",
              "      <th>cumulative_persons_fully_vaccinated_pfizer</th>\n",
              "      <td>0.0</td>\n",
              "      <td>NaN</td>\n",
              "      <td>NaN</td>\n",
              "      <td>NaN</td>\n",
              "      <td>NaN</td>\n",
              "      <td>NaN</td>\n",
              "      <td>NaN</td>\n",
              "      <td>NaN</td>\n",
              "    </tr>\n",
              "    <tr>\n",
              "      <th>new_vaccine_doses_administered_pfizer</th>\n",
              "      <td>0.0</td>\n",
              "      <td>NaN</td>\n",
              "      <td>NaN</td>\n",
              "      <td>NaN</td>\n",
              "      <td>NaN</td>\n",
              "      <td>NaN</td>\n",
              "      <td>NaN</td>\n",
              "      <td>NaN</td>\n",
              "    </tr>\n",
              "    <tr>\n",
              "      <th>cumulative_vaccine_doses_administered_pfizer</th>\n",
              "      <td>0.0</td>\n",
              "      <td>NaN</td>\n",
              "      <td>NaN</td>\n",
              "      <td>NaN</td>\n",
              "      <td>NaN</td>\n",
              "      <td>NaN</td>\n",
              "      <td>NaN</td>\n",
              "      <td>NaN</td>\n",
              "    </tr>\n",
              "    <tr>\n",
              "      <th>new_persons_vaccinated_moderna</th>\n",
              "      <td>0.0</td>\n",
              "      <td>NaN</td>\n",
              "      <td>NaN</td>\n",
              "      <td>NaN</td>\n",
              "      <td>NaN</td>\n",
              "      <td>NaN</td>\n",
              "      <td>NaN</td>\n",
              "      <td>NaN</td>\n",
              "    </tr>\n",
              "    <tr>\n",
              "      <th>cumulative_persons_vaccinated_moderna</th>\n",
              "      <td>0.0</td>\n",
              "      <td>NaN</td>\n",
              "      <td>NaN</td>\n",
              "      <td>NaN</td>\n",
              "      <td>NaN</td>\n",
              "      <td>NaN</td>\n",
              "      <td>NaN</td>\n",
              "      <td>NaN</td>\n",
              "    </tr>\n",
              "    <tr>\n",
              "      <th>new_persons_fully_vaccinated_moderna</th>\n",
              "      <td>0.0</td>\n",
              "      <td>NaN</td>\n",
              "      <td>NaN</td>\n",
              "      <td>NaN</td>\n",
              "      <td>NaN</td>\n",
              "      <td>NaN</td>\n",
              "      <td>NaN</td>\n",
              "      <td>NaN</td>\n",
              "    </tr>\n",
              "    <tr>\n",
              "      <th>cumulative_persons_fully_vaccinated_moderna</th>\n",
              "      <td>0.0</td>\n",
              "      <td>NaN</td>\n",
              "      <td>NaN</td>\n",
              "      <td>NaN</td>\n",
              "      <td>NaN</td>\n",
              "      <td>NaN</td>\n",
              "      <td>NaN</td>\n",
              "      <td>NaN</td>\n",
              "    </tr>\n",
              "    <tr>\n",
              "      <th>new_vaccine_doses_administered_moderna</th>\n",
              "      <td>0.0</td>\n",
              "      <td>NaN</td>\n",
              "      <td>NaN</td>\n",
              "      <td>NaN</td>\n",
              "      <td>NaN</td>\n",
              "      <td>NaN</td>\n",
              "      <td>NaN</td>\n",
              "      <td>NaN</td>\n",
              "    </tr>\n",
              "    <tr>\n",
              "      <th>cumulative_vaccine_doses_administered_moderna</th>\n",
              "      <td>0.0</td>\n",
              "      <td>NaN</td>\n",
              "      <td>NaN</td>\n",
              "      <td>NaN</td>\n",
              "      <td>NaN</td>\n",
              "      <td>NaN</td>\n",
              "      <td>NaN</td>\n",
              "      <td>NaN</td>\n",
              "    </tr>\n",
              "    <tr>\n",
              "      <th>new_persons_vaccinated_janssen</th>\n",
              "      <td>0.0</td>\n",
              "      <td>NaN</td>\n",
              "      <td>NaN</td>\n",
              "      <td>NaN</td>\n",
              "      <td>NaN</td>\n",
              "      <td>NaN</td>\n",
              "      <td>NaN</td>\n",
              "      <td>NaN</td>\n",
              "    </tr>\n",
              "    <tr>\n",
              "      <th>cumulative_persons_vaccinated_janssen</th>\n",
              "      <td>0.0</td>\n",
              "      <td>NaN</td>\n",
              "      <td>NaN</td>\n",
              "      <td>NaN</td>\n",
              "      <td>NaN</td>\n",
              "      <td>NaN</td>\n",
              "      <td>NaN</td>\n",
              "      <td>NaN</td>\n",
              "    </tr>\n",
              "    <tr>\n",
              "      <th>new_persons_fully_vaccinated_janssen</th>\n",
              "      <td>0.0</td>\n",
              "      <td>NaN</td>\n",
              "      <td>NaN</td>\n",
              "      <td>NaN</td>\n",
              "      <td>NaN</td>\n",
              "      <td>NaN</td>\n",
              "      <td>NaN</td>\n",
              "      <td>NaN</td>\n",
              "    </tr>\n",
              "    <tr>\n",
              "      <th>cumulative_persons_fully_vaccinated_janssen</th>\n",
              "      <td>0.0</td>\n",
              "      <td>NaN</td>\n",
              "      <td>NaN</td>\n",
              "      <td>NaN</td>\n",
              "      <td>NaN</td>\n",
              "      <td>NaN</td>\n",
              "      <td>NaN</td>\n",
              "      <td>NaN</td>\n",
              "    </tr>\n",
              "    <tr>\n",
              "      <th>new_vaccine_doses_administered_janssen</th>\n",
              "      <td>0.0</td>\n",
              "      <td>NaN</td>\n",
              "      <td>NaN</td>\n",
              "      <td>NaN</td>\n",
              "      <td>NaN</td>\n",
              "      <td>NaN</td>\n",
              "      <td>NaN</td>\n",
              "      <td>NaN</td>\n",
              "    </tr>\n",
              "    <tr>\n",
              "      <th>cumulative_vaccine_doses_administered_janssen</th>\n",
              "      <td>0.0</td>\n",
              "      <td>NaN</td>\n",
              "      <td>NaN</td>\n",
              "      <td>NaN</td>\n",
              "      <td>NaN</td>\n",
              "      <td>NaN</td>\n",
              "      <td>NaN</td>\n",
              "      <td>NaN</td>\n",
              "    </tr>\n",
              "  </tbody>\n",
              "</table>\n",
              "</div>"
            ],
            "text/plain": [
              "                                               count  ...         max\n",
              "new_persons_vaccinated                         295.0  ...    272448.0\n",
              "cumulative_persons_vaccinated                  296.0  ...  16111504.0\n",
              "new_persons_fully_vaccinated                   275.0  ...    272515.0\n",
              "cumulative_persons_fully_vaccinated            276.0  ...  14366309.0\n",
              "new_vaccine_doses_administered                 295.0  ...    430397.0\n",
              "cumulative_vaccine_doses_administered          296.0  ...  34128477.0\n",
              "new_persons_vaccinated_pfizer                    0.0  ...         NaN\n",
              "cumulative_persons_vaccinated_pfizer             0.0  ...         NaN\n",
              "new_persons_fully_vaccinated_pfizer              0.0  ...         NaN\n",
              "cumulative_persons_fully_vaccinated_pfizer       0.0  ...         NaN\n",
              "new_vaccine_doses_administered_pfizer            0.0  ...         NaN\n",
              "cumulative_vaccine_doses_administered_pfizer     0.0  ...         NaN\n",
              "new_persons_vaccinated_moderna                   0.0  ...         NaN\n",
              "cumulative_persons_vaccinated_moderna            0.0  ...         NaN\n",
              "new_persons_fully_vaccinated_moderna             0.0  ...         NaN\n",
              "cumulative_persons_fully_vaccinated_moderna      0.0  ...         NaN\n",
              "new_vaccine_doses_administered_moderna           0.0  ...         NaN\n",
              "cumulative_vaccine_doses_administered_moderna    0.0  ...         NaN\n",
              "new_persons_vaccinated_janssen                   0.0  ...         NaN\n",
              "cumulative_persons_vaccinated_janssen            0.0  ...         NaN\n",
              "new_persons_fully_vaccinated_janssen             0.0  ...         NaN\n",
              "cumulative_persons_fully_vaccinated_janssen      0.0  ...         NaN\n",
              "new_vaccine_doses_administered_janssen           0.0  ...         NaN\n",
              "cumulative_vaccine_doses_administered_janssen    0.0  ...         NaN\n",
              "\n",
              "[24 rows x 8 columns]"
            ]
          },
          "metadata": {},
          "execution_count": 13
        }
      ]
    },
    {
      "cell_type": "code",
      "metadata": {
        "id": "kcXeJdVkx6PM",
        "outputId": "cdca320d-e997-4538-bbc7-28a36eed7be2",
        "colab": {
          "base_uri": "https://localhost:8080/",
          "height": 282
        }
      },
      "source": [
        "data_vaccines[data_vaccines.location_key=='CL']['new_persons_vaccinated'].plot()"
      ],
      "execution_count": 59,
      "outputs": [
        {
          "output_type": "execute_result",
          "data": {
            "text/plain": [
              "<matplotlib.axes._subplots.AxesSubplot at 0x7f36c2f55a50>"
            ]
          },
          "metadata": {},
          "execution_count": 59
        },
        {
          "output_type": "display_data",
          "data": {
            "image/png": "[encoded data removed]",
            "text/plain": [
              "<Figure size 432x288 with 1 Axes>"
            ]
          },
          "metadata": {
            "needs_background": "light"
          }
        }
      ]
    },
    {
      "cell_type": "code",
      "metadata": {
        "id": "ayf8rPpYCTK0"
      },
      "source": [
        "data_response = pd.read_csv(\n",
        "    \"https://storage.googleapis.com/covid19-open-data/v3/oxford-government-response.csv\",\n",
        "    keep_default_na=False,\n",
        "    na_values=[\"\"],\n",
        ")"
      ],
      "execution_count": 14,
      "outputs": []
    },
    {
      "cell_type": "code",
      "metadata": {
        "id": "45ntUlGVrXj4",
        "outputId": "0bf36b5f-d6fc-4090-d81b-07063b6db611",
        "colab": {
          "base_uri": "https://localhost:8080/",
          "height": 665
        }
      },
      "source": [
        "data_response[data_response.location_key=='CL'].describe().transpose()"
      ],
      "execution_count": 19,
      "outputs": [
        {
          "output_type": "execute_result",
          "data": {
            "text/html": [
              "<div>\n",
              "<style scoped>\n",
              "    .dataframe tbody tr th:only-of-type {\n",
              "        vertical-align: middle;\n",
              "    }\n",
              "\n",
              "    .dataframe tbody tr th {\n",
              "        vertical-align: top;\n",
              "    }\n",
              "\n",
              "    .dataframe thead th {\n",
              "        text-align: right;\n",
              "    }\n",
              "</style>\n",
              "<table border=\"1\" class=\"dataframe\">\n",
              "  <thead>\n",
              "    <tr style=\"text-align: right;\">\n",
              "      <th></th>\n",
              "      <th>count</th>\n",
              "      <th>mean</th>\n",
              "      <th>std</th>\n",
              "      <th>min</th>\n",
              "      <th>25%</th>\n",
              "      <th>50%</th>\n",
              "      <th>75%</th>\n",
              "      <th>max</th>\n",
              "    </tr>\n",
              "  </thead>\n",
              "  <tbody>\n",
              "    <tr>\n",
              "      <th>school_closing</th>\n",
              "      <td>657.0</td>\n",
              "      <td>2.462709e+00</td>\n",
              "      <td>9.903008e-01</td>\n",
              "      <td>0.0</td>\n",
              "      <td>2.00</td>\n",
              "      <td>3.00</td>\n",
              "      <td>3.00</td>\n",
              "      <td>3.000000e+00</td>\n",
              "    </tr>\n",
              "    <tr>\n",
              "      <th>workplace_closing</th>\n",
              "      <td>657.0</td>\n",
              "      <td>2.477930e+00</td>\n",
              "      <td>9.953627e-01</td>\n",
              "      <td>0.0</td>\n",
              "      <td>2.00</td>\n",
              "      <td>3.00</td>\n",
              "      <td>3.00</td>\n",
              "      <td>3.000000e+00</td>\n",
              "    </tr>\n",
              "    <tr>\n",
              "      <th>cancel_public_events</th>\n",
              "      <td>657.0</td>\n",
              "      <td>1.744292e+00</td>\n",
              "      <td>6.475106e-01</td>\n",
              "      <td>0.0</td>\n",
              "      <td>2.00</td>\n",
              "      <td>2.00</td>\n",
              "      <td>2.00</td>\n",
              "      <td>2.000000e+00</td>\n",
              "    </tr>\n",
              "    <tr>\n",
              "      <th>restrictions_on_gatherings</th>\n",
              "      <td>657.0</td>\n",
              "      <td>3.135464e+00</td>\n",
              "      <td>1.231537e+00</td>\n",
              "      <td>0.0</td>\n",
              "      <td>3.00</td>\n",
              "      <td>3.00</td>\n",
              "      <td>4.00</td>\n",
              "      <td>4.000000e+00</td>\n",
              "    </tr>\n",
              "    <tr>\n",
              "      <th>public_transport_closing</th>\n",
              "      <td>657.0</td>\n",
              "      <td>1.010654e+00</td>\n",
              "      <td>7.914611e-01</td>\n",
              "      <td>0.0</td>\n",
              "      <td>0.00</td>\n",
              "      <td>1.00</td>\n",
              "      <td>2.00</td>\n",
              "      <td>2.000000e+00</td>\n",
              "    </tr>\n",
              "    <tr>\n",
              "      <th>stay_at_home_requirements</th>\n",
              "      <td>657.0</td>\n",
              "      <td>2.345510e+00</td>\n",
              "      <td>1.076756e+00</td>\n",
              "      <td>0.0</td>\n",
              "      <td>2.00</td>\n",
              "      <td>3.00</td>\n",
              "      <td>3.00</td>\n",
              "      <td>3.000000e+00</td>\n",
              "    </tr>\n",
              "    <tr>\n",
              "      <th>restrictions_on_internal_movement</th>\n",
              "      <td>657.0</td>\n",
              "      <td>1.689498e+00</td>\n",
              "      <td>7.248397e-01</td>\n",
              "      <td>0.0</td>\n",
              "      <td>2.00</td>\n",
              "      <td>2.00</td>\n",
              "      <td>2.00</td>\n",
              "      <td>2.000000e+00</td>\n",
              "    </tr>\n",
              "    <tr>\n",
              "      <th>international_travel_controls</th>\n",
              "      <td>657.0</td>\n",
              "      <td>2.773212e+00</td>\n",
              "      <td>1.297987e+00</td>\n",
              "      <td>0.0</td>\n",
              "      <td>2.00</td>\n",
              "      <td>3.00</td>\n",
              "      <td>4.00</td>\n",
              "      <td>4.000000e+00</td>\n",
              "    </tr>\n",
              "    <tr>\n",
              "      <th>income_support</th>\n",
              "      <td>657.0</td>\n",
              "      <td>1.389650e+00</td>\n",
              "      <td>8.210731e-01</td>\n",
              "      <td>0.0</td>\n",
              "      <td>1.00</td>\n",
              "      <td>2.00</td>\n",
              "      <td>2.00</td>\n",
              "      <td>2.000000e+00</td>\n",
              "    </tr>\n",
              "    <tr>\n",
              "      <th>debt_relief</th>\n",
              "      <td>657.0</td>\n",
              "      <td>1.254186e+00</td>\n",
              "      <td>8.541068e-01</td>\n",
              "      <td>0.0</td>\n",
              "      <td>0.00</td>\n",
              "      <td>2.00</td>\n",
              "      <td>2.00</td>\n",
              "      <td>2.000000e+00</td>\n",
              "    </tr>\n",
              "    <tr>\n",
              "      <th>fiscal_measures</th>\n",
              "      <td>593.0</td>\n",
              "      <td>2.620573e+07</td>\n",
              "      <td>4.681392e+08</td>\n",
              "      <td>0.0</td>\n",
              "      <td>0.00</td>\n",
              "      <td>0.00</td>\n",
              "      <td>0.00</td>\n",
              "      <td>1.025000e+10</td>\n",
              "    </tr>\n",
              "    <tr>\n",
              "      <th>international_support</th>\n",
              "      <td>593.0</td>\n",
              "      <td>2.023609e+07</td>\n",
              "      <td>4.927809e+08</td>\n",
              "      <td>0.0</td>\n",
              "      <td>0.00</td>\n",
              "      <td>0.00</td>\n",
              "      <td>0.00</td>\n",
              "      <td>1.200000e+10</td>\n",
              "    </tr>\n",
              "    <tr>\n",
              "      <th>public_information_campaigns</th>\n",
              "      <td>657.0</td>\n",
              "      <td>1.777778e+00</td>\n",
              "      <td>6.290182e-01</td>\n",
              "      <td>0.0</td>\n",
              "      <td>2.00</td>\n",
              "      <td>2.00</td>\n",
              "      <td>2.00</td>\n",
              "      <td>2.000000e+00</td>\n",
              "    </tr>\n",
              "    <tr>\n",
              "      <th>testing_policy</th>\n",
              "      <td>657.0</td>\n",
              "      <td>2.187215e+00</td>\n",
              "      <td>9.642802e-01</td>\n",
              "      <td>0.0</td>\n",
              "      <td>2.00</td>\n",
              "      <td>2.00</td>\n",
              "      <td>3.00</td>\n",
              "      <td>3.000000e+00</td>\n",
              "    </tr>\n",
              "    <tr>\n",
              "      <th>contact_tracing</th>\n",
              "      <td>657.0</td>\n",
              "      <td>1.729072e+00</td>\n",
              "      <td>6.849590e-01</td>\n",
              "      <td>0.0</td>\n",
              "      <td>2.00</td>\n",
              "      <td>2.00</td>\n",
              "      <td>2.00</td>\n",
              "      <td>2.000000e+00</td>\n",
              "    </tr>\n",
              "    <tr>\n",
              "      <th>emergency_investment_in_healthcare</th>\n",
              "      <td>593.0</td>\n",
              "      <td>2.973246e+06</td>\n",
              "      <td>6.251808e+07</td>\n",
              "      <td>0.0</td>\n",
              "      <td>0.00</td>\n",
              "      <td>0.00</td>\n",
              "      <td>0.00</td>\n",
              "      <td>1.500000e+09</td>\n",
              "    </tr>\n",
              "    <tr>\n",
              "      <th>investment_in_vaccines</th>\n",
              "      <td>643.0</td>\n",
              "      <td>5.342679e+06</td>\n",
              "      <td>1.354767e+08</td>\n",
              "      <td>0.0</td>\n",
              "      <td>0.00</td>\n",
              "      <td>0.00</td>\n",
              "      <td>0.00</td>\n",
              "      <td>3.435342e+09</td>\n",
              "    </tr>\n",
              "    <tr>\n",
              "      <th>facial_coverings</th>\n",
              "      <td>657.0</td>\n",
              "      <td>1.990868e+00</td>\n",
              "      <td>9.531280e-01</td>\n",
              "      <td>0.0</td>\n",
              "      <td>2.00</td>\n",
              "      <td>2.00</td>\n",
              "      <td>3.00</td>\n",
              "      <td>4.000000e+00</td>\n",
              "    </tr>\n",
              "    <tr>\n",
              "      <th>vaccination_policy</th>\n",
              "      <td>656.0</td>\n",
              "      <td>1.483232e+00</td>\n",
              "      <td>1.787068e+00</td>\n",
              "      <td>0.0</td>\n",
              "      <td>0.00</td>\n",
              "      <td>0.00</td>\n",
              "      <td>4.00</td>\n",
              "      <td>4.000000e+00</td>\n",
              "    </tr>\n",
              "    <tr>\n",
              "      <th>stringency_index</th>\n",
              "      <td>657.0</td>\n",
              "      <td>6.735269e+01</td>\n",
              "      <td>2.632209e+01</td>\n",
              "      <td>0.0</td>\n",
              "      <td>63.43</td>\n",
              "      <td>79.17</td>\n",
              "      <td>81.94</td>\n",
              "      <td>8.750000e+01</td>\n",
              "    </tr>\n",
              "  </tbody>\n",
              "</table>\n",
              "</div>"
            ],
            "text/plain": [
              "                                    count          mean  ...    75%           max\n",
              "school_closing                      657.0  2.462709e+00  ...   3.00  3.000000e+00\n",
              "workplace_closing                   657.0  2.477930e+00  ...   3.00  3.000000e+00\n",
              "cancel_public_events                657.0  1.744292e+00  ...   2.00  2.000000e+00\n",
              "restrictions_on_gatherings          657.0  3.135464e+00  ...   4.00  4.000000e+00\n",
              "public_transport_closing            657.0  1.010654e+00  ...   2.00  2.000000e+00\n",
              "stay_at_home_requirements           657.0  2.345510e+00  ...   3.00  3.000000e+00\n",
              "restrictions_on_internal_movement   657.0  1.689498e+00  ...   2.00  2.000000e+00\n",
              "international_travel_controls       657.0  2.773212e+00  ...   4.00  4.000000e+00\n",
              "income_support                      657.0  1.389650e+00  ...   2.00  2.000000e+00\n",
              "debt_relief                         657.0  1.254186e+00  ...   2.00  2.000000e+00\n",
              "fiscal_measures                     593.0  2.620573e+07  ...   0.00  1.025000e+10\n",
              "international_support               593.0  2.023609e+07  ...   0.00  1.200000e+10\n",
              "public_information_campaigns        657.0  1.777778e+00  ...   2.00  2.000000e+00\n",
              "testing_policy                      657.0  2.187215e+00  ...   3.00  3.000000e+00\n",
              "contact_tracing                     657.0  1.729072e+00  ...   2.00  2.000000e+00\n",
              "emergency_investment_in_healthcare  593.0  2.973246e+06  ...   0.00  1.500000e+09\n",
              "investment_in_vaccines              643.0  5.342679e+06  ...   0.00  3.435342e+09\n",
              "facial_coverings                    657.0  1.990868e+00  ...   3.00  4.000000e+00\n",
              "vaccination_policy                  656.0  1.483232e+00  ...   4.00  4.000000e+00\n",
              "stringency_index                    657.0  6.735269e+01  ...  81.94  8.750000e+01\n",
              "\n",
              "[20 rows x 8 columns]"
            ]
          },
          "metadata": {},
          "execution_count": 19
        }
      ]
    },
    {
      "cell_type": "code",
      "metadata": {
        "id": "CiQAsA0gteU1"
      },
      "source": [
        "cases_chile=data_cases.loc[data_cases.location_key=='CL']\n",
        "vaccines_chile=data_vaccines.loc[data_vaccines.location_key=='CL']\n",
        "response_chile=data_response.loc[data_response.location_key=='CL']"
      ],
      "execution_count": 34,
      "outputs": []
    },
    {
      "cell_type": "code",
      "metadata": {
        "id": "uS1B8OroyIap",
        "outputId": "b249a9af-38fb-4753-c954-6f89badccddb",
        "colab": {
          "base_uri": "https://localhost:8080/",
          "height": 308
        }
      },
      "source": [
        "vaccines_chile['new_persons_vaccinated'].plot()"
      ],
      "execution_count": 60,
      "outputs": [
        {
          "output_type": "execute_result",
          "data": {
            "text/plain": [
              "<matplotlib.axes._subplots.AxesSubplot at 0x7f36c2e74c10>"
            ]
          },
          "metadata": {},
          "execution_count": 60
        },
        {
          "output_type": "display_data",
          "data": {
            "image/png": "[encoded data removed]",
            "text/plain": [
              "<Figure size 432x288 with 1 Axes>"
            ]
          },
          "metadata": {
            "needs_background": "light"
          }
        }
      ]
    },
    {
      "cell_type": "code",
      "metadata": {
        "id": "ax5wbxsXuxSi",
        "outputId": "7c5aa45c-4b24-41de-df3d-e7d18f78b2ac",
        "colab": {
          "base_uri": "https://localhost:8080/"
        }
      },
      "source": [
        "cases_chile['date']=pd.to_datetime(cases_chile['date'],format='%Y/%m/%d')\n",
        "vaccines_chile['date']=pd.to_datetime(vaccines_chile['date'],format='%Y/%m/%d')\n",
        "response_chile['date']=pd.to_datetime(response_chile['date'],format='%Y/%m/%d')"
      ],
      "execution_count": 36,
      "outputs": [
        {
          "output_type": "stream",
          "name": "stderr",
          "text": [
            "/usr/local/lib/python3.7/dist-packages/ipykernel_launcher.py:1: SettingWithCopyWarning: \n",
            "A value is trying to be set on a copy of a slice from a DataFrame.\n",
            "Try using .loc[row_indexer,col_indexer] = value instead\n",
            "\n",
            "See the caveats in the documentation: https://pandas.pydata.org/pandas-docs/stable/user_guide/indexing.html#returning-a-view-versus-a-copy\n",
            "  \"\"\"Entry point for launching an IPython kernel.\n",
            "/usr/local/lib/python3.7/dist-packages/ipykernel_launcher.py:2: SettingWithCopyWarning: \n",
            "A value is trying to be set on a copy of a slice from a DataFrame.\n",
            "Try using .loc[row_indexer,col_indexer] = value instead\n",
            "\n",
            "See the caveats in the documentation: https://pandas.pydata.org/pandas-docs/stable/user_guide/indexing.html#returning-a-view-versus-a-copy\n",
            "  \n",
            "/usr/local/lib/python3.7/dist-packages/ipykernel_launcher.py:3: SettingWithCopyWarning: \n",
            "A value is trying to be set on a copy of a slice from a DataFrame.\n",
            "Try using .loc[row_indexer,col_indexer] = value instead\n",
            "\n",
            "See the caveats in the documentation: https://pandas.pydata.org/pandas-docs/stable/user_guide/indexing.html#returning-a-view-versus-a-copy\n",
            "  This is separate from the ipykernel package so we can avoid doing imports until\n"
          ]
        }
      ]
    },
    {
      "cell_type": "code",
      "metadata": {
        "id": "jAAiMFo8tvMX"
      },
      "source": [
        "cases_chile.set_index('date',inplace=True)\n",
        "vaccines_chile.set_index('date',inplace=True)\n",
        "response_chile.set_index('date',inplace=True)"
      ],
      "execution_count": 40,
      "outputs": []
    },
    {
      "cell_type": "code",
      "metadata": {
        "id": "MgTe8We4A3pC"
      },
      "source": [
        "df_chile=pd.concat([cases_chile,vaccines_chile,response_chile])"
      ],
      "execution_count": 43,
      "outputs": []
    },
    {
      "cell_type": "code",
      "metadata": {
        "id": "BcHkqUxLyvcy"
      },
      "source": [
        "df_chile=pd.merge(cases_chile,vaccines_chile, left_index=True, right_index=True)"
      ],
      "execution_count": 62,
      "outputs": []
    },
    {
      "cell_type": "code",
      "metadata": {
        "id": "yB-NJ28ny49Z"
      },
      "source": [
        "df_chile=pd.merge(df_chile,response_chile, left_index=True, right_index=True)"
      ],
      "execution_count": 64,
      "outputs": []
    },
    {
      "cell_type": "code",
      "metadata": {
        "id": "us9lgDaZyOmB",
        "outputId": "f6dc1a16-13d8-4776-bcd1-fd62806ac55f",
        "colab": {
          "base_uri": "https://localhost:8080/",
          "height": 308
        }
      },
      "source": [
        "df_chile['new_persons_vaccinated'].plot()"
      ],
      "execution_count": 65,
      "outputs": [
        {
          "output_type": "execute_result",
          "data": {
            "text/plain": [
              "<matplotlib.axes._subplots.AxesSubplot at 0x7f36c2be7b50>"
            ]
          },
          "metadata": {},
          "execution_count": 65
        },
        {
          "output_type": "display_data",
          "data": {
            "image/png": "[encoded data removed]",
            "text/plain": [
              "<Figure size 432x288 with 1 Axes>"
            ]
          },
          "metadata": {
            "needs_background": "light"
          }
        }
      ]
    },
    {
      "cell_type": "code",
      "metadata": {
        "id": "cr9OYq64BRXE"
      },
      "source": [
        "y=df_chile['new_confirmed']\n",
        "X=df_chile[['new_persons_vaccinated','school_closing','workplace_closing']]"
      ],
      "execution_count": 66,
      "outputs": []
    },
    {
      "cell_type": "code",
      "metadata": {
        "id": "OCOnZT4fxIyp"
      },
      "source": [
        "X=X[X['school_closing']>0]\n",
        "X.fillna(0,inplace=True)"
      ],
      "execution_count": 68,
      "outputs": []
    },
    {
      "cell_type": "code",
      "metadata": {
        "id": "A8qNUC09xpol",
        "outputId": "23294cd3-5d6d-4d7f-c515-57a7ca1e3a01",
        "colab": {
          "base_uri": "https://localhost:8080/",
          "height": 308
        }
      },
      "source": [
        "X['new_persons_vaccinated'].plot()"
      ],
      "execution_count": 69,
      "outputs": [
        {
          "output_type": "execute_result",
          "data": {
            "text/plain": [
              "<matplotlib.axes._subplots.AxesSubplot at 0x7f36c2c18ed0>"
            ]
          },
          "metadata": {},
          "execution_count": 69
        },
        {
          "output_type": "display_data",
          "data": {
            "image/png": "[encoded data removed]",
            "text/plain": [
              "<Figure size 432x288 with 1 Axes>"
            ]
          },
          "metadata": {
            "needs_background": "light"
          }
        }
      ]
    },
    {
      "cell_type": "code",
      "metadata": {
        "id": "UuO8e1UvzHJz",
        "outputId": "1a533777-f539-4cc9-d651-fff03005af39",
        "colab": {
          "base_uri": "https://localhost:8080/",
          "height": 308
        }
      },
      "source": [
        "y.plot()"
      ],
      "execution_count": 70,
      "outputs": [
        {
          "output_type": "execute_result",
          "data": {
            "text/plain": [
              "<matplotlib.axes._subplots.AxesSubplot at 0x7f36c2dc82d0>"
            ]
          },
          "metadata": {},
          "execution_count": 70
        },
        {
          "output_type": "display_data",
          "data": {
            "image/png": "[encoded data removed]",
            "text/plain": [
              "<Figure size 432x288 with 1 Axes>"
            ]
          },
          "metadata": {
            "needs_background": "light"
          }
        }
      ]
    },
    {
      "cell_type": "code",
      "metadata": {
        "id": "R4At3bTGzWaf"
      },
      "source": [
        "from sklearn.model_selection import train_test_split\n",
        "from sklearn.tree import DecisionTreeRegressor\n",
        "\n",
        "X_train, X_test, y_train, y_test = train_test_split(X,y, test_size=0.3, random_state=0)\n",
        "\n",
        "\n",
        "regr_1 = DecisionTreeRegressor(max_depth=5)\n",
        "\n",
        "regr_1 = regr_1.fit(X_train,y_train)\n"
      ],
      "execution_count": 72,
      "outputs": []
    },
    {
      "cell_type": "code",
      "metadata": {
        "id": "-wfXEdGO0DKq"
      },
      "source": [
        "y_pred=regr_1.predict(X_test)"
      ],
      "execution_count": 73,
      "outputs": []
    },
    {
      "cell_type": "code",
      "metadata": {
        "id": "oomZDvZc0Hi9",
        "outputId": "3bbebc2a-9ef5-40a3-c28f-c4a79c82f2f0",
        "colab": {
          "base_uri": "https://localhost:8080/",
          "height": 282
        }
      },
      "source": [
        "plt.scatter(y_test,y_pred)"
      ],
      "execution_count": 74,
      "outputs": [
        {
          "output_type": "execute_result",
          "data": {
            "text/plain": [
              "<matplotlib.collections.PathCollection at 0x7f36af91ee50>"
            ]
          },
          "metadata": {},
          "execution_count": 74
        },
        {
          "output_type": "display_data",
          "data": {
            "image/png": "[encoded data removed]",
            "text/plain": [
              "<Figure size 432x288 with 1 Axes>"
            ]
          },
          "metadata": {
            "needs_background": "light"
          }
        }
      ]
    }
  ]
}