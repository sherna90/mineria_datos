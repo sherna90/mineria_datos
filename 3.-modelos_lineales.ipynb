{
  "nbformat": 4,
  "nbformat_minor": 0,
  "metadata": {
    "kernelspec": {
      "display_name": "Python 3",
      "language": "python",
      "name": "python3"
    },
    "language_info": {
      "codemirror_mode": {
        "name": "ipython",
        "version": 3
      },
      "file_extension": ".py",
      "mimetype": "text/x-python",
      "name": "python",
      "nbconvert_exporter": "python",
      "pygments_lexer": "ipython3",
      "version": "3.6.9"
    },
    "colab": {
      "name": "3.-modelos_lineales.ipynb",
      "provenance": []
    }
  },
  "cells": [
    {
      "cell_type": "markdown",
      "metadata": {
        "id": "n9m1eTNuP8hJ"
      },
      "source": [
        "# Modelos lineales y regularizacion"
      ]
    },
    {
      "cell_type": "code",
      "metadata": {
        "id": "5gmbtaA1P8hK"
      },
      "source": [
        "import numpy as np\n",
        "\n",
        "n=100\n",
        "X = 2 * np.random.rand(n, 1)\n",
        "y = 4 + 3 * X + np.random.randn(n, 1)"
      ],
      "execution_count": 1,
      "outputs": []
    },
    {
      "cell_type": "code",
      "metadata": {
        "id": "9Hioht9NP8hQ",
        "colab": {
          "base_uri": "https://localhost:8080/",
          "height": 265
        },
        "outputId": "0ded5c25-fabd-4ba5-d0d2-e2a59166e353"
      },
      "source": [
        "import matplotlib.pyplot as plt\n",
        "\n",
        "plt.plot(X,y,'b.')\n",
        "plt.axis([0, 2, 0, 15])\n",
        "plt.show()"
      ],
      "execution_count": 2,
      "outputs": [
        {
          "output_type": "display_data",
          "data": {
            "image/png": "[encoded data removed]",
            "text/plain": [
              "<Figure size 432x288 with 1 Axes>"
            ]
          },
          "metadata": {
            "needs_background": "light"
          }
        }
      ]
    },
    {
      "cell_type": "code",
      "metadata": {
        "id": "VAPmUn0_P8hV"
      },
      "source": [
        "X_b = np.c_[np.ones((n, 1)), X] # add x0 = 1 to each instance\n",
        "# w_hat \n",
        "w_hat = np.linalg.inv(X_b.T.dot(X_b)).dot(X_b.T).dot(y)"
      ],
      "execution_count": 3,
      "outputs": []
    },
    {
      "cell_type": "code",
      "metadata": {
        "id": "n1cuoBufW8CP",
        "colab": {
          "base_uri": "https://localhost:8080/"
        },
        "outputId": "105140b2-6d13-438b-8b02-94629adf7421"
      },
      "source": [
        "X_b.shape"
      ],
      "execution_count": 4,
      "outputs": [
        {
          "output_type": "execute_result",
          "data": {
            "text/plain": [
              "(100, 2)"
            ]
          },
          "metadata": {},
          "execution_count": 4
        }
      ]
    },
    {
      "cell_type": "code",
      "metadata": {
        "id": "iV_2jhl-P8hZ",
        "colab": {
          "base_uri": "https://localhost:8080/"
        },
        "outputId": "f56c30a9-a685-453d-abe8-7dcd193cee99"
      },
      "source": [
        "print(w_hat)"
      ],
      "execution_count": 5,
      "outputs": [
        {
          "output_type": "stream",
          "name": "stdout",
          "text": [
            "[[4.1184183 ]\n",
            " [2.99922368]]\n"
          ]
        }
      ]
    },
    {
      "cell_type": "code",
      "metadata": {
        "id": "BLoEl6BtP8hd"
      },
      "source": [
        "X_new = np.array([[0], [2]])\n",
        "X_new_b = np.c_[np.ones((2, 1)), X_new] # add x0 = 1 to each instance\n",
        "y_predict = X_new_b.dot(w_hat)"
      ],
      "execution_count": 6,
      "outputs": []
    },
    {
      "cell_type": "code",
      "metadata": {
        "id": "6mK0UA_GP8hh",
        "colab": {
          "base_uri": "https://localhost:8080/",
          "height": 265
        },
        "outputId": "16f3b80f-6a7e-43b2-bd41-99dc4fc11d31"
      },
      "source": [
        "plt.plot(X_new, y_predict, \"r-\")\n",
        "plt.plot(X, y, \"b.\")\n",
        "plt.axis([0, 2, 0, 15])\n",
        "plt.show()"
      ],
      "execution_count": 7,
      "outputs": [
        {
          "output_type": "display_data",
          "data": {
            "image/png": "[encoded data removed]",
            "text/plain": [
              "<Figure size 432x288 with 1 Axes>"
            ]
          },
          "metadata": {
            "needs_background": "light"
          }
        }
      ]
    },
    {
      "cell_type": "code",
      "metadata": {
        "id": "2ESD2EPCP8hl",
        "colab": {
          "base_uri": "https://localhost:8080/"
        },
        "outputId": "99b61938-814c-4ddf-acb8-ad6127b64cd4"
      },
      "source": [
        "from sklearn.linear_model import LinearRegression\n",
        "\n",
        "lin_reg = LinearRegression()\n",
        "lin_reg.fit(X, y)\n",
        "print('Coeficientes Sklearn : ',lin_reg.intercept_, lin_reg.coef_)\n",
        "print('Coeficientes Manual : ',w_hat)"
      ],
      "execution_count": 8,
      "outputs": [
        {
          "output_type": "stream",
          "name": "stdout",
          "text": [
            "Coeficientes Sklearn :  [4.1184183] [[2.99922368]]\n",
            "Coeficientes Manual :  [[4.1184183 ]\n",
            " [2.99922368]]\n"
          ]
        }
      ]
    },
    {
      "cell_type": "markdown",
      "metadata": {
        "id": "7agtsdj1P8hq"
      },
      "source": [
        "# Regularizacion"
      ]
    },
    {
      "cell_type": "code",
      "metadata": {
        "id": "Jkt-6Cj2P8hr"
      },
      "source": [
        "X = 2 * np.random.rand(100, 1)\n",
        "y = 4 + 3 * np.sin(X) + np.random.randn(100, 1)"
      ],
      "execution_count": 9,
      "outputs": []
    },
    {
      "cell_type": "code",
      "metadata": {
        "id": "1fpghK28P8hu",
        "colab": {
          "base_uri": "https://localhost:8080/",
          "height": 265
        },
        "outputId": "351b73c5-df15-4391-a95b-9dbadb07b8c9"
      },
      "source": [
        "import matplotlib.pyplot as plt\n",
        "\n",
        "plt.plot(X,y,'b.')\n",
        "plt.axis([0, 2, 0, 15])\n",
        "plt.show()"
      ],
      "execution_count": 10,
      "outputs": [
        {
          "output_type": "display_data",
          "data": {
            "image/png": "[encoded data removed]",
            "text/plain": [
              "<Figure size 432x288 with 1 Axes>"
            ]
          },
          "metadata": {
            "needs_background": "light"
          }
        }
      ]
    },
    {
      "cell_type": "code",
      "metadata": {
        "id": "hM-I4JzQP8hy"
      },
      "source": [
        "from sklearn.preprocessing import PolynomialFeatures\n",
        "\n",
        "poly=PolynomialFeatures(degree=2,interaction_only=False,include_bias=True)\n",
        "poly.fit(X)\n",
        "X_p=poly.transform(X)"
      ],
      "execution_count": 11,
      "outputs": []
    },
    {
      "cell_type": "code",
      "metadata": {
        "id": "nzfd8RSIP8h2",
        "colab": {
          "base_uri": "https://localhost:8080/"
        },
        "outputId": "262c1b18-b5bd-4790-b853-e5cb946c5fbb"
      },
      "source": [
        "X_p[0]"
      ],
      "execution_count": null,
      "outputs": [
        {
          "output_type": "execute_result",
          "data": {
            "text/plain": [
              "array([1.        , 1.75705675, 3.08724843])"
            ]
          },
          "metadata": {},
          "execution_count": 12
        }
      ]
    },
    {
      "cell_type": "code",
      "metadata": {
        "id": "w1sHshmnaQtN",
        "colab": {
          "base_uri": "https://localhost:8080/"
        },
        "outputId": "1a07f960-84d3-4984-896d-6358d61364ff"
      },
      "source": [
        "lin_reg = LinearRegression()\n",
        "lin_reg.fit(X, y)\n",
        "r2=lin_reg.score(X, y)\n",
        "print('Coeficiente Determinacion :',r2)\n",
        "print('Coeficientes Sklearn : ',lin_reg.intercept_, lin_reg.coef_)"
      ],
      "execution_count": null,
      "outputs": [
        {
          "output_type": "stream",
          "name": "stdout",
          "text": [
            "Coeficiente Determinacion : 0.39007262277083776\n",
            "Coeficientes Sklearn :  [4.56530569] [[1.48675753]]\n"
          ]
        }
      ]
    },
    {
      "cell_type": "code",
      "metadata": {
        "id": "0FHDaKWzP8iE",
        "colab": {
          "base_uri": "https://localhost:8080/"
        },
        "outputId": "93a67dd3-6e92-4b36-e430-b4b1feabdd9a"
      },
      "source": [
        "lin_reg = LinearRegression()\n",
        "lin_reg.fit(X_p, y)\n",
        "r2=lin_reg.score(X_p, y)\n",
        "print('Coeficientes Sklearn : ',lin_reg.intercept_, lin_reg.coef_)\n",
        "print('Coeficiente Determinacion :',r2)"
      ],
      "execution_count": null,
      "outputs": [
        {
          "output_type": "stream",
          "name": "stdout",
          "text": [
            "Coeficientes Sklearn :  [4.02462452] [[ 0.          3.1073279  -0.80935799]]\n",
            "Coeficiente Determinacion : 0.42051678772550866\n"
          ]
        }
      ]
    },
    {
      "cell_type": "code",
      "metadata": {
        "id": "7-MG4QN7P8iI"
      },
      "source": [
        "y_predict=lin_reg.predict(X_p)"
      ],
      "execution_count": null,
      "outputs": []
    },
    {
      "cell_type": "code",
      "metadata": {
        "id": "gugnbYSTP8iL",
        "colab": {
          "base_uri": "https://localhost:8080/",
          "height": 285
        },
        "outputId": "0ec110c5-1838-4860-9e82-0368516a7e03"
      },
      "source": [
        "plt.plot(X_p[:,1], y_predict, \"r.\")\n",
        "plt.plot(X,y,'b.')\n",
        "plt.title(r'Polinomio : {0}, $R^2$:{1:0.2f}'.format(2,r2))\n",
        "plt.axis([0, 2, 0, 15])\n",
        "plt.show()"
      ],
      "execution_count": null,
      "outputs": [
        {
          "output_type": "display_data",
          "data": {
            "image/png": "[encoded data removed]",
            "text/plain": [
              "<Figure size 432x288 with 1 Axes>"
            ]
          },
          "metadata": {
            "needs_background": "light"
          }
        }
      ]
    },
    {
      "cell_type": "code",
      "metadata": {
        "id": "EG4RnADVP8iZ",
        "colab": {
          "base_uri": "https://localhost:8080/",
          "height": 307
        },
        "outputId": "6bc31827-455a-47dd-86e1-7d0312bd34c1"
      },
      "source": [
        "K=5\n",
        "poly=PolynomialFeatures(degree=K,interaction_only=False,include_bias=True)\n",
        "poly.fit(X)\n",
        "X_p=poly.transform(X)\n",
        "lin_reg = LinearRegression()\n",
        "lin_reg.fit(X_p, y)\n",
        "r2=lin_reg.score(X_p, y)\n",
        "X_new=np.linspace(-3, 3, 100).reshape(100, 1)\n",
        "X_new_poly = poly.transform(X_new)\n",
        "y_new = lin_reg.predict(X_new_poly)\n",
        "plt.plot(X, y, \"b.\")\n",
        "plt.plot(X_new, y_new, \"r-\", linewidth=2, label=\"Predictions\")\n",
        "plt.xlabel(\"$x_1$\", fontsize=18)\n",
        "plt.ylabel(\"$y$\", rotation=0, fontsize=18)\n",
        "plt.axis([0, 2, 0, 15])\n",
        "plt.title(r'Polinomio : {0}, $R^2$:{1:0.2f}'.format(K,r2))\n",
        "plt.show()"
      ],
      "execution_count": null,
      "outputs": [
        {
          "output_type": "display_data",
          "data": {
            "image/png": "[encoded data removed]",
            "text/plain": [
              "<Figure size 432x288 with 1 Axes>"
            ]
          },
          "metadata": {
            "needs_background": "light"
          }
        }
      ]
    },
    {
      "cell_type": "code",
      "metadata": {
        "id": "GtNRbIlvP8id",
        "colab": {
          "base_uri": "https://localhost:8080/",
          "height": 307
        },
        "outputId": "0522bc9c-e752-43e7-af07-7e79a0987a5a"
      },
      "source": [
        "K=20\n",
        "poly=PolynomialFeatures(degree=K,interaction_only=False,include_bias=True)\n",
        "poly.fit(X)\n",
        "X_p=poly.transform(X)\n",
        "lin_reg = LinearRegression()\n",
        "lin_reg.fit(X_p, y)\n",
        "r2=lin_reg.score(X_p, y)\n",
        "X_new=np.linspace(-3, 3, 100).reshape(100, 1)\n",
        "X_new_poly = poly.transform(X_new)\n",
        "y_new = lin_reg.predict(X_new_poly)\n",
        "plt.plot(X, y, \"b.\")\n",
        "plt.plot(X_new, y_new, \"r-\", linewidth=2, label=\"Predictions\")\n",
        "plt.xlabel(\"$x_1$\", fontsize=18)\n",
        "plt.ylabel(\"$y$\", rotation=0, fontsize=18)\n",
        "plt.axis([0, 2, 0, 15])\n",
        "plt.title(r'Polinomio : {0}, $R^2$:{1:0.2f}'.format(K,r2))\n",
        "plt.show()"
      ],
      "execution_count": null,
      "outputs": [
        {
          "output_type": "display_data",
          "data": {
            "image/png": "[encoded data removed]",
            "text/plain": [
              "<Figure size 432x288 with 1 Axes>"
            ]
          },
          "metadata": {
            "needs_background": "light"
          }
        }
      ]
    },
    {
      "cell_type": "code",
      "metadata": {
        "id": "vANlTocnP8ii",
        "colab": {
          "base_uri": "https://localhost:8080/"
        },
        "outputId": "8c15e4c9-69e5-434d-8f1b-f16c8b88841c"
      },
      "source": [
        "print(X_p.shape)"
      ],
      "execution_count": null,
      "outputs": [
        {
          "output_type": "stream",
          "name": "stdout",
          "text": [
            "(100, 21)\n"
          ]
        }
      ]
    },
    {
      "cell_type": "code",
      "metadata": {
        "id": "s9UKeEHiP8im",
        "colab": {
          "base_uri": "https://localhost:8080/",
          "height": 307
        },
        "outputId": "69eb3873-afe6-493b-9b2c-7e5c0f26bb1b"
      },
      "source": [
        "from sklearn.linear_model import Ridge\n",
        "\n",
        "lamb=0.1\n",
        "K=20\n",
        "\n",
        "poly=PolynomialFeatures(degree=K,interaction_only=False,include_bias=True)\n",
        "poly.fit(X)\n",
        "X_p=poly.transform(X)\n",
        "\n",
        "ridge_reg = Ridge(alpha=lamb, solver=\"cholesky\", random_state=42)\n",
        "ridge_reg.fit(X_p, y)\n",
        "r2=ridge_reg.score(X_p, y)\n",
        "\n",
        "X_new=np.linspace(-3, 3, 100).reshape(100, 1)\n",
        "X_new_poly = poly.transform(X_new)\n",
        "y_new = ridge_reg.predict(X_new_poly)\n",
        "plt.plot(X, y, \"b.\")\n",
        "plt.plot(X_new, y_new, \"r-\", linewidth=2, label=\"Predictions\")\n",
        "plt.xlabel(\"$x_1$\", fontsize=18)\n",
        "plt.ylabel(\"$y$\", rotation=0, fontsize=18)\n",
        "plt.axis([0, 2, 0, 15])\n",
        "plt.title(r'Polinomio : {0}, Ridge $\\lambda$ : {1}, $R^2$:{2:0.2f}'.\n",
        "          format(K,lamb,r2))\n",
        "plt.show()"
      ],
      "execution_count": null,
      "outputs": [
        {
          "output_type": "display_data",
          "data": {
            "image/png": "[encoded data removed]",
            "text/plain": [
              "<Figure size 432x288 with 1 Axes>"
            ]
          },
          "metadata": {
            "needs_background": "light"
          }
        }
      ]
    },
    {
      "cell_type": "code",
      "metadata": {
        "id": "bwaOKLyAP8iq",
        "colab": {
          "base_uri": "https://localhost:8080/",
          "height": 361
        },
        "outputId": "3224f8e4-b78f-416f-d0f2-8974f27d107a"
      },
      "source": [
        "from sklearn.linear_model import Lasso\n",
        "\n",
        "lamb=0.1\n",
        "K=20\n",
        "\n",
        "poly=PolynomialFeatures(degree=K,interaction_only=False,include_bias=True)\n",
        "poly.fit(X)\n",
        "X_p=poly.transform(X)\n",
        "\n",
        "lasso_reg = Lasso(alpha=0.1)\n",
        "lasso_reg.fit(X_p, y)\n",
        "r2=lasso_reg.score(X_p, y)\n",
        "\n",
        "X_new=np.linspace(-3, 3, 100).reshape(100, 1)\n",
        "X_new_poly = poly.transform(X_new)\n",
        "y_new = lasso_reg.predict(X_new_poly)\n",
        "plt.plot(X, y, \"b.\")\n",
        "plt.plot(X_new, y_new, \"r-\", linewidth=2, label=\"Predictions\")\n",
        "plt.xlabel(\"$x_1$\", fontsize=18)\n",
        "plt.ylabel(\"$y$\", rotation=0, fontsize=18)\n",
        "plt.axis([0, 2, 0, 15])\n",
        "plt.title(r'Polinomio : {0}, Lasso $\\lambda$ : {1}, $R^2$:{2:0.2f}'.\n",
        "          format(K,lamb,r2))\n",
        "plt.show()"
      ],
      "execution_count": null,
      "outputs": [
        {
          "output_type": "stream",
          "name": "stderr",
          "text": [
            "/usr/local/lib/python3.7/dist-packages/sklearn/linear_model/_coordinate_descent.py:476: ConvergenceWarning: Objective did not converge. You might want to increase the number of iterations. Duality gap: 66.16127105687363, tolerance: 0.01892441780847124\n",
            "  positive)\n"
          ]
        },
        {
          "output_type": "display_data",
          "data": {
            "image/png": "[encoded data removed]",
            "text/plain": [
              "<Figure size 432x288 with 1 Axes>"
            ]
          },
          "metadata": {
            "needs_background": "light"
          }
        }
      ]
    },
    {
      "cell_type": "code",
      "metadata": {
        "id": "tjga_BNUP8it",
        "colab": {
          "base_uri": "https://localhost:8080/",
          "height": 420
        },
        "outputId": "e26a2852-fa10-4bc6-fad0-7bb3b5072138"
      },
      "source": [
        "x = np.arange(len(lasso_reg.coef_))  # the label locations\n",
        "width = 0.5  # the width of the bars\n",
        "fig, ax = plt.subplots(figsize=(15,7))\n",
        "rects1 = ax.bar(x - width/2, lasso_reg.coef_, width, label='Lasso')\n",
        "rects2 = ax.bar(x + width/2, ridge_reg.coef_[0], width, label='Ridge')\n",
        "#rects3 = ax.bar(x + width/2, lin_reg.coef_[0], width, label='Linear')\n",
        "ax.set_ylabel('Coeficientes')\n",
        "ax.set_title('Coeficientes por regularizacion')\n",
        "ax.set_xticks(x)\n",
        "#ax.set_xticklabels(labels)\n",
        "ax.legend()"
      ],
      "execution_count": null,
      "outputs": [
        {
          "output_type": "execute_result",
          "data": {
            "text/plain": [
              "<matplotlib.legend.Legend at 0x7fb9747499d0>"
            ]
          },
          "metadata": {},
          "execution_count": 23
        },
        {
          "output_type": "display_data",
          "data": {
            "image/png": "[encoded data removed]",
            "text/plain": [
              "<Figure size 1080x504 with 1 Axes>"
            ]
          },
          "metadata": {
            "needs_background": "light"
          }
        }
      ]
    },
    {
      "cell_type": "markdown",
      "metadata": {
        "id": "EP1eQeJeP8iw"
      },
      "source": [
        "# Tarea\n",
        "\n",
        "En este laboratorio Ud debe completar las siguientes tareas:\n",
        "\n",
        "\n",
        "1.   Implementar un modelo base para predecir el total de 'nuevos casos' a partir de las distintas vacunas y las medidas administradas en Chile.\n",
        "2. Reportar la metrica de ajuste del modelo base.\n",
        "3. Reportar la metrica de ajuste del modelo regularizacion.\n"
      ]
    },
    {
      "cell_type": "code",
      "metadata": {
        "id": "7j1A7-VHT-Xb"
      },
      "source": [
        "import pandas as pd\n",
        "\n",
        "data_cases = pd.read_csv(\n",
        "    \"https://storage.googleapis.com/covid19-open-data/v3/epidemiology.csv\",\n",
        "    keep_default_na=False,\n",
        "    na_values=[\"\"],\n",
        ")"
      ],
      "execution_count": 12,
      "outputs": []
    },
    {
      "cell_type": "code",
      "metadata": {
        "id": "ZNOq-3jS9UE0",
        "colab": {
          "base_uri": "https://localhost:8080/"
        },
        "outputId": "cb29624e-6ade-412b-b6ca-03b9e5e37573"
      },
      "source": [
        "for i,c in enumerate(data_cases.columns):\n",
        "  print(i,c)"
      ],
      "execution_count": 13,
      "outputs": [
        {
          "output_type": "stream",
          "name": "stdout",
          "text": [
            "0 date\n",
            "1 location_key\n",
            "2 new_confirmed\n",
            "3 new_deceased\n",
            "4 new_recovered\n",
            "5 new_tested\n",
            "6 cumulative_confirmed\n",
            "7 cumulative_deceased\n",
            "8 cumulative_recovered\n",
            "9 cumulative_tested\n"
          ]
        }
      ]
    },
    {
      "cell_type": "code",
      "metadata": {
        "id": "f9hlY14JXE4u"
      },
      "source": [
        "cases_bolivia=data_cases[data_cases.location_key=='BO']"
      ],
      "execution_count": 14,
      "outputs": []
    },
    {
      "cell_type": "code",
      "metadata": {
        "id": "gOqnqq0mX663",
        "colab": {
          "base_uri": "https://localhost:8080/"
        },
        "outputId": "e7cb472a-3563-4c99-bdcb-a6d5e49c64ea"
      },
      "source": [
        "cases_bolivia.shape"
      ],
      "execution_count": 25,
      "outputs": [
        {
          "output_type": "execute_result",
          "data": {
            "text/plain": [
              "(658, 10)"
            ]
          },
          "metadata": {},
          "execution_count": 25
        }
      ]
    },
    {
      "cell_type": "code",
      "metadata": {
        "id": "meDE0geAqQ-_",
        "colab": {
          "base_uri": "https://localhost:8080/",
          "height": 286
        },
        "outputId": "0db786ed-c1bd-40e7-8a73-d61a9de086a9"
      },
      "source": [
        "cases_bolivia['new_confirmed'].plot()"
      ],
      "execution_count": 27,
      "outputs": [
        {
          "output_type": "execute_result",
          "data": {
            "text/plain": [
              "<matplotlib.axes._subplots.AxesSubplot at 0x7f81d46a2fd0>"
            ]
          },
          "metadata": {},
          "execution_count": 27
        },
        {
          "output_type": "display_data",
          "data": {
            "image/png": "[encoded data removed]",
            "text/plain": [
              "<Figure size 432x288 with 1 Axes>"
            ]
          },
          "metadata": {
            "needs_background": "light"
          }
        }
      ]
    },
    {
      "cell_type": "code",
      "metadata": {
        "id": "EyjRbf-N7Baj"
      },
      "source": [
        ""
      ],
      "execution_count": null,
      "outputs": []
    },
    {
      "cell_type": "code",
      "metadata": {
        "id": "km6bZlgqUBIb"
      },
      "source": [
        "data_vaccines = pd.read_csv(\n",
        "    \"https://storage.googleapis.com/covid19-open-data/v3/vaccinations.csv\",\n",
        "    keep_default_na=False,\n",
        "    na_values=[\"\"],\n",
        ")"
      ],
      "execution_count": 18,
      "outputs": []
    },
    {
      "cell_type": "code",
      "metadata": {
        "id": "otjWTNzK_VTn",
        "colab": {
          "base_uri": "https://localhost:8080/",
          "height": 809
        },
        "outputId": "776e39cc-ce4b-4eff-c31d-1ee94d2e2b9f"
      },
      "source": [
        "data_vaccines[data_vaccines.location_key=='BO'].describe().transpose()"
      ],
      "execution_count": 19,
      "outputs": [
        {
          "output_type": "execute_result",
          "data": {
            "text/html": [
              "<div>\n",
              "<style scoped>\n",
              "    .dataframe tbody tr th:only-of-type {\n",
              "        vertical-align: middle;\n",
              "    }\n",
              "\n",
              "    .dataframe tbody tr th {\n",
              "        vertical-align: top;\n",
              "    }\n",
              "\n",
              "    .dataframe thead th {\n",
              "        text-align: right;\n",
              "    }\n",
              "</style>\n",
              "<table border=\"1\" class=\"dataframe\">\n",
              "  <thead>\n",
              "    <tr style=\"text-align: right;\">\n",
              "      <th></th>\n",
              "      <th>count</th>\n",
              "      <th>mean</th>\n",
              "      <th>std</th>\n",
              "      <th>min</th>\n",
              "      <th>25%</th>\n",
              "      <th>50%</th>\n",
              "      <th>75%</th>\n",
              "      <th>max</th>\n",
              "    </tr>\n",
              "  </thead>\n",
              "  <tbody>\n",
              "    <tr>\n",
              "      <th>new_persons_vaccinated</th>\n",
              "      <td>206.0</td>\n",
              "      <td>2.757431e+04</td>\n",
              "      <td>1.611223e+05</td>\n",
              "      <td>-1106411.0</td>\n",
              "      <td>2280.75</td>\n",
              "      <td>8035.0</td>\n",
              "      <td>24904.00</td>\n",
              "      <td>1431134.0</td>\n",
              "    </tr>\n",
              "    <tr>\n",
              "      <th>cumulative_persons_vaccinated</th>\n",
              "      <td>207.0</td>\n",
              "      <td>1.465363e+06</td>\n",
              "      <td>1.384446e+06</td>\n",
              "      <td>0.0</td>\n",
              "      <td>163820.50</td>\n",
              "      <td>1004613.0</td>\n",
              "      <td>2948535.50</td>\n",
              "      <td>4252426.0</td>\n",
              "    </tr>\n",
              "    <tr>\n",
              "      <th>new_persons_fully_vaccinated</th>\n",
              "      <td>206.0</td>\n",
              "      <td>2.222231e+04</td>\n",
              "      <td>9.475739e+04</td>\n",
              "      <td>-489210.0</td>\n",
              "      <td>679.75</td>\n",
              "      <td>6610.5</td>\n",
              "      <td>29334.00</td>\n",
              "      <td>762181.0</td>\n",
              "    </tr>\n",
              "    <tr>\n",
              "      <th>cumulative_persons_fully_vaccinated</th>\n",
              "      <td>207.0</td>\n",
              "      <td>8.898139e+05</td>\n",
              "      <td>1.060779e+06</td>\n",
              "      <td>0.0</td>\n",
              "      <td>64369.00</td>\n",
              "      <td>296588.0</td>\n",
              "      <td>1823049.00</td>\n",
              "      <td>3258388.0</td>\n",
              "    </tr>\n",
              "    <tr>\n",
              "      <th>new_vaccine_doses_administered</th>\n",
              "      <td>153.0</td>\n",
              "      <td>4.530516e+04</td>\n",
              "      <td>7.078258e+04</td>\n",
              "      <td>12.0</td>\n",
              "      <td>6996.00</td>\n",
              "      <td>23085.0</td>\n",
              "      <td>52392.00</td>\n",
              "      <td>501685.0</td>\n",
              "    </tr>\n",
              "    <tr>\n",
              "      <th>cumulative_vaccine_doses_administered</th>\n",
              "      <td>154.0</td>\n",
              "      <td>2.021552e+06</td>\n",
              "      <td>2.132955e+06</td>\n",
              "      <td>0.0</td>\n",
              "      <td>318602.50</td>\n",
              "      <td>1044046.0</td>\n",
              "      <td>3493784.75</td>\n",
              "      <td>6931689.0</td>\n",
              "    </tr>\n",
              "    <tr>\n",
              "      <th>new_persons_vaccinated_pfizer</th>\n",
              "      <td>0.0</td>\n",
              "      <td>NaN</td>\n",
              "      <td>NaN</td>\n",
              "      <td>NaN</td>\n",
              "      <td>NaN</td>\n",
              "      <td>NaN</td>\n",
              "      <td>NaN</td>\n",
              "      <td>NaN</td>\n",
              "    </tr>\n",
              "    <tr>\n",
              "      <th>cumulative_persons_vaccinated_pfizer</th>\n",
              "      <td>0.0</td>\n",
              "      <td>NaN</td>\n",
              "      <td>NaN</td>\n",
              "      <td>NaN</td>\n",
              "      <td>NaN</td>\n",
              "      <td>NaN</td>\n",
              "      <td>NaN</td>\n",
              "      <td>NaN</td>\n",
              "    </tr>\n",
              "    <tr>\n",
              "      <th>new_persons_fully_vaccinated_pfizer</th>\n",
              "      <td>0.0</td>\n",
              "      <td>NaN</td>\n",
              "      <td>NaN</td>\n",
              "      <td>NaN</td>\n",
              "      <td>NaN</td>\n",
              "      <td>NaN</td>\n",
              "      <td>NaN</td>\n",
              "      <td>NaN</td>\n",
              "    </tr>\n",
              "    <tr>\n",
              "      <th>cumulative_persons_fully_vaccinated_pfizer</th>\n",
              "      <td>0.0</td>\n",
              "      <td>NaN</td>\n",
              "      <td>NaN</td>\n",
              "      <td>NaN</td>\n",
              "      <td>NaN</td>\n",
              "      <td>NaN</td>\n",
              "      <td>NaN</td>\n",
              "      <td>NaN</td>\n",
              "    </tr>\n",
              "    <tr>\n",
              "      <th>new_vaccine_doses_administered_pfizer</th>\n",
              "      <td>0.0</td>\n",
              "      <td>NaN</td>\n",
              "      <td>NaN</td>\n",
              "      <td>NaN</td>\n",
              "      <td>NaN</td>\n",
              "      <td>NaN</td>\n",
              "      <td>NaN</td>\n",
              "      <td>NaN</td>\n",
              "    </tr>\n",
              "    <tr>\n",
              "      <th>cumulative_vaccine_doses_administered_pfizer</th>\n",
              "      <td>0.0</td>\n",
              "      <td>NaN</td>\n",
              "      <td>NaN</td>\n",
              "      <td>NaN</td>\n",
              "      <td>NaN</td>\n",
              "      <td>NaN</td>\n",
              "      <td>NaN</td>\n",
              "      <td>NaN</td>\n",
              "    </tr>\n",
              "    <tr>\n",
              "      <th>new_persons_vaccinated_moderna</th>\n",
              "      <td>0.0</td>\n",
              "      <td>NaN</td>\n",
              "      <td>NaN</td>\n",
              "      <td>NaN</td>\n",
              "      <td>NaN</td>\n",
              "      <td>NaN</td>\n",
              "      <td>NaN</td>\n",
              "      <td>NaN</td>\n",
              "    </tr>\n",
              "    <tr>\n",
              "      <th>cumulative_persons_vaccinated_moderna</th>\n",
              "      <td>0.0</td>\n",
              "      <td>NaN</td>\n",
              "      <td>NaN</td>\n",
              "      <td>NaN</td>\n",
              "      <td>NaN</td>\n",
              "      <td>NaN</td>\n",
              "      <td>NaN</td>\n",
              "      <td>NaN</td>\n",
              "    </tr>\n",
              "    <tr>\n",
              "      <th>new_persons_fully_vaccinated_moderna</th>\n",
              "      <td>0.0</td>\n",
              "      <td>NaN</td>\n",
              "      <td>NaN</td>\n",
              "      <td>NaN</td>\n",
              "      <td>NaN</td>\n",
              "      <td>NaN</td>\n",
              "      <td>NaN</td>\n",
              "      <td>NaN</td>\n",
              "    </tr>\n",
              "    <tr>\n",
              "      <th>cumulative_persons_fully_vaccinated_moderna</th>\n",
              "      <td>0.0</td>\n",
              "      <td>NaN</td>\n",
              "      <td>NaN</td>\n",
              "      <td>NaN</td>\n",
              "      <td>NaN</td>\n",
              "      <td>NaN</td>\n",
              "      <td>NaN</td>\n",
              "      <td>NaN</td>\n",
              "    </tr>\n",
              "    <tr>\n",
              "      <th>new_vaccine_doses_administered_moderna</th>\n",
              "      <td>0.0</td>\n",
              "      <td>NaN</td>\n",
              "      <td>NaN</td>\n",
              "      <td>NaN</td>\n",
              "      <td>NaN</td>\n",
              "      <td>NaN</td>\n",
              "      <td>NaN</td>\n",
              "      <td>NaN</td>\n",
              "    </tr>\n",
              "    <tr>\n",
              "      <th>cumulative_vaccine_doses_administered_moderna</th>\n",
              "      <td>0.0</td>\n",
              "      <td>NaN</td>\n",
              "      <td>NaN</td>\n",
              "      <td>NaN</td>\n",
              "      <td>NaN</td>\n",
              "      <td>NaN</td>\n",
              "      <td>NaN</td>\n",
              "      <td>NaN</td>\n",
              "    </tr>\n",
              "    <tr>\n",
              "      <th>new_persons_vaccinated_janssen</th>\n",
              "      <td>0.0</td>\n",
              "      <td>NaN</td>\n",
              "      <td>NaN</td>\n",
              "      <td>NaN</td>\n",
              "      <td>NaN</td>\n",
              "      <td>NaN</td>\n",
              "      <td>NaN</td>\n",
              "      <td>NaN</td>\n",
              "    </tr>\n",
              "    <tr>\n",
              "      <th>cumulative_persons_vaccinated_janssen</th>\n",
              "      <td>0.0</td>\n",
              "      <td>NaN</td>\n",
              "      <td>NaN</td>\n",
              "      <td>NaN</td>\n",
              "      <td>NaN</td>\n",
              "      <td>NaN</td>\n",
              "      <td>NaN</td>\n",
              "      <td>NaN</td>\n",
              "    </tr>\n",
              "    <tr>\n",
              "      <th>new_persons_fully_vaccinated_janssen</th>\n",
              "      <td>0.0</td>\n",
              "      <td>NaN</td>\n",
              "      <td>NaN</td>\n",
              "      <td>NaN</td>\n",
              "      <td>NaN</td>\n",
              "      <td>NaN</td>\n",
              "      <td>NaN</td>\n",
              "      <td>NaN</td>\n",
              "    </tr>\n",
              "    <tr>\n",
              "      <th>cumulative_persons_fully_vaccinated_janssen</th>\n",
              "      <td>0.0</td>\n",
              "      <td>NaN</td>\n",
              "      <td>NaN</td>\n",
              "      <td>NaN</td>\n",
              "      <td>NaN</td>\n",
              "      <td>NaN</td>\n",
              "      <td>NaN</td>\n",
              "      <td>NaN</td>\n",
              "    </tr>\n",
              "    <tr>\n",
              "      <th>new_vaccine_doses_administered_janssen</th>\n",
              "      <td>0.0</td>\n",
              "      <td>NaN</td>\n",
              "      <td>NaN</td>\n",
              "      <td>NaN</td>\n",
              "      <td>NaN</td>\n",
              "      <td>NaN</td>\n",
              "      <td>NaN</td>\n",
              "      <td>NaN</td>\n",
              "    </tr>\n",
              "    <tr>\n",
              "      <th>cumulative_vaccine_doses_administered_janssen</th>\n",
              "      <td>0.0</td>\n",
              "      <td>NaN</td>\n",
              "      <td>NaN</td>\n",
              "      <td>NaN</td>\n",
              "      <td>NaN</td>\n",
              "      <td>NaN</td>\n",
              "      <td>NaN</td>\n",
              "      <td>NaN</td>\n",
              "    </tr>\n",
              "  </tbody>\n",
              "</table>\n",
              "</div>"
            ],
            "text/plain": [
              "                                               count  ...        max\n",
              "new_persons_vaccinated                         206.0  ...  1431134.0\n",
              "cumulative_persons_vaccinated                  207.0  ...  4252426.0\n",
              "new_persons_fully_vaccinated                   206.0  ...   762181.0\n",
              "cumulative_persons_fully_vaccinated            207.0  ...  3258388.0\n",
              "new_vaccine_doses_administered                 153.0  ...   501685.0\n",
              "cumulative_vaccine_doses_administered          154.0  ...  6931689.0\n",
              "new_persons_vaccinated_pfizer                    0.0  ...        NaN\n",
              "cumulative_persons_vaccinated_pfizer             0.0  ...        NaN\n",
              "new_persons_fully_vaccinated_pfizer              0.0  ...        NaN\n",
              "cumulative_persons_fully_vaccinated_pfizer       0.0  ...        NaN\n",
              "new_vaccine_doses_administered_pfizer            0.0  ...        NaN\n",
              "cumulative_vaccine_doses_administered_pfizer     0.0  ...        NaN\n",
              "new_persons_vaccinated_moderna                   0.0  ...        NaN\n",
              "cumulative_persons_vaccinated_moderna            0.0  ...        NaN\n",
              "new_persons_fully_vaccinated_moderna             0.0  ...        NaN\n",
              "cumulative_persons_fully_vaccinated_moderna      0.0  ...        NaN\n",
              "new_vaccine_doses_administered_moderna           0.0  ...        NaN\n",
              "cumulative_vaccine_doses_administered_moderna    0.0  ...        NaN\n",
              "new_persons_vaccinated_janssen                   0.0  ...        NaN\n",
              "cumulative_persons_vaccinated_janssen            0.0  ...        NaN\n",
              "new_persons_fully_vaccinated_janssen             0.0  ...        NaN\n",
              "cumulative_persons_fully_vaccinated_janssen      0.0  ...        NaN\n",
              "new_vaccine_doses_administered_janssen           0.0  ...        NaN\n",
              "cumulative_vaccine_doses_administered_janssen    0.0  ...        NaN\n",
              "\n",
              "[24 rows x 8 columns]"
            ]
          },
          "metadata": {},
          "execution_count": 19
        }
      ]
    },
    {
      "cell_type": "code",
      "metadata": {
        "id": "kcXeJdVkx6PM"
      },
      "source": [
        "vaccines_bolivia=data_vaccines[data_vaccines.location_key=='BO']"
      ],
      "execution_count": 20,
      "outputs": []
    },
    {
      "cell_type": "code",
      "metadata": {
        "id": "ayf8rPpYCTK0"
      },
      "source": [
        "data_response = pd.read_csv(\n",
        "    \"https://storage.googleapis.com/covid19-open-data/v3/oxford-government-response.csv\",\n",
        "    keep_default_na=False,\n",
        "    na_values=[\"\"],\n",
        ")"
      ],
      "execution_count": 21,
      "outputs": []
    },
    {
      "cell_type": "code",
      "metadata": {
        "id": "45ntUlGVrXj4",
        "colab": {
          "base_uri": "https://localhost:8080/",
          "height": 686
        },
        "outputId": "7f2d5e69-8259-435f-b658-c564239f5d6c"
      },
      "source": [
        "data_response[data_response.location_key=='BO'].describe().transpose()"
      ],
      "execution_count": 22,
      "outputs": [
        {
          "output_type": "execute_result",
          "data": {
            "text/html": [
              "<div>\n",
              "<style scoped>\n",
              "    .dataframe tbody tr th:only-of-type {\n",
              "        vertical-align: middle;\n",
              "    }\n",
              "\n",
              "    .dataframe tbody tr th {\n",
              "        vertical-align: top;\n",
              "    }\n",
              "\n",
              "    .dataframe thead th {\n",
              "        text-align: right;\n",
              "    }\n",
              "</style>\n",
              "<table border=\"1\" class=\"dataframe\">\n",
              "  <thead>\n",
              "    <tr style=\"text-align: right;\">\n",
              "      <th></th>\n",
              "      <th>count</th>\n",
              "      <th>mean</th>\n",
              "      <th>std</th>\n",
              "      <th>min</th>\n",
              "      <th>25%</th>\n",
              "      <th>50%</th>\n",
              "      <th>75%</th>\n",
              "      <th>max</th>\n",
              "    </tr>\n",
              "  </thead>\n",
              "  <tbody>\n",
              "    <tr>\n",
              "      <th>school_closing</th>\n",
              "      <td>651.0</td>\n",
              "      <td>2.282642e+00</td>\n",
              "      <td>9.265269e-01</td>\n",
              "      <td>0.0</td>\n",
              "      <td>2.00</td>\n",
              "      <td>3.00</td>\n",
              "      <td>3.0</td>\n",
              "      <td>3.0</td>\n",
              "    </tr>\n",
              "    <tr>\n",
              "      <th>workplace_closing</th>\n",
              "      <td>651.0</td>\n",
              "      <td>1.182796e+00</td>\n",
              "      <td>1.124036e+00</td>\n",
              "      <td>0.0</td>\n",
              "      <td>0.00</td>\n",
              "      <td>1.00</td>\n",
              "      <td>2.0</td>\n",
              "      <td>3.0</td>\n",
              "    </tr>\n",
              "    <tr>\n",
              "      <th>cancel_public_events</th>\n",
              "      <td>651.0</td>\n",
              "      <td>1.006144e+00</td>\n",
              "      <td>8.978396e-01</td>\n",
              "      <td>0.0</td>\n",
              "      <td>0.00</td>\n",
              "      <td>1.00</td>\n",
              "      <td>2.0</td>\n",
              "      <td>2.0</td>\n",
              "    </tr>\n",
              "    <tr>\n",
              "      <th>restrictions_on_gatherings</th>\n",
              "      <td>651.0</td>\n",
              "      <td>1.740399e+00</td>\n",
              "      <td>1.868413e+00</td>\n",
              "      <td>0.0</td>\n",
              "      <td>0.00</td>\n",
              "      <td>1.00</td>\n",
              "      <td>4.0</td>\n",
              "      <td>4.0</td>\n",
              "    </tr>\n",
              "    <tr>\n",
              "      <th>public_transport_closing</th>\n",
              "      <td>651.0</td>\n",
              "      <td>9.400922e-01</td>\n",
              "      <td>9.254218e-01</td>\n",
              "      <td>0.0</td>\n",
              "      <td>0.00</td>\n",
              "      <td>1.00</td>\n",
              "      <td>2.0</td>\n",
              "      <td>2.0</td>\n",
              "    </tr>\n",
              "    <tr>\n",
              "      <th>stay_at_home_requirements</th>\n",
              "      <td>642.0</td>\n",
              "      <td>1.216511e+00</td>\n",
              "      <td>9.585033e-01</td>\n",
              "      <td>0.0</td>\n",
              "      <td>0.00</td>\n",
              "      <td>2.00</td>\n",
              "      <td>2.0</td>\n",
              "      <td>3.0</td>\n",
              "    </tr>\n",
              "    <tr>\n",
              "      <th>restrictions_on_internal_movement</th>\n",
              "      <td>651.0</td>\n",
              "      <td>9.554531e-01</td>\n",
              "      <td>9.095292e-01</td>\n",
              "      <td>0.0</td>\n",
              "      <td>0.00</td>\n",
              "      <td>1.00</td>\n",
              "      <td>2.0</td>\n",
              "      <td>2.0</td>\n",
              "    </tr>\n",
              "    <tr>\n",
              "      <th>international_travel_controls</th>\n",
              "      <td>651.0</td>\n",
              "      <td>2.516129e+00</td>\n",
              "      <td>1.519403e+00</td>\n",
              "      <td>0.0</td>\n",
              "      <td>1.00</td>\n",
              "      <td>3.00</td>\n",
              "      <td>4.0</td>\n",
              "      <td>4.0</td>\n",
              "    </tr>\n",
              "    <tr>\n",
              "      <th>income_support</th>\n",
              "      <td>643.0</td>\n",
              "      <td>8.491446e-01</td>\n",
              "      <td>3.581865e-01</td>\n",
              "      <td>0.0</td>\n",
              "      <td>1.00</td>\n",
              "      <td>1.00</td>\n",
              "      <td>1.0</td>\n",
              "      <td>1.0</td>\n",
              "    </tr>\n",
              "    <tr>\n",
              "      <th>debt_relief</th>\n",
              "      <td>651.0</td>\n",
              "      <td>8.632873e-01</td>\n",
              "      <td>8.689805e-01</td>\n",
              "      <td>0.0</td>\n",
              "      <td>0.00</td>\n",
              "      <td>1.00</td>\n",
              "      <td>2.0</td>\n",
              "      <td>2.0</td>\n",
              "    </tr>\n",
              "    <tr>\n",
              "      <th>fiscal_measures</th>\n",
              "      <td>573.0</td>\n",
              "      <td>2.042758e+06</td>\n",
              "      <td>2.818343e+07</td>\n",
              "      <td>0.0</td>\n",
              "      <td>0.00</td>\n",
              "      <td>0.00</td>\n",
              "      <td>0.0</td>\n",
              "      <td>584000000.0</td>\n",
              "    </tr>\n",
              "    <tr>\n",
              "      <th>international_support</th>\n",
              "      <td>573.0</td>\n",
              "      <td>0.000000e+00</td>\n",
              "      <td>0.000000e+00</td>\n",
              "      <td>0.0</td>\n",
              "      <td>0.00</td>\n",
              "      <td>0.00</td>\n",
              "      <td>0.0</td>\n",
              "      <td>0.0</td>\n",
              "    </tr>\n",
              "    <tr>\n",
              "      <th>public_information_campaigns</th>\n",
              "      <td>651.0</td>\n",
              "      <td>1.783410e+00</td>\n",
              "      <td>6.182616e-01</td>\n",
              "      <td>0.0</td>\n",
              "      <td>2.00</td>\n",
              "      <td>2.00</td>\n",
              "      <td>2.0</td>\n",
              "      <td>2.0</td>\n",
              "    </tr>\n",
              "    <tr>\n",
              "      <th>testing_policy</th>\n",
              "      <td>651.0</td>\n",
              "      <td>1.256528e+00</td>\n",
              "      <td>9.382141e-01</td>\n",
              "      <td>0.0</td>\n",
              "      <td>1.00</td>\n",
              "      <td>1.00</td>\n",
              "      <td>1.0</td>\n",
              "      <td>3.0</td>\n",
              "    </tr>\n",
              "    <tr>\n",
              "      <th>contact_tracing</th>\n",
              "      <td>645.0</td>\n",
              "      <td>7.968992e-01</td>\n",
              "      <td>4.800262e-01</td>\n",
              "      <td>0.0</td>\n",
              "      <td>1.00</td>\n",
              "      <td>1.00</td>\n",
              "      <td>1.0</td>\n",
              "      <td>2.0</td>\n",
              "    </tr>\n",
              "    <tr>\n",
              "      <th>emergency_investment_in_healthcare</th>\n",
              "      <td>573.0</td>\n",
              "      <td>2.908359e+05</td>\n",
              "      <td>4.632514e+06</td>\n",
              "      <td>0.0</td>\n",
              "      <td>0.00</td>\n",
              "      <td>0.00</td>\n",
              "      <td>0.0</td>\n",
              "      <td>101387930.0</td>\n",
              "    </tr>\n",
              "    <tr>\n",
              "      <th>investment_in_vaccines</th>\n",
              "      <td>651.0</td>\n",
              "      <td>0.000000e+00</td>\n",
              "      <td>0.000000e+00</td>\n",
              "      <td>0.0</td>\n",
              "      <td>0.00</td>\n",
              "      <td>0.00</td>\n",
              "      <td>0.0</td>\n",
              "      <td>0.0</td>\n",
              "    </tr>\n",
              "    <tr>\n",
              "      <th>facial_coverings</th>\n",
              "      <td>651.0</td>\n",
              "      <td>2.821813e+00</td>\n",
              "      <td>1.519783e+00</td>\n",
              "      <td>0.0</td>\n",
              "      <td>3.00</td>\n",
              "      <td>3.00</td>\n",
              "      <td>4.0</td>\n",
              "      <td>4.0</td>\n",
              "    </tr>\n",
              "    <tr>\n",
              "      <th>vaccination_policy</th>\n",
              "      <td>651.0</td>\n",
              "      <td>1.105991e+00</td>\n",
              "      <td>1.536072e+00</td>\n",
              "      <td>0.0</td>\n",
              "      <td>0.00</td>\n",
              "      <td>0.00</td>\n",
              "      <td>2.0</td>\n",
              "      <td>5.0</td>\n",
              "    </tr>\n",
              "    <tr>\n",
              "      <th>stringency_index</th>\n",
              "      <td>651.0</td>\n",
              "      <td>5.230261e+01</td>\n",
              "      <td>3.245775e+01</td>\n",
              "      <td>0.0</td>\n",
              "      <td>27.78</td>\n",
              "      <td>47.22</td>\n",
              "      <td>87.5</td>\n",
              "      <td>96.3</td>\n",
              "    </tr>\n",
              "  </tbody>\n",
              "</table>\n",
              "</div>"
            ],
            "text/plain": [
              "                                    count          mean  ...   75%          max\n",
              "school_closing                      651.0  2.282642e+00  ...   3.0          3.0\n",
              "workplace_closing                   651.0  1.182796e+00  ...   2.0          3.0\n",
              "cancel_public_events                651.0  1.006144e+00  ...   2.0          2.0\n",
              "restrictions_on_gatherings          651.0  1.740399e+00  ...   4.0          4.0\n",
              "public_transport_closing            651.0  9.400922e-01  ...   2.0          2.0\n",
              "stay_at_home_requirements           642.0  1.216511e+00  ...   2.0          3.0\n",
              "restrictions_on_internal_movement   651.0  9.554531e-01  ...   2.0          2.0\n",
              "international_travel_controls       651.0  2.516129e+00  ...   4.0          4.0\n",
              "income_support                      643.0  8.491446e-01  ...   1.0          1.0\n",
              "debt_relief                         651.0  8.632873e-01  ...   2.0          2.0\n",
              "fiscal_measures                     573.0  2.042758e+06  ...   0.0  584000000.0\n",
              "international_support               573.0  0.000000e+00  ...   0.0          0.0\n",
              "public_information_campaigns        651.0  1.783410e+00  ...   2.0          2.0\n",
              "testing_policy                      651.0  1.256528e+00  ...   1.0          3.0\n",
              "contact_tracing                     645.0  7.968992e-01  ...   1.0          2.0\n",
              "emergency_investment_in_healthcare  573.0  2.908359e+05  ...   0.0  101387930.0\n",
              "investment_in_vaccines              651.0  0.000000e+00  ...   0.0          0.0\n",
              "facial_coverings                    651.0  2.821813e+00  ...   4.0          4.0\n",
              "vaccination_policy                  651.0  1.105991e+00  ...   2.0          5.0\n",
              "stringency_index                    651.0  5.230261e+01  ...  87.5         96.3\n",
              "\n",
              "[20 rows x 8 columns]"
            ]
          },
          "metadata": {},
          "execution_count": 22
        }
      ]
    },
    {
      "cell_type": "code",
      "metadata": {
        "id": "CiQAsA0gteU1"
      },
      "source": [
        "response_bolivia=data_response.loc[data_response.location_key=='BO']"
      ],
      "execution_count": 23,
      "outputs": []
    },
    {
      "cell_type": "code",
      "metadata": {
        "id": "uS1B8OroyIap",
        "colab": {
          "base_uri": "https://localhost:8080/",
          "height": 294
        },
        "outputId": "ed4e3d96-eebf-40dd-c2a4-2f0dd1fa4672"
      },
      "source": [
        "vaccines_bolivia['new_persons_vaccinated'].plot()"
      ],
      "execution_count": 28,
      "outputs": [
        {
          "output_type": "execute_result",
          "data": {
            "text/plain": [
              "<matplotlib.axes._subplots.AxesSubplot at 0x7f81d38cae10>"
            ]
          },
          "metadata": {},
          "execution_count": 28
        },
        {
          "output_type": "display_data",
          "data": {
            "image/png": "[encoded data removed]",
            "text/plain": [
              "<Figure size 432x288 with 1 Axes>"
            ]
          },
          "metadata": {
            "needs_background": "light"
          }
        }
      ]
    },
    {
      "cell_type": "code",
      "metadata": {
        "id": "4lbszPv-7Pym"
      },
      "source": [
        "remove_outliers=vaccines_bolivia['new_persons_vaccinated'].between(0, vaccines_bolivia['new_persons_vaccinated'].quantile(.95))"
      ],
      "execution_count": 30,
      "outputs": []
    },
    {
      "cell_type": "code",
      "metadata": {
        "id": "d9hEzPB37VLZ"
      },
      "source": [
        "vaccines_bolivia=vaccines_bolivia[remove_outliers]"
      ],
      "execution_count": 31,
      "outputs": []
    },
    {
      "cell_type": "code",
      "metadata": {
        "id": "WH_8qFy77jIu",
        "outputId": "9018ed5b-072a-4f01-af02-a4158a5a265c",
        "colab": {
          "base_uri": "https://localhost:8080/",
          "height": 283
        }
      },
      "source": [
        "vaccines_bolivia['new_persons_vaccinated'].plot()"
      ],
      "execution_count": 32,
      "outputs": [
        {
          "output_type": "execute_result",
          "data": {
            "text/plain": [
              "<matplotlib.axes._subplots.AxesSubplot at 0x7f81d380e890>"
            ]
          },
          "metadata": {},
          "execution_count": 32
        },
        {
          "output_type": "display_data",
          "data": {
            "image/png": "[encoded data removed]",
            "text/plain": [
              "<Figure size 432x288 with 1 Axes>"
            ]
          },
          "metadata": {
            "needs_background": "light"
          }
        }
      ]
    },
    {
      "cell_type": "code",
      "metadata": {
        "id": "jAAiMFo8tvMX"
      },
      "source": [
        "cases_bolivia.set_index('date',inplace=True)\n",
        "vaccines_bolivia.set_index('date',inplace=True)\n",
        "response_bolivia.set_index('date',inplace=True)"
      ],
      "execution_count": 33,
      "outputs": []
    },
    {
      "cell_type": "code",
      "metadata": {
        "id": "BcHkqUxLyvcy"
      },
      "source": [
        "df_bolivia=pd.merge(cases_bolivia,vaccines_bolivia, left_index=True, right_index=True)"
      ],
      "execution_count": 34,
      "outputs": []
    },
    {
      "cell_type": "code",
      "metadata": {
        "id": "yB-NJ28ny49Z"
      },
      "source": [
        "df_bolivia=pd.merge(df_bolivia,response_bolivia, left_index=True, right_index=True)"
      ],
      "execution_count": 35,
      "outputs": []
    },
    {
      "cell_type": "code",
      "metadata": {
        "id": "us9lgDaZyOmB",
        "colab": {
          "base_uri": "https://localhost:8080/",
          "height": 296
        },
        "outputId": "5cebfeb7-0173-4bcc-8f20-3678ed618c98"
      },
      "source": [
        "df_bolivia['new_persons_vaccinated'].plot()"
      ],
      "execution_count": 36,
      "outputs": [
        {
          "output_type": "execute_result",
          "data": {
            "text/plain": [
              "<matplotlib.axes._subplots.AxesSubplot at 0x7f81d252fad0>"
            ]
          },
          "metadata": {},
          "execution_count": 36
        },
        {
          "output_type": "display_data",
          "data": {
            "image/png": "[encoded data removed]",
            "text/plain": [
              "<Figure size 432x288 with 1 Axes>"
            ]
          },
          "metadata": {
            "needs_background": "light"
          }
        }
      ]
    },
    {
      "cell_type": "code",
      "metadata": {
        "id": "cr9OYq64BRXE"
      },
      "source": [
        "y=df_bolivia['new_confirmed']\n",
        "X=df_bolivia[['new_persons_vaccinated','school_closing','workplace_closing','cancel_public_events','facial_coverings']]"
      ],
      "execution_count": 37,
      "outputs": []
    },
    {
      "cell_type": "code",
      "metadata": {
        "id": "w2XJzi8FkXct",
        "colab": {
          "base_uri": "https://localhost:8080/"
        },
        "outputId": "1f850e60-45cd-454e-b90b-5961a3e55b09"
      },
      "source": [
        "X.fillna(0,inplace=True)"
      ],
      "execution_count": 40,
      "outputs": [
        {
          "output_type": "stream",
          "name": "stderr",
          "text": [
            "/usr/local/lib/python3.7/dist-packages/pandas/core/frame.py:4327: SettingWithCopyWarning: \n",
            "A value is trying to be set on a copy of a slice from a DataFrame\n",
            "\n",
            "See the caveats in the documentation: https://pandas.pydata.org/pandas-docs/stable/user_guide/indexing.html#returning-a-view-versus-a-copy\n",
            "  downcast=downcast,\n"
          ]
        }
      ]
    },
    {
      "cell_type": "code",
      "metadata": {
        "id": "rTO0V8pwwEIt",
        "colab": {
          "base_uri": "https://localhost:8080/",
          "height": 203
        },
        "outputId": "ec7d0ca8-bd2c-4a69-e8ec-8fd3ac6d3a1d"
      },
      "source": [
        "X.describe().transpose()"
      ],
      "execution_count": 42,
      "outputs": [
        {
          "output_type": "execute_result",
          "data": {
            "text/html": [
              "<div>\n",
              "<style scoped>\n",
              "    .dataframe tbody tr th:only-of-type {\n",
              "        vertical-align: middle;\n",
              "    }\n",
              "\n",
              "    .dataframe tbody tr th {\n",
              "        vertical-align: top;\n",
              "    }\n",
              "\n",
              "    .dataframe thead th {\n",
              "        text-align: right;\n",
              "    }\n",
              "</style>\n",
              "<table border=\"1\" class=\"dataframe\">\n",
              "  <thead>\n",
              "    <tr style=\"text-align: right;\">\n",
              "      <th></th>\n",
              "      <th>count</th>\n",
              "      <th>mean</th>\n",
              "      <th>std</th>\n",
              "      <th>min</th>\n",
              "      <th>25%</th>\n",
              "      <th>50%</th>\n",
              "      <th>75%</th>\n",
              "      <th>max</th>\n",
              "    </tr>\n",
              "  </thead>\n",
              "  <tbody>\n",
              "    <tr>\n",
              "      <th>new_persons_vaccinated</th>\n",
              "      <td>183.0</td>\n",
              "      <td>18812.797814</td>\n",
              "      <td>26060.786307</td>\n",
              "      <td>0.0</td>\n",
              "      <td>3065.5</td>\n",
              "      <td>7895.0</td>\n",
              "      <td>22034.0</td>\n",
              "      <td>137072.0</td>\n",
              "    </tr>\n",
              "    <tr>\n",
              "      <th>school_closing</th>\n",
              "      <td>183.0</td>\n",
              "      <td>2.000000</td>\n",
              "      <td>0.000000</td>\n",
              "      <td>2.0</td>\n",
              "      <td>2.0</td>\n",
              "      <td>2.0</td>\n",
              "      <td>2.0</td>\n",
              "      <td>2.0</td>\n",
              "    </tr>\n",
              "    <tr>\n",
              "      <th>workplace_closing</th>\n",
              "      <td>183.0</td>\n",
              "      <td>0.316940</td>\n",
              "      <td>0.466560</td>\n",
              "      <td>0.0</td>\n",
              "      <td>0.0</td>\n",
              "      <td>0.0</td>\n",
              "      <td>1.0</td>\n",
              "      <td>1.0</td>\n",
              "    </tr>\n",
              "    <tr>\n",
              "      <th>cancel_public_events</th>\n",
              "      <td>183.0</td>\n",
              "      <td>0.316940</td>\n",
              "      <td>0.466560</td>\n",
              "      <td>0.0</td>\n",
              "      <td>0.0</td>\n",
              "      <td>0.0</td>\n",
              "      <td>1.0</td>\n",
              "      <td>1.0</td>\n",
              "    </tr>\n",
              "    <tr>\n",
              "      <th>facial_coverings</th>\n",
              "      <td>183.0</td>\n",
              "      <td>4.000000</td>\n",
              "      <td>0.000000</td>\n",
              "      <td>4.0</td>\n",
              "      <td>4.0</td>\n",
              "      <td>4.0</td>\n",
              "      <td>4.0</td>\n",
              "      <td>4.0</td>\n",
              "    </tr>\n",
              "  </tbody>\n",
              "</table>\n",
              "</div>"
            ],
            "text/plain": [
              "                        count          mean  ...      75%       max\n",
              "new_persons_vaccinated  183.0  18812.797814  ...  22034.0  137072.0\n",
              "school_closing          183.0      2.000000  ...      2.0       2.0\n",
              "workplace_closing       183.0      0.316940  ...      1.0       1.0\n",
              "cancel_public_events    183.0      0.316940  ...      1.0       1.0\n",
              "facial_coverings        183.0      4.000000  ...      4.0       4.0\n",
              "\n",
              "[5 rows x 8 columns]"
            ]
          },
          "metadata": {},
          "execution_count": 42
        }
      ]
    },
    {
      "cell_type": "code",
      "metadata": {
        "id": "dVLMh5LSgOiA",
        "colab": {
          "base_uri": "https://localhost:8080/"
        },
        "outputId": "e2a43a12-f55a-4d34-b8e4-9f1ea490e4f3"
      },
      "source": [
        "X['school_closing']=X['school_closing'].astype('category')\n",
        "X['workplace_closing']=X['workplace_closing'].astype('category')\n",
        "X['cancel_public_events']=X['cancel_public_events'].astype('category')\n",
        "X['facial_coverings']=X['facial_coverings'].astype('category')"
      ],
      "execution_count": 43,
      "outputs": [
        {
          "output_type": "stream",
          "name": "stderr",
          "text": [
            "/usr/local/lib/python3.7/dist-packages/ipykernel_launcher.py:1: SettingWithCopyWarning: \n",
            "A value is trying to be set on a copy of a slice from a DataFrame.\n",
            "Try using .loc[row_indexer,col_indexer] = value instead\n",
            "\n",
            "See the caveats in the documentation: https://pandas.pydata.org/pandas-docs/stable/user_guide/indexing.html#returning-a-view-versus-a-copy\n",
            "  \"\"\"Entry point for launching an IPython kernel.\n",
            "/usr/local/lib/python3.7/dist-packages/ipykernel_launcher.py:2: SettingWithCopyWarning: \n",
            "A value is trying to be set on a copy of a slice from a DataFrame.\n",
            "Try using .loc[row_indexer,col_indexer] = value instead\n",
            "\n",
            "See the caveats in the documentation: https://pandas.pydata.org/pandas-docs/stable/user_guide/indexing.html#returning-a-view-versus-a-copy\n",
            "  \n",
            "/usr/local/lib/python3.7/dist-packages/ipykernel_launcher.py:3: SettingWithCopyWarning: \n",
            "A value is trying to be set on a copy of a slice from a DataFrame.\n",
            "Try using .loc[row_indexer,col_indexer] = value instead\n",
            "\n",
            "See the caveats in the documentation: https://pandas.pydata.org/pandas-docs/stable/user_guide/indexing.html#returning-a-view-versus-a-copy\n",
            "  This is separate from the ipykernel package so we can avoid doing imports until\n",
            "/usr/local/lib/python3.7/dist-packages/ipykernel_launcher.py:4: SettingWithCopyWarning: \n",
            "A value is trying to be set on a copy of a slice from a DataFrame.\n",
            "Try using .loc[row_indexer,col_indexer] = value instead\n",
            "\n",
            "See the caveats in the documentation: https://pandas.pydata.org/pandas-docs/stable/user_guide/indexing.html#returning-a-view-versus-a-copy\n",
            "  after removing the cwd from sys.path.\n"
          ]
        }
      ]
    },
    {
      "cell_type": "code",
      "metadata": {
        "id": "f30zK57qhnOk"
      },
      "source": [
        "X_new=pd.get_dummies(X,sparse=True)"
      ],
      "execution_count": 44,
      "outputs": []
    },
    {
      "cell_type": "code",
      "metadata": {
        "id": "PR-ZZl32kSN0",
        "colab": {
          "base_uri": "https://localhost:8080/",
          "height": 339
        },
        "outputId": "f1d4efc7-0198-4157-c3d0-a25373692cdc"
      },
      "source": [
        "X_new.head()"
      ],
      "execution_count": 46,
      "outputs": [
        {
          "output_type": "execute_result",
          "data": {
            "text/html": [
              "<div>\n",
              "<style scoped>\n",
              "    .dataframe tbody tr th:only-of-type {\n",
              "        vertical-align: middle;\n",
              "    }\n",
              "\n",
              "    .dataframe tbody tr th {\n",
              "        vertical-align: top;\n",
              "    }\n",
              "\n",
              "    .dataframe thead th {\n",
              "        text-align: right;\n",
              "    }\n",
              "</style>\n",
              "<table border=\"1\" class=\"dataframe\">\n",
              "  <thead>\n",
              "    <tr style=\"text-align: right;\">\n",
              "      <th></th>\n",
              "      <th>new_persons_vaccinated</th>\n",
              "      <th>school_closing_2.0</th>\n",
              "      <th>workplace_closing_0.0</th>\n",
              "      <th>workplace_closing_1.0</th>\n",
              "      <th>cancel_public_events_0.0</th>\n",
              "      <th>cancel_public_events_1.0</th>\n",
              "      <th>facial_coverings_4.0</th>\n",
              "    </tr>\n",
              "    <tr>\n",
              "      <th>date</th>\n",
              "      <th></th>\n",
              "      <th></th>\n",
              "      <th></th>\n",
              "      <th></th>\n",
              "      <th></th>\n",
              "      <th></th>\n",
              "      <th></th>\n",
              "    </tr>\n",
              "  </thead>\n",
              "  <tbody>\n",
              "    <tr>\n",
              "      <th>2021-02-05</th>\n",
              "      <td>2258.0</td>\n",
              "      <td>1</td>\n",
              "      <td>1</td>\n",
              "      <td>0</td>\n",
              "      <td>1</td>\n",
              "      <td>0</td>\n",
              "      <td>1</td>\n",
              "    </tr>\n",
              "    <tr>\n",
              "      <th>2021-02-06</th>\n",
              "      <td>206.0</td>\n",
              "      <td>1</td>\n",
              "      <td>1</td>\n",
              "      <td>0</td>\n",
              "      <td>1</td>\n",
              "      <td>0</td>\n",
              "      <td>1</td>\n",
              "    </tr>\n",
              "    <tr>\n",
              "      <th>2021-02-07</th>\n",
              "      <td>116.0</td>\n",
              "      <td>1</td>\n",
              "      <td>1</td>\n",
              "      <td>0</td>\n",
              "      <td>1</td>\n",
              "      <td>0</td>\n",
              "      <td>1</td>\n",
              "    </tr>\n",
              "    <tr>\n",
              "      <th>2021-02-08</th>\n",
              "      <td>1153.0</td>\n",
              "      <td>1</td>\n",
              "      <td>1</td>\n",
              "      <td>0</td>\n",
              "      <td>1</td>\n",
              "      <td>0</td>\n",
              "      <td>1</td>\n",
              "    </tr>\n",
              "    <tr>\n",
              "      <th>2021-02-09</th>\n",
              "      <td>847.0</td>\n",
              "      <td>1</td>\n",
              "      <td>1</td>\n",
              "      <td>0</td>\n",
              "      <td>1</td>\n",
              "      <td>0</td>\n",
              "      <td>1</td>\n",
              "    </tr>\n",
              "  </tbody>\n",
              "</table>\n",
              "</div>"
            ],
            "text/plain": [
              "            new_persons_vaccinated  ...  facial_coverings_4.0\n",
              "date                                ...                      \n",
              "2021-02-05                  2258.0  ...                     1\n",
              "2021-02-06                   206.0  ...                     1\n",
              "2021-02-07                   116.0  ...                     1\n",
              "2021-02-08                  1153.0  ...                     1\n",
              "2021-02-09                   847.0  ...                     1\n",
              "\n",
              "[5 rows x 7 columns]"
            ]
          },
          "metadata": {},
          "execution_count": 46
        }
      ]
    },
    {
      "cell_type": "code",
      "metadata": {
        "id": "A8qNUC09xpol",
        "colab": {
          "base_uri": "https://localhost:8080/",
          "height": 283
        },
        "outputId": "51506357-55cd-4798-86cc-3fb8c0dbd60c"
      },
      "source": [
        "X_new['new_persons_vaccinated'].hist()"
      ],
      "execution_count": 48,
      "outputs": [
        {
          "output_type": "execute_result",
          "data": {
            "text/plain": [
              "<matplotlib.axes._subplots.AxesSubplot at 0x7f81d2292050>"
            ]
          },
          "metadata": {},
          "execution_count": 48
        },
        {
          "output_type": "display_data",
          "data": {
            "image/png": "[encoded data removed]",
            "text/plain": [
              "<Figure size 432x288 with 1 Axes>"
            ]
          },
          "metadata": {
            "needs_background": "light"
          }
        }
      ]
    },
    {
      "cell_type": "code",
      "metadata": {
        "id": "YjE4FRnU8b8z"
      },
      "source": [
        "X_new['new_persons_vaccinated']=np.log1p(X_new['new_persons_vaccinated'])"
      ],
      "execution_count": 49,
      "outputs": []
    },
    {
      "cell_type": "code",
      "metadata": {
        "id": "YtRtwlfv8iHZ",
        "outputId": "1b8d874c-6bd5-4c87-df62-1ab645154c57",
        "colab": {
          "base_uri": "https://localhost:8080/",
          "height": 283
        }
      },
      "source": [
        "X_new['new_persons_vaccinated'].hist()"
      ],
      "execution_count": 50,
      "outputs": [
        {
          "output_type": "execute_result",
          "data": {
            "text/plain": [
              "<matplotlib.axes._subplots.AxesSubplot at 0x7f81d1fbca90>"
            ]
          },
          "metadata": {},
          "execution_count": 50
        },
        {
          "output_type": "display_data",
          "data": {
            "image/png": "[encoded data removed]",
            "text/plain": [
              "<Figure size 432x288 with 1 Axes>"
            ]
          },
          "metadata": {
            "needs_background": "light"
          }
        }
      ]
    },
    {
      "cell_type": "code",
      "metadata": {
        "id": "64_fIRMkmxhr"
      },
      "source": [
        "X_rolling=X_new.rolling(7).mean()\n",
        "y_rolling=y.rolling(7).mean()"
      ],
      "execution_count": 51,
      "outputs": []
    },
    {
      "cell_type": "code",
      "metadata": {
        "id": "R4Scjl1wm4Vb"
      },
      "source": [
        "X_rolling.dropna(inplace=True)\n",
        "y_rolling.dropna(inplace=True)"
      ],
      "execution_count": 52,
      "outputs": []
    },
    {
      "cell_type": "code",
      "metadata": {
        "id": "CzFFrWrsjBrW"
      },
      "source": [
        "from sklearn.model_selection import train_test_split\n",
        "\n",
        "\n",
        "X_train, X_test, y_train, y_test = train_test_split(X_rolling,y_rolling, test_size=0.2, random_state=42)"
      ],
      "execution_count": 55,
      "outputs": []
    },
    {
      "cell_type": "code",
      "metadata": {
        "id": "H6BVC3r4nK6z",
        "colab": {
          "base_uri": "https://localhost:8080/"
        },
        "outputId": "9b06b8e7-a557-4981-e715-9197a7367db0"
      },
      "source": [
        "y_train.shape"
      ],
      "execution_count": 56,
      "outputs": [
        {
          "output_type": "execute_result",
          "data": {
            "text/plain": [
              "(141,)"
            ]
          },
          "metadata": {},
          "execution_count": 56
        }
      ]
    },
    {
      "cell_type": "code",
      "metadata": {
        "id": "NU2ePY1SifCh",
        "colab": {
          "base_uri": "https://localhost:8080/"
        },
        "outputId": "db8cc100-e838-4857-aff6-624bbc83745f"
      },
      "source": [
        "lin_reg = LinearRegression()\n",
        "lin_reg.fit(X_train, y_train)\n",
        "r2=lin_reg.score(X_test, y_test)\n",
        "print('Coeficiente Determinacion :',r2)"
      ],
      "execution_count": 57,
      "outputs": [
        {
          "output_type": "stream",
          "name": "stdout",
          "text": [
            "Coeficiente Determinacion : 0.420975629139719\n"
          ]
        }
      ]
    },
    {
      "cell_type": "code",
      "metadata": {
        "id": "SexjBMX2sx0E",
        "colab": {
          "base_uri": "https://localhost:8080/"
        },
        "outputId": "611510cd-b5c9-4ec3-b9df-c3a1c1b89532"
      },
      "source": [
        "from sklearn.linear_model import Lasso\n",
        "\n",
        "lasso_reg = Lasso(alpha=1.0)\n",
        "lasso_reg.fit(X_train, y_train)\n",
        "r2=lasso_reg.score(X_test, y_test)\n",
        "print('Coeficiente Determinacion :',r2)"
      ],
      "execution_count": 60,
      "outputs": [
        {
          "output_type": "stream",
          "name": "stdout",
          "text": [
            "Coeficiente Determinacion : 0.42291750652090454\n"
          ]
        }
      ]
    },
    {
      "cell_type": "code",
      "metadata": {
        "id": "J7Jlgd5vrIm9",
        "colab": {
          "base_uri": "https://localhost:8080/"
        },
        "outputId": "bb659134-6560-4a85-f430-b346ed5b58db"
      },
      "source": [
        "df_bolivia.columns"
      ],
      "execution_count": 65,
      "outputs": [
        {
          "output_type": "execute_result",
          "data": {
            "text/plain": [
              "Index(['location_key_x', 'new_confirmed', 'new_deceased', 'new_recovered',\n",
              "       'new_tested', 'cumulative_confirmed', 'cumulative_deceased',\n",
              "       'cumulative_recovered', 'cumulative_tested', 'location_key_y',\n",
              "       'new_persons_vaccinated', 'cumulative_persons_vaccinated',\n",
              "       'new_persons_fully_vaccinated', 'cumulative_persons_fully_vaccinated',\n",
              "       'new_vaccine_doses_administered',\n",
              "       'cumulative_vaccine_doses_administered',\n",
              "       'new_persons_vaccinated_pfizer', 'cumulative_persons_vaccinated_pfizer',\n",
              "       'new_persons_fully_vaccinated_pfizer',\n",
              "       'cumulative_persons_fully_vaccinated_pfizer',\n",
              "       'new_vaccine_doses_administered_pfizer',\n",
              "       'cumulative_vaccine_doses_administered_pfizer',\n",
              "       'new_persons_vaccinated_moderna',\n",
              "       'cumulative_persons_vaccinated_moderna',\n",
              "       'new_persons_fully_vaccinated_moderna',\n",
              "       'cumulative_persons_fully_vaccinated_moderna',\n",
              "       'new_vaccine_doses_administered_moderna',\n",
              "       'cumulative_vaccine_doses_administered_moderna',\n",
              "       'new_persons_vaccinated_janssen',\n",
              "       'cumulative_persons_vaccinated_janssen',\n",
              "       'new_persons_fully_vaccinated_janssen',\n",
              "       'cumulative_persons_fully_vaccinated_janssen',\n",
              "       'new_vaccine_doses_administered_janssen',\n",
              "       'cumulative_vaccine_doses_administered_janssen', 'location_key',\n",
              "       'school_closing', 'workplace_closing', 'cancel_public_events',\n",
              "       'restrictions_on_gatherings', 'public_transport_closing',\n",
              "       'stay_at_home_requirements', 'restrictions_on_internal_movement',\n",
              "       'international_travel_controls', 'income_support', 'debt_relief',\n",
              "       'fiscal_measures', 'international_support',\n",
              "       'public_information_campaigns', 'testing_policy', 'contact_tracing',\n",
              "       'emergency_investment_in_healthcare', 'investment_in_vaccines',\n",
              "       'facial_coverings', 'vaccination_policy', 'stringency_index'],\n",
              "      dtype='object')"
            ]
          },
          "metadata": {},
          "execution_count": 65
        }
      ]
    },
    {
      "cell_type": "code",
      "metadata": {
        "id": "R4At3bTGzWaf",
        "outputId": "d2f6e998-9e64-42bb-bc83-397e9426f9f4",
        "colab": {
          "base_uri": "https://localhost:8080/"
        }
      },
      "source": [
        "from sklearn.model_selection import train_test_split\n",
        "from sklearn.tree import DecisionTreeRegressor\n",
        "\n",
        "X=df_bolivia[df_bolivia.columns.difference(['new_confirmed','location_key_x','location_key','location_key_y'])]\n",
        "X.fillna(0,inplace=True)\n",
        "X_train, X_test, y_train, y_test = train_test_split(X,y, test_size=0.2, random_state=42)\n",
        "\n",
        "\n",
        "regr_1 = DecisionTreeRegressor(max_depth=80)\n",
        "\n",
        "regr_1 = regr_1.fit(X_train,y_train)\n"
      ],
      "execution_count": 63,
      "outputs": [
        {
          "output_type": "stream",
          "name": "stderr",
          "text": [
            "/usr/local/lib/python3.7/dist-packages/pandas/core/frame.py:4327: SettingWithCopyWarning: \n",
            "A value is trying to be set on a copy of a slice from a DataFrame\n",
            "\n",
            "See the caveats in the documentation: https://pandas.pydata.org/pandas-docs/stable/user_guide/indexing.html#returning-a-view-versus-a-copy\n",
            "  downcast=downcast,\n"
          ]
        }
      ]
    },
    {
      "cell_type": "code",
      "metadata": {
        "id": "26LDQ5dErrdq",
        "colab": {
          "base_uri": "https://localhost:8080/"
        },
        "outputId": "c8de6199-7949-4d94-ef2c-68af51099ffb"
      },
      "source": [
        "r2=regr_1.score(X_test, y_test)\n",
        "print('Coeficiente Determinacion :',r2)"
      ],
      "execution_count": 64,
      "outputs": [
        {
          "output_type": "stream",
          "name": "stdout",
          "text": [
            "Coeficiente Determinacion : 0.7451244008728082\n"
          ]
        }
      ]
    }
  ]
}