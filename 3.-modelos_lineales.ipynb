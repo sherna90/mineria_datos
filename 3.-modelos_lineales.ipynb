{
  "nbformat": 4,
  "nbformat_minor": 0,
  "metadata": {
    "kernelspec": {
      "display_name": "Python 3",
      "language": "python",
      "name": "python3"
    },
    "language_info": {
      "codemirror_mode": {
        "name": "ipython",
        "version": 3
      },
      "file_extension": ".py",
      "mimetype": "text/x-python",
      "name": "python",
      "nbconvert_exporter": "python",
      "pygments_lexer": "ipython3",
      "version": "3.6.9"
    },
    "colab": {
      "name": "3.-modelos_lineales.ipynb",
      "provenance": []
    }
  },
  "cells": [
    {
      "cell_type": "markdown",
      "metadata": {
        "id": "n9m1eTNuP8hJ"
      },
      "source": [
        "# Modelos lineales y regularizacion"
      ]
    },
    {
      "cell_type": "code",
      "metadata": {
        "id": "5gmbtaA1P8hK"
      },
      "source": [
        "import numpy as np\n",
        "\n",
        "n=100\n",
        "X = 2 * np.random.rand(n, 1)\n",
        "y = 4 + 3 * X + np.random.randn(n, 1)"
      ],
      "execution_count": 1,
      "outputs": []
    },
    {
      "cell_type": "code",
      "metadata": {
        "id": "9Hioht9NP8hQ",
        "colab": {
          "base_uri": "https://localhost:8080/",
          "height": 265
        },
        "outputId": "ddeb99ab-f28a-45a4-ef54-b8351761f321"
      },
      "source": [
        "import matplotlib.pyplot as plt\n",
        "\n",
        "plt.plot(X,y,'b.')\n",
        "plt.axis([0, 2, 0, 15])\n",
        "plt.show()"
      ],
      "execution_count": 2,
      "outputs": [
        {
          "output_type": "display_data",
          "data": {
            "image/png": "[encoded data removed]",
            "text/plain": [
              "<Figure size 432x288 with 1 Axes>"
            ]
          },
          "metadata": {
            "needs_background": "light"
          }
        }
      ]
    },
    {
      "cell_type": "code",
      "metadata": {
        "id": "VAPmUn0_P8hV"
      },
      "source": [
        "X_b = np.c_[np.ones((n, 1)), X] # add x0 = 1 to each instance\n",
        "# w_hat \n",
        "w_hat = np.linalg.inv(X_b.T.dot(X_b)).dot(X_b.T).dot(y)"
      ],
      "execution_count": 3,
      "outputs": []
    },
    {
      "cell_type": "code",
      "metadata": {
        "id": "n1cuoBufW8CP",
        "colab": {
          "base_uri": "https://localhost:8080/"
        },
        "outputId": "dc2f2148-c7e9-48e5-9452-d02b194a72a0"
      },
      "source": [
        "X_b.shape"
      ],
      "execution_count": 4,
      "outputs": [
        {
          "output_type": "execute_result",
          "data": {
            "text/plain": [
              "(100, 2)"
            ]
          },
          "metadata": {},
          "execution_count": 4
        }
      ]
    },
    {
      "cell_type": "code",
      "metadata": {
        "id": "iV_2jhl-P8hZ",
        "colab": {
          "base_uri": "https://localhost:8080/"
        },
        "outputId": "98ce38ad-3900-458f-a752-8e8fff66b9d5"
      },
      "source": [
        "print(w_hat)"
      ],
      "execution_count": 5,
      "outputs": [
        {
          "output_type": "stream",
          "name": "stdout",
          "text": [
            "[[4.04671292]\n",
            " [2.9927079 ]]\n"
          ]
        }
      ]
    },
    {
      "cell_type": "code",
      "metadata": {
        "id": "BLoEl6BtP8hd"
      },
      "source": [
        "X_new = np.array([[0], [2]])\n",
        "X_new_b = np.c_[np.ones((2, 1)), X_new] # add x0 = 1 to each instance\n",
        "y_predict = X_new_b.dot(w_hat)"
      ],
      "execution_count": 6,
      "outputs": []
    },
    {
      "cell_type": "code",
      "metadata": {
        "id": "6mK0UA_GP8hh",
        "colab": {
          "base_uri": "https://localhost:8080/",
          "height": 265
        },
        "outputId": "5df3205f-5ac3-47b8-a62e-ec2faf6ee76f"
      },
      "source": [
        "plt.plot(X_new, y_predict, \"r-\")\n",
        "plt.plot(X, y, \"b.\")\n",
        "plt.axis([0, 2, 0, 15])\n",
        "plt.show()"
      ],
      "execution_count": 7,
      "outputs": [
        {
          "output_type": "display_data",
          "data": {
            "image/png": "[encoded data removed]",
            "text/plain": [
              "<Figure size 432x288 with 1 Axes>"
            ]
          },
          "metadata": {
            "needs_background": "light"
          }
        }
      ]
    },
    {
      "cell_type": "code",
      "metadata": {
        "id": "2ESD2EPCP8hl",
        "colab": {
          "base_uri": "https://localhost:8080/"
        },
        "outputId": "2cffb948-04a9-45b3-b7aa-270ba698a316"
      },
      "source": [
        "from sklearn.linear_model import LinearRegression\n",
        "\n",
        "lin_reg = LinearRegression()\n",
        "lin_reg.fit(X, y)\n",
        "print('Coeficientes Sklearn : ',lin_reg.intercept_, lin_reg.coef_)\n",
        "print('Coeficientes Manual : ',w_hat)"
      ],
      "execution_count": 8,
      "outputs": [
        {
          "output_type": "stream",
          "name": "stdout",
          "text": [
            "Coeficientes Sklearn :  [4.04671292] [[2.9927079]]\n",
            "Coeficientes Manual :  [[4.04671292]\n",
            " [2.9927079 ]]\n"
          ]
        }
      ]
    },
    {
      "cell_type": "markdown",
      "metadata": {
        "id": "7agtsdj1P8hq"
      },
      "source": [
        "# Regularizacion"
      ]
    },
    {
      "cell_type": "code",
      "metadata": {
        "id": "Jkt-6Cj2P8hr"
      },
      "source": [
        "X = 2 * np.random.rand(100, 1)\n",
        "y = 4 + 3 * np.sin(X) + np.random.randn(100, 1)"
      ],
      "execution_count": 9,
      "outputs": []
    },
    {
      "cell_type": "code",
      "metadata": {
        "id": "1fpghK28P8hu",
        "colab": {
          "base_uri": "https://localhost:8080/",
          "height": 265
        },
        "outputId": "43fc2e89-17e5-4b77-9f93-b986e47fade8"
      },
      "source": [
        "import matplotlib.pyplot as plt\n",
        "\n",
        "plt.plot(X,y,'b.')\n",
        "plt.axis([0, 2, 0, 15])\n",
        "plt.show()"
      ],
      "execution_count": 10,
      "outputs": [
        {
          "output_type": "display_data",
          "data": {
            "image/png": "[encoded data removed]",
            "text/plain": [
              "<Figure size 432x288 with 1 Axes>"
            ]
          },
          "metadata": {
            "needs_background": "light"
          }
        }
      ]
    },
    {
      "cell_type": "code",
      "metadata": {
        "id": "hM-I4JzQP8hy"
      },
      "source": [
        "from sklearn.preprocessing import PolynomialFeatures\n",
        "\n",
        "poly=PolynomialFeatures(degree=2,interaction_only=False,include_bias=True)\n",
        "poly.fit(X)\n",
        "X_p=poly.transform(X)"
      ],
      "execution_count": 11,
      "outputs": []
    },
    {
      "cell_type": "code",
      "metadata": {
        "id": "nzfd8RSIP8h2",
        "colab": {
          "base_uri": "https://localhost:8080/"
        },
        "outputId": "262c1b18-b5bd-4790-b853-e5cb946c5fbb"
      },
      "source": [
        "X_p[0]"
      ],
      "execution_count": 12,
      "outputs": [
        {
          "output_type": "execute_result",
          "data": {
            "text/plain": [
              "array([1.        , 1.75705675, 3.08724843])"
            ]
          },
          "metadata": {},
          "execution_count": 12
        }
      ]
    },
    {
      "cell_type": "code",
      "metadata": {
        "id": "w1sHshmnaQtN",
        "colab": {
          "base_uri": "https://localhost:8080/"
        },
        "outputId": "1a07f960-84d3-4984-896d-6358d61364ff"
      },
      "source": [
        "lin_reg = LinearRegression()\n",
        "lin_reg.fit(X, y)\n",
        "r2=lin_reg.score(X, y)\n",
        "print('Coeficiente Determinacion :',r2)\n",
        "print('Coeficientes Sklearn : ',lin_reg.intercept_, lin_reg.coef_)"
      ],
      "execution_count": 14,
      "outputs": [
        {
          "output_type": "stream",
          "name": "stdout",
          "text": [
            "Coeficiente Determinacion : 0.39007262277083776\n",
            "Coeficientes Sklearn :  [4.56530569] [[1.48675753]]\n"
          ]
        }
      ]
    },
    {
      "cell_type": "code",
      "metadata": {
        "id": "0FHDaKWzP8iE",
        "colab": {
          "base_uri": "https://localhost:8080/"
        },
        "outputId": "93a67dd3-6e92-4b36-e430-b4b1feabdd9a"
      },
      "source": [
        "lin_reg = LinearRegression()\n",
        "lin_reg.fit(X_p, y)\n",
        "r2=lin_reg.score(X_p, y)\n",
        "print('Coeficientes Sklearn : ',lin_reg.intercept_, lin_reg.coef_)\n",
        "print('Coeficiente Determinacion :',r2)"
      ],
      "execution_count": 15,
      "outputs": [
        {
          "output_type": "stream",
          "name": "stdout",
          "text": [
            "Coeficientes Sklearn :  [4.02462452] [[ 0.          3.1073279  -0.80935799]]\n",
            "Coeficiente Determinacion : 0.42051678772550866\n"
          ]
        }
      ]
    },
    {
      "cell_type": "code",
      "metadata": {
        "id": "7-MG4QN7P8iI"
      },
      "source": [
        "y_predict=lin_reg.predict(X_p)"
      ],
      "execution_count": 16,
      "outputs": []
    },
    {
      "cell_type": "code",
      "metadata": {
        "id": "gugnbYSTP8iL",
        "colab": {
          "base_uri": "https://localhost:8080/",
          "height": 285
        },
        "outputId": "0ec110c5-1838-4860-9e82-0368516a7e03"
      },
      "source": [
        "plt.plot(X_p[:,1], y_predict, \"r.\")\n",
        "plt.plot(X,y,'b.')\n",
        "plt.title(r'Polinomio : {0}, $R^2$:{1:0.2f}'.format(2,r2))\n",
        "plt.axis([0, 2, 0, 15])\n",
        "plt.show()"
      ],
      "execution_count": 17,
      "outputs": [
        {
          "output_type": "display_data",
          "data": {
            "image/png": "[encoded data removed]",
            "text/plain": [
              "<Figure size 432x288 with 1 Axes>"
            ]
          },
          "metadata": {
            "needs_background": "light"
          }
        }
      ]
    },
    {
      "cell_type": "code",
      "metadata": {
        "id": "EG4RnADVP8iZ",
        "colab": {
          "base_uri": "https://localhost:8080/",
          "height": 307
        },
        "outputId": "6bc31827-455a-47dd-86e1-7d0312bd34c1"
      },
      "source": [
        "K=5\n",
        "poly=PolynomialFeatures(degree=K,interaction_only=False,include_bias=True)\n",
        "poly.fit(X)\n",
        "X_p=poly.transform(X)\n",
        "lin_reg = LinearRegression()\n",
        "lin_reg.fit(X_p, y)\n",
        "r2=lin_reg.score(X_p, y)\n",
        "X_new=np.linspace(-3, 3, 100).reshape(100, 1)\n",
        "X_new_poly = poly.transform(X_new)\n",
        "y_new = lin_reg.predict(X_new_poly)\n",
        "plt.plot(X, y, \"b.\")\n",
        "plt.plot(X_new, y_new, \"r-\", linewidth=2, label=\"Predictions\")\n",
        "plt.xlabel(\"$x_1$\", fontsize=18)\n",
        "plt.ylabel(\"$y$\", rotation=0, fontsize=18)\n",
        "plt.axis([0, 2, 0, 15])\n",
        "plt.title(r'Polinomio : {0}, $R^2$:{1:0.2f}'.format(K,r2))\n",
        "plt.show()"
      ],
      "execution_count": 18,
      "outputs": [
        {
          "output_type": "display_data",
          "data": {
            "image/png": "[encoded data removed]",
            "text/plain": [
              "<Figure size 432x288 with 1 Axes>"
            ]
          },
          "metadata": {
            "needs_background": "light"
          }
        }
      ]
    },
    {
      "cell_type": "code",
      "metadata": {
        "id": "GtNRbIlvP8id",
        "colab": {
          "base_uri": "https://localhost:8080/",
          "height": 307
        },
        "outputId": "0522bc9c-e752-43e7-af07-7e79a0987a5a"
      },
      "source": [
        "K=20\n",
        "poly=PolynomialFeatures(degree=K,interaction_only=False,include_bias=True)\n",
        "poly.fit(X)\n",
        "X_p=poly.transform(X)\n",
        "lin_reg = LinearRegression()\n",
        "lin_reg.fit(X_p, y)\n",
        "r2=lin_reg.score(X_p, y)\n",
        "X_new=np.linspace(-3, 3, 100).reshape(100, 1)\n",
        "X_new_poly = poly.transform(X_new)\n",
        "y_new = lin_reg.predict(X_new_poly)\n",
        "plt.plot(X, y, \"b.\")\n",
        "plt.plot(X_new, y_new, \"r-\", linewidth=2, label=\"Predictions\")\n",
        "plt.xlabel(\"$x_1$\", fontsize=18)\n",
        "plt.ylabel(\"$y$\", rotation=0, fontsize=18)\n",
        "plt.axis([0, 2, 0, 15])\n",
        "plt.title(r'Polinomio : {0}, $R^2$:{1:0.2f}'.format(K,r2))\n",
        "plt.show()"
      ],
      "execution_count": 19,
      "outputs": [
        {
          "output_type": "display_data",
          "data": {
            "image/png": "[encoded data removed]",
            "text/plain": [
              "<Figure size 432x288 with 1 Axes>"
            ]
          },
          "metadata": {
            "needs_background": "light"
          }
        }
      ]
    },
    {
      "cell_type": "code",
      "metadata": {
        "id": "vANlTocnP8ii",
        "colab": {
          "base_uri": "https://localhost:8080/"
        },
        "outputId": "8c15e4c9-69e5-434d-8f1b-f16c8b88841c"
      },
      "source": [
        "print(X_p.shape)"
      ],
      "execution_count": 20,
      "outputs": [
        {
          "output_type": "stream",
          "name": "stdout",
          "text": [
            "(100, 21)\n"
          ]
        }
      ]
    },
    {
      "cell_type": "code",
      "metadata": {
        "id": "s9UKeEHiP8im",
        "colab": {
          "base_uri": "https://localhost:8080/",
          "height": 307
        },
        "outputId": "69eb3873-afe6-493b-9b2c-7e5c0f26bb1b"
      },
      "source": [
        "from sklearn.linear_model import Ridge\n",
        "\n",
        "lamb=0.1\n",
        "K=20\n",
        "\n",
        "poly=PolynomialFeatures(degree=K,interaction_only=False,include_bias=True)\n",
        "poly.fit(X)\n",
        "X_p=poly.transform(X)\n",
        "\n",
        "ridge_reg = Ridge(alpha=lamb, solver=\"cholesky\", random_state=42)\n",
        "ridge_reg.fit(X_p, y)\n",
        "r2=ridge_reg.score(X_p, y)\n",
        "\n",
        "X_new=np.linspace(-3, 3, 100).reshape(100, 1)\n",
        "X_new_poly = poly.transform(X_new)\n",
        "y_new = ridge_reg.predict(X_new_poly)\n",
        "plt.plot(X, y, \"b.\")\n",
        "plt.plot(X_new, y_new, \"r-\", linewidth=2, label=\"Predictions\")\n",
        "plt.xlabel(\"$x_1$\", fontsize=18)\n",
        "plt.ylabel(\"$y$\", rotation=0, fontsize=18)\n",
        "plt.axis([0, 2, 0, 15])\n",
        "plt.title(r'Polinomio : {0}, Ridge $\\lambda$ : {1}, $R^2$:{2:0.2f}'.\n",
        "          format(K,lamb,r2))\n",
        "plt.show()"
      ],
      "execution_count": 21,
      "outputs": [
        {
          "output_type": "display_data",
          "data": {
            "image/png": "[encoded data removed]",
            "text/plain": [
              "<Figure size 432x288 with 1 Axes>"
            ]
          },
          "metadata": {
            "needs_background": "light"
          }
        }
      ]
    },
    {
      "cell_type": "code",
      "metadata": {
        "id": "bwaOKLyAP8iq",
        "colab": {
          "base_uri": "https://localhost:8080/",
          "height": 361
        },
        "outputId": "3224f8e4-b78f-416f-d0f2-8974f27d107a"
      },
      "source": [
        "from sklearn.linear_model import Lasso\n",
        "\n",
        "lamb=0.1\n",
        "K=20\n",
        "\n",
        "poly=PolynomialFeatures(degree=K,interaction_only=False,include_bias=True)\n",
        "poly.fit(X)\n",
        "X_p=poly.transform(X)\n",
        "\n",
        "lasso_reg = Lasso(alpha=0.1)\n",
        "lasso_reg.fit(X_p, y)\n",
        "r2=lasso_reg.score(X_p, y)\n",
        "\n",
        "X_new=np.linspace(-3, 3, 100).reshape(100, 1)\n",
        "X_new_poly = poly.transform(X_new)\n",
        "y_new = lasso_reg.predict(X_new_poly)\n",
        "plt.plot(X, y, \"b.\")\n",
        "plt.plot(X_new, y_new, \"r-\", linewidth=2, label=\"Predictions\")\n",
        "plt.xlabel(\"$x_1$\", fontsize=18)\n",
        "plt.ylabel(\"$y$\", rotation=0, fontsize=18)\n",
        "plt.axis([0, 2, 0, 15])\n",
        "plt.title(r'Polinomio : {0}, Lasso $\\lambda$ : {1}, $R^2$:{2:0.2f}'.\n",
        "          format(K,lamb,r2))\n",
        "plt.show()"
      ],
      "execution_count": 22,
      "outputs": [
        {
          "output_type": "stream",
          "name": "stderr",
          "text": [
            "/usr/local/lib/python3.7/dist-packages/sklearn/linear_model/_coordinate_descent.py:476: ConvergenceWarning: Objective did not converge. You might want to increase the number of iterations. Duality gap: 66.16127105687363, tolerance: 0.01892441780847124\n",
            "  positive)\n"
          ]
        },
        {
          "output_type": "display_data",
          "data": {
            "image/png": "[encoded data removed]",
            "text/plain": [
              "<Figure size 432x288 with 1 Axes>"
            ]
          },
          "metadata": {
            "needs_background": "light"
          }
        }
      ]
    },
    {
      "cell_type": "code",
      "metadata": {
        "id": "tjga_BNUP8it",
        "colab": {
          "base_uri": "https://localhost:8080/",
          "height": 420
        },
        "outputId": "e26a2852-fa10-4bc6-fad0-7bb3b5072138"
      },
      "source": [
        "x = np.arange(len(lasso_reg.coef_))  # the label locations\n",
        "width = 0.5  # the width of the bars\n",
        "fig, ax = plt.subplots(figsize=(15,7))\n",
        "rects1 = ax.bar(x - width/2, lasso_reg.coef_, width, label='Lasso')\n",
        "rects2 = ax.bar(x + width/2, ridge_reg.coef_[0], width, label='Ridge')\n",
        "#rects3 = ax.bar(x + width/2, lin_reg.coef_[0], width, label='Linear')\n",
        "ax.set_ylabel('Coeficientes')\n",
        "ax.set_title('Coeficientes por regularizacion')\n",
        "ax.set_xticks(x)\n",
        "#ax.set_xticklabels(labels)\n",
        "ax.legend()"
      ],
      "execution_count": 23,
      "outputs": [
        {
          "output_type": "execute_result",
          "data": {
            "text/plain": [
              "<matplotlib.legend.Legend at 0x7fb9747499d0>"
            ]
          },
          "metadata": {},
          "execution_count": 23
        },
        {
          "output_type": "display_data",
          "data": {
            "image/png": "[encoded data removed]",
            "text/plain": [
              "<Figure size 1080x504 with 1 Axes>"
            ]
          },
          "metadata": {
            "needs_background": "light"
          }
        }
      ]
    },
    {
      "cell_type": "markdown",
      "metadata": {
        "id": "EP1eQeJeP8iw"
      },
      "source": [
        "# Tarea\n",
        "\n",
        "En este laboratorio Ud debe completar las siguientes tareas:\n",
        "\n",
        "\n",
        "1.   Implementar un modelo base para predecir el total de 'nuevos casos' a partir de las distintas vacunas y las medidas administradas en Chile.\n",
        "2. Reportar la metrica de ajuste del modelo base.\n",
        "3. Reportar la metrica de ajuste del modelo regularizacion.\n"
      ]
    },
    {
      "cell_type": "code",
      "metadata": {
        "id": "7j1A7-VHT-Xb"
      },
      "source": [
        "import pandas as pd\n",
        "\n",
        "data_cases = pd.read_csv(\n",
        "    \"https://storage.googleapis.com/covid19-open-data/v3/epidemiology.csv\",\n",
        "    keep_default_na=False,\n",
        "    na_values=[\"\"],\n",
        ")"
      ],
      "execution_count": 31,
      "outputs": []
    },
    {
      "cell_type": "code",
      "metadata": {
        "id": "ZNOq-3jS9UE0",
        "outputId": "472fa9af-030b-4ea5-a4ed-7985fbfc10b9",
        "colab": {
          "base_uri": "https://localhost:8080/"
        }
      },
      "source": [
        "for i,c in enumerate(data_cases.columns):\n",
        "  print(i,c)"
      ],
      "execution_count": 38,
      "outputs": [
        {
          "output_type": "stream",
          "name": "stdout",
          "text": [
            "0 date\n",
            "1 location_key\n",
            "2 new_confirmed\n",
            "3 new_deceased\n",
            "4 new_recovered\n",
            "5 new_tested\n",
            "6 cumulative_confirmed\n",
            "7 cumulative_deceased\n",
            "8 cumulative_recovered\n",
            "9 cumulative_tested\n"
          ]
        }
      ]
    },
    {
      "cell_type": "code",
      "metadata": {
        "id": "km6bZlgqUBIb"
      },
      "source": [
        "data_vaccines = pd.read_csv(\n",
        "    \"https://storage.googleapis.com/covid19-open-data/v3/vaccinations.csv\",\n",
        "    keep_default_na=False,\n",
        "    na_values=[\"\"],\n",
        ")"
      ],
      "execution_count": 34,
      "outputs": []
    },
    {
      "cell_type": "code",
      "metadata": {
        "id": "otjWTNzK_VTn",
        "outputId": "8b0d60a1-dd2c-4ace-ea26-f58bcb1aa448",
        "colab": {
          "base_uri": "https://localhost:8080/"
        }
      },
      "source": [
        "for i,c in enumerate(data_vaccines.columns):\n",
        "  print(i,c)"
      ],
      "execution_count": 37,
      "outputs": [
        {
          "output_type": "stream",
          "name": "stdout",
          "text": [
            "0 date\n",
            "1 location_key\n",
            "2 new_persons_vaccinated\n",
            "3 cumulative_persons_vaccinated\n",
            "4 new_persons_fully_vaccinated\n",
            "5 cumulative_persons_fully_vaccinated\n",
            "6 new_vaccine_doses_administered\n",
            "7 cumulative_vaccine_doses_administered\n",
            "8 new_persons_vaccinated_pfizer\n",
            "9 cumulative_persons_vaccinated_pfizer\n",
            "10 new_persons_fully_vaccinated_pfizer\n",
            "11 cumulative_persons_fully_vaccinated_pfizer\n",
            "12 new_vaccine_doses_administered_pfizer\n",
            "13 cumulative_vaccine_doses_administered_pfizer\n",
            "14 new_persons_vaccinated_moderna\n",
            "15 cumulative_persons_vaccinated_moderna\n",
            "16 new_persons_fully_vaccinated_moderna\n",
            "17 cumulative_persons_fully_vaccinated_moderna\n",
            "18 new_vaccine_doses_administered_moderna\n",
            "19 cumulative_vaccine_doses_administered_moderna\n",
            "20 new_persons_vaccinated_janssen\n",
            "21 cumulative_persons_vaccinated_janssen\n",
            "22 new_persons_fully_vaccinated_janssen\n",
            "23 cumulative_persons_fully_vaccinated_janssen\n",
            "24 new_vaccine_doses_administered_janssen\n",
            "25 cumulative_vaccine_doses_administered_janssen\n"
          ]
        }
      ]
    },
    {
      "cell_type": "code",
      "metadata": {
        "id": "ayf8rPpYCTK0"
      },
      "source": [
        "data_response = pd.read_csv(\n",
        "    \"https://storage.googleapis.com/covid19-open-data/v3/oxford-government-response.csv\",\n",
        "    keep_default_na=False,\n",
        "    na_values=[\"\"],\n",
        ")"
      ],
      "execution_count": 48,
      "outputs": []
    },
    {
      "cell_type": "code",
      "metadata": {
        "id": "MgTe8We4A3pC",
        "outputId": "d39c78f2-249d-4190-9909-59a75610bd56",
        "colab": {
          "base_uri": "https://localhost:8080/",
          "height": 309
        }
      },
      "source": [
        "data_cases.loc[data_cases.location_key=='CL'].tail(5)"
      ],
      "execution_count": 46,
      "outputs": [
        {
          "output_type": "execute_result",
          "data": {
            "text/html": [
              "<div>\n",
              "<style scoped>\n",
              "    .dataframe tbody tr th:only-of-type {\n",
              "        vertical-align: middle;\n",
              "    }\n",
              "\n",
              "    .dataframe tbody tr th {\n",
              "        vertical-align: top;\n",
              "    }\n",
              "\n",
              "    .dataframe thead th {\n",
              "        text-align: right;\n",
              "    }\n",
              "</style>\n",
              "<table border=\"1\" class=\"dataframe\">\n",
              "  <thead>\n",
              "    <tr style=\"text-align: right;\">\n",
              "      <th></th>\n",
              "      <th>date</th>\n",
              "      <th>location_key</th>\n",
              "      <th>new_confirmed</th>\n",
              "      <th>new_deceased</th>\n",
              "      <th>new_recovered</th>\n",
              "      <th>new_tested</th>\n",
              "      <th>cumulative_confirmed</th>\n",
              "      <th>cumulative_deceased</th>\n",
              "      <th>cumulative_recovered</th>\n",
              "      <th>cumulative_tested</th>\n",
              "    </tr>\n",
              "  </thead>\n",
              "  <tbody>\n",
              "    <tr>\n",
              "      <th>3532184</th>\n",
              "      <td>2021-09-17</td>\n",
              "      <td>CL</td>\n",
              "      <td>594.0</td>\n",
              "      <td>25.0</td>\n",
              "      <td>0.0</td>\n",
              "      <td>53970.0</td>\n",
              "      <td>1614942.0</td>\n",
              "      <td>37318.0</td>\n",
              "      <td>NaN</td>\n",
              "      <td>0.0</td>\n",
              "    </tr>\n",
              "    <tr>\n",
              "      <th>3532185</th>\n",
              "      <td>2021-09-18</td>\n",
              "      <td>CL</td>\n",
              "      <td>610.0</td>\n",
              "      <td>21.0</td>\n",
              "      <td>0.0</td>\n",
              "      <td>37404.0</td>\n",
              "      <td>1615552.0</td>\n",
              "      <td>37339.0</td>\n",
              "      <td>NaN</td>\n",
              "      <td>0.0</td>\n",
              "    </tr>\n",
              "    <tr>\n",
              "      <th>3532186</th>\n",
              "      <td>2021-09-19</td>\n",
              "      <td>CL</td>\n",
              "      <td>491.0</td>\n",
              "      <td>20.0</td>\n",
              "      <td>0.0</td>\n",
              "      <td>22863.0</td>\n",
              "      <td>1616043.0</td>\n",
              "      <td>37359.0</td>\n",
              "      <td>NaN</td>\n",
              "      <td>0.0</td>\n",
              "    </tr>\n",
              "    <tr>\n",
              "      <th>3532187</th>\n",
              "      <td>2021-09-20</td>\n",
              "      <td>CL</td>\n",
              "      <td>280.0</td>\n",
              "      <td>8.0</td>\n",
              "      <td>0.0</td>\n",
              "      <td>NaN</td>\n",
              "      <td>1616323.0</td>\n",
              "      <td>37367.0</td>\n",
              "      <td>NaN</td>\n",
              "      <td>0.0</td>\n",
              "    </tr>\n",
              "    <tr>\n",
              "      <th>3532188</th>\n",
              "      <td>2021-09-21</td>\n",
              "      <td>CL</td>\n",
              "      <td>291.0</td>\n",
              "      <td>7.0</td>\n",
              "      <td>0.0</td>\n",
              "      <td>NaN</td>\n",
              "      <td>1616614.0</td>\n",
              "      <td>37374.0</td>\n",
              "      <td>NaN</td>\n",
              "      <td>0.0</td>\n",
              "    </tr>\n",
              "  </tbody>\n",
              "</table>\n",
              "</div>"
            ],
            "text/plain": [
              "               date location_key  ...  cumulative_recovered  cumulative_tested\n",
              "3532184  2021-09-17           CL  ...                   NaN                0.0\n",
              "3532185  2021-09-18           CL  ...                   NaN                0.0\n",
              "3532186  2021-09-19           CL  ...                   NaN                0.0\n",
              "3532187  2021-09-20           CL  ...                   NaN                0.0\n",
              "3532188  2021-09-21           CL  ...                   NaN                0.0\n",
              "\n",
              "[5 rows x 10 columns]"
            ]
          },
          "metadata": {},
          "execution_count": 46
        }
      ]
    },
    {
      "cell_type": "code",
      "metadata": {
        "id": "cr9OYq64BRXE",
        "outputId": "9920f1fd-8ba5-401d-a4b5-6c680accae66",
        "colab": {
          "base_uri": "https://localhost:8080/",
          "height": 309
        }
      },
      "source": [
        "data_vaccines.loc[data_vaccines.location_key=='CL'].tail(5)"
      ],
      "execution_count": 47,
      "outputs": [
        {
          "output_type": "execute_result",
          "data": {
            "text/html": [
              "<div>\n",
              "<style scoped>\n",
              "    .dataframe tbody tr th:only-of-type {\n",
              "        vertical-align: middle;\n",
              "    }\n",
              "\n",
              "    .dataframe tbody tr th {\n",
              "        vertical-align: top;\n",
              "    }\n",
              "\n",
              "    .dataframe thead th {\n",
              "        text-align: right;\n",
              "    }\n",
              "</style>\n",
              "<table border=\"1\" class=\"dataframe\">\n",
              "  <thead>\n",
              "    <tr style=\"text-align: right;\">\n",
              "      <th></th>\n",
              "      <th>date</th>\n",
              "      <th>location_key</th>\n",
              "      <th>new_persons_vaccinated</th>\n",
              "      <th>cumulative_persons_vaccinated</th>\n",
              "      <th>new_persons_fully_vaccinated</th>\n",
              "      <th>cumulative_persons_fully_vaccinated</th>\n",
              "      <th>new_vaccine_doses_administered</th>\n",
              "      <th>cumulative_vaccine_doses_administered</th>\n",
              "      <th>new_persons_vaccinated_pfizer</th>\n",
              "      <th>cumulative_persons_vaccinated_pfizer</th>\n",
              "      <th>new_persons_fully_vaccinated_pfizer</th>\n",
              "      <th>cumulative_persons_fully_vaccinated_pfizer</th>\n",
              "      <th>new_vaccine_doses_administered_pfizer</th>\n",
              "      <th>cumulative_vaccine_doses_administered_pfizer</th>\n",
              "      <th>new_persons_vaccinated_moderna</th>\n",
              "      <th>cumulative_persons_vaccinated_moderna</th>\n",
              "      <th>new_persons_fully_vaccinated_moderna</th>\n",
              "      <th>cumulative_persons_fully_vaccinated_moderna</th>\n",
              "      <th>new_vaccine_doses_administered_moderna</th>\n",
              "      <th>cumulative_vaccine_doses_administered_moderna</th>\n",
              "      <th>new_persons_vaccinated_janssen</th>\n",
              "      <th>cumulative_persons_vaccinated_janssen</th>\n",
              "      <th>new_persons_fully_vaccinated_janssen</th>\n",
              "      <th>cumulative_persons_fully_vaccinated_janssen</th>\n",
              "      <th>new_vaccine_doses_administered_janssen</th>\n",
              "      <th>cumulative_vaccine_doses_administered_janssen</th>\n",
              "    </tr>\n",
              "  </thead>\n",
              "  <tbody>\n",
              "    <tr>\n",
              "      <th>163510</th>\n",
              "      <td>2021-09-15</td>\n",
              "      <td>CL</td>\n",
              "      <td>55758.0</td>\n",
              "      <td>14649864.0</td>\n",
              "      <td>16078.0</td>\n",
              "      <td>14000673.0</td>\n",
              "      <td>139851.0</td>\n",
              "      <td>30719973.0</td>\n",
              "      <td>NaN</td>\n",
              "      <td>NaN</td>\n",
              "      <td>NaN</td>\n",
              "      <td>NaN</td>\n",
              "      <td>NaN</td>\n",
              "      <td>NaN</td>\n",
              "      <td>NaN</td>\n",
              "      <td>NaN</td>\n",
              "      <td>NaN</td>\n",
              "      <td>NaN</td>\n",
              "      <td>NaN</td>\n",
              "      <td>NaN</td>\n",
              "      <td>NaN</td>\n",
              "      <td>NaN</td>\n",
              "      <td>NaN</td>\n",
              "      <td>NaN</td>\n",
              "      <td>NaN</td>\n",
              "      <td>NaN</td>\n",
              "    </tr>\n",
              "    <tr>\n",
              "      <th>163511</th>\n",
              "      <td>2021-09-16</td>\n",
              "      <td>CL</td>\n",
              "      <td>27281.0</td>\n",
              "      <td>14677145.0</td>\n",
              "      <td>8354.0</td>\n",
              "      <td>14009027.0</td>\n",
              "      <td>65671.0</td>\n",
              "      <td>30785644.0</td>\n",
              "      <td>NaN</td>\n",
              "      <td>NaN</td>\n",
              "      <td>NaN</td>\n",
              "      <td>NaN</td>\n",
              "      <td>NaN</td>\n",
              "      <td>NaN</td>\n",
              "      <td>NaN</td>\n",
              "      <td>NaN</td>\n",
              "      <td>NaN</td>\n",
              "      <td>NaN</td>\n",
              "      <td>NaN</td>\n",
              "      <td>NaN</td>\n",
              "      <td>NaN</td>\n",
              "      <td>NaN</td>\n",
              "      <td>NaN</td>\n",
              "      <td>NaN</td>\n",
              "      <td>NaN</td>\n",
              "      <td>NaN</td>\n",
              "    </tr>\n",
              "    <tr>\n",
              "      <th>163512</th>\n",
              "      <td>2021-09-17</td>\n",
              "      <td>CL</td>\n",
              "      <td>31.0</td>\n",
              "      <td>14677176.0</td>\n",
              "      <td>32.0</td>\n",
              "      <td>14009059.0</td>\n",
              "      <td>108.0</td>\n",
              "      <td>30785752.0</td>\n",
              "      <td>NaN</td>\n",
              "      <td>NaN</td>\n",
              "      <td>NaN</td>\n",
              "      <td>NaN</td>\n",
              "      <td>NaN</td>\n",
              "      <td>NaN</td>\n",
              "      <td>NaN</td>\n",
              "      <td>NaN</td>\n",
              "      <td>NaN</td>\n",
              "      <td>NaN</td>\n",
              "      <td>NaN</td>\n",
              "      <td>NaN</td>\n",
              "      <td>NaN</td>\n",
              "      <td>NaN</td>\n",
              "      <td>NaN</td>\n",
              "      <td>NaN</td>\n",
              "      <td>NaN</td>\n",
              "      <td>NaN</td>\n",
              "    </tr>\n",
              "    <tr>\n",
              "      <th>163513</th>\n",
              "      <td>2021-09-18</td>\n",
              "      <td>CL</td>\n",
              "      <td>12.0</td>\n",
              "      <td>14677188.0</td>\n",
              "      <td>14.0</td>\n",
              "      <td>14009073.0</td>\n",
              "      <td>16.0</td>\n",
              "      <td>30785768.0</td>\n",
              "      <td>NaN</td>\n",
              "      <td>NaN</td>\n",
              "      <td>NaN</td>\n",
              "      <td>NaN</td>\n",
              "      <td>NaN</td>\n",
              "      <td>NaN</td>\n",
              "      <td>NaN</td>\n",
              "      <td>NaN</td>\n",
              "      <td>NaN</td>\n",
              "      <td>NaN</td>\n",
              "      <td>NaN</td>\n",
              "      <td>NaN</td>\n",
              "      <td>NaN</td>\n",
              "      <td>NaN</td>\n",
              "      <td>NaN</td>\n",
              "      <td>NaN</td>\n",
              "      <td>NaN</td>\n",
              "      <td>NaN</td>\n",
              "    </tr>\n",
              "    <tr>\n",
              "      <th>163514</th>\n",
              "      <td>2021-09-19</td>\n",
              "      <td>CL</td>\n",
              "      <td>0.0</td>\n",
              "      <td>14677188.0</td>\n",
              "      <td>1.0</td>\n",
              "      <td>14009074.0</td>\n",
              "      <td>1.0</td>\n",
              "      <td>30785769.0</td>\n",
              "      <td>NaN</td>\n",
              "      <td>NaN</td>\n",
              "      <td>NaN</td>\n",
              "      <td>NaN</td>\n",
              "      <td>NaN</td>\n",
              "      <td>NaN</td>\n",
              "      <td>NaN</td>\n",
              "      <td>NaN</td>\n",
              "      <td>NaN</td>\n",
              "      <td>NaN</td>\n",
              "      <td>NaN</td>\n",
              "      <td>NaN</td>\n",
              "      <td>NaN</td>\n",
              "      <td>NaN</td>\n",
              "      <td>NaN</td>\n",
              "      <td>NaN</td>\n",
              "      <td>NaN</td>\n",
              "      <td>NaN</td>\n",
              "    </tr>\n",
              "  </tbody>\n",
              "</table>\n",
              "</div>"
            ],
            "text/plain": [
              "              date  ... cumulative_vaccine_doses_administered_janssen\n",
              "163510  2021-09-15  ...                                           NaN\n",
              "163511  2021-09-16  ...                                           NaN\n",
              "163512  2021-09-17  ...                                           NaN\n",
              "163513  2021-09-18  ...                                           NaN\n",
              "163514  2021-09-19  ...                                           NaN\n",
              "\n",
              "[5 rows x 26 columns]"
            ]
          },
          "metadata": {},
          "execution_count": 47
        }
      ]
    }
  ]
}