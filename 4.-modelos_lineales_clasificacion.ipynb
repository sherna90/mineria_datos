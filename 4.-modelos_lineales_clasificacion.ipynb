{
  "nbformat": 4,
  "nbformat_minor": 0,
  "metadata": {
    "kernelspec": {
      "display_name": "Python 3",
      "language": "python",
      "name": "python3"
    },
    "language_info": {
      "codemirror_mode": {
        "name": "ipython",
        "version": 3
      },
      "file_extension": ".py",
      "mimetype": "text/x-python",
      "name": "python",
      "nbconvert_exporter": "python",
      "pygments_lexer": "ipython3",
      "version": "3.6.9"
    },
    "colab": {
      "name": "4.-modelos_lineales_clasificacion.ipynb",
      "provenance": []
    }
  },
  "cells": [
    {
      "cell_type": "markdown",
      "metadata": {
        "id": "C5_wJCVWCk66",
        "colab_type": "text"
      },
      "source": [
        "# modelos lineales clasificacion"
      ]
    },
    {
      "cell_type": "code",
      "metadata": {
        "id": "n0AOFUagCk67",
        "colab_type": "code",
        "colab": {}
      },
      "source": [
        "# Import data and modules\n",
        "import numpy as np\n",
        "from sklearn import datasets\n",
        "from sklearn import preprocessing\n",
        "\n",
        "iris = datasets.load_iris()\n",
        "\n",
        "X = iris.data[:, [2, 3]]\n",
        "y = iris.target\n",
        "\n",
        "scaler = preprocessing.StandardScaler().fit(X)\n",
        "X_norm = scaler.transform(X)"
      ],
      "execution_count": 3,
      "outputs": []
    },
    {
      "cell_type": "code",
      "metadata": {
        "id": "vMu88lBVQ2ve",
        "colab_type": "code",
        "colab": {
          "base_uri": "https://localhost:8080/",
          "height": 143
        },
        "outputId": "7a2eaccf-f159-497e-9ed9-164e9d92cb4b"
      },
      "source": [
        "iris.target"
      ],
      "execution_count": 7,
      "outputs": [
        {
          "output_type": "execute_result",
          "data": {
            "text/plain": [
              "array([0, 0, 0, 0, 0, 0, 0, 0, 0, 0, 0, 0, 0, 0, 0, 0, 0, 0, 0, 0, 0, 0,\n",
              "       0, 0, 0, 0, 0, 0, 0, 0, 0, 0, 0, 0, 0, 0, 0, 0, 0, 0, 0, 0, 0, 0,\n",
              "       0, 0, 0, 0, 0, 0, 1, 1, 1, 1, 1, 1, 1, 1, 1, 1, 1, 1, 1, 1, 1, 1,\n",
              "       1, 1, 1, 1, 1, 1, 1, 1, 1, 1, 1, 1, 1, 1, 1, 1, 1, 1, 1, 1, 1, 1,\n",
              "       1, 1, 1, 1, 1, 1, 1, 1, 1, 1, 1, 1, 2, 2, 2, 2, 2, 2, 2, 2, 2, 2,\n",
              "       2, 2, 2, 2, 2, 2, 2, 2, 2, 2, 2, 2, 2, 2, 2, 2, 2, 2, 2, 2, 2, 2,\n",
              "       2, 2, 2, 2, 2, 2, 2, 2, 2, 2, 2, 2, 2, 2, 2, 2, 2, 2])"
            ]
          },
          "metadata": {
            "tags": []
          },
          "execution_count": 7
        }
      ]
    },
    {
      "cell_type": "code",
      "metadata": {
        "id": "pC2mpohYCk7A",
        "colab_type": "code",
        "colab": {}
      },
      "source": [
        "from sklearn.model_selection import train_test_split\n",
        "\n",
        "X_train, X_test, y_train, y_test = train_test_split(X, y, test_size=0.3, random_state=0)"
      ],
      "execution_count": 8,
      "outputs": []
    },
    {
      "cell_type": "code",
      "metadata": {
        "id": "v-5uB12zCk7F",
        "colab_type": "code",
        "colab": {
          "base_uri": "https://localhost:8080/",
          "height": 35
        },
        "outputId": "d49cddda-fd2a-4d47-d633-ef2a822be789"
      },
      "source": [
        "print('Existen {} muestras en el conjunto de entrenamiento y {} muestras en el conjunto de test'.format(\n",
        "X_train.shape[0], X_test.shape[0]))"
      ],
      "execution_count": 9,
      "outputs": [
        {
          "output_type": "stream",
          "text": [
            "Existen 105 muestras en el conjunto de entrenamiento y 45 muestras en el conjunto de test\n"
          ],
          "name": "stdout"
        }
      ]
    },
    {
      "cell_type": "code",
      "metadata": {
        "id": "AhD8_Qn4Ck7K",
        "colab_type": "code",
        "colab": {
          "base_uri": "https://localhost:8080/",
          "height": 71
        },
        "outputId": "7d1fc4a3-226d-4fd0-8b46-12e91ed27380"
      },
      "source": [
        "for z in {c:np.sum(y_train==c) for c in np.unique(y_train)}.items():\n",
        "    print('Existen {} muestras de la clase {}'.format(z[1],z[0]))"
      ],
      "execution_count": 10,
      "outputs": [
        {
          "output_type": "stream",
          "text": [
            "Existen 34 muestras de la clase 0\n",
            "Existen 32 muestras de la clase 1\n",
            "Existen 39 muestras de la clase 2\n"
          ],
          "name": "stdout"
        }
      ]
    },
    {
      "cell_type": "code",
      "metadata": {
        "id": "BtvupInWSIib",
        "colab_type": "code",
        "colab": {
          "base_uri": "https://localhost:8080/",
          "height": 71
        },
        "outputId": "5f864bbb-3926-41b7-a4b5-e94f0a77ceb4"
      },
      "source": [
        "for z in {c:np.sum(y_test==c) for c in np.unique(y_test)}.items():\n",
        "    print('En test, existen {} muestras de la clase {}'.format(z[1],z[0]))"
      ],
      "execution_count": 12,
      "outputs": [
        {
          "output_type": "stream",
          "text": [
            "En test, existen 16 muestras de la clase 0\n",
            "En test, existen 18 muestras de la clase 1\n",
            "En test, existen 11 muestras de la clase 2\n"
          ],
          "name": "stdout"
        }
      ]
    },
    {
      "cell_type": "code",
      "metadata": {
        "id": "kBizEBaoCk7O",
        "colab_type": "code",
        "colab": {
          "base_uri": "https://localhost:8080/",
          "height": 320
        },
        "outputId": "a220bf70-6248-4c35-f306-86f9dd79055c"
      },
      "source": [
        "from matplotlib.colors import ListedColormap\n",
        "import matplotlib.pyplot as plt\n",
        "\n",
        "def plot_decision_boundary(clf):\n",
        "    # create a mesh to plot in\n",
        "    h = .02  # step size in the mesh\n",
        "    x_min, x_max = X_test[:, 0].min() , X_test[:, 0].max()\n",
        "    y_min, y_max = X_test[:, 1].min() , X_test[:, 1].max()\n",
        "    xx, yy = np.meshgrid(np.arange(x_min, x_max, h),np.arange(y_min, y_max, h))\n",
        "\n",
        "    # Plot also the training points\n",
        "    markers = ('s', 'x', 'o')\n",
        "    colors = ('red', 'blue', 'lightgreen')\n",
        "    for idx, cl in enumerate(np.unique(y_test)):\n",
        "        plt.scatter(x=X_test[y_test == cl, 0], y=X_test[y_test == cl, 1],\n",
        "                    marker=markers[idx], label=cl,color=colors[idx])\n",
        "\n",
        "        # Plot the three one-against-all classifiers\n",
        "    xmin, xmax = plt.xlim()\n",
        "    ymin, ymax = plt.ylim()\n",
        "    coef = clf.coef_\n",
        "    intercept = clf.intercept_\n",
        "\n",
        "    def plot_hyperplane(c, color):\n",
        "        def line(x0):\n",
        "            return (-(x0 * coef[c, 0]) - intercept[c]) / coef[c, 1]\n",
        "        plt.plot([xmin, xmax], [line(xmin), line(xmax)],ls=\"--\", color=color)\n",
        "\n",
        "    for i, color in zip(clf.classes_, colors):\n",
        "        plot_hyperplane(i, color)\n",
        "        \n",
        "markers = ('s', 'x', 'o')\n",
        "colors = ('red', 'blue', 'lightgreen')\n",
        "plt.figure(figsize=(7,5))\n",
        "for idx, cl in enumerate(np.unique(y_train)):\n",
        "    plt.scatter(x=X_train[y_train == cl, 0], y=X_train[y_train == cl, 1], marker=markers[idx], label=cl,color=colors[idx])"
      ],
      "execution_count": 13,
      "outputs": [
        {
          "output_type": "display_data",
          "data": {
            "image/png": "[encoded data removed]",
            "text/plain": [
              "<Figure size 504x360 with 1 Axes>"
            ]
          },
          "metadata": {
            "tags": [],
            "needs_background": "light"
          }
        }
      ]
    },
    {
      "cell_type": "markdown",
      "metadata": {
        "id": "W2ra78VkCk7S",
        "colab_type": "text"
      },
      "source": [
        "Ahora ajustamos un modelo lineal de clasificacion con regularizacion (c es el inverso del parametro de regularizacion)"
      ]
    },
    {
      "cell_type": "code",
      "metadata": {
        "id": "AgtKj8u1Ck7T",
        "colab_type": "code",
        "colab": {
          "base_uri": "https://localhost:8080/",
          "height": 428
        },
        "outputId": "611a4ab3-0e16-407f-e28c-6d5bfd31236f"
      },
      "source": [
        "from sklearn.linear_model import LogisticRegression\n",
        "from sklearn.metrics import confusion_matrix,plot_confusion_matrix,roc_auc_score\n",
        "    \n",
        "clf_l2 = LogisticRegression(penalty='none',multi_class='multinomial').fit(X_train, y_train)\n",
        "\n",
        "fig, (ax1, ax2) = plt.subplots(1, 2,figsize=(15,7))\n",
        "plot_confusion_matrix(clf_l2, X_test, y_test,cmap=plt.cm.Blues,ax=ax1)\n",
        "plot_decision_boundary(clf_l2)"
      ],
      "execution_count": 40,
      "outputs": [
        {
          "output_type": "display_data",
          "data": {
            "image/png": "[encoded data removed]",
            "text/plain": [
              "<Figure size 1080x504 with 3 Axes>"
            ]
          },
          "metadata": {
            "tags": [],
            "needs_background": "light"
          }
        }
      ]
    },
    {
      "cell_type": "code",
      "metadata": {
        "id": "Mmxx1wOSCk7X",
        "colab_type": "code",
        "colab": {
          "base_uri": "https://localhost:8080/",
          "height": 432
        },
        "outputId": "bde62374-387f-4217-fd5f-62d67410dcef"
      },
      "source": [
        "from sklearn.linear_model import SGDClassifier\n",
        "\n",
        "clf_sgd = SGDClassifier(loss=\"log\", alpha=0.0001,penalty='l2',\n",
        "                        max_iter=1e5,learning_rate='optimal',eta0=1e-5).fit(X_train, y_train)\n",
        "\n",
        "fig, (ax1, ax2) = plt.subplots(1, 2,figsize=(15,7))\n",
        "plot_confusion_matrix(clf_sgd, X_test, y_test,cmap=plt.cm.Blues,ax=ax1)\n",
        "plot_decision_boundary(clf_sgd)"
      ],
      "execution_count": 35,
      "outputs": [
        {
          "output_type": "display_data",
          "data": {
            "image/png": "[encoded data removed]",
            "text/plain": [
              "<Figure size 1080x504 with 3 Axes>"
            ]
          },
          "metadata": {
            "tags": [],
            "needs_background": "light"
          }
        }
      ]
    },
    {
      "cell_type": "code",
      "metadata": {
        "id": "leejlYw4Ck7b",
        "colab_type": "code",
        "colab": {
          "base_uri": "https://localhost:8080/",
          "height": 215
        },
        "outputId": "f0a20502-cbdf-4b41-8ad6-05722875932d"
      },
      "source": [
        "from sklearn.metrics import classification_report\n",
        "\n",
        "y_pred=clf_sgd.predict_proba(X_test)\n",
        "\n",
        "print(classification_report(y_test, y_pred.argmax(axis=1)))\n",
        "\n",
        "print('SGD AUC score :',roc_auc_score(y_test, y_pred,multi_class='ovr'))"
      ],
      "execution_count": 38,
      "outputs": [
        {
          "output_type": "stream",
          "text": [
            "              precision    recall  f1-score   support\n",
            "\n",
            "           0       1.00      0.94      0.97        16\n",
            "           1       0.75      1.00      0.86        18\n",
            "           2       1.00      0.55      0.71        11\n",
            "\n",
            "    accuracy                           0.87        45\n",
            "   macro avg       0.92      0.83      0.84        45\n",
            "weighted avg       0.90      0.87      0.86        45\n",
            "\n",
            "SGD AUC score : 0.9840195711655406\n"
          ],
          "name": "stdout"
        }
      ]
    },
    {
      "cell_type": "code",
      "metadata": {
        "id": "-thy0I8xCk7f",
        "colab_type": "code",
        "colab": {
          "base_uri": "https://localhost:8080/",
          "height": 215
        },
        "outputId": "e81edb1f-34b8-4a0f-ffde-f661c0f4fbf7"
      },
      "source": [
        "y_pred=clf_l2.predict_proba(X_test)\n",
        "\n",
        "print(classification_report(y_test, y_pred.argmax(axis=1)))\n",
        "\n",
        "print('L2 AUC score :',roc_auc_score(y_test, y_pred,multi_class='ovr'))"
      ],
      "execution_count": 41,
      "outputs": [
        {
          "output_type": "stream",
          "text": [
            "              precision    recall  f1-score   support\n",
            "\n",
            "           0       1.00      1.00      1.00        16\n",
            "           1       1.00      0.94      0.97        18\n",
            "           2       0.92      1.00      0.96        11\n",
            "\n",
            "    accuracy                           0.98        45\n",
            "   macro avg       0.97      0.98      0.98        45\n",
            "weighted avg       0.98      0.98      0.98        45\n",
            "\n",
            "L2 AUC score : 1.0\n"
          ],
          "name": "stdout"
        }
      ]
    },
    {
      "cell_type": "markdown",
      "metadata": {
        "id": "cTJVX797Ck7j",
        "colab_type": "text"
      },
      "source": [
        "# Tarea\n",
        "\n",
        "En este laboratorio Ud debe completar las siguientes tareas:\n",
        "\n",
        "\n",
        "1.   Implementar un modelo base para predecir la supervivencia de un paciente infectado con COVID usando datos epidemiologicos (Datos obtenidos desde [1]).\n",
        "2. Reportar la metrica de ajuste del modelo base.\n",
        "3. Reportar la metrica de ajuste del modelo usando feature engineering y regularizacion.\n",
        "\n",
        "[1] https://www.ncbi.nlm.nih.gov/pmc/articles/PMC7306186/#!po=54.1667"
      ]
    },
    {
      "cell_type": "code",
      "metadata": {
        "id": "lBKc2ohTCk7k",
        "colab_type": "code",
        "colab": {}
      },
      "source": [
        "import pandas as pd\n",
        "\n",
        "patient_info=pd.read_csv('https://storage.googleapis.com/kagglesdsdata/datasets%2F527325%2F1332417%2FPatientInfo.csv?GoogleAccessId=gcp-kaggle-com@kaggle-161607.iam.gserviceaccount.com&Expires=1595898029&Signature=m%2FgJKDnFGUf718wQ6FBlMnq5GymivD3McWahAjxCwKsNyDn4cklQkd7EnDu5Qb8fGbJIiqSrW5rv3Szpn6JWqTg5zvhpadc9Zn2QkHT8UKTje%2BvVYXOHiAPWG0JPz3dvOnmv4BphgHujr34EHp16%2Fu8b%2Fx7k1CnXghbgUtMW9Afrako6aaKLHGjlZtDJJ5FTzblxFDBhM2FHpiFDE%2Fzd5OkD1vcSPkPGyLL2yDqxsvp0gAfz0w3F6ry%2Fde3weXHPl9th8aXjSCSnkIYrNuyllZAMx14aUoa1QkY7QIRQH%2Fn%2FiSG6qCbyZCWfeUlRA6z%2F8unp9444sN6UdVeskSAkig%3D%3D')"
      ],
      "execution_count": 52,
      "outputs": []
    },
    {
      "cell_type": "code",
      "metadata": {
        "id": "ygcvGkunCk7n",
        "colab_type": "code",
        "colab": {
          "base_uri": "https://localhost:8080/",
          "height": 291
        },
        "outputId": "a952145b-cedc-4c70-b852-4289c68c7aaf"
      },
      "source": [
        "patient_info.head()\n"
      ],
      "execution_count": 53,
      "outputs": [
        {
          "output_type": "execute_result",
          "data": {
            "text/html": [
              "<div>\n",
              "<style scoped>\n",
              "    .dataframe tbody tr th:only-of-type {\n",
              "        vertical-align: middle;\n",
              "    }\n",
              "\n",
              "    .dataframe tbody tr th {\n",
              "        vertical-align: top;\n",
              "    }\n",
              "\n",
              "    .dataframe thead th {\n",
              "        text-align: right;\n",
              "    }\n",
              "</style>\n",
              "<table border=\"1\" class=\"dataframe\">\n",
              "  <thead>\n",
              "    <tr style=\"text-align: right;\">\n",
              "      <th></th>\n",
              "      <th>patient_id</th>\n",
              "      <th>sex</th>\n",
              "      <th>age</th>\n",
              "      <th>country</th>\n",
              "      <th>province</th>\n",
              "      <th>city</th>\n",
              "      <th>infection_case</th>\n",
              "      <th>infected_by</th>\n",
              "      <th>contact_number</th>\n",
              "      <th>symptom_onset_date</th>\n",
              "      <th>confirmed_date</th>\n",
              "      <th>released_date</th>\n",
              "      <th>deceased_date</th>\n",
              "      <th>state</th>\n",
              "    </tr>\n",
              "  </thead>\n",
              "  <tbody>\n",
              "    <tr>\n",
              "      <th>0</th>\n",
              "      <td>1000000001</td>\n",
              "      <td>male</td>\n",
              "      <td>50s</td>\n",
              "      <td>Korea</td>\n",
              "      <td>Seoul</td>\n",
              "      <td>Gangseo-gu</td>\n",
              "      <td>overseas inflow</td>\n",
              "      <td>NaN</td>\n",
              "      <td>75</td>\n",
              "      <td>2020-01-22</td>\n",
              "      <td>2020-01-23</td>\n",
              "      <td>2020-02-05</td>\n",
              "      <td>NaN</td>\n",
              "      <td>released</td>\n",
              "    </tr>\n",
              "    <tr>\n",
              "      <th>1</th>\n",
              "      <td>1000000002</td>\n",
              "      <td>male</td>\n",
              "      <td>30s</td>\n",
              "      <td>Korea</td>\n",
              "      <td>Seoul</td>\n",
              "      <td>Jungnang-gu</td>\n",
              "      <td>overseas inflow</td>\n",
              "      <td>NaN</td>\n",
              "      <td>31</td>\n",
              "      <td>NaN</td>\n",
              "      <td>2020-01-30</td>\n",
              "      <td>2020-03-02</td>\n",
              "      <td>NaN</td>\n",
              "      <td>released</td>\n",
              "    </tr>\n",
              "    <tr>\n",
              "      <th>2</th>\n",
              "      <td>1000000003</td>\n",
              "      <td>male</td>\n",
              "      <td>50s</td>\n",
              "      <td>Korea</td>\n",
              "      <td>Seoul</td>\n",
              "      <td>Jongno-gu</td>\n",
              "      <td>contact with patient</td>\n",
              "      <td>2002000001</td>\n",
              "      <td>17</td>\n",
              "      <td>NaN</td>\n",
              "      <td>2020-01-30</td>\n",
              "      <td>2020-02-19</td>\n",
              "      <td>NaN</td>\n",
              "      <td>released</td>\n",
              "    </tr>\n",
              "    <tr>\n",
              "      <th>3</th>\n",
              "      <td>1000000004</td>\n",
              "      <td>male</td>\n",
              "      <td>20s</td>\n",
              "      <td>Korea</td>\n",
              "      <td>Seoul</td>\n",
              "      <td>Mapo-gu</td>\n",
              "      <td>overseas inflow</td>\n",
              "      <td>NaN</td>\n",
              "      <td>9</td>\n",
              "      <td>2020-01-26</td>\n",
              "      <td>2020-01-30</td>\n",
              "      <td>2020-02-15</td>\n",
              "      <td>NaN</td>\n",
              "      <td>released</td>\n",
              "    </tr>\n",
              "    <tr>\n",
              "      <th>4</th>\n",
              "      <td>1000000005</td>\n",
              "      <td>female</td>\n",
              "      <td>20s</td>\n",
              "      <td>Korea</td>\n",
              "      <td>Seoul</td>\n",
              "      <td>Seongbuk-gu</td>\n",
              "      <td>contact with patient</td>\n",
              "      <td>1000000002</td>\n",
              "      <td>2</td>\n",
              "      <td>NaN</td>\n",
              "      <td>2020-01-31</td>\n",
              "      <td>2020-02-24</td>\n",
              "      <td>NaN</td>\n",
              "      <td>released</td>\n",
              "    </tr>\n",
              "  </tbody>\n",
              "</table>\n",
              "</div>"
            ],
            "text/plain": [
              "   patient_id     sex  age  ... released_date deceased_date     state\n",
              "0  1000000001    male  50s  ...    2020-02-05           NaN  released\n",
              "1  1000000002    male  30s  ...    2020-03-02           NaN  released\n",
              "2  1000000003    male  50s  ...    2020-02-19           NaN  released\n",
              "3  1000000004    male  20s  ...    2020-02-15           NaN  released\n",
              "4  1000000005  female  20s  ...    2020-02-24           NaN  released\n",
              "\n",
              "[5 rows x 14 columns]"
            ]
          },
          "metadata": {
            "tags": []
          },
          "execution_count": 53
        }
      ]
    },
    {
      "cell_type": "code",
      "metadata": {
        "id": "i6OSPvINhJkN",
        "colab_type": "code",
        "colab": {
          "base_uri": "https://localhost:8080/",
          "height": 287
        },
        "outputId": "58eb8b54-afeb-43ab-d508-8ddfe55b45ed"
      },
      "source": [
        "patient_info.dtypes"
      ],
      "execution_count": 54,
      "outputs": [
        {
          "output_type": "execute_result",
          "data": {
            "text/plain": [
              "patient_id             int64\n",
              "sex                   object\n",
              "age                   object\n",
              "country               object\n",
              "province              object\n",
              "city                  object\n",
              "infection_case        object\n",
              "infected_by           object\n",
              "contact_number        object\n",
              "symptom_onset_date    object\n",
              "confirmed_date        object\n",
              "released_date         object\n",
              "deceased_date         object\n",
              "state                 object\n",
              "dtype: object"
            ]
          },
          "metadata": {
            "tags": []
          },
          "execution_count": 54
        }
      ]
    },
    {
      "cell_type": "code",
      "metadata": {
        "id": "M4z5Q74uCk7s",
        "colab_type": "code",
        "colab": {}
      },
      "source": [
        "patient_info['confirmed_date']=pd.to_datetime(patient_info['confirmed_date'],format='%Y/%m/%d')\n",
        "patient_info['released_date']=pd.to_datetime(patient_info['released_date'],format='%Y/%m/%d')\n",
        "patient_info['deceased_date']=pd.to_datetime(patient_info['deceased_date'],format='%Y/%m/%d')\n",
        "\n",
        "patient_info['sex'] = patient_info['sex'].astype('category')\n",
        "patient_info['age'] = patient_info['age'].astype('category')\n",
        "patient_info['infection_case'] = patient_info['infection_case'].astype('category')"
      ],
      "execution_count": 55,
      "outputs": []
    },
    {
      "cell_type": "code",
      "metadata": {
        "id": "6td1FG9Xia4R",
        "colab_type": "code",
        "colab": {}
      },
      "source": [
        "patient_info.drop(columns=['country','province','city','infected_by','contact_number','symptom_onset_date'],inplace=True)"
      ],
      "execution_count": 56,
      "outputs": []
    },
    {
      "cell_type": "code",
      "metadata": {
        "id": "wXA9Px3ZjAVm",
        "colab_type": "code",
        "colab": {}
      },
      "source": [
        "patient_info['state'] = patient_info['state'].astype('category')"
      ],
      "execution_count": 60,
      "outputs": []
    },
    {
      "cell_type": "code",
      "metadata": {
        "id": "gY1zXkzpiqSu",
        "colab_type": "code",
        "colab": {
          "base_uri": "https://localhost:8080/",
          "height": 179
        },
        "outputId": "5e87cecb-b742-493d-bfef-275ce4cae912"
      },
      "source": [
        "patient_info.dtypes"
      ],
      "execution_count": 61,
      "outputs": [
        {
          "output_type": "execute_result",
          "data": {
            "text/plain": [
              "patient_id                 int64\n",
              "sex                     category\n",
              "age                     category\n",
              "infection_case          category\n",
              "confirmed_date    datetime64[ns]\n",
              "released_date     datetime64[ns]\n",
              "deceased_date     datetime64[ns]\n",
              "state                   category\n",
              "dtype: object"
            ]
          },
          "metadata": {
            "tags": []
          },
          "execution_count": 61
        }
      ]
    },
    {
      "cell_type": "code",
      "metadata": {
        "id": "c8au5Ed9jiMd",
        "colab_type": "code",
        "colab": {
          "base_uri": "https://localhost:8080/",
          "height": 283
        },
        "outputId": "35bcb37d-8355-43a4-9d45-ce8e672368f1"
      },
      "source": [
        "import matplotlib.pyplot as plt\n",
        "\n",
        "patient_info['state'].hist()"
      ],
      "execution_count": 62,
      "outputs": [
        {
          "output_type": "execute_result",
          "data": {
            "text/plain": [
              "<matplotlib.axes._subplots.AxesSubplot at 0x7fe3f6846438>"
            ]
          },
          "metadata": {
            "tags": []
          },
          "execution_count": 62
        },
        {
          "output_type": "display_data",
          "data": {
            "image/png": "[encoded data removed]",
            "text/plain": [
              "<Figure size 432x288 with 1 Axes>"
            ]
          },
          "metadata": {
            "tags": [],
            "needs_background": "light"
          }
        }
      ]
    },
    {
      "cell_type": "code",
      "metadata": {
        "id": "LUIDvnhUkBdw",
        "colab_type": "code",
        "colab": {}
      },
      "source": [
        "data=patient_info.loc[(patient_info['state']=='released') | (patient_info['state']=='deceased')]"
      ],
      "execution_count": 73,
      "outputs": []
    },
    {
      "cell_type": "code",
      "metadata": {
        "id": "8AMz-XQvk8hP",
        "colab_type": "code",
        "colab": {
          "base_uri": "https://localhost:8080/",
          "height": 283
        },
        "outputId": "b80f93af-0e7a-43ac-e4a1-909dd15d9ef0"
      },
      "source": [
        "data['state'].hist()"
      ],
      "execution_count": 77,
      "outputs": [
        {
          "output_type": "execute_result",
          "data": {
            "text/plain": [
              "<matplotlib.axes._subplots.AxesSubplot at 0x7fe3f7040e10>"
            ]
          },
          "metadata": {
            "tags": []
          },
          "execution_count": 77
        },
        {
          "output_type": "display_data",
          "data": {
            "image/png": "[encoded data removed]",
            "text/plain": [
              "<Figure size 432x288 with 1 Axes>"
            ]
          },
          "metadata": {
            "tags": [],
            "needs_background": "light"
          }
        }
      ]
    },
    {
      "cell_type": "code",
      "metadata": {
        "id": "CWsbH-I0mDDS",
        "colab_type": "code",
        "colab": {}
      },
      "source": [
        "days_released=data.loc[data['state']=='released']['released_date']-data.loc[data['state']=='released']['confirmed_date']"
      ],
      "execution_count": 89,
      "outputs": []
    },
    {
      "cell_type": "code",
      "metadata": {
        "id": "aJPq1JsVmg1s",
        "colab_type": "code",
        "colab": {}
      },
      "source": [
        "days_deceased=data.loc[data['state']=='deceased']['deceased_date']-data.loc[data['state']=='deceased']['confirmed_date']"
      ],
      "execution_count": 90,
      "outputs": []
    },
    {
      "cell_type": "code",
      "metadata": {
        "id": "rY1w-JmwtKNy",
        "colab_type": "code",
        "colab": {
          "base_uri": "https://localhost:8080/",
          "height": 202
        },
        "outputId": "1a4793c4-0aad-467e-df81-edf6d69685f5"
      },
      "source": [
        "data.tail()"
      ],
      "execution_count": 144,
      "outputs": [
        {
          "output_type": "execute_result",
          "data": {
            "text/html": [
              "<div>\n",
              "<style scoped>\n",
              "    .dataframe tbody tr th:only-of-type {\n",
              "        vertical-align: middle;\n",
              "    }\n",
              "\n",
              "    .dataframe tbody tr th {\n",
              "        vertical-align: top;\n",
              "    }\n",
              "\n",
              "    .dataframe thead th {\n",
              "        text-align: right;\n",
              "    }\n",
              "</style>\n",
              "<table border=\"1\" class=\"dataframe\">\n",
              "  <thead>\n",
              "    <tr style=\"text-align: right;\">\n",
              "      <th></th>\n",
              "      <th>patient_id</th>\n",
              "      <th>sex</th>\n",
              "      <th>age</th>\n",
              "      <th>infection_case</th>\n",
              "      <th>confirmed_date</th>\n",
              "      <th>released_date</th>\n",
              "      <th>deceased_date</th>\n",
              "      <th>state</th>\n",
              "    </tr>\n",
              "  </thead>\n",
              "  <tbody>\n",
              "    <tr>\n",
              "      <th>5157</th>\n",
              "      <td>7000000012</td>\n",
              "      <td>female</td>\n",
              "      <td>20s</td>\n",
              "      <td>overseas inflow</td>\n",
              "      <td>2020-04-03</td>\n",
              "      <td>2020-05-05</td>\n",
              "      <td>NaT</td>\n",
              "      <td>released</td>\n",
              "    </tr>\n",
              "    <tr>\n",
              "      <th>5158</th>\n",
              "      <td>7000000013</td>\n",
              "      <td>female</td>\n",
              "      <td>10s</td>\n",
              "      <td>overseas inflow</td>\n",
              "      <td>2020-04-14</td>\n",
              "      <td>2020-04-26</td>\n",
              "      <td>NaT</td>\n",
              "      <td>released</td>\n",
              "    </tr>\n",
              "    <tr>\n",
              "      <th>5159</th>\n",
              "      <td>7000000014</td>\n",
              "      <td>female</td>\n",
              "      <td>30s</td>\n",
              "      <td>Itaewon Clubs</td>\n",
              "      <td>2020-05-09</td>\n",
              "      <td>2020-06-12</td>\n",
              "      <td>NaT</td>\n",
              "      <td>released</td>\n",
              "    </tr>\n",
              "    <tr>\n",
              "      <th>5160</th>\n",
              "      <td>7000000015</td>\n",
              "      <td>female</td>\n",
              "      <td>30s</td>\n",
              "      <td>overseas inflow</td>\n",
              "      <td>2020-05-30</td>\n",
              "      <td>2020-06-13</td>\n",
              "      <td>NaT</td>\n",
              "      <td>released</td>\n",
              "    </tr>\n",
              "    <tr>\n",
              "      <th>5161</th>\n",
              "      <td>7000000016</td>\n",
              "      <td>NaN</td>\n",
              "      <td>NaN</td>\n",
              "      <td>overseas inflow</td>\n",
              "      <td>2020-06-16</td>\n",
              "      <td>2020-06-24</td>\n",
              "      <td>NaT</td>\n",
              "      <td>released</td>\n",
              "    </tr>\n",
              "  </tbody>\n",
              "</table>\n",
              "</div>"
            ],
            "text/plain": [
              "      patient_id     sex  age  ... released_date deceased_date     state\n",
              "5157  7000000012  female  20s  ...    2020-05-05           NaT  released\n",
              "5158  7000000013  female  10s  ...    2020-04-26           NaT  released\n",
              "5159  7000000014  female  30s  ...    2020-06-12           NaT  released\n",
              "5160  7000000015  female  30s  ...    2020-06-13           NaT  released\n",
              "5161  7000000016     NaN  NaN  ...    2020-06-24           NaT  released\n",
              "\n",
              "[5 rows x 8 columns]"
            ]
          },
          "metadata": {
            "tags": []
          },
          "execution_count": 144
        }
      ]
    },
    {
      "cell_type": "code",
      "metadata": {
        "id": "HNbMTmvcwMUY",
        "colab_type": "code",
        "colab": {}
      },
      "source": [
        "cols=['sex','age','infection_case']\n",
        "X=data[[x for x in cols]]"
      ],
      "execution_count": 215,
      "outputs": []
    },
    {
      "cell_type": "code",
      "metadata": {
        "id": "BI5w_BVk6N8b",
        "colab_type": "code",
        "colab": {
          "base_uri": "https://localhost:8080/",
          "height": 233
        },
        "outputId": "ad9c9f68-d76b-44e2-dada-dacd71f96742"
      },
      "source": [
        "X.isna().sum()"
      ],
      "execution_count": 293,
      "outputs": [
        {
          "output_type": "execute_result",
          "data": {
            "text/plain": [
              "sex_female                                0\n",
              "sex_male                                  0\n",
              "age_0s                                    0\n",
              "age_100s                                  0\n",
              "age_10s                                   0\n",
              "                                         ..\n",
              "infection_case_contact with patient       0\n",
              "infection_case_etc                        0\n",
              "infection_case_gym facility in Cheonan    0\n",
              "infection_case_gym facility in Sejong     0\n",
              "infection_case_overseas inflow            0\n",
              "Length: 64, dtype: int64"
            ]
          },
          "metadata": {
            "tags": []
          },
          "execution_count": 293
        }
      ]
    },
    {
      "cell_type": "code",
      "metadata": {
        "id": "S1rd4SMO1cl6",
        "colab_type": "code",
        "colab": {}
      },
      "source": [
        "y=data['state'].values"
      ],
      "execution_count": 257,
      "outputs": []
    },
    {
      "cell_type": "code",
      "metadata": {
        "id": "sNjTiCV60Z_i",
        "colab_type": "code",
        "colab": {}
      },
      "source": [
        "X=pd.get_dummies(X)"
      ],
      "execution_count": 251,
      "outputs": []
    },
    {
      "cell_type": "code",
      "metadata": {
        "id": "julspO1h0pg4",
        "colab_type": "code",
        "colab": {}
      },
      "source": [
        "y.remove_unused_categories(inplace=True)"
      ],
      "execution_count": 261,
      "outputs": []
    },
    {
      "cell_type": "code",
      "metadata": {
        "id": "SpjPveVH2OEm",
        "colab_type": "code",
        "colab": {
          "base_uri": "https://localhost:8080/",
          "height": 35
        },
        "outputId": "9739bae4-2a4f-4516-8957-21a615bd30fc"
      },
      "source": [
        "X.shape"
      ],
      "execution_count": 262,
      "outputs": [
        {
          "output_type": "execute_result",
          "data": {
            "text/plain": [
              "(3007, 64)"
            ]
          },
          "metadata": {
            "tags": []
          },
          "execution_count": 262
        }
      ]
    },
    {
      "cell_type": "code",
      "metadata": {
        "id": "r4JBWIaD2T6e",
        "colab_type": "code",
        "colab": {}
      },
      "source": [
        "X_train, X_test, y_train, y_test = train_test_split(X, y, test_size=0.3, random_state=0)"
      ],
      "execution_count": 266,
      "outputs": []
    },
    {
      "cell_type": "code",
      "metadata": {
        "id": "4yvL4AtP2Vgp",
        "colab_type": "code",
        "colab": {
          "base_uri": "https://localhost:8080/",
          "height": 53
        },
        "outputId": "4f5a750e-f520-46f5-d66e-d99462fbc84e"
      },
      "source": [
        "for z in {c:np.sum(y_train==c) for c in np.unique(y_train)}.items():\n",
        "    print('Existen {} muestras de la clase {}'.format(z[1],z[0]))"
      ],
      "execution_count": 235,
      "outputs": [
        {
          "output_type": "stream",
          "text": [
            "Existen 52 muestras de la clase deceased\n",
            "Existen 2052 muestras de la clase released\n"
          ],
          "name": "stdout"
        }
      ]
    },
    {
      "cell_type": "code",
      "metadata": {
        "id": "wPMPstEc2iWu",
        "colab_type": "code",
        "colab": {
          "base_uri": "https://localhost:8080/",
          "height": 53
        },
        "outputId": "cce7fd9c-bdee-48f1-b8cc-5fad4d8eabce"
      },
      "source": [
        "for z in {c:np.sum(y_test==c) for c in np.unique(y_test)}.items():\n",
        "    print('Existen {} muestras de la clase {}'.format(z[1],z[0]))"
      ],
      "execution_count": 227,
      "outputs": [
        {
          "output_type": "stream",
          "text": [
            "Existen 26 muestras de la clase deceased\n",
            "Existen 877 muestras de la clase released\n"
          ],
          "name": "stdout"
        }
      ]
    },
    {
      "cell_type": "code",
      "metadata": {
        "id": "lo0FV7ok2y1P",
        "colab_type": "code",
        "colab": {}
      },
      "source": [
        "from sklearn.linear_model import LogisticRegression\n",
        "from sklearn.metrics import confusion_matrix,plot_confusion_matrix,roc_auc_score\n",
        "\n",
        "\n",
        "clf = LogisticRegression(penalty='l2',C=0.1,solver='liblinear',class_weight='balanced').fit(X_train, y_train)"
      ],
      "execution_count": 291,
      "outputs": []
    },
    {
      "cell_type": "code",
      "metadata": {
        "id": "jBIk8ylT3EV7",
        "colab_type": "code",
        "colab": {
          "base_uri": "https://localhost:8080/",
          "height": 179
        },
        "outputId": "da759943-c44a-4e4c-a71f-ea9272a8cb96"
      },
      "source": [
        "y_pred=clf.predict(X_test)\n",
        "\n",
        "print(classification_report(y_test, y_pred))\n"
      ],
      "execution_count": 292,
      "outputs": [
        {
          "output_type": "stream",
          "text": [
            "              precision    recall  f1-score   support\n",
            "\n",
            "    deceased       0.19      0.81      0.31        26\n",
            "    released       0.99      0.90      0.94       877\n",
            "\n",
            "    accuracy                           0.90       903\n",
            "   macro avg       0.59      0.85      0.63       903\n",
            "weighted avg       0.97      0.90      0.93       903\n",
            "\n"
          ],
          "name": "stdout"
        }
      ]
    }
  ]
}