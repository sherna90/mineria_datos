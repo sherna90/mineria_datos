{
  "nbformat": 4,
  "nbformat_minor": 0,
  "metadata": {
    "colab": {
      "name": "4.-modelos_lineales_clasificacion.ipynb",
      "provenance": []
    },
    "kernelspec": {
      "display_name": "Python 3",
      "language": "python",
      "name": "python3"
    },
    "language_info": {
      "codemirror_mode": {
        "name": "ipython",
        "version": 3
      },
      "file_extension": ".py",
      "mimetype": "text/x-python",
      "name": "python",
      "nbconvert_exporter": "python",
      "pygments_lexer": "ipython3",
      "version": "3.6.9"
    }
  },
  "cells": [
    {
      "cell_type": "markdown",
      "metadata": {
        "id": "C5_wJCVWCk66"
      },
      "source": [
        "# modelos lineales clasificacion"
      ]
    },
    {
      "cell_type": "code",
      "metadata": {
        "id": "n0AOFUagCk67"
      },
      "source": [
        "# Import data and modules\n",
        "import numpy as np\n",
        "from sklearn import datasets\n",
        "from sklearn import preprocessing\n",
        "\n",
        "iris = datasets.load_iris()\n",
        "\n",
        "X = iris.data[:, [2, 3]]\n",
        "y = iris.target\n",
        "\n",
        "scaler = preprocessing.StandardScaler().fit(X)\n",
        "X_norm = scaler.transform(X)"
      ],
      "execution_count": 97,
      "outputs": []
    },
    {
      "cell_type": "code",
      "metadata": {
        "id": "JJBHs_F2ceg-",
        "colab": {
          "base_uri": "https://localhost:8080/"
        },
        "outputId": "d57c4219-4942-46f0-e7ff-f28d43517c6c"
      },
      "source": [
        "print(iris['DESCR'])"
      ],
      "execution_count": 98,
      "outputs": [
        {
          "output_type": "stream",
          "name": "stdout",
          "text": [
            ".. _iris_dataset:\n",
            "\n",
            "Iris plants dataset\n",
            "--------------------\n",
            "\n",
            "**Data Set Characteristics:**\n",
            "\n",
            "    :Number of Instances: 150 (50 in each of three classes)\n",
            "    :Number of Attributes: 4 numeric, predictive attributes and the class\n",
            "    :Attribute Information:\n",
            "        - sepal length in cm\n",
            "        - sepal width in cm\n",
            "        - petal length in cm\n",
            "        - petal width in cm\n",
            "        - class:\n",
            "                - Iris-Setosa\n",
            "                - Iris-Versicolour\n",
            "                - Iris-Virginica\n",
            "                \n",
            "    :Summary Statistics:\n",
            "\n",
            "    ============== ==== ==== ======= ===== ====================\n",
            "                    Min  Max   Mean    SD   Class Correlation\n",
            "    ============== ==== ==== ======= ===== ====================\n",
            "    sepal length:   4.3  7.9   5.84   0.83    0.7826\n",
            "    sepal width:    2.0  4.4   3.05   0.43   -0.4194\n",
            "    petal length:   1.0  6.9   3.76   1.76    0.9490  (high!)\n",
            "    petal width:    0.1  2.5   1.20   0.76    0.9565  (high!)\n",
            "    ============== ==== ==== ======= ===== ====================\n",
            "\n",
            "    :Missing Attribute Values: None\n",
            "    :Class Distribution: 33.3% for each of 3 classes.\n",
            "    :Creator: R.A. Fisher\n",
            "    :Donor: Michael Marshall (MARSHALL%PLU@io.arc.nasa.gov)\n",
            "    :Date: July, 1988\n",
            "\n",
            "The famous Iris database, first used by Sir R.A. Fisher. The dataset is taken\n",
            "from Fisher's paper. Note that it's the same as in R, but not as in the UCI\n",
            "Machine Learning Repository, which has two wrong data points.\n",
            "\n",
            "This is perhaps the best known database to be found in the\n",
            "pattern recognition literature.  Fisher's paper is a classic in the field and\n",
            "is referenced frequently to this day.  (See Duda & Hart, for example.)  The\n",
            "data set contains 3 classes of 50 instances each, where each class refers to a\n",
            "type of iris plant.  One class is linearly separable from the other 2; the\n",
            "latter are NOT linearly separable from each other.\n",
            "\n",
            ".. topic:: References\n",
            "\n",
            "   - Fisher, R.A. \"The use of multiple measurements in taxonomic problems\"\n",
            "     Annual Eugenics, 7, Part II, 179-188 (1936); also in \"Contributions to\n",
            "     Mathematical Statistics\" (John Wiley, NY, 1950).\n",
            "   - Duda, R.O., & Hart, P.E. (1973) Pattern Classification and Scene Analysis.\n",
            "     (Q327.D83) John Wiley & Sons.  ISBN 0-471-22361-1.  See page 218.\n",
            "   - Dasarathy, B.V. (1980) \"Nosing Around the Neighborhood: A New System\n",
            "     Structure and Classification Rule for Recognition in Partially Exposed\n",
            "     Environments\".  IEEE Transactions on Pattern Analysis and Machine\n",
            "     Intelligence, Vol. PAMI-2, No. 1, 67-71.\n",
            "   - Gates, G.W. (1972) \"The Reduced Nearest Neighbor Rule\".  IEEE Transactions\n",
            "     on Information Theory, May 1972, 431-433.\n",
            "   - See also: 1988 MLC Proceedings, 54-64.  Cheeseman et al\"s AUTOCLASS II\n",
            "     conceptual clustering system finds 3 classes in the data.\n",
            "   - Many, many more ...\n"
          ]
        }
      ]
    },
    {
      "cell_type": "code",
      "metadata": {
        "colab": {
          "base_uri": "https://localhost:8080/"
        },
        "id": "vMu88lBVQ2ve",
        "outputId": "6277d461-5383-4e90-e3a3-c2f941e62122"
      },
      "source": [
        "iris.target"
      ],
      "execution_count": 99,
      "outputs": [
        {
          "output_type": "execute_result",
          "data": {
            "text/plain": [
              "array([0, 0, 0, 0, 0, 0, 0, 0, 0, 0, 0, 0, 0, 0, 0, 0, 0, 0, 0, 0, 0, 0,\n",
              "       0, 0, 0, 0, 0, 0, 0, 0, 0, 0, 0, 0, 0, 0, 0, 0, 0, 0, 0, 0, 0, 0,\n",
              "       0, 0, 0, 0, 0, 0, 1, 1, 1, 1, 1, 1, 1, 1, 1, 1, 1, 1, 1, 1, 1, 1,\n",
              "       1, 1, 1, 1, 1, 1, 1, 1, 1, 1, 1, 1, 1, 1, 1, 1, 1, 1, 1, 1, 1, 1,\n",
              "       1, 1, 1, 1, 1, 1, 1, 1, 1, 1, 1, 1, 2, 2, 2, 2, 2, 2, 2, 2, 2, 2,\n",
              "       2, 2, 2, 2, 2, 2, 2, 2, 2, 2, 2, 2, 2, 2, 2, 2, 2, 2, 2, 2, 2, 2,\n",
              "       2, 2, 2, 2, 2, 2, 2, 2, 2, 2, 2, 2, 2, 2, 2, 2, 2, 2])"
            ]
          },
          "metadata": {},
          "execution_count": 99
        }
      ]
    },
    {
      "cell_type": "code",
      "metadata": {
        "id": "pC2mpohYCk7A"
      },
      "source": [
        "from sklearn.model_selection import train_test_split\n",
        "\n",
        "X_train, X_test, y_train, y_test = train_test_split(X, y, test_size=0.3, random_state=0,shuffle=True)"
      ],
      "execution_count": 5,
      "outputs": []
    },
    {
      "cell_type": "code",
      "metadata": {
        "id": "ToOt0oQXg5iM",
        "colab": {
          "base_uri": "https://localhost:8080/"
        },
        "outputId": "844dee36-a722-46d0-f1cd-7e7bf252dbb2"
      },
      "source": [
        "y_test"
      ],
      "execution_count": 6,
      "outputs": [
        {
          "output_type": "execute_result",
          "data": {
            "text/plain": [
              "array([2, 1, 0, 2, 0, 2, 0, 1, 1, 1, 2, 1, 1, 1, 1, 0, 1, 1, 0, 0, 2, 1,\n",
              "       0, 0, 2, 0, 0, 1, 1, 0, 2, 1, 0, 2, 2, 1, 0, 1, 1, 1, 2, 0, 2, 0,\n",
              "       0])"
            ]
          },
          "metadata": {},
          "execution_count": 6
        }
      ]
    },
    {
      "cell_type": "code",
      "metadata": {
        "colab": {
          "base_uri": "https://localhost:8080/"
        },
        "id": "v-5uB12zCk7F",
        "outputId": "e90c341d-76cf-464e-9323-88da638f5723"
      },
      "source": [
        "print('Existen {} muestras en el conjunto de entrenamiento y {} muestras en el conjunto de test'.format(\n",
        "X_train.shape[0], X_test.shape[0]))"
      ],
      "execution_count": 100,
      "outputs": [
        {
          "output_type": "stream",
          "name": "stdout",
          "text": [
            "Existen 105 muestras en el conjunto de entrenamiento y 45 muestras en el conjunto de test\n"
          ]
        }
      ]
    },
    {
      "cell_type": "code",
      "metadata": {
        "colab": {
          "base_uri": "https://localhost:8080/"
        },
        "id": "AhD8_Qn4Ck7K",
        "outputId": "c92757ba-05b2-4898-ed7e-5354282f878d"
      },
      "source": [
        "for z in {c:np.sum(y_train==c) for c in np.unique(y_train)}.items():\n",
        "    print('Existen {} muestras de la clase {}'.format(z[1],z[0]))"
      ],
      "execution_count": 101,
      "outputs": [
        {
          "output_type": "stream",
          "name": "stdout",
          "text": [
            "Existen 34 muestras de la clase 0\n",
            "Existen 32 muestras de la clase 1\n",
            "Existen 39 muestras de la clase 2\n"
          ]
        }
      ]
    },
    {
      "cell_type": "code",
      "metadata": {
        "colab": {
          "base_uri": "https://localhost:8080/"
        },
        "id": "BtvupInWSIib",
        "outputId": "5cc97cf5-af81-4ca0-cc33-86339932cfc3"
      },
      "source": [
        "for z in {c:np.sum(y_test==c) for c in np.unique(y_test)}.items():\n",
        "    print('En test, existen {} muestras de la clase {}'.format(z[1],z[0]))"
      ],
      "execution_count": 102,
      "outputs": [
        {
          "output_type": "stream",
          "name": "stdout",
          "text": [
            "En test, existen 16 muestras de la clase 0\n",
            "En test, existen 18 muestras de la clase 1\n",
            "En test, existen 11 muestras de la clase 2\n"
          ]
        }
      ]
    },
    {
      "cell_type": "code",
      "metadata": {
        "colab": {
          "base_uri": "https://localhost:8080/",
          "height": 320
        },
        "id": "kBizEBaoCk7O",
        "outputId": "adbef8c4-3d36-4490-ecb3-a24fde08181a"
      },
      "source": [
        "from matplotlib.colors import ListedColormap\n",
        "import matplotlib.pyplot as plt\n",
        "\n",
        "import numpy as np\n",
        "from scipy.special import logsumexp\n",
        "\n",
        "def softmax(W,b,X):\n",
        "  z=np.dot(X,W.T)+np.tile(b,X.shape[0]).reshape((X.shape[0],-1))\n",
        "  phi=z-np.repeat(logsumexp(z,axis=1),b.shape[0]).reshape((X.shape[0],-1))\n",
        "  return np.exp(phi)\n",
        "\n",
        "def plot_decision_boundary(clf,X_test,y_test,colors):\n",
        "  h = .02  # step size in the mesh\n",
        "  x_min, x_max = X_test[:, 0].min() , X_test[:, 0].max()\n",
        "  y_min, y_max = X_test[:, 1].min() , X_test[:, 1].max()\n",
        "  xx, yy = np.meshgrid(np.arange(x_min, x_max, h),np.arange(y_min, y_max, h))\n",
        "  X_grid=np.vstack([xx.ravel(),yy.ravel()]).T\n",
        "  prob=softmax(W,b,X_grid)\n",
        "  Z_pred=np.argmax(prob,axis=1)\n",
        "  plt.contourf(xx, yy, Z_pred.reshape(xx.shape), cmap=plt.cm.Blues_r,alpha=.2)\n",
        "  markers = ('s', 'x', 'o')\n",
        "  plt.scatter(X_test[:,0], X_test[:,1],c=y_test, cmap=plt.cm.Blues, s=8, alpha=0.9)\n",
        "  plt.ylabel('x2')\n",
        "  plt.xlabel('x1')\n",
        "  plt.xlim(x_min, x_max)\n",
        "  plt.ylim(y_min, y_max)  \n",
        "        \n",
        "markers = ('s', 'x', 'o')\n",
        "colors = ('red', 'blue', 'lightgreen')\n",
        "plt.figure(figsize=(7,5))\n",
        "for idx, cl in enumerate(np.unique(y_train)):\n",
        "    plt.scatter(x=X_train[y_train == cl, 0], y=X_train[y_train == cl, 1], marker=markers[idx], label=cl,color=colors[idx])"
      ],
      "execution_count": 154,
      "outputs": [
        {
          "output_type": "display_data",
          "data": {
            "image/png": "[encoded data removed]",
            "text/plain": [
              "<Figure size 504x360 with 1 Axes>"
            ]
          },
          "metadata": {
            "needs_background": "light"
          }
        }
      ]
    },
    {
      "cell_type": "code",
      "metadata": {
        "id": "pHzg8WpzZcLx",
        "outputId": "45ec28ae-6207-4adf-eb34-ec30e7457647",
        "colab": {
          "base_uri": "https://localhost:8080/"
        }
      },
      "source": [
        "y_test"
      ],
      "execution_count": 156,
      "outputs": [
        {
          "output_type": "execute_result",
          "data": {
            "text/plain": [
              "array([2, 1, 0, 2, 0, 2, 0, 1, 1, 1, 2, 1, 1, 1, 1, 0, 1, 1, 0, 0, 2, 1,\n",
              "       0, 0, 2, 0, 0, 1, 1, 0, 2, 1, 0, 2, 2, 1, 0, 1, 1, 1, 2, 0, 2, 0,\n",
              "       0])"
            ]
          },
          "metadata": {},
          "execution_count": 156
        }
      ]
    },
    {
      "cell_type": "markdown",
      "metadata": {
        "id": "W2ra78VkCk7S"
      },
      "source": [
        "Ahora ajustamos un modelo lineal de clasificacion con regularizacion (c es el inverso del parametro de regularizacion)"
      ]
    },
    {
      "cell_type": "code",
      "metadata": {
        "colab": {
          "base_uri": "https://localhost:8080/",
          "height": 446
        },
        "id": "AgtKj8u1Ck7T",
        "outputId": "55fb5875-5059-4570-e23b-892e6c753a8d"
      },
      "source": [
        "from sklearn.linear_model import LogisticRegression\n",
        "from sklearn.metrics import confusion_matrix,plot_confusion_matrix,roc_auc_score\n",
        "    \n",
        "clf_l2 = LogisticRegression(penalty='none',multi_class='multinomial').fit(X_train, y_train)\n",
        "\n",
        "fig, (ax1, ax2) = plt.subplots(1, 2,figsize=(15,7))\n",
        "plot_confusion_matrix(clf_sgd, X_test, y_test,cmap=plt.cm.Blues,ax=ax1)\n",
        "plot_decision_boundary(clf_l2,X_test,y_test,colors)"
      ],
      "execution_count": 155,
      "outputs": [
        {
          "output_type": "display_data",
          "data": {
            "image/png": "[encoded data removed]",
            "text/plain": [
              "<Figure size 1080x504 with 3 Axes>"
            ]
          },
          "metadata": {
            "needs_background": "light"
          }
        }
      ]
    },
    {
      "cell_type": "code",
      "metadata": {
        "colab": {
          "base_uri": "https://localhost:8080/",
          "height": 279
        },
        "id": "8Io67Cp4DbMZ",
        "outputId": "880b3823-bc96-441b-9a6e-bb6e6e13d5be"
      },
      "source": [
        ""
      ],
      "execution_count": 148,
      "outputs": [
        {
          "output_type": "display_data",
          "data": {
            "image/png": "[encoded data removed]",
            "text/plain": [
              "<Figure size 432x288 with 1 Axes>"
            ]
          },
          "metadata": {
            "needs_background": "light"
          }
        }
      ]
    },
    {
      "cell_type": "code",
      "metadata": {
        "colab": {
          "base_uri": "https://localhost:8080/",
          "height": 446
        },
        "id": "Mmxx1wOSCk7X",
        "outputId": "ee2fde81-e595-4f23-bba4-71c60322c2a9"
      },
      "source": [
        "from sklearn.linear_model import SGDClassifier\n",
        "\n",
        "clf_sgd = SGDClassifier(loss=\"log\", alpha=0.0001,penalty='l2',\n",
        "                        max_iter=1e5,learning_rate='optimal',eta0=1e-5).fit(X_train, y_train)\n",
        "\n",
        "fig, (ax1, ax2) = plt.subplots(1, 2,figsize=(15,7))\n",
        "plot_confusion_matrix(clf_sgd, X_test, y_test,cmap=plt.cm.Blues,ax=ax1)\n",
        "plot_decision_boundary(clf_sgd,X_test,y_test,colors)"
      ],
      "execution_count": 150,
      "outputs": [
        {
          "output_type": "display_data",
          "data": {
            "image/png": "[encoded data removed]",
            "text/plain": [
              "<Figure size 1080x504 with 3 Axes>"
            ]
          },
          "metadata": {
            "needs_background": "light"
          }
        }
      ]
    },
    {
      "cell_type": "code",
      "metadata": {
        "colab": {
          "base_uri": "https://localhost:8080/"
        },
        "id": "leejlYw4Ck7b",
        "outputId": "2765156f-f513-43e3-d3f5-471800a865b6"
      },
      "source": [
        "from sklearn.metrics import classification_report\n",
        "\n",
        "y_pred=clf_sgd.predict_proba(X_test)\n",
        "\n",
        "print(classification_report(y_test, y_pred.argmax(axis=1)))\n",
        "\n",
        "print('SGD AUC score :',roc_auc_score(y_test, y_pred,multi_class='ovr'))"
      ],
      "execution_count": null,
      "outputs": [
        {
          "output_type": "stream",
          "name": "stdout",
          "text": [
            "              precision    recall  f1-score   support\n",
            "\n",
            "           0       1.00      0.94      0.97        16\n",
            "           1       0.75      1.00      0.86        18\n",
            "           2       1.00      0.55      0.71        11\n",
            "\n",
            "    accuracy                           0.87        45\n",
            "   macro avg       0.92      0.83      0.84        45\n",
            "weighted avg       0.90      0.87      0.86        45\n",
            "\n",
            "SGD AUC score : 0.9949935080654034\n"
          ]
        }
      ]
    },
    {
      "cell_type": "code",
      "metadata": {
        "colab": {
          "base_uri": "https://localhost:8080/"
        },
        "id": "-thy0I8xCk7f",
        "outputId": "c7f36a65-e114-4047-e154-d78739a1413a"
      },
      "source": [
        "y_pred=clf_l2.predict_proba(X_test)\n",
        "\n",
        "print(classification_report(y_test, y_pred.argmax(axis=1)))\n",
        "\n",
        "print('L2 AUC score :',roc_auc_score(y_test, y_pred,multi_class='ovr'))"
      ],
      "execution_count": null,
      "outputs": [
        {
          "output_type": "stream",
          "name": "stdout",
          "text": [
            "              precision    recall  f1-score   support\n",
            "\n",
            "           0       1.00      1.00      1.00        16\n",
            "           1       1.00      0.94      0.97        18\n",
            "           2       0.92      1.00      0.96        11\n",
            "\n",
            "    accuracy                           0.98        45\n",
            "   macro avg       0.97      0.98      0.98        45\n",
            "weighted avg       0.98      0.98      0.98        45\n",
            "\n",
            "L2 AUC score : 1.0\n"
          ]
        }
      ]
    },
    {
      "cell_type": "code",
      "metadata": {
        "id": "KDVRE858kVMu"
      },
      "source": [
        "from sklearn.preprocessing import PolynomialFeatures\n",
        "poly = PolynomialFeatures(4)\n",
        "\n",
        "X_poly=poly.fit_transform(X)"
      ],
      "execution_count": null,
      "outputs": []
    },
    {
      "cell_type": "code",
      "metadata": {
        "id": "WlacktYBkaB1"
      },
      "source": [
        "X_train, X_test, y_train, y_test = train_test_split(X, y, test_size=0.3, random_state=0,shuffle=True)"
      ],
      "execution_count": null,
      "outputs": []
    },
    {
      "cell_type": "code",
      "metadata": {
        "id": "owoPXwpKknPa",
        "colab": {
          "base_uri": "https://localhost:8080/",
          "height": 432
        },
        "outputId": "6643222b-ff49-44ab-fd91-90caa3038af1"
      },
      "source": [
        "clf_sgd = SGDClassifier(loss=\"log\", alpha=0.001,penalty='l1',\n",
        "                        max_iter=1e5,learning_rate='optimal',eta0=1e-5).fit(X_train, y_train)\n",
        "\n",
        "fig, (ax1, ax2) = plt.subplots(1, 2,figsize=(15,7))\n",
        "plot_confusion_matrix(clf_sgd, X_test, y_test,cmap=plt.cm.Blues,ax=ax1)\n",
        "plot_decision_boundary(clf_sgd)"
      ],
      "execution_count": null,
      "outputs": [
        {
          "output_type": "display_data",
          "data": {
            "image/png": "[encoded data removed]",
            "text/plain": [
              "<Figure size 1080x504 with 3 Axes>"
            ]
          },
          "metadata": {
            "needs_background": "light"
          }
        }
      ]
    },
    {
      "cell_type": "markdown",
      "metadata": {
        "id": "cTJVX797Ck7j"
      },
      "source": [
        "# Tarea\n",
        "\n",
        "En este laboratorio Ud debe completar las siguientes tareas:\n",
        "\n",
        "\n",
        "1.   Implementar un modelo base para predecir la supervivencia de un paciente infectado con COVID usando datos epidemiologicos (Datos obtenidos desde [1]).\n",
        "2. Reportar la metrica de ajuste del modelo base.\n",
        "3. Reportar la metrica de ajuste del modelo usando feature engineering y regularizacion.\n",
        "\n",
        "[1] https://www.ncbi.nlm.nih.gov/pmc/articles/PMC7306186/#!po=54.1667"
      ]
    },
    {
      "cell_type": "code",
      "metadata": {
        "id": "lBKc2ohTCk7k"
      },
      "source": [
        "import pandas as pd\n",
        "\n",
        "patient_info=pd.read_csv('https://github.com/sherna90/mineria_datos/raw/master/data/datasets_527325_1332417_PatientInfo.csv')"
      ],
      "execution_count": null,
      "outputs": []
    },
    {
      "cell_type": "code",
      "metadata": {
        "colab": {
          "base_uri": "https://localhost:8080/",
          "height": 290
        },
        "id": "ygcvGkunCk7n",
        "outputId": "f78529d1-9ad4-4aa7-e1f5-f93d5acc2f58"
      },
      "source": [
        "patient_info.head()\n"
      ],
      "execution_count": null,
      "outputs": [
        {
          "output_type": "execute_result",
          "data": {
            "text/html": [
              "<div>\n",
              "<style scoped>\n",
              "    .dataframe tbody tr th:only-of-type {\n",
              "        vertical-align: middle;\n",
              "    }\n",
              "\n",
              "    .dataframe tbody tr th {\n",
              "        vertical-align: top;\n",
              "    }\n",
              "\n",
              "    .dataframe thead th {\n",
              "        text-align: right;\n",
              "    }\n",
              "</style>\n",
              "<table border=\"1\" class=\"dataframe\">\n",
              "  <thead>\n",
              "    <tr style=\"text-align: right;\">\n",
              "      <th></th>\n",
              "      <th>patient_id</th>\n",
              "      <th>sex</th>\n",
              "      <th>age</th>\n",
              "      <th>country</th>\n",
              "      <th>province</th>\n",
              "      <th>city</th>\n",
              "      <th>infection_case</th>\n",
              "      <th>infected_by</th>\n",
              "      <th>contact_number</th>\n",
              "      <th>symptom_onset_date</th>\n",
              "      <th>confirmed_date</th>\n",
              "      <th>released_date</th>\n",
              "      <th>deceased_date</th>\n",
              "      <th>state</th>\n",
              "    </tr>\n",
              "  </thead>\n",
              "  <tbody>\n",
              "    <tr>\n",
              "      <th>0</th>\n",
              "      <td>1000000001</td>\n",
              "      <td>male</td>\n",
              "      <td>50s</td>\n",
              "      <td>Korea</td>\n",
              "      <td>Seoul</td>\n",
              "      <td>Gangseo-gu</td>\n",
              "      <td>overseas inflow</td>\n",
              "      <td>NaN</td>\n",
              "      <td>75</td>\n",
              "      <td>2020-01-22</td>\n",
              "      <td>2020-01-23</td>\n",
              "      <td>2020-02-05</td>\n",
              "      <td>NaN</td>\n",
              "      <td>released</td>\n",
              "    </tr>\n",
              "    <tr>\n",
              "      <th>1</th>\n",
              "      <td>1000000002</td>\n",
              "      <td>male</td>\n",
              "      <td>30s</td>\n",
              "      <td>Korea</td>\n",
              "      <td>Seoul</td>\n",
              "      <td>Jungnang-gu</td>\n",
              "      <td>overseas inflow</td>\n",
              "      <td>NaN</td>\n",
              "      <td>31</td>\n",
              "      <td>NaN</td>\n",
              "      <td>2020-01-30</td>\n",
              "      <td>2020-03-02</td>\n",
              "      <td>NaN</td>\n",
              "      <td>released</td>\n",
              "    </tr>\n",
              "    <tr>\n",
              "      <th>2</th>\n",
              "      <td>1000000003</td>\n",
              "      <td>male</td>\n",
              "      <td>50s</td>\n",
              "      <td>Korea</td>\n",
              "      <td>Seoul</td>\n",
              "      <td>Jongno-gu</td>\n",
              "      <td>contact with patient</td>\n",
              "      <td>2002000001</td>\n",
              "      <td>17</td>\n",
              "      <td>NaN</td>\n",
              "      <td>2020-01-30</td>\n",
              "      <td>2020-02-19</td>\n",
              "      <td>NaN</td>\n",
              "      <td>released</td>\n",
              "    </tr>\n",
              "    <tr>\n",
              "      <th>3</th>\n",
              "      <td>1000000004</td>\n",
              "      <td>male</td>\n",
              "      <td>20s</td>\n",
              "      <td>Korea</td>\n",
              "      <td>Seoul</td>\n",
              "      <td>Mapo-gu</td>\n",
              "      <td>overseas inflow</td>\n",
              "      <td>NaN</td>\n",
              "      <td>9</td>\n",
              "      <td>2020-01-26</td>\n",
              "      <td>2020-01-30</td>\n",
              "      <td>2020-02-15</td>\n",
              "      <td>NaN</td>\n",
              "      <td>released</td>\n",
              "    </tr>\n",
              "    <tr>\n",
              "      <th>4</th>\n",
              "      <td>1000000005</td>\n",
              "      <td>female</td>\n",
              "      <td>20s</td>\n",
              "      <td>Korea</td>\n",
              "      <td>Seoul</td>\n",
              "      <td>Seongbuk-gu</td>\n",
              "      <td>contact with patient</td>\n",
              "      <td>1000000002</td>\n",
              "      <td>2</td>\n",
              "      <td>NaN</td>\n",
              "      <td>2020-01-31</td>\n",
              "      <td>2020-02-24</td>\n",
              "      <td>NaN</td>\n",
              "      <td>released</td>\n",
              "    </tr>\n",
              "  </tbody>\n",
              "</table>\n",
              "</div>"
            ],
            "text/plain": [
              "   patient_id     sex  age  ... released_date deceased_date     state\n",
              "0  1000000001    male  50s  ...    2020-02-05           NaN  released\n",
              "1  1000000002    male  30s  ...    2020-03-02           NaN  released\n",
              "2  1000000003    male  50s  ...    2020-02-19           NaN  released\n",
              "3  1000000004    male  20s  ...    2020-02-15           NaN  released\n",
              "4  1000000005  female  20s  ...    2020-02-24           NaN  released\n",
              "\n",
              "[5 rows x 14 columns]"
            ]
          },
          "metadata": {},
          "execution_count": 89
        }
      ]
    },
    {
      "cell_type": "code",
      "metadata": {
        "colab": {
          "base_uri": "https://localhost:8080/"
        },
        "id": "i6OSPvINhJkN",
        "outputId": "e5762dae-9ef5-49de-ba68-71e89d81d763"
      },
      "source": [
        "patient_info.dtypes"
      ],
      "execution_count": null,
      "outputs": [
        {
          "output_type": "execute_result",
          "data": {
            "text/plain": [
              "patient_id             int64\n",
              "sex                   object\n",
              "age                   object\n",
              "country               object\n",
              "province              object\n",
              "city                  object\n",
              "infection_case        object\n",
              "infected_by           object\n",
              "contact_number        object\n",
              "symptom_onset_date    object\n",
              "confirmed_date        object\n",
              "released_date         object\n",
              "deceased_date         object\n",
              "state                 object\n",
              "dtype: object"
            ]
          },
          "metadata": {},
          "execution_count": 90
        }
      ]
    },
    {
      "cell_type": "code",
      "metadata": {
        "id": "M4z5Q74uCk7s"
      },
      "source": [
        "patient_info['confirmed_date']=pd.to_datetime(patient_info['confirmed_date'],format='%Y/%m/%d')\n",
        "patient_info['released_date']=pd.to_datetime(patient_info['released_date'],format='%Y/%m/%d')\n",
        "patient_info['deceased_date']=pd.to_datetime(patient_info['deceased_date'],format='%Y/%m/%d')\n",
        "\n",
        "patient_info['sex'] = patient_info['sex'].astype('category')\n",
        "patient_info['age'] = patient_info['age'].astype('category')\n",
        "patient_info['infection_case'] = patient_info['infection_case'].astype('category')"
      ],
      "execution_count": null,
      "outputs": []
    },
    {
      "cell_type": "code",
      "metadata": {
        "id": "6td1FG9Xia4R"
      },
      "source": [
        "patient_info.drop(columns=['country','province','city','infected_by','contact_number','symptom_onset_date'],inplace=True)"
      ],
      "execution_count": null,
      "outputs": []
    },
    {
      "cell_type": "code",
      "metadata": {
        "id": "wXA9Px3ZjAVm"
      },
      "source": [
        "patient_info['state'] = patient_info['state'].astype('category')"
      ],
      "execution_count": null,
      "outputs": []
    },
    {
      "cell_type": "code",
      "metadata": {
        "colab": {
          "base_uri": "https://localhost:8080/"
        },
        "id": "gY1zXkzpiqSu",
        "outputId": "2d16c3b9-ea64-409c-9f43-eb08961d0973"
      },
      "source": [
        "patient_info.dtypes"
      ],
      "execution_count": null,
      "outputs": [
        {
          "output_type": "execute_result",
          "data": {
            "text/plain": [
              "patient_id                 int64\n",
              "sex                     category\n",
              "age                     category\n",
              "infection_case          category\n",
              "confirmed_date    datetime64[ns]\n",
              "released_date     datetime64[ns]\n",
              "deceased_date     datetime64[ns]\n",
              "state                   category\n",
              "dtype: object"
            ]
          },
          "metadata": {},
          "execution_count": 94
        }
      ]
    },
    {
      "cell_type": "code",
      "metadata": {
        "colab": {
          "base_uri": "https://localhost:8080/",
          "height": 282
        },
        "id": "c8au5Ed9jiMd",
        "outputId": "c0f76289-2832-4aee-a16f-f262189f4cd3"
      },
      "source": [
        "import matplotlib.pyplot as plt\n",
        "\n",
        "patient_info['state'].hist()"
      ],
      "execution_count": null,
      "outputs": [
        {
          "output_type": "execute_result",
          "data": {
            "text/plain": [
              "<matplotlib.axes._subplots.AxesSubplot at 0x7fde7097eb50>"
            ]
          },
          "metadata": {},
          "execution_count": 95
        },
        {
          "output_type": "display_data",
          "data": {
            "image/png": "[encoded data removed]",
            "text/plain": [
              "<Figure size 432x288 with 1 Axes>"
            ]
          },
          "metadata": {
            "needs_background": "light"
          }
        }
      ]
    },
    {
      "cell_type": "code",
      "metadata": {
        "id": "LUIDvnhUkBdw"
      },
      "source": [
        "data=patient_info.loc[(patient_info['state']=='released') | (patient_info['state']=='deceased')]"
      ],
      "execution_count": null,
      "outputs": []
    },
    {
      "cell_type": "code",
      "metadata": {
        "colab": {
          "base_uri": "https://localhost:8080/",
          "height": 282
        },
        "id": "8AMz-XQvk8hP",
        "outputId": "2158d647-f108-4e59-f88c-a796ff10f971"
      },
      "source": [
        "data['state'].hist()"
      ],
      "execution_count": null,
      "outputs": [
        {
          "output_type": "execute_result",
          "data": {
            "text/plain": [
              "<matplotlib.axes._subplots.AxesSubplot at 0x7fde709bc910>"
            ]
          },
          "metadata": {},
          "execution_count": 97
        },
        {
          "output_type": "display_data",
          "data": {
            "image/png": "[encoded data removed]",
            "text/plain": [
              "<Figure size 432x288 with 1 Axes>"
            ]
          },
          "metadata": {
            "needs_background": "light"
          }
        }
      ]
    },
    {
      "cell_type": "code",
      "metadata": {
        "id": "CWsbH-I0mDDS"
      },
      "source": [
        "days_released=data.loc[data['state']=='released']['released_date']-data.loc[data['state']=='released']['confirmed_date']"
      ],
      "execution_count": null,
      "outputs": []
    },
    {
      "cell_type": "code",
      "metadata": {
        "id": "aJPq1JsVmg1s"
      },
      "source": [
        "days_deceased=data.loc[data['state']=='deceased']['deceased_date']-data.loc[data['state']=='deceased']['confirmed_date']"
      ],
      "execution_count": null,
      "outputs": []
    },
    {
      "cell_type": "code",
      "metadata": {
        "colab": {
          "base_uri": "https://localhost:8080/",
          "height": 203
        },
        "id": "rY1w-JmwtKNy",
        "outputId": "6b9c9ec7-6308-44af-9b99-01add44ae3fe"
      },
      "source": [
        "data.tail()"
      ],
      "execution_count": null,
      "outputs": [
        {
          "output_type": "execute_result",
          "data": {
            "text/html": [
              "<div>\n",
              "<style scoped>\n",
              "    .dataframe tbody tr th:only-of-type {\n",
              "        vertical-align: middle;\n",
              "    }\n",
              "\n",
              "    .dataframe tbody tr th {\n",
              "        vertical-align: top;\n",
              "    }\n",
              "\n",
              "    .dataframe thead th {\n",
              "        text-align: right;\n",
              "    }\n",
              "</style>\n",
              "<table border=\"1\" class=\"dataframe\">\n",
              "  <thead>\n",
              "    <tr style=\"text-align: right;\">\n",
              "      <th></th>\n",
              "      <th>patient_id</th>\n",
              "      <th>sex</th>\n",
              "      <th>age</th>\n",
              "      <th>infection_case</th>\n",
              "      <th>confirmed_date</th>\n",
              "      <th>released_date</th>\n",
              "      <th>deceased_date</th>\n",
              "      <th>state</th>\n",
              "    </tr>\n",
              "  </thead>\n",
              "  <tbody>\n",
              "    <tr>\n",
              "      <th>5157</th>\n",
              "      <td>7000000012</td>\n",
              "      <td>female</td>\n",
              "      <td>20s</td>\n",
              "      <td>overseas inflow</td>\n",
              "      <td>2020-04-03</td>\n",
              "      <td>2020-05-05</td>\n",
              "      <td>NaT</td>\n",
              "      <td>released</td>\n",
              "    </tr>\n",
              "    <tr>\n",
              "      <th>5158</th>\n",
              "      <td>7000000013</td>\n",
              "      <td>female</td>\n",
              "      <td>10s</td>\n",
              "      <td>overseas inflow</td>\n",
              "      <td>2020-04-14</td>\n",
              "      <td>2020-04-26</td>\n",
              "      <td>NaT</td>\n",
              "      <td>released</td>\n",
              "    </tr>\n",
              "    <tr>\n",
              "      <th>5159</th>\n",
              "      <td>7000000014</td>\n",
              "      <td>female</td>\n",
              "      <td>30s</td>\n",
              "      <td>Itaewon Clubs</td>\n",
              "      <td>2020-05-09</td>\n",
              "      <td>2020-06-12</td>\n",
              "      <td>NaT</td>\n",
              "      <td>released</td>\n",
              "    </tr>\n",
              "    <tr>\n",
              "      <th>5160</th>\n",
              "      <td>7000000015</td>\n",
              "      <td>female</td>\n",
              "      <td>30s</td>\n",
              "      <td>overseas inflow</td>\n",
              "      <td>2020-05-30</td>\n",
              "      <td>2020-06-13</td>\n",
              "      <td>NaT</td>\n",
              "      <td>released</td>\n",
              "    </tr>\n",
              "    <tr>\n",
              "      <th>5161</th>\n",
              "      <td>7000000016</td>\n",
              "      <td>NaN</td>\n",
              "      <td>NaN</td>\n",
              "      <td>overseas inflow</td>\n",
              "      <td>2020-06-16</td>\n",
              "      <td>2020-06-24</td>\n",
              "      <td>NaT</td>\n",
              "      <td>released</td>\n",
              "    </tr>\n",
              "  </tbody>\n",
              "</table>\n",
              "</div>"
            ],
            "text/plain": [
              "      patient_id     sex  age  ... released_date deceased_date     state\n",
              "5157  7000000012  female  20s  ...    2020-05-05           NaT  released\n",
              "5158  7000000013  female  10s  ...    2020-04-26           NaT  released\n",
              "5159  7000000014  female  30s  ...    2020-06-12           NaT  released\n",
              "5160  7000000015  female  30s  ...    2020-06-13           NaT  released\n",
              "5161  7000000016     NaN  NaN  ...    2020-06-24           NaT  released\n",
              "\n",
              "[5 rows x 8 columns]"
            ]
          },
          "metadata": {},
          "execution_count": 100
        }
      ]
    },
    {
      "cell_type": "code",
      "metadata": {
        "id": "HNbMTmvcwMUY"
      },
      "source": [
        "cols=['sex','age','infection_case']\n",
        "X=data[[x for x in cols]]"
      ],
      "execution_count": null,
      "outputs": []
    },
    {
      "cell_type": "code",
      "metadata": {
        "colab": {
          "base_uri": "https://localhost:8080/"
        },
        "id": "BI5w_BVk6N8b",
        "outputId": "65fbde90-0dbf-4915-b6f6-d03188198de8"
      },
      "source": [
        "X.isna().sum()"
      ],
      "execution_count": null,
      "outputs": [
        {
          "output_type": "execute_result",
          "data": {
            "text/plain": [
              "sex               418\n",
              "age               434\n",
              "infection_case    719\n",
              "dtype: int64"
            ]
          },
          "metadata": {},
          "execution_count": 116
        }
      ]
    },
    {
      "cell_type": "code",
      "metadata": {
        "id": "-wFsoHtDo8KJ",
        "colab": {
          "base_uri": "https://localhost:8080/",
          "height": 417
        },
        "outputId": "03451b95-622b-45de-d0ea-0da638f5e695"
      },
      "source": [
        "pd.isna(X)"
      ],
      "execution_count": null,
      "outputs": [
        {
          "output_type": "execute_result",
          "data": {
            "text/html": [
              "<div>\n",
              "<style scoped>\n",
              "    .dataframe tbody tr th:only-of-type {\n",
              "        vertical-align: middle;\n",
              "    }\n",
              "\n",
              "    .dataframe tbody tr th {\n",
              "        vertical-align: top;\n",
              "    }\n",
              "\n",
              "    .dataframe thead th {\n",
              "        text-align: right;\n",
              "    }\n",
              "</style>\n",
              "<table border=\"1\" class=\"dataframe\">\n",
              "  <thead>\n",
              "    <tr style=\"text-align: right;\">\n",
              "      <th></th>\n",
              "      <th>sex</th>\n",
              "      <th>age</th>\n",
              "      <th>infection_case</th>\n",
              "    </tr>\n",
              "  </thead>\n",
              "  <tbody>\n",
              "    <tr>\n",
              "      <th>0</th>\n",
              "      <td>False</td>\n",
              "      <td>False</td>\n",
              "      <td>False</td>\n",
              "    </tr>\n",
              "    <tr>\n",
              "      <th>1</th>\n",
              "      <td>False</td>\n",
              "      <td>False</td>\n",
              "      <td>False</td>\n",
              "    </tr>\n",
              "    <tr>\n",
              "      <th>2</th>\n",
              "      <td>False</td>\n",
              "      <td>False</td>\n",
              "      <td>False</td>\n",
              "    </tr>\n",
              "    <tr>\n",
              "      <th>3</th>\n",
              "      <td>False</td>\n",
              "      <td>False</td>\n",
              "      <td>False</td>\n",
              "    </tr>\n",
              "    <tr>\n",
              "      <th>4</th>\n",
              "      <td>False</td>\n",
              "      <td>False</td>\n",
              "      <td>False</td>\n",
              "    </tr>\n",
              "    <tr>\n",
              "      <th>...</th>\n",
              "      <td>...</td>\n",
              "      <td>...</td>\n",
              "      <td>...</td>\n",
              "    </tr>\n",
              "    <tr>\n",
              "      <th>5157</th>\n",
              "      <td>False</td>\n",
              "      <td>False</td>\n",
              "      <td>False</td>\n",
              "    </tr>\n",
              "    <tr>\n",
              "      <th>5158</th>\n",
              "      <td>False</td>\n",
              "      <td>False</td>\n",
              "      <td>False</td>\n",
              "    </tr>\n",
              "    <tr>\n",
              "      <th>5159</th>\n",
              "      <td>False</td>\n",
              "      <td>False</td>\n",
              "      <td>False</td>\n",
              "    </tr>\n",
              "    <tr>\n",
              "      <th>5160</th>\n",
              "      <td>False</td>\n",
              "      <td>False</td>\n",
              "      <td>False</td>\n",
              "    </tr>\n",
              "    <tr>\n",
              "      <th>5161</th>\n",
              "      <td>True</td>\n",
              "      <td>True</td>\n",
              "      <td>False</td>\n",
              "    </tr>\n",
              "  </tbody>\n",
              "</table>\n",
              "<p>3007 rows × 3 columns</p>\n",
              "</div>"
            ],
            "text/plain": [
              "        sex    age  infection_case\n",
              "0     False  False           False\n",
              "1     False  False           False\n",
              "2     False  False           False\n",
              "3     False  False           False\n",
              "4     False  False           False\n",
              "...     ...    ...             ...\n",
              "5157  False  False           False\n",
              "5158  False  False           False\n",
              "5159  False  False           False\n",
              "5160  False  False           False\n",
              "5161   True   True           False\n",
              "\n",
              "[3007 rows x 3 columns]"
            ]
          },
          "metadata": {},
          "execution_count": 124
        }
      ]
    },
    {
      "cell_type": "code",
      "metadata": {
        "id": "S1rd4SMO1cl6"
      },
      "source": [
        "y=data['state'].values"
      ],
      "execution_count": null,
      "outputs": []
    },
    {
      "cell_type": "code",
      "metadata": {
        "id": "CrxE0iqjnqPQ",
        "colab": {
          "base_uri": "https://localhost:8080/"
        },
        "outputId": "b738f0d5-6b2f-4fc7-ce46-4494100235c0"
      },
      "source": [
        "y"
      ],
      "execution_count": null,
      "outputs": [
        {
          "output_type": "execute_result",
          "data": {
            "text/plain": [
              "['released', 'released', 'released', 'released', 'released', ..., 'released', 'released', 'released', 'released', 'released']\n",
              "Length: 3007\n",
              "Categories (2, object): ['deceased', 'released']"
            ]
          },
          "metadata": {},
          "execution_count": 112
        }
      ]
    },
    {
      "cell_type": "code",
      "metadata": {
        "id": "sNjTiCV60Z_i"
      },
      "source": [
        "X=pd.get_dummies(X)"
      ],
      "execution_count": null,
      "outputs": []
    },
    {
      "cell_type": "code",
      "metadata": {
        "id": "mZMfzpLDpq6k"
      },
      "source": [
        "X.drop(columns=['sex_male','age_0s','infection_case_overseas inflow'],inplace=True)"
      ],
      "execution_count": null,
      "outputs": []
    },
    {
      "cell_type": "code",
      "metadata": {
        "id": "julspO1h0pg4"
      },
      "source": [
        "y.remove_unused_categories(inplace=True)"
      ],
      "execution_count": null,
      "outputs": []
    },
    {
      "cell_type": "code",
      "metadata": {
        "id": "SpjPveVH2OEm"
      },
      "source": [
        " from sklearn.preprocessing import OneHotEncoder\n",
        " enc = OneHotEncoder(handle_unknown='ignore')\n",
        " X_trans= enc.fit_transform(X)"
      ],
      "execution_count": null,
      "outputs": []
    },
    {
      "cell_type": "code",
      "metadata": {
        "id": "r4JBWIaD2T6e"
      },
      "source": [
        "X_train, X_test, y_train, y_test = train_test_split(X, y, test_size=0.3, random_state=0)"
      ],
      "execution_count": null,
      "outputs": []
    },
    {
      "cell_type": "code",
      "metadata": {
        "colab": {
          "base_uri": "https://localhost:8080/"
        },
        "id": "4yvL4AtP2Vgp",
        "outputId": "cd7bfd8c-2bb6-495e-bd60-5833627b02e3"
      },
      "source": [
        "for z in {c:np.sum(y_train==c) for c in np.unique(y_train)}.items():\n",
        "    print('Existen {} muestras de la clase {}'.format(z[1],z[0]))"
      ],
      "execution_count": null,
      "outputs": [
        {
          "output_type": "stream",
          "name": "stdout",
          "text": [
            "Existen 52 muestras de la clase deceased\n",
            "Existen 2052 muestras de la clase released\n"
          ]
        }
      ]
    },
    {
      "cell_type": "code",
      "metadata": {
        "colab": {
          "base_uri": "https://localhost:8080/"
        },
        "id": "wPMPstEc2iWu",
        "outputId": "615b91ab-4770-4e87-e5c0-d2fdc3a87bfb"
      },
      "source": [
        "for z in {c:np.sum(y_test==c) for c in np.unique(y_test)}.items():\n",
        "    print('Existen {} muestras de la clase {}'.format(z[1],z[0]))"
      ],
      "execution_count": null,
      "outputs": [
        {
          "output_type": "stream",
          "name": "stdout",
          "text": [
            "Existen 26 muestras de la clase deceased\n",
            "Existen 877 muestras de la clase released\n"
          ]
        }
      ]
    },
    {
      "cell_type": "code",
      "metadata": {
        "id": "lo0FV7ok2y1P"
      },
      "source": [
        "from sklearn.linear_model import LogisticRegression\n",
        "from sklearn.metrics import confusion_matrix,plot_confusion_matrix,roc_auc_score\n",
        "\n",
        "\n",
        "clf = LogisticRegression(penalty='l2',C=0.1,solver='liblinear',class_weight='balanced').fit(X_train, y_train)"
      ],
      "execution_count": null,
      "outputs": []
    },
    {
      "cell_type": "code",
      "metadata": {
        "colab": {
          "base_uri": "https://localhost:8080/"
        },
        "id": "jBIk8ylT3EV7",
        "outputId": "1f8596e5-a8c1-4035-a90f-90828af0b2b9"
      },
      "source": [
        "y_pred=clf.predict(X_test)\n",
        "\n",
        "print(classification_report(y_test, y_pred))\n"
      ],
      "execution_count": null,
      "outputs": [
        {
          "output_type": "stream",
          "name": "stdout",
          "text": [
            "              precision    recall  f1-score   support\n",
            "\n",
            "    deceased       0.20      0.81      0.32        26\n",
            "    released       0.99      0.90      0.95       877\n",
            "\n",
            "    accuracy                           0.90       903\n",
            "   macro avg       0.59      0.85      0.63       903\n",
            "weighted avg       0.97      0.90      0.93       903\n",
            "\n"
          ]
        }
      ]
    },
    {
      "cell_type": "code",
      "metadata": {
        "id": "mYbPqD6yqevR",
        "colab": {
          "base_uri": "https://localhost:8080/"
        },
        "outputId": "366bd136-bb19-4394-befc-f2015c195bdb"
      },
      "source": [
        "from imblearn.over_sampling import SMOTE, ADASYN"
      ],
      "execution_count": null,
      "outputs": [
        {
          "output_type": "stream",
          "name": "stderr",
          "text": [
            "/usr/local/lib/python3.7/dist-packages/sklearn/externals/six.py:31: FutureWarning: The module is deprecated in version 0.21 and will be removed in version 0.23 since we've dropped support for Python 2.7. Please rely on the official version of six (https://pypi.org/project/six/).\n",
            "  \"(https://pypi.org/project/six/).\", FutureWarning)\n",
            "/usr/local/lib/python3.7/dist-packages/sklearn/utils/deprecation.py:144: FutureWarning: The sklearn.neighbors.base module is  deprecated in version 0.22 and will be removed in version 0.24. The corresponding classes / functions should instead be imported from sklearn.neighbors. Anything that cannot be imported from sklearn.neighbors is now part of the private API.\n",
            "  warnings.warn(message, FutureWarning)\n"
          ]
        }
      ]
    },
    {
      "cell_type": "code",
      "metadata": {
        "id": "GzkC0221qhRp",
        "colab": {
          "base_uri": "https://localhost:8080/"
        },
        "outputId": "3fb47d17-0662-490e-8ce6-b62f8ae9d85c"
      },
      "source": [
        "X_resampled, y_resampled = SMOTE().fit_resample(X, y)"
      ],
      "execution_count": null,
      "outputs": [
        {
          "output_type": "stream",
          "name": "stderr",
          "text": [
            "/usr/local/lib/python3.7/dist-packages/sklearn/utils/deprecation.py:87: FutureWarning: Function safe_indexing is deprecated; safe_indexing is deprecated in version 0.22 and will be removed in version 0.24.\n",
            "  warnings.warn(msg, category=FutureWarning)\n"
          ]
        }
      ]
    },
    {
      "cell_type": "code",
      "metadata": {
        "id": "HwP2L13wqkIq"
      },
      "source": [
        "X_train, X_test, y_train, y_test = train_test_split(X_resampled, y_resampled, test_size=0.3, random_state=0)"
      ],
      "execution_count": null,
      "outputs": []
    },
    {
      "cell_type": "code",
      "metadata": {
        "id": "yZQ5m6ksquIq",
        "colab": {
          "base_uri": "https://localhost:8080/"
        },
        "outputId": "b260c4cd-d932-45fd-bdd5-4bfeb8ba53d8"
      },
      "source": [
        "for z in {c:np.sum(y_train==c) for c in np.unique(y_train)}.items():\n",
        "    print('Existen {} muestras de la clase {}'.format(z[1],z[0]))"
      ],
      "execution_count": null,
      "outputs": [
        {
          "output_type": "stream",
          "name": "stdout",
          "text": [
            "Existen 2037 muestras de la clase deceased\n",
            "Existen 2063 muestras de la clase released\n"
          ]
        }
      ]
    },
    {
      "cell_type": "code",
      "metadata": {
        "id": "oOkXV3snq4N6"
      },
      "source": [
        "clf = LogisticRegression(penalty='l2',C=0.1,solver='liblinear',class_weight='balanced').fit(X_train, y_train)"
      ],
      "execution_count": null,
      "outputs": []
    },
    {
      "cell_type": "code",
      "metadata": {
        "id": "hMo3gwVRq6h6",
        "colab": {
          "base_uri": "https://localhost:8080/"
        },
        "outputId": "22e6313b-b7d3-4b65-db46-52d40079802a"
      },
      "source": [
        "y_pred=clf.predict(X_test)\n",
        "\n",
        "print(classification_report(y_test, y_pred))"
      ],
      "execution_count": null,
      "outputs": [
        {
          "output_type": "stream",
          "name": "stdout",
          "text": [
            "              precision    recall  f1-score   support\n",
            "\n",
            "    deceased       0.82      0.92      0.87       892\n",
            "    released       0.91      0.80      0.85       866\n",
            "\n",
            "    accuracy                           0.86      1758\n",
            "   macro avg       0.87      0.86      0.86      1758\n",
            "weighted avg       0.87      0.86      0.86      1758\n",
            "\n"
          ]
        }
      ]
    }
  ]
}